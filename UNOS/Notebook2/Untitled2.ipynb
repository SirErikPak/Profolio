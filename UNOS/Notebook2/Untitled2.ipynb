{
 "cells": [
  {
   "cell_type": "code",
   "execution_count": 1,
   "id": "56d686d1-8492-4b21-9411-9c705a71fcb7",
   "metadata": {},
   "outputs": [],
   "source": [
    "import statistics\n",
    "\n",
    "class StreamingStats:\n",
    "    def __init__(self):\n",
    "        self.count = 0\n",
    "        self.sum = 0\n",
    "        self.min = float('inf')\n",
    "        self.max = float('-inf')\n",
    "        self.data = []\n",
    "\n",
    "    def update(self, value):\n",
    "        self.count += 1\n",
    "        self.sum += value\n",
    "        self.min = min(self.min, value)\n",
    "        self.max = max(self.max, value)\n",
    "        self.data.append(value)\n",
    "\n",
    "    def mean(self):\n",
    "        return self.sum / self.count if self.count > 0 else None\n",
    "\n",
    "    def median(self):\n",
    "        return statistics.median(self.data) if self.data else None\n",
    "\n",
    "    def get_min(self):\n",
    "        return self.min if self.count > 0 else None\n",
    "\n",
    "    def get_max(self):\n",
    "        return self.max if self.count > 0 else None\n"
   ]
  },
  {
   "cell_type": "code",
   "execution_count": 2,
   "id": "28e24794-9f6d-4873-a177-f8ed4146a2f4",
   "metadata": {},
   "outputs": [
    {
     "name": "stdout",
     "output_type": "stream",
     "text": [
      "Current mean: 0.0\n"
     ]
    },
    {
     "ename": "NameError",
     "evalue": "name 'statistics' is not defined",
     "output_type": "error",
     "traceback": [
      "\u001b[0;31m---------------------------------------------------------------------------\u001b[0m",
      "\u001b[0;31mNameError\u001b[0m                                 Traceback (most recent call last)",
      "Cell \u001b[0;32mIn[2], line 7\u001b[0m\n\u001b[1;32m      5\u001b[0m stats\u001b[38;5;241m.\u001b[39mupdate(value)\n\u001b[1;32m      6\u001b[0m \u001b[38;5;28mprint\u001b[39m(\u001b[38;5;124mf\u001b[39m\u001b[38;5;124m\"\u001b[39m\u001b[38;5;124mCurrent mean: \u001b[39m\u001b[38;5;132;01m{\u001b[39;00mstats\u001b[38;5;241m.\u001b[39mmean()\u001b[38;5;132;01m}\u001b[39;00m\u001b[38;5;124m\"\u001b[39m)\n\u001b[0;32m----> 7\u001b[0m \u001b[38;5;28mprint\u001b[39m(\u001b[38;5;124mf\u001b[39m\u001b[38;5;124m\"\u001b[39m\u001b[38;5;124mCurrent median: \u001b[39m\u001b[38;5;132;01m{\u001b[39;00mstats\u001b[38;5;241m.\u001b[39mmedian()\u001b[38;5;132;01m}\u001b[39;00m\u001b[38;5;124m\"\u001b[39m)\n\u001b[1;32m      8\u001b[0m \u001b[38;5;28mprint\u001b[39m(\u001b[38;5;124mf\u001b[39m\u001b[38;5;124m\"\u001b[39m\u001b[38;5;124mCurrent min: \u001b[39m\u001b[38;5;132;01m{\u001b[39;00mstats\u001b[38;5;241m.\u001b[39mget_min()\u001b[38;5;132;01m}\u001b[39;00m\u001b[38;5;124m\"\u001b[39m)\n\u001b[1;32m      9\u001b[0m \u001b[38;5;28mprint\u001b[39m(\u001b[38;5;124mf\u001b[39m\u001b[38;5;124m\"\u001b[39m\u001b[38;5;124mCurrent max: \u001b[39m\u001b[38;5;132;01m{\u001b[39;00mstats\u001b[38;5;241m.\u001b[39mget_max()\u001b[38;5;132;01m}\u001b[39;00m\u001b[38;5;124m\"\u001b[39m)\n",
      "Cell \u001b[0;32mIn[1], line 22\u001b[0m, in \u001b[0;36mStreamingStats.median\u001b[0;34m(self)\u001b[0m\n\u001b[1;32m     21\u001b[0m \u001b[38;5;28;01mdef\u001b[39;00m \u001b[38;5;21mmedian\u001b[39m(\u001b[38;5;28mself\u001b[39m):\n\u001b[0;32m---> 22\u001b[0m     \u001b[38;5;28;01mreturn\u001b[39;00m \u001b[43mstatistics\u001b[49m\u001b[38;5;241m.\u001b[39mmedian(\u001b[38;5;28mself\u001b[39m\u001b[38;5;241m.\u001b[39mdata) \u001b[38;5;28;01mif\u001b[39;00m \u001b[38;5;28mself\u001b[39m\u001b[38;5;241m.\u001b[39mdata \u001b[38;5;28;01melse\u001b[39;00m \u001b[38;5;28;01mNone\u001b[39;00m\n",
      "\u001b[0;31mNameError\u001b[0m: name 'statistics' is not defined"
     ]
    }
   ],
   "source": [
    "stats = StreamingStats()\n",
    "\n",
    "# Simulating a stream of data\n",
    "for value in [0,1,2,3,4]:\n",
    "    stats.update(value)\n",
    "    print(f\"Current mean: {stats.mean()}\")\n",
    "    print(f\"Current median: {stats.median()}\")\n",
    "    print(f\"Current min: {stats.get_min()}\")\n",
    "    print(f\"Current max: {stats.get_max()}\")\n",
    "    print(\"---\")\n"
   ]
  },
  {
   "cell_type": "code",
   "execution_count": null,
   "id": "2c90b874-69b1-4bf6-9baa-15216de0b920",
   "metadata": {},
   "outputs": [],
   "source": []
  }
 ],
 "metadata": {
  "kernelspec": {
   "display_name": "RFSurvival",
   "language": "python",
   "name": "survival_env"
  },
  "language_info": {
   "codemirror_mode": {
    "name": "ipython",
    "version": 3
   },
   "file_extension": ".py",
   "mimetype": "text/x-python",
   "name": "python",
   "nbconvert_exporter": "python",
   "pygments_lexer": "ipython3",
   "version": "3.9.20"
  }
 },
 "nbformat": 4,
 "nbformat_minor": 5
}
