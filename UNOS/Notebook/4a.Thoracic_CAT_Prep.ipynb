{
 "cells": [
  {
   "cell_type": "code",
   "execution_count": 1,
   "id": "91c5e0bc-cb61-4b7e-b370-62af38993e4c",
   "metadata": {},
   "outputs": [
    {
     "name": "stdout",
     "output_type": "stream",
     "text": [
      "Numpy Version: 1.26.4\n",
      "Pandas Version: 2.2.3\n",
      "Seaborn Version: 0.13.2\n",
      "Matplotlib Version: 3.9.2\n",
      "Python Version: 3.9.20\n"
     ]
    }
   ],
   "source": [
    "# path to user functions\n",
    "import sys  \n",
    "sys.path.append('../Src/')\n",
    "\n",
    "from platform import python_version\n",
    "\n",
    "import pandas as pd\n",
    "import numpy as np\n",
    "import matplotlib.pyplot as plt\n",
    "import seaborn as sns\n",
    "import pickle\n",
    "import importlib \n",
    "from sklearn.preprocessing import OrdinalEncoder\n",
    "\n",
    "# import user functions\n",
    "import UserUtilityFunctions as uf\n",
    "import UserStatisticalFunctions as usf\n",
    "import UserVisualization as uv\n",
    "\n",
    "# set seaborn theme\n",
    "sns.set_theme()\n",
    "\n",
    "# initializing variables\n",
    "REMOVE = '** REMOVE ** CAT ML'\n",
    "RANDOM_STATE = 1776\n",
    "\n",
    "# initialize DataFrame\n",
    "df_drop = pd.DataFrame(columns=['column'])\n",
    "df_unknown = pd.DataFrame(columns=['column'])\n",
    "df_object = pd.DataFrame(columns=['column'])\n",
    "df_date = pd.DataFrame(columns=['column'])\n",
    "\n",
    "# print versions\n",
    "print(\"Numpy Version: \" + np.__version__)\n",
    "print(\"Pandas Version: \" + pd.__version__)\n",
    "print(\"Seaborn Version: \" + sns.__version__)\n",
    "print(\"Matplotlib Version: \" + plt.matplotlib.__version__)\n",
    "print(\"Python Version: \" + python_version())\n",
    "\n",
    "# adjust pandas display options to max\n",
    "pd.set_option('display.max_rows', None)\n",
    "pd.set_option('display.max_columns', None)\n",
    "# adjust pandas display options to ensure full display of content\n",
    "pd.set_option('display.max_colwidth', None)"
   ]
  },
  {
   "cell_type": "markdown",
   "id": "509d22a9-02a2-4125-a6b4-05322303412b",
   "metadata": {},
   "source": [
    "####  Mann-Whitney U Test"
   ]
  },
  {
   "cell_type": "markdown",
   "id": "b53a8c7d-5da4-4a6d-96aa-3a6bd8f4f3fb",
   "metadata": {},
   "source": [
    "#####  Mann-Whitney U test\n",
    "- The Mann-Whitney U test is a non-parametric statistical test used to determine whether there is a significant difference between the distributions of two independent samples. It is often used as an alternative to the t-test when the assumption of normality is not met.\n",
    "    - Key Assumptions\n",
    "        - The two samples are independent.\n",
    "        - The data is ordinal, interval, or ratio scale.\n",
    "        - The distributions of the two groups are similar in shape if testing medians.\n",
    "    - Interpretation\n",
    "        - If the p-value is less than your significance level (e.g., 0.05), you reject the null hypothesis and conclude that there is a statistically significant difference between the two groups.\n",
    "        - If the p-value is greater than the significance level, you fail to reject the null hypothesis, indicating insufficient evidence to suggest a difference in distributions."
   ]
  },
  {
   "cell_type": "markdown",
   "id": "d52bfc57-b0d9-4932-82a0-0eb2ac0bc4f6",
   "metadata": {},
   "source": [
    "### Import Data"
   ]
  },
  {
   "cell_type": "code",
   "execution_count": 2,
   "id": "43a8d9f8-d1e8-4301-9e48-3540889228b2",
   "metadata": {},
   "outputs": [
    {
     "data": {
      "text/plain": [
       "Index([], dtype='object')"
      ]
     },
     "execution_count": 2,
     "metadata": {},
     "output_type": "execute_result"
    }
   ],
   "source": [
    "# import data\n",
    "df = pd.read_pickle(\"../Data/Clean_Heart_CAT_Engineer.pkl\")\n",
    "df_label = pd.read_pickle(\"../Data/Clean_Label_CAT_Engineer.pkl\")\n",
    "df_can = pd.read_pickle(\"../Data/Clean_CAN_CAT_Engineer.pkl\")\n",
    "df_don = pd.read_pickle(\"../Data/Clean_DON_CAT_Engineer.pkl\")\n",
    "df_both = pd.read_pickle(\"../Data/Clean_BOTH_CAT_Engineer.pkl\")\n",
    "df_nominal = pd.read_pickle(\"../Data/Clean_Nominal_CAT_Engineer.pkl\")\n",
    "df_ordinal = pd.read_pickle(\"../Data/Clean_Ordinal_CAT_Engineer.pkl\")\n",
    "df_numeric = pd.read_pickle(\"../Data/Clean_Numeric_CAT_Engineer.pkl\")\n",
    "df_dict = pd.read_pickle(\"../Data/Clean_Dictionary_CAT_Engineer.pkl\")\n",
    "\n",
    "# checking for duplicated column name\n",
    "df.columns[df.columns.duplicated()]"
   ]
  },
  {
   "cell_type": "code",
   "execution_count": 3,
   "id": "515847de-8f8a-4c37-ac40-301cc43f4e2d",
   "metadata": {},
   "outputs": [
    {
     "name": "stdout",
     "output_type": "stream",
     "text": [
      "Heart Dataset Rows: 16,126 & Columns: 220\n",
      "Label Features: 15\n",
      "Candidate Features: 104\n",
      "Donor Features: 94\n",
      "Date Features: 0\n",
      "Both Features: 8\n",
      "Object Features: 0\n",
      "Numeric Features: 4\n",
      "Ordinal Features: 47\n",
      "Nominal Features: 169\n",
      "Drop Features: 0\n",
      "Unknown Features: 0\n"
     ]
    }
   ],
   "source": [
    "print(f\"Heart Dataset Rows: {df.shape[0]:,} & Columns: {df.shape[1]:,}\")\n",
    "print(f\"Label Features: {df_label.shape[0]:,}\")\n",
    "print(f\"Candidate Features: {df_can.shape[0]:,}\")\n",
    "print(f\"Donor Features: {df_don.shape[0]:,}\")\n",
    "print(f\"Date Features: {df_date.shape[0]:,}\")\n",
    "print(f\"Both Features: {df_both.shape[0]:,}\")\n",
    "print(f\"Object Features: {df_object.shape[0]:,}\")\n",
    "print(f\"Numeric Features: {df_numeric.shape[0]:,}\")\n",
    "print(f\"Ordinal Features: {df_ordinal.shape[0]:,}\")\n",
    "print(f\"Nominal Features: {df_nominal.shape[0]:,}\")\n",
    "print(f\"Drop Features: {df_drop.shape[0]:,}\")\n",
    "print(f\"Unknown Features: {df_unknown.shape[0]:,}\")"
   ]
  },
  {
   "cell_type": "markdown",
   "id": "a1460a2a-3542-4d68-a377-1aa67213563f",
   "metadata": {},
   "source": [
    "### Examine Features"
   ]
  },
  {
   "cell_type": "code",
   "execution_count": 4,
   "id": "b9db0ca7-9d11-4f7e-9302-42ed703010d8",
   "metadata": {},
   "outputs": [
    {
     "data": {
      "text/html": [
       "<div>\n",
       "<style scoped>\n",
       "    .dataframe tbody tr th:only-of-type {\n",
       "        vertical-align: middle;\n",
       "    }\n",
       "\n",
       "    .dataframe tbody tr th {\n",
       "        vertical-align: top;\n",
       "    }\n",
       "\n",
       "    .dataframe thead th {\n",
       "        text-align: right;\n",
       "    }\n",
       "</style>\n",
       "<table border=\"1\" class=\"dataframe\">\n",
       "  <thead>\n",
       "    <tr style=\"text-align: right;\">\n",
       "      <th></th>\n",
       "      <th>AcuteRejectionEpisode</th>\n",
       "      <th>AirwayDehiscencePostTransplant</th>\n",
       "      <th>StrokePostTransplant</th>\n",
       "      <th>PacemakerPostTransplant</th>\n",
       "      <th>DialysisPostDischarge</th>\n",
       "      <th>GraftFailStatus</th>\n",
       "      <th>GraftLifeSpanDay</th>\n",
       "      <th>LastFollowupNumber</th>\n",
       "      <th>GraftStatus</th>\n",
       "      <th>TransplantStatus</th>\n",
       "      <th>TransplantSurvivalDay</th>\n",
       "      <th>RecipientStatus</th>\n",
       "      <th>RejectionTreatmentWithinOneYear</th>\n",
       "      <th>FunctionalStatusFollowUp</th>\n",
       "      <th>LengthOfStay</th>\n",
       "    </tr>\n",
       "  </thead>\n",
       "  <tbody>\n",
       "    <tr>\n",
       "      <th>0</th>\n",
       "      <td>No</td>\n",
       "      <td>No</td>\n",
       "      <td>No</td>\n",
       "      <td>No</td>\n",
       "      <td>No</td>\n",
       "      <td>Success</td>\n",
       "      <td>1549.0</td>\n",
       "      <td>50</td>\n",
       "      <td>Yes</td>\n",
       "      <td>Alive</td>\n",
       "      <td>1549.0</td>\n",
       "      <td>Living</td>\n",
       "      <td>No</td>\n",
       "      <td>100% - Normal, no complaints, no evidence of disease</td>\n",
       "      <td>11.0</td>\n",
       "    </tr>\n",
       "    <tr>\n",
       "      <th>1</th>\n",
       "      <td>No</td>\n",
       "      <td>No</td>\n",
       "      <td>No</td>\n",
       "      <td>No</td>\n",
       "      <td>No</td>\n",
       "      <td>Success</td>\n",
       "      <td>1827.0</td>\n",
       "      <td>50</td>\n",
       "      <td>Yes</td>\n",
       "      <td>Alive</td>\n",
       "      <td>1827.0</td>\n",
       "      <td>Living</td>\n",
       "      <td>No</td>\n",
       "      <td>90% - Able to carry on normal activity: minor symptoms of disease</td>\n",
       "      <td>8.0</td>\n",
       "    </tr>\n",
       "    <tr>\n",
       "      <th>2</th>\n",
       "      <td>Yes, none treated with additional anti-rejection agent</td>\n",
       "      <td>No</td>\n",
       "      <td>No</td>\n",
       "      <td>No</td>\n",
       "      <td>No</td>\n",
       "      <td>Success</td>\n",
       "      <td>1677.0</td>\n",
       "      <td>50</td>\n",
       "      <td>Yes</td>\n",
       "      <td>Alive</td>\n",
       "      <td>1677.0</td>\n",
       "      <td>Living</td>\n",
       "      <td>No</td>\n",
       "      <td>80% - Normal activity with effort: some symptoms of disease</td>\n",
       "      <td>21.0</td>\n",
       "    </tr>\n",
       "    <tr>\n",
       "      <th>3</th>\n",
       "      <td>No</td>\n",
       "      <td>No</td>\n",
       "      <td>No</td>\n",
       "      <td>No</td>\n",
       "      <td>No</td>\n",
       "      <td>Failure</td>\n",
       "      <td>9.0</td>\n",
       "      <td>1</td>\n",
       "      <td>No</td>\n",
       "      <td>Dead</td>\n",
       "      <td>9.0</td>\n",
       "      <td>Dead</td>\n",
       "      <td>Missing</td>\n",
       "      <td>60% - Requires occasional assistance but is able to care for needs</td>\n",
       "      <td>9.0</td>\n",
       "    </tr>\n",
       "    <tr>\n",
       "      <th>4</th>\n",
       "      <td>No</td>\n",
       "      <td>No</td>\n",
       "      <td>No</td>\n",
       "      <td>No</td>\n",
       "      <td>No</td>\n",
       "      <td>Success</td>\n",
       "      <td>1840.0</td>\n",
       "      <td>50</td>\n",
       "      <td>Yes</td>\n",
       "      <td>Alive</td>\n",
       "      <td>1840.0</td>\n",
       "      <td>Living</td>\n",
       "      <td>No</td>\n",
       "      <td>Unknown</td>\n",
       "      <td>25.0</td>\n",
       "    </tr>\n",
       "  </tbody>\n",
       "</table>\n",
       "</div>"
      ],
      "text/plain": [
       "                                    AcuteRejectionEpisode  \\\n",
       "0                                                      No   \n",
       "1                                                      No   \n",
       "2  Yes, none treated with additional anti-rejection agent   \n",
       "3                                                      No   \n",
       "4                                                      No   \n",
       "\n",
       "  AirwayDehiscencePostTransplant StrokePostTransplant PacemakerPostTransplant  \\\n",
       "0                             No                   No                      No   \n",
       "1                             No                   No                      No   \n",
       "2                             No                   No                      No   \n",
       "3                             No                   No                      No   \n",
       "4                             No                   No                      No   \n",
       "\n",
       "  DialysisPostDischarge GraftFailStatus  GraftLifeSpanDay  LastFollowupNumber  \\\n",
       "0                    No         Success            1549.0                  50   \n",
       "1                    No         Success            1827.0                  50   \n",
       "2                    No         Success            1677.0                  50   \n",
       "3                    No         Failure               9.0                   1   \n",
       "4                    No         Success            1840.0                  50   \n",
       "\n",
       "  GraftStatus TransplantStatus  TransplantSurvivalDay RecipientStatus  \\\n",
       "0         Yes            Alive                 1549.0          Living   \n",
       "1         Yes            Alive                 1827.0          Living   \n",
       "2         Yes            Alive                 1677.0          Living   \n",
       "3          No             Dead                    9.0            Dead   \n",
       "4         Yes            Alive                 1840.0          Living   \n",
       "\n",
       "  RejectionTreatmentWithinOneYear  \\\n",
       "0                              No   \n",
       "1                              No   \n",
       "2                              No   \n",
       "3                         Missing   \n",
       "4                              No   \n",
       "\n",
       "                                             FunctionalStatusFollowUp  \\\n",
       "0                100% - Normal, no complaints, no evidence of disease   \n",
       "1   90% - Able to carry on normal activity: minor symptoms of disease   \n",
       "2         80% - Normal activity with effort: some symptoms of disease   \n",
       "3  60% - Requires occasional assistance but is able to care for needs   \n",
       "4                                                             Unknown   \n",
       "\n",
       "   LengthOfStay  \n",
       "0          11.0  \n",
       "1           8.0  \n",
       "2          21.0  \n",
       "3           9.0  \n",
       "4          25.0  "
      ]
     },
     "execution_count": 4,
     "metadata": {},
     "output_type": "execute_result"
    }
   ],
   "source": [
    "df[df_label.column.to_list()].head()"
   ]
  },
  {
   "cell_type": "code",
   "execution_count": 5,
   "id": "eb767646-d3a8-4a1f-be7a-3a48150bd9d7",
   "metadata": {},
   "outputs": [
    {
     "name": "stdout",
     "output_type": "stream",
     "text": [
      "Data Dictionary Updated.\n",
      "Remove 14 row(s) from df_label DataFrame.\n",
      "Remove 0 row(s) from df_can DataFrame.\n",
      "Remove 0 row(s) from df_don DataFrame.\n",
      "Remove 0 row(s) from df_both DataFrame.\n",
      "Remove 1 row(s) from df_ordinal DataFrame.\n",
      "Remove 10 row(s) from df_nominal DataFrame.\n",
      "Remove 3 row(s) from df_numeric DataFrame.\n",
      "Remove 0 row(s) from df_drop DataFrame.\n",
      "Remove 0 row(s) from df_object DataFrame.\n",
      "Remove 0 row(s) from df_unknown DataFrame.\n",
      "Remove 0 row(s) from df_date DataFrame.\n",
      "\n",
      "Removed Features: ['AcuteRejectionEpisode', 'AirwayDehiscencePostTransplant', 'DialysisPostDischarge', 'FunctionalStatusFollowUp', 'GraftFailStatus', 'GraftLifeSpanDay', 'GraftStatus', 'LastFollowupNumber', 'LengthOfStay', 'PacemakerPostTransplant', 'RecipientStatus', 'RejectionTreatmentWithinOneYear', 'StrokePostTransplant', 'TransplantStatus']\n",
      "\n",
      "Total Row(s) & Column(s) Before Removing Column(s): 16,126 & columns: 220\n",
      "Total Row(s) & Column(s) After Removing Column(s): 16,126 & columns: 206\n"
     ]
    }
   ],
   "source": [
    "# remove unwanted labels\n",
    "removeCols = df_label.column[~df_label.column.isin(['TransplantSurvivalDay'])].to_list()\n",
    "\n",
    "# remove features\n",
    "df, df_dict, df_label, df_can, df_don, df_both, df_ordinal, df_nominal, df_numeric, df_drop, df_object, df_unknown, df_date = uf.HouseKeeping(df, removeCols, df_dict, df_label, df_can,\\\n",
    "                                                                df_don, df_both, df_ordinal, df_nominal, df_numeric, df_drop, df_object, df_unknown, df_date, txt=REMOVE, display=True)"
   ]
  },
  {
   "cell_type": "markdown",
   "id": "8942d672-f93d-453a-b27a-c59765b0984d",
   "metadata": {},
   "source": [
    "### Determine Candidate Survival for 600 Days"
   ]
  },
  {
   "cell_type": "code",
   "execution_count": 6,
   "id": "c25c1649-f245-4dd7-8a11-90f3fd5b3f58",
   "metadata": {},
   "outputs": [
    {
     "name": "stdout",
     "output_type": "stream",
     "text": [
      "Data Dictionary Updated.\n",
      "Remove 1 row(s) from df_label DataFrame.\n",
      "Remove 0 row(s) from df_can DataFrame.\n",
      "Remove 0 row(s) from df_don DataFrame.\n",
      "Remove 0 row(s) from df_both DataFrame.\n",
      "Remove 0 row(s) from df_ordinal DataFrame.\n",
      "Remove 0 row(s) from df_nominal DataFrame.\n",
      "Remove 1 row(s) from df_numeric DataFrame.\n",
      "Remove 0 row(s) from df_drop DataFrame.\n",
      "Remove 0 row(s) from df_object DataFrame.\n",
      "Remove 0 row(s) from df_unknown DataFrame.\n",
      "Remove 0 row(s) from df_date DataFrame.\n",
      "\n",
      "Removed Features: ['TransplantSurvivalDay']\n",
      "\n",
      "Total Row(s) & Column(s) Before Removing Column(s): 16,126 & columns: 207\n",
      "Total Row(s) & Column(s) After Removing Column(s): 16,126 & columns: 206\n"
     ]
    }
   ],
   "source": [
    "# initialize\n",
    "removeCols = ['TransplantSurvivalDay']\n",
    "\n",
    "# create new feature\n",
    "df['Survival'] = df.TransplantSurvivalDay >= 600\n",
    "\n",
    "# remove features\n",
    "df, df_dict, df_label, df_can, df_don, df_both, df_ordinal, df_nominal, df_numeric, df_drop, df_object, df_unknown, df_date = uf.HouseKeeping(df, removeCols, df_dict, df_label, df_can,\\\n",
    "                                                                df_don, df_both, df_ordinal, df_nominal, df_numeric, df_drop, df_object, df_unknown, df_date, txt=REMOVE, display=True)"
   ]
  },
  {
   "cell_type": "code",
   "execution_count": 7,
   "id": "0d764103-9eaa-4f84-bad9-318ae374060c",
   "metadata": {},
   "outputs": [
    {
     "name": "stdout",
     "output_type": "stream",
     "text": [
      "Total Data feature count:  206\n",
      "\n",
      "Boolean feature count: 1\n",
      "Category feature count: 205\n",
      "Numeric feature count: 0\n",
      "Object feature count: 0\n",
      "Other feature count: 0\n",
      "\n",
      "Total feature count:  206\n"
     ]
    }
   ],
   "source": [
    "# sanity check\n",
    "uf.datatypeDF(df, display=True)"
   ]
  },
  {
   "cell_type": "code",
   "execution_count": 8,
   "id": "a9a203d5-5395-40f5-9f51-d6a8625d4dcf",
   "metadata": {},
   "outputs": [
    {
     "name": "stdout",
     "output_type": "stream",
     "text": [
      "Total Length: 205\n"
     ]
    },
    {
     "data": {
      "text/plain": [
       "{'Survival'}"
      ]
     },
     "execution_count": 8,
     "metadata": {},
     "output_type": "execute_result"
    }
   ],
   "source": [
    "# sanity check\n",
    "print(f\"Total Length: {len(df_nominal.column.to_list()) + len(df_ordinal.column.to_list())}\")\n",
    "nominal = df_nominal.column.to_list()\n",
    "ordinal = df_ordinal.column.to_list()\n",
    "allCols = df.columns.to_list()\n",
    "# display the difference\n",
    "set(allCols).symmetric_difference(set(ordinal)|set(nominal))"
   ]
  },
  {
   "cell_type": "code",
   "execution_count": 9,
   "id": "f6e270b2-2400-4b90-a7e0-6d5c49691d7d",
   "metadata": {},
   "outputs": [
    {
     "data": {
      "text/html": [
       "<div>\n",
       "<style scoped>\n",
       "    .dataframe tbody tr th:only-of-type {\n",
       "        vertical-align: middle;\n",
       "    }\n",
       "\n",
       "    .dataframe tbody tr th {\n",
       "        vertical-align: top;\n",
       "    }\n",
       "\n",
       "    .dataframe thead th {\n",
       "        text-align: right;\n",
       "    }\n",
       "</style>\n",
       "<table border=\"1\" class=\"dataframe\">\n",
       "  <thead>\n",
       "    <tr style=\"text-align: right;\">\n",
       "      <th></th>\n",
       "      <th>percentage</th>\n",
       "      <th>NaNCount</th>\n",
       "    </tr>\n",
       "  </thead>\n",
       "  <tbody>\n",
       "  </tbody>\n",
       "</table>\n",
       "</div>"
      ],
      "text/plain": [
       "Empty DataFrame\n",
       "Columns: [percentage, NaNCount]\n",
       "Index: []"
      ]
     },
     "execution_count": 9,
     "metadata": {},
     "output_type": "execute_result"
    }
   ],
   "source": [
    "# display NaNs\n",
    "uf.percentageNull(df)"
   ]
  },
  {
   "cell_type": "code",
   "execution_count": 10,
   "id": "cdcda0c9-9166-4ba0-b282-e4ee1ba47aa1",
   "metadata": {},
   "outputs": [
    {
     "data": {
      "text/plain": [
       "Survival\n",
       "True     8274\n",
       "False    7852\n",
       "Name: count, dtype: int64"
      ]
     },
     "execution_count": 10,
     "metadata": {},
     "output_type": "execute_result"
    }
   ],
   "source": [
    "# check label\n",
    "df.Survival.value_counts()"
   ]
  },
  {
   "cell_type": "code",
   "execution_count": 11,
   "id": "519e418e-4bb5-485e-977d-bf255b66a28a",
   "metadata": {},
   "outputs": [],
   "source": [
    "# remove unused categories\n",
    "df = uf.removeCatZeroCount(df).copy()"
   ]
  },
  {
   "cell_type": "markdown",
   "id": "631677ef-3f0e-45f2-85db-82306de91e3a",
   "metadata": {},
   "source": [
    "### Engineer / Remove Features"
   ]
  },
  {
   "cell_type": "markdown",
   "id": "e2105bea-ea9c-42bb-b3b3-509b1d6093cc",
   "metadata": {
    "jp-MarkdownHeadingCollapsed": true
   },
   "source": [
    "##### Test of Independence for Categorical Variables\n",
    "- Null Hypothesis (H0): The two variables are not related.\n",
    "- Alternative Hypothesis (H1): The two variables are related.\n",
    "- A low p-value (typically < 0.05) indicates a significant relationship between the variables.\n",
    "- This is the Chi-Square test statistic. It measures the discrepancy between the observed and expected frequencies under the assumption that the variables are independent.\n",
    "    - A larger `chi2` value indicates a greater difference between observed and expected counts, suggesting that the variables are more likely to be associated.\n",
    "    - A small p_value (typically < 0.05) suggests that you can reject the null hypothesis and conclude that there is a significant association between the two variables.\n",
    "\n",
    "##### Cramer's V values can be interpreted as:\n",
    "- Cramer's V is a measure of association between two nominal (categorical) variables, based on the Chi-Square statistic and varies from `0` (corresponding to no association between the variables) to `1` (complete association) and can reach 1 only when each variable is completely determined by the other.\n",
    "    - 0.00 to 0.10: Negligible association\n",
    "    - 0.10 to 0.30: Weak association\n",
    "    - 0.30 to 0.50: Moderate association\n",
    "    - 0.50 to 0.70: Strong association\n",
    "    - 0.70 to 1.00: Very strong association"
   ]
  },
  {
   "cell_type": "markdown",
   "id": "08171f4c-abde-43ad-83d8-534e59fa47da",
   "metadata": {},
   "source": [
    "#### User Function(s)"
   ]
  },
  {
   "cell_type": "code",
   "execution_count": 12,
   "id": "8ca5523f-f444-4f70-9660-ff81587c7af4",
   "metadata": {},
   "outputs": [],
   "source": [
    "def getFeatureList(data, string):\n",
    "    # initialize features\n",
    "    features = data.columns[data.columns.str.contains(string)].to_list()\n",
    "\n",
    "    # display\n",
    "    print(data[features].describe(include='all').T.to_string())\n",
    "\n",
    "    return features\n",
    "\n",
    "\n",
    "def Consolidate_SERSTAT(value):\n",
    "    if value.startswith('Positive'):\n",
    "        return 'Positive'\n",
    "    elif value.startswith('Indeterminate'):\n",
    "        return 'Indeterminate' \n",
    "    elif value.startswith('Negative'):\n",
    "        return 'Negative'\n",
    "    elif value.startswith('Not'):\n",
    "        return 'Not Done'\n",
    "    else:\n",
    "        return 'Missing/Unknown'"
   ]
  },
  {
   "cell_type": "markdown",
   "id": "83ceab1c-0cbf-4ecf-b86f-fff3c3deec58",
   "metadata": {},
   "source": [
    "### Consolidate Categoriess"
   ]
  },
  {
   "cell_type": "markdown",
   "id": "4845df9c-d618-46a1-9694-3d77d0ea864e",
   "metadata": {},
   "source": [
    "#### SERSTAT"
   ]
  },
  {
   "cell_type": "code",
   "execution_count": 13,
   "id": "e7821108-f181-4f31-85df-28a70600f1c9",
   "metadata": {},
   "outputs": [
    {
     "name": "stdout",
     "output_type": "stream",
     "text": [
      "['EpsteinBarr_IGG_DON', 'EpsteinBarr_IGM_DON', 'EpsteinBarrSeroStatusTransplant_CAN', 'AntibodyResultHBSAB_DON', 'Hepatitis_B_CoreAntibody_CAN', 'Hepatitis_B_CoreAntibody_DON', 'HBV_NAT_Result_CAN', 'HBV_NAT_Result_DON', 'SurfaceAntigenHEP_B_CAN', 'SurfaceAntigenHEP_B_DON', 'SurfaceHBVAntibodyTotalTransplant_CAN', 'HCV_NAT_PreTranspant_CAN', 'HCV_NAT_Result_DON', 'HEP_C_SerostatusStatus_CAN', 'Antibody_HEP_C_DON', 'HIV_NAT_PreTransplant_CAN', 'HIV_NAT_Result_DON', 'HIV_SeroStatusTransplant_CAN', 'AntibodyResultRPR_VDRL_DON']\n"
     ]
    }
   ],
   "source": [
    "# get features to consolidate\n",
    "features = df_dict.Feature[df_dict.Information.str.contains('FMTNAME: SERSTAT')].to_list()\n",
    "\n",
    "# change datatype\n",
    "df[features] = df[features].astype(str)\n",
    "\n",
    "# display\n",
    "print(features)\n",
    "\n",
    "# apply new mapping\n",
    "df[features] = df[features].map(Consolidate_SERSTAT).fillna(\"Re-Check\")\n",
    "\n",
    "# change to category\n",
    "df[features] = df[features].astype('category')"
   ]
  },
  {
   "cell_type": "markdown",
   "id": "cbdc09d9-26f6-4194-9e9a-e6a17c385cfc",
   "metadata": {},
   "source": [
    "### Nominals"
   ]
  },
  {
   "cell_type": "code",
   "execution_count": 14,
   "id": "ec178900-ae81-46e5-b0b5-a975d28b4259",
   "metadata": {},
   "outputs": [
    {
     "name": "stdout",
     "output_type": "stream",
     "text": [
      "['AllocationType_DON', 'AntiHypertensive_DON', 'AntibodyResultHBSAB_DON', 'AntibodyResultRPR_VDRL_DON', 'Antibody_HEP_C_DON', 'AntigenBW4_CAN', 'AntigenBW6_CAN', 'AntigenC1_CAN', 'AntigenC2_CAN', 'AntigenDR1_DON', 'AntigenDR2_DON', 'AntigenDR51_2_CAN', 'AntigenDR51_CAN', 'AntigenDR52_2_CAN', 'AntigenDR52_CAN', 'AntigenDR53_2_CAN', 'AntigenDR53_CAN', 'ArginnieManagement_DON', 'Biopsy_DON', 'BloodGroupMatchLevel', 'BloodGroup_CAN', 'BloodGroup_DON', 'BloodInfectionSource_DON', 'BloodPH_CAT_DON', 'BronchoscopyLeft_DON', 'BronchoscopyRight_DON', 'CMVStatus_Transplant_CAN', 'CMV_IGG_Transplant_CAN', 'CMV_IGM_Transplant_CAN', 'CancerExtraCranial_DON', 'CancerHistory_DON', 'CancerIntraCranial_DON', 'CancerSkin_DON', 'CardiacArrest_DON', 'CauseOfDeath_DON', 'CerebroVascularDisease_CAN', 'ChestXray_DON', 'CigaretteHistory_DON', 'CigaretteUse_CAN', 'Citizenship_CAN', 'Citizenship_DON', 'CocaineUse_DON', 'CoronaryAngiogram_DON', 'CrossMatchDone', 'DeathCircumstance_DON', 'DeathMechanism_DON', 'DeceasedRetyped_DON', 'DefibrillatorImplantRegistration_CAN', 'DiabetesType_CAN', 'Diabetes_DON', 'DiagnosisAtListing_CAN', 'DialysisBetweenRegistrationTransplant_CAN', 'DialysisPriorRegistration_CAN', 'Diuretics_DON', 'EpsteinBarrSeroStatusTransplant_CAN', 'EpsteinBarr_IGG_DON', 'EpsteinBarr_IGM_DON', 'Ethnicity_CAN', 'Ethnicity_DON', 'Gender_CAN', 'Gender_DON', 'HBV_NAT_Result_CAN', 'HBV_NAT_Result_DON', 'HCV_NAT_PreTranspant_CAN', 'HCV_NAT_Result_DON', 'HEP_C_SerostatusStatus_CAN', 'HIV_NAT_PreTransplant_CAN', 'HIV_NAT_Result_DON', 'HIV_Risk_DON', 'HIV_SeroStatusTransplant_CAN', 'HeartProcedureType_CAN', 'HeavyAlcoholUse_DON', 'HeparinManagement_DON', 'Hepatitis_B_CoreAntibody_CAN', 'Hepatitis_B_CoreAntibody_DON', 'Hispanic_CAN', 'HypertensionHistory_DON', 'InfectionClinical_DON', 'InfectionTherapyIV_CAN', 'InotropicAgent_DON', 'InsulinManagement_DON', 'IntropesIVRegistration_CAN', 'IntropesIVTransplant_CAN', 'IntropesVasodilatorsRegistration_CO_CAN', 'IntropesVasodilatorsRegistration_DIA_CAN', 'IntropesVasodilatorsRegistration_MN_CAN', 'IntropesVasodilatorsRegistration_PCW_CAN', 'IntropesVasodilatorsRegistration_SYS_CAN', 'IntropesVasodilatorsTransplant_CO_CAN', 'IntropesVasodilatorsTransplant_DIA_CAN', 'IntropesVasodilatorsTransplant_MN_CAN', 'IntropesVasodilatorsTransplant_PCW_CAN', 'IntropesVasodilatorsTransplant_SYS_CAN', 'IntropicMedicationProcurement_DON', 'KidneyAllocation_DON', 'LV_EjectionFractionMedthod_DON', 'LifeSupportInhaledRegistration_CAN', 'LifeSupportInhaledTransplant_CAN', 'LifeSupportInhaled_CAN', 'LifeSupportMechanismRegistration_OTHER_CAN', 'LifeSupportMechanismTransplant_OTHER_CAN', 'LifeSupportRegistration_CAN', 'LifeSupportRegistration_ECMO_CAN', 'LifeSupportRegistration_IABP_CAN', 'LifeSupportRegistration_PGE_CAN', 'LifeSupportTransplant_CAN', 'LifeSupportTransplant_ECMO_CAN', 'LifeSupportTransplant_IABP_CAN', 'LifeSupportTransplant_PGE_CAN', 'MalignancyBetweenRegistrationTransplant_CAN', 'Malignancy_CAN', 'MismatchLevel_AMIS', 'MismatchLevel_BMIS', 'MismatchLevel_DRMIS', 'MismatchLevel_HLMIS', 'MyocardialInfarctionHistory_DON', 'NonHeartBeating_DON', 'OtherDrugUse_DON', 'OtherInfectionSource_DON', 'PastCocaineUse_DON', 'PastOtherDrugUse_DON', 'PreviousMalignancy_CAN', 'PreviousTransplantAnyOrgan_CAN', 'PreviousTransplantSameOrgan_CAN', 'PrimaryDiagnosisType_CAN', 'PriorCardiacSurgeryListAndTransplant_CAN', 'PriorCardiacSurgeryTypeListAndTransplant_CAN', 'PriorCardiacSurgeryType_CAN', 'PriorCardiacSurgery_CAN', 'PriorLungSurgeryAfterRegistration_CAN', 'PulmonaryCatheter_DON', 'PulmonaryInfection_DON', 'ResidencyStateRegistration_CAN', 'ResidencyStateTransplant_CAN', 'ResidencyState_DON', 'SerologyAntiCMV_DON', 'StatusAtTransplant_CAN', 'SteroidsUse_CAN', 'SteroidsUse_DON', 'SurfaceAntigenHEP_B_CAN', 'SurfaceAntigenHEP_B_DON', 'SurfaceHBVAntibodyTotalTransplant_CAN', 'SynthicAntiDiureticHormone_DON', 'Tatoos_DON', 'ThyroxineT4_DON', 'TransfusionAfterRegistration_CAN', 'TransplantRegion', 'TransplantType_CAN', 'TriiodothyronineT3_DON', 'UrineInfection_DON', 'UrinePortein_DON', 'Vasodilators_DON', 'VentilatorRegistration_CAN', 'VentilatorTransplant_CAN', 'VentilatorySupportAfterRegistration_CAN', 'VentilatorySupport_CAN', 'WaitListDiagnosisCode_CAN', 'WorkIncomeRegistration_CAN', 'WorkIncomeTransplant_CAN']\n"
     ]
    }
   ],
   "source": [
    "print(sorted(df_nominal.column.to_list()))"
   ]
  },
  {
   "cell_type": "markdown",
   "id": "9db5adf2-8f1d-4876-a23b-992675c52a60",
   "metadata": {},
   "source": [
    "#### AllocationType_DON"
   ]
  },
  {
   "cell_type": "code",
   "execution_count": 15,
   "id": "458f3edd-e6f4-435a-90cb-4881eea99896",
   "metadata": {},
   "outputs": [
    {
     "name": "stdout",
     "output_type": "stream",
     "text": [
      "                    count unique    top  freq\n",
      "AllocationType_DON  16126      4  Local  6605\n"
     ]
    }
   ],
   "source": [
    "features = getFeatureList(df, 'AllocationType_DON')"
   ]
  },
  {
   "cell_type": "code",
   "execution_count": 16,
   "id": "a6169f2e-f03d-45ee-8d21-cde2a5c24ac1",
   "metadata": {},
   "outputs": [
    {
     "name": "stdout",
     "output_type": "stream",
     "text": [
      "Survival              Dead  Living  Row Total     Dead %   Living %\n",
      "AllocationType_DON                                                 \n",
      "Foreign Donor          4.0    11.0       15.0  26.666667  73.333333\n",
      "Local               2124.0  4481.0     6605.0  32.157456  67.842544\n",
      "National            3541.0  2325.0     5866.0  60.364814  39.635186\n",
      "Regional            2183.0  1457.0     3640.0  59.972527  40.027473\n",
      "Column Total        7852.0  8274.0    16126.0  48.691554  51.308446\n",
      "\n",
      "\n"
     ]
    }
   ],
   "source": [
    "for col in features:\n",
    "    print(uf.categoryContingencySurvival(df, col).to_string())\n",
    "    print(\"\\n\")"
   ]
  },
  {
   "cell_type": "markdown",
   "id": "5ba35050-d65a-4974-bb33-98043f421b35",
   "metadata": {},
   "source": [
    "#### AntiHypertensive_DON"
   ]
  },
  {
   "cell_type": "code",
   "execution_count": 17,
   "id": "c970b35f-60d2-4ac9-b5c5-7f899d7fcfb3",
   "metadata": {},
   "outputs": [
    {
     "name": "stdout",
     "output_type": "stream",
     "text": [
      "                      count unique top   freq\n",
      "AntiHypertensive_DON  16126      4  No  10374\n"
     ]
    }
   ],
   "source": [
    "features = getFeatureList(df, 'AntiHypertensive_DON')"
   ]
  },
  {
   "cell_type": "code",
   "execution_count": 18,
   "id": "a8b6e255-4225-4b0f-99b1-db504d5a402f",
   "metadata": {},
   "outputs": [
    {
     "name": "stdout",
     "output_type": "stream",
     "text": [
      "Survival                Dead  Living  Row Total     Dead %   Living %\n",
      "AntiHypertensive_DON                                                 \n",
      "Missing                181.0    12.0      193.0  93.782383   6.217617\n",
      "No                    4976.0  5398.0    10374.0  47.966069  52.033931\n",
      "Unknown                  1.0     5.0        6.0  16.666667  83.333333\n",
      "Yes                   2694.0  2859.0     5553.0  48.514317  51.485683\n",
      "Column Total          7852.0  8274.0    16126.0  48.691554  51.308446\n",
      "\n",
      "\n"
     ]
    }
   ],
   "source": [
    "for col in features:\n",
    "    print(uf.categoryContingencySurvival(df, col, 'Survival').to_string())\n",
    "    print(\"\\n\")"
   ]
  },
  {
   "cell_type": "markdown",
   "id": "fa478312-bd61-4ae2-8bd2-4eb870aacfa3",
   "metadata": {},
   "source": [
    "#### Antibody\n",
    "- Hepatitis_B_CoreAntibody_CAN & SurfaceHBVAntibodyTotalTransplant_CAN & Hepatitis_B_CoreAntibody_DON & Antibody_HEP_C_DON & AntibodyResultRPR_VDRL_DON & AntibodyResultHBSAB_DON & PanelReactiveAntibody_CPRA_CAT_CAN"
   ]
  },
  {
   "cell_type": "code",
   "execution_count": 19,
   "id": "99ae8bf5-5aa4-4f5e-aa25-76647e9051d8",
   "metadata": {},
   "outputs": [
    {
     "name": "stdout",
     "output_type": "stream",
     "text": [
      "                                       count unique               top   freq\n",
      "Hepatitis_B_CoreAntibody_CAN           16126      4          Negative  14454\n",
      "SurfaceHBVAntibodyTotalTransplant_CAN  16126      4          Negative  10565\n",
      "Hepatitis_B_CoreAntibody_DON           16126      4          Negative  15744\n",
      "Antibody_HEP_C_DON                     16126      4          Negative  14735\n",
      "AntibodyResultRPR_VDRL_DON             16126      4          Negative  15965\n",
      "AntibodyResultHBSAB_DON                16126      5          Not Done  13954\n",
      "PanelReactiveAntibody_CPRA_CAT_CAN     16126      7  No Sensitization   7459\n"
     ]
    }
   ],
   "source": [
    "features = getFeatureList(df, 'Antibody')"
   ]
  },
  {
   "cell_type": "code",
   "execution_count": 20,
   "id": "20a2530d-0356-4449-aeb3-84aad6e85a98",
   "metadata": {},
   "outputs": [
    {
     "data": {
      "text/html": [
       "<div>\n",
       "<style scoped>\n",
       "    .dataframe tbody tr th:only-of-type {\n",
       "        vertical-align: middle;\n",
       "    }\n",
       "\n",
       "    .dataframe tbody tr th {\n",
       "        vertical-align: top;\n",
       "    }\n",
       "\n",
       "    .dataframe thead th {\n",
       "        text-align: right;\n",
       "    }\n",
       "</style>\n",
       "<table border=\"1\" class=\"dataframe\">\n",
       "  <thead>\n",
       "    <tr style=\"text-align: right;\">\n",
       "      <th></th>\n",
       "      <th>column1</th>\n",
       "      <th>column2</th>\n",
       "      <th>chi2</th>\n",
       "      <th>p_value</th>\n",
       "      <th>cramer_v</th>\n",
       "    </tr>\n",
       "  </thead>\n",
       "  <tbody>\n",
       "    <tr>\n",
       "      <th>0</th>\n",
       "      <td>Hepatitis_B_CoreAntibody_CAN</td>\n",
       "      <td>SurfaceHBVAntibodyTotalTransplant_CAN</td>\n",
       "      <td>7942.404844</td>\n",
       "      <td>0.000000e+00</td>\n",
       "      <td>0.405184</td>\n",
       "    </tr>\n",
       "    <tr>\n",
       "      <th>18</th>\n",
       "      <td>AntibodyResultRPR_VDRL_DON</td>\n",
       "      <td>AntibodyResultHBSAB_DON</td>\n",
       "      <td>5783.059078</td>\n",
       "      <td>0.000000e+00</td>\n",
       "      <td>0.345744</td>\n",
       "    </tr>\n",
       "    <tr>\n",
       "      <th>15</th>\n",
       "      <td>Antibody_HEP_C_DON</td>\n",
       "      <td>AntibodyResultRPR_VDRL_DON</td>\n",
       "      <td>5000.901316</td>\n",
       "      <td>0.000000e+00</td>\n",
       "      <td>0.321514</td>\n",
       "    </tr>\n",
       "    <tr>\n",
       "      <th>11</th>\n",
       "      <td>Hepatitis_B_CoreAntibody_DON</td>\n",
       "      <td>Antibody_HEP_C_DON</td>\n",
       "      <td>2486.559347</td>\n",
       "      <td>0.000000e+00</td>\n",
       "      <td>0.226712</td>\n",
       "    </tr>\n",
       "    <tr>\n",
       "      <th>16</th>\n",
       "      <td>Antibody_HEP_C_DON</td>\n",
       "      <td>AntibodyResultHBSAB_DON</td>\n",
       "      <td>846.641275</td>\n",
       "      <td>1.634921e-173</td>\n",
       "      <td>0.132290</td>\n",
       "    </tr>\n",
       "    <tr>\n",
       "      <th>12</th>\n",
       "      <td>Hepatitis_B_CoreAntibody_DON</td>\n",
       "      <td>AntibodyResultRPR_VDRL_DON</td>\n",
       "      <td>341.845434</td>\n",
       "      <td>3.367394e-68</td>\n",
       "      <td>0.084060</td>\n",
       "    </tr>\n",
       "    <tr>\n",
       "      <th>13</th>\n",
       "      <td>Hepatitis_B_CoreAntibody_DON</td>\n",
       "      <td>AntibodyResultHBSAB_DON</td>\n",
       "      <td>232.868147</td>\n",
       "      <td>5.051660e-43</td>\n",
       "      <td>0.069379</td>\n",
       "    </tr>\n",
       "    <tr>\n",
       "      <th>4</th>\n",
       "      <td>Hepatitis_B_CoreAntibody_CAN</td>\n",
       "      <td>AntibodyResultHBSAB_DON</td>\n",
       "      <td>197.943445</td>\n",
       "      <td>8.665125e-36</td>\n",
       "      <td>0.063966</td>\n",
       "    </tr>\n",
       "    <tr>\n",
       "      <th>5</th>\n",
       "      <td>Hepatitis_B_CoreAntibody_CAN</td>\n",
       "      <td>PanelReactiveAntibody_CPRA_CAT_CAN</td>\n",
       "      <td>186.768384</td>\n",
       "      <td>4.353700e-30</td>\n",
       "      <td>0.062134</td>\n",
       "    </tr>\n",
       "    <tr>\n",
       "      <th>10</th>\n",
       "      <td>SurfaceHBVAntibodyTotalTransplant_CAN</td>\n",
       "      <td>PanelReactiveAntibody_CPRA_CAT_CAN</td>\n",
       "      <td>136.281028</td>\n",
       "      <td>3.326491e-20</td>\n",
       "      <td>0.053075</td>\n",
       "    </tr>\n",
       "    <tr>\n",
       "      <th>9</th>\n",
       "      <td>SurfaceHBVAntibodyTotalTransplant_CAN</td>\n",
       "      <td>AntibodyResultHBSAB_DON</td>\n",
       "      <td>102.650109</td>\n",
       "      <td>1.681999e-16</td>\n",
       "      <td>0.046063</td>\n",
       "    </tr>\n",
       "    <tr>\n",
       "      <th>20</th>\n",
       "      <td>AntibodyResultHBSAB_DON</td>\n",
       "      <td>PanelReactiveAntibody_CPRA_CAT_CAN</td>\n",
       "      <td>76.259340</td>\n",
       "      <td>2.372320e-07</td>\n",
       "      <td>0.034384</td>\n",
       "    </tr>\n",
       "    <tr>\n",
       "      <th>19</th>\n",
       "      <td>AntibodyResultRPR_VDRL_DON</td>\n",
       "      <td>PanelReactiveAntibody_CPRA_CAT_CAN</td>\n",
       "      <td>22.734547</td>\n",
       "      <td>2.009979e-01</td>\n",
       "      <td>0.021678</td>\n",
       "    </tr>\n",
       "    <tr>\n",
       "      <th>6</th>\n",
       "      <td>SurfaceHBVAntibodyTotalTransplant_CAN</td>\n",
       "      <td>Hepatitis_B_CoreAntibody_DON</td>\n",
       "      <td>22.348131</td>\n",
       "      <td>7.838757e-03</td>\n",
       "      <td>0.021493</td>\n",
       "    </tr>\n",
       "    <tr>\n",
       "      <th>14</th>\n",
       "      <td>Hepatitis_B_CoreAntibody_DON</td>\n",
       "      <td>PanelReactiveAntibody_CPRA_CAT_CAN</td>\n",
       "      <td>20.525585</td>\n",
       "      <td>3.040195e-01</td>\n",
       "      <td>0.020598</td>\n",
       "    </tr>\n",
       "    <tr>\n",
       "      <th>8</th>\n",
       "      <td>SurfaceHBVAntibodyTotalTransplant_CAN</td>\n",
       "      <td>AntibodyResultRPR_VDRL_DON</td>\n",
       "      <td>14.724855</td>\n",
       "      <td>9.877632e-02</td>\n",
       "      <td>0.017446</td>\n",
       "    </tr>\n",
       "    <tr>\n",
       "      <th>17</th>\n",
       "      <td>Antibody_HEP_C_DON</td>\n",
       "      <td>PanelReactiveAntibody_CPRA_CAT_CAN</td>\n",
       "      <td>10.032616</td>\n",
       "      <td>9.308366e-01</td>\n",
       "      <td>0.014401</td>\n",
       "    </tr>\n",
       "    <tr>\n",
       "      <th>3</th>\n",
       "      <td>Hepatitis_B_CoreAntibody_CAN</td>\n",
       "      <td>AntibodyResultRPR_VDRL_DON</td>\n",
       "      <td>7.576472</td>\n",
       "      <td>5.773246e-01</td>\n",
       "      <td>0.012514</td>\n",
       "    </tr>\n",
       "    <tr>\n",
       "      <th>7</th>\n",
       "      <td>SurfaceHBVAntibodyTotalTransplant_CAN</td>\n",
       "      <td>Antibody_HEP_C_DON</td>\n",
       "      <td>6.690367</td>\n",
       "      <td>6.693208e-01</td>\n",
       "      <td>0.011760</td>\n",
       "    </tr>\n",
       "    <tr>\n",
       "      <th>1</th>\n",
       "      <td>Hepatitis_B_CoreAntibody_CAN</td>\n",
       "      <td>Hepatitis_B_CoreAntibody_DON</td>\n",
       "      <td>3.938124</td>\n",
       "      <td>9.154376e-01</td>\n",
       "      <td>0.009022</td>\n",
       "    </tr>\n",
       "    <tr>\n",
       "      <th>2</th>\n",
       "      <td>Hepatitis_B_CoreAntibody_CAN</td>\n",
       "      <td>Antibody_HEP_C_DON</td>\n",
       "      <td>1.776588</td>\n",
       "      <td>9.945282e-01</td>\n",
       "      <td>0.006060</td>\n",
       "    </tr>\n",
       "  </tbody>\n",
       "</table>\n",
       "</div>"
      ],
      "text/plain": [
       "                                  column1  \\\n",
       "0            Hepatitis_B_CoreAntibody_CAN   \n",
       "18             AntibodyResultRPR_VDRL_DON   \n",
       "15                     Antibody_HEP_C_DON   \n",
       "11           Hepatitis_B_CoreAntibody_DON   \n",
       "16                     Antibody_HEP_C_DON   \n",
       "12           Hepatitis_B_CoreAntibody_DON   \n",
       "13           Hepatitis_B_CoreAntibody_DON   \n",
       "4            Hepatitis_B_CoreAntibody_CAN   \n",
       "5            Hepatitis_B_CoreAntibody_CAN   \n",
       "10  SurfaceHBVAntibodyTotalTransplant_CAN   \n",
       "9   SurfaceHBVAntibodyTotalTransplant_CAN   \n",
       "20                AntibodyResultHBSAB_DON   \n",
       "19             AntibodyResultRPR_VDRL_DON   \n",
       "6   SurfaceHBVAntibodyTotalTransplant_CAN   \n",
       "14           Hepatitis_B_CoreAntibody_DON   \n",
       "8   SurfaceHBVAntibodyTotalTransplant_CAN   \n",
       "17                     Antibody_HEP_C_DON   \n",
       "3            Hepatitis_B_CoreAntibody_CAN   \n",
       "7   SurfaceHBVAntibodyTotalTransplant_CAN   \n",
       "1            Hepatitis_B_CoreAntibody_CAN   \n",
       "2            Hepatitis_B_CoreAntibody_CAN   \n",
       "\n",
       "                                  column2         chi2        p_value  \\\n",
       "0   SurfaceHBVAntibodyTotalTransplant_CAN  7942.404844   0.000000e+00   \n",
       "18                AntibodyResultHBSAB_DON  5783.059078   0.000000e+00   \n",
       "15             AntibodyResultRPR_VDRL_DON  5000.901316   0.000000e+00   \n",
       "11                     Antibody_HEP_C_DON  2486.559347   0.000000e+00   \n",
       "16                AntibodyResultHBSAB_DON   846.641275  1.634921e-173   \n",
       "12             AntibodyResultRPR_VDRL_DON   341.845434   3.367394e-68   \n",
       "13                AntibodyResultHBSAB_DON   232.868147   5.051660e-43   \n",
       "4                 AntibodyResultHBSAB_DON   197.943445   8.665125e-36   \n",
       "5      PanelReactiveAntibody_CPRA_CAT_CAN   186.768384   4.353700e-30   \n",
       "10     PanelReactiveAntibody_CPRA_CAT_CAN   136.281028   3.326491e-20   \n",
       "9                 AntibodyResultHBSAB_DON   102.650109   1.681999e-16   \n",
       "20     PanelReactiveAntibody_CPRA_CAT_CAN    76.259340   2.372320e-07   \n",
       "19     PanelReactiveAntibody_CPRA_CAT_CAN    22.734547   2.009979e-01   \n",
       "6            Hepatitis_B_CoreAntibody_DON    22.348131   7.838757e-03   \n",
       "14     PanelReactiveAntibody_CPRA_CAT_CAN    20.525585   3.040195e-01   \n",
       "8              AntibodyResultRPR_VDRL_DON    14.724855   9.877632e-02   \n",
       "17     PanelReactiveAntibody_CPRA_CAT_CAN    10.032616   9.308366e-01   \n",
       "3              AntibodyResultRPR_VDRL_DON     7.576472   5.773246e-01   \n",
       "7                      Antibody_HEP_C_DON     6.690367   6.693208e-01   \n",
       "1            Hepatitis_B_CoreAntibody_DON     3.938124   9.154376e-01   \n",
       "2                      Antibody_HEP_C_DON     1.776588   9.945282e-01   \n",
       "\n",
       "    cramer_v  \n",
       "0   0.405184  \n",
       "18  0.345744  \n",
       "15  0.321514  \n",
       "11  0.226712  \n",
       "16  0.132290  \n",
       "12  0.084060  \n",
       "13  0.069379  \n",
       "4   0.063966  \n",
       "5   0.062134  \n",
       "10  0.053075  \n",
       "9   0.046063  \n",
       "20  0.034384  \n",
       "19  0.021678  \n",
       "6   0.021493  \n",
       "14  0.020598  \n",
       "8   0.017446  \n",
       "17  0.014401  \n",
       "3   0.012514  \n",
       "7   0.011760  \n",
       "1   0.009022  \n",
       "2   0.006060  "
      ]
     },
     "execution_count": 20,
     "metadata": {},
     "output_type": "execute_result"
    }
   ],
   "source": [
    "# test of Independence for Categorical Variables\n",
    "usf.pairColsMultiIndependenceCat(df, features)"
   ]
  },
  {
   "cell_type": "code",
   "execution_count": 21,
   "id": "9b848fa3-25de-4b32-9288-2fff87e1dce1",
   "metadata": {},
   "outputs": [
    {
     "name": "stdout",
     "output_type": "stream",
     "text": [
      "Survival                        Dead  Living  Row Total     Dead %   Living %\n",
      "Hepatitis_B_CoreAntibody_CAN                                                 \n",
      "Missing/Unknown                420.0    22.0      442.0  95.022624   4.977376\n",
      "Negative                      6860.0  7594.0    14454.0  47.460910  52.539090\n",
      "Not Done                       218.0   283.0      501.0  43.512974  56.487026\n",
      "Positive                       354.0   375.0      729.0  48.559671  51.440329\n",
      "Column Total                  7852.0  8274.0    16126.0  48.691554  51.308446\n",
      "\n",
      "\n",
      "Survival                                 Dead  Living  Row Total     Dead %   Living %\n",
      "SurfaceHBVAntibodyTotalTransplant_CAN                                                 \n",
      "Missing/Unknown                         632.0   358.0      990.0  63.838384  36.161616\n",
      "Negative                               4890.0  5675.0    10565.0  46.284903  53.715097\n",
      "Not Done                                182.0   405.0      587.0  31.005111  68.994889\n",
      "Positive                               2148.0  1836.0     3984.0  53.915663  46.084337\n",
      "Column Total                           7852.0  8274.0    16126.0  48.691554  51.308446\n",
      "\n",
      "\n",
      "Survival                        Dead  Living  Row Total      Dead %   Living %\n",
      "Hepatitis_B_CoreAntibody_DON                                                  \n",
      "Indeterminate                    1.0     0.0        1.0  100.000000   0.000000\n",
      "Negative                      7651.0  8093.0    15744.0   48.596291  51.403709\n",
      "Not Done                         3.0     5.0        8.0   37.500000  62.500000\n",
      "Positive                       197.0   176.0      373.0   52.815013  47.184987\n",
      "Column Total                  7852.0  8274.0    16126.0   48.691554  51.308446\n",
      "\n",
      "\n",
      "Survival              Dead  Living  Row Total     Dead %    Living %\n",
      "Antibody_HEP_C_DON                                                  \n",
      "Missing/Unknown        1.0     1.0        2.0  50.000000   50.000000\n",
      "Negative            7008.0  7727.0    14735.0  47.560231   52.439769\n",
      "Not Done               0.0     1.0        1.0   0.000000  100.000000\n",
      "Positive             843.0   545.0     1388.0  60.734870   39.265130\n",
      "Column Total        7852.0  8274.0    16126.0  48.691554   51.308446\n",
      "\n",
      "\n",
      "Survival                      Dead  Living  Row Total     Dead %   Living %\n",
      "AntibodyResultRPR_VDRL_DON                                                 \n",
      "Missing/Unknown                5.0     9.0       14.0  35.714286  64.285714\n",
      "Negative                    7764.0  8201.0    15965.0  48.631381  51.368619\n",
      "Not Done                       5.0     1.0        6.0  83.333333  16.666667\n",
      "Positive                      78.0    63.0      141.0  55.319149  44.680851\n",
      "Column Total                7852.0  8274.0    16126.0  48.691554  51.308446\n",
      "\n",
      "\n",
      "Survival                   Dead  Living  Row Total     Dead %   Living %\n",
      "AntibodyResultHBSAB_DON                                                 \n",
      "Indeterminate               8.0    26.0       34.0  23.529412  76.470588\n",
      "Missing/Unknown            25.0    14.0       39.0  64.102564  35.897436\n",
      "Negative                  457.0   808.0     1265.0  36.126482  63.873518\n",
      "Not Done                 6994.0  6960.0    13954.0  50.121829  49.878171\n",
      "Positive                  368.0   466.0      834.0  44.124700  55.875300\n",
      "Column Total             7852.0  8274.0    16126.0  48.691554  51.308446\n",
      "\n",
      "\n",
      "Survival                              Dead  Living  Row Total     Dead %   Living %\n",
      "PanelReactiveAntibody_CPRA_CAT_CAN                                                 \n",
      "Extreme Sensitization                 52.0    52.0      104.0  50.000000  50.000000\n",
      "High Sensitization                   166.0   215.0      381.0  43.569554  56.430446\n",
      "Low Sensitization                    967.0  1141.0     2108.0  45.872865  54.127135\n",
      "Missing                             2108.0  1778.0     3886.0  54.246011  45.753989\n",
      "Moderate Sensitization               358.0   422.0      780.0  45.897436  54.102564\n",
      "No Sensitization                    3564.0  3895.0     7459.0  47.781204  52.218796\n",
      "Some Sensitization                   637.0   771.0     1408.0  45.241477  54.758523\n",
      "Column Total                        7852.0  8274.0    16126.0  48.691554  51.308446\n",
      "\n",
      "\n"
     ]
    }
   ],
   "source": [
    "for col in features:\n",
    "    print(uf.categoryContingencySurvival(df, col).to_string())\n",
    "    print(\"\\n\")"
   ]
  },
  {
   "cell_type": "markdown",
   "id": "a94308cf-1df7-49f3-a387-a154b94f3854",
   "metadata": {},
   "source": [
    "#### Antigen"
   ]
  },
  {
   "cell_type": "markdown",
   "id": "8bae7425-e30f-4dad-81d8-bd609462c33e",
   "metadata": {},
   "source": [
    "##### AntigenBW\n",
    "- AntigenBW4_CAN & AntigenBW6_CAN"
   ]
  },
  {
   "cell_type": "code",
   "execution_count": 22,
   "id": "e47ae73c-3d83-4b31-afb0-14633862b718",
   "metadata": {},
   "outputs": [
    {
     "name": "stdout",
     "output_type": "stream",
     "text": [
      "                count unique top   freq\n",
      "AntigenBW4_CAN  16126      4   0  10589\n",
      "AntigenBW6_CAN  16126      4   0  10383\n"
     ]
    }
   ],
   "source": [
    "features = getFeatureList(df, 'AntigenBW')"
   ]
  },
  {
   "cell_type": "code",
   "execution_count": 23,
   "id": "04717e5f-acb9-47a8-8582-1e6ebbf840fe",
   "metadata": {},
   "outputs": [
    {
     "data": {
      "text/html": [
       "<div>\n",
       "<style scoped>\n",
       "    .dataframe tbody tr th:only-of-type {\n",
       "        vertical-align: middle;\n",
       "    }\n",
       "\n",
       "    .dataframe tbody tr th {\n",
       "        vertical-align: top;\n",
       "    }\n",
       "\n",
       "    .dataframe thead th {\n",
       "        text-align: right;\n",
       "    }\n",
       "</style>\n",
       "<table border=\"1\" class=\"dataframe\">\n",
       "  <thead>\n",
       "    <tr style=\"text-align: right;\">\n",
       "      <th></th>\n",
       "      <th>column1</th>\n",
       "      <th>column2</th>\n",
       "      <th>chi2</th>\n",
       "      <th>p_value</th>\n",
       "      <th>cramer_v</th>\n",
       "    </tr>\n",
       "  </thead>\n",
       "  <tbody>\n",
       "    <tr>\n",
       "      <th>0</th>\n",
       "      <td>AntigenBW4_CAN</td>\n",
       "      <td>AntigenBW6_CAN</td>\n",
       "      <td>14787.906206</td>\n",
       "      <td>0.0</td>\n",
       "      <td>0.552878</td>\n",
       "    </tr>\n",
       "  </tbody>\n",
       "</table>\n",
       "</div>"
      ],
      "text/plain": [
       "          column1         column2          chi2  p_value  cramer_v\n",
       "0  AntigenBW4_CAN  AntigenBW6_CAN  14787.906206      0.0  0.552878"
      ]
     },
     "execution_count": 23,
     "metadata": {},
     "output_type": "execute_result"
    }
   ],
   "source": [
    "# test of Independence for Categorical Variables\n",
    "usf.pairColsMultiIndependenceCat(df, features)"
   ]
  },
  {
   "cell_type": "code",
   "execution_count": 24,
   "id": "8e3b540f-18d0-41de-812f-907e00e542bd",
   "metadata": {},
   "outputs": [
    {
     "name": "stdout",
     "output_type": "stream",
     "text": [
      "Survival          Dead  Living  Row Total     Dead %    Living %\n",
      "AntigenBW4_CAN                                                  \n",
      "0               5093.0  5496.0    10589.0  48.097082   51.902918\n",
      "Negative         845.0   929.0     1774.0  47.632469   52.367531\n",
      "Not Tested         0.0     2.0        2.0   0.000000  100.000000\n",
      "Positive        1914.0  1847.0     3761.0  50.890721   49.109279\n",
      "Column Total    7852.0  8274.0    16126.0  48.691554   51.308446\n",
      "\n",
      "\n",
      "Survival          Dead  Living  Row Total      Dead %   Living %\n",
      "AntigenBW6_CAN                                                  \n",
      "0               4994.0  5389.0    10383.0   48.097852  51.902148\n",
      "Negative         381.0   384.0      765.0   49.803922  50.196078\n",
      "Not Tested         1.0     0.0        1.0  100.000000   0.000000\n",
      "Positive        2476.0  2501.0     4977.0   49.748845  50.251155\n",
      "Column Total    7852.0  8274.0    16126.0   48.691554  51.308446\n",
      "\n",
      "\n"
     ]
    }
   ],
   "source": [
    "for col in features:\n",
    "    print(uf.categoryContingencySurvival(df, col).to_string())\n",
    "    print(\"\\n\")"
   ]
  },
  {
   "cell_type": "markdown",
   "id": "05a29d77-5a72-4572-b3b4-24d466331452",
   "metadata": {},
   "source": [
    "#### ArginnieManagement_DON"
   ]
  },
  {
   "cell_type": "code",
   "execution_count": 25,
   "id": "81f1d598-b08e-467c-9d46-2e96b1e56c74",
   "metadata": {},
   "outputs": [
    {
     "name": "stdout",
     "output_type": "stream",
     "text": [
      "                        count unique  top   freq\n",
      "ArginnieManagement_DON  16126      4  Yes  11275\n"
     ]
    }
   ],
   "source": [
    "features = getFeatureList(df, 'Arginnie')"
   ]
  },
  {
   "cell_type": "code",
   "execution_count": 26,
   "id": "f7d7cf9f-79ff-4062-a115-4860f858239d",
   "metadata": {},
   "outputs": [
    {
     "name": "stdout",
     "output_type": "stream",
     "text": [
      "Survival                  Dead  Living  Row Total     Dead %   Living %\n",
      "ArginnieManagement_DON                                                 \n",
      "Missing                  181.0    12.0      193.0  93.782383   6.217617\n",
      "No                      2249.0  2405.0     4654.0  48.324022  51.675978\n",
      "Unknown                    2.0     2.0        4.0  50.000000  50.000000\n",
      "Yes                     5420.0  5855.0    11275.0  48.070953  51.929047\n",
      "Column Total            7852.0  8274.0    16126.0  48.691554  51.308446\n",
      "\n",
      "\n"
     ]
    }
   ],
   "source": [
    "for col in features:\n",
    "    print(uf.categoryContingencySurvival(df, col).to_string())\n",
    "    print(\"\\n\")"
   ]
  },
  {
   "cell_type": "markdown",
   "id": "de0aba89-0b86-417d-9868-bb732b3e864d",
   "metadata": {},
   "source": [
    "#### Biopsy_DON"
   ]
  },
  {
   "cell_type": "code",
   "execution_count": 27,
   "id": "45c582ca-25a9-4da6-9eca-d1cec619dc63",
   "metadata": {},
   "outputs": [
    {
     "name": "stdout",
     "output_type": "stream",
     "text": [
      "            count unique              top   freq\n",
      "Biopsy_DON  16126      5  Biopsy not done  15920\n"
     ]
    }
   ],
   "source": [
    "features = getFeatureList(df, 'Biopsy')"
   ]
  },
  {
   "cell_type": "code",
   "execution_count": 28,
   "id": "af901a44-a558-45f2-ac12-d942e5a93f0e",
   "metadata": {},
   "outputs": [
    {
     "name": "stdout",
     "output_type": "stream",
     "text": [
      "Survival                        Dead  Living  Row Total     Dead %    Living %\n",
      "Biopsy_DON                                                                    \n",
      "Biopsy not done               7667.0  8253.0    15920.0  48.159548   51.840452\n",
      "Missing                        181.0    12.0      193.0  93.782383    6.217617\n",
      "Unknow                           2.0     2.0        4.0  50.000000   50.000000\n",
      "Yes, rejection confirmed         2.0     3.0        5.0  40.000000   60.000000\n",
      "Yes, rejection not confirmed     0.0     4.0        4.0   0.000000  100.000000\n",
      "Column Total                  7852.0  8274.0    16126.0  48.691554   51.308446\n",
      "\n",
      "\n"
     ]
    }
   ],
   "source": [
    "for col in features:\n",
    "    print(uf.categoryContingencySurvival(df, col).to_string())\n",
    "    print(\"\\n\")"
   ]
  },
  {
   "cell_type": "markdown",
   "id": "eac45a44-96bd-4256-857d-6438a2fea2ba",
   "metadata": {},
   "source": [
    "#### BloodGroup\n",
    "- BloodGroup_CAN & BloodGroup_DON & BloodGroupMatchLevel"
   ]
  },
  {
   "cell_type": "code",
   "execution_count": 29,
   "id": "9a484037-c9aa-4008-bf57-3a7a17d4b7df",
   "metadata": {},
   "outputs": [
    {
     "name": "stdout",
     "output_type": "stream",
     "text": [
      "                      count unique        top   freq\n",
      "BloodGroup_CAN        16126      8          A   6419\n",
      "BloodGroup_DON        16126      8          O   8110\n",
      "BloodGroupMatchLevel  16126      3  Identical  13718\n"
     ]
    }
   ],
   "source": [
    "features = getFeatureList(df, 'BloodGroup')"
   ]
  },
  {
   "cell_type": "code",
   "execution_count": 30,
   "id": "634532fe-2be3-425c-a9d3-b0fdc7d034fc",
   "metadata": {},
   "outputs": [
    {
     "data": {
      "text/html": [
       "<div>\n",
       "<style scoped>\n",
       "    .dataframe tbody tr th:only-of-type {\n",
       "        vertical-align: middle;\n",
       "    }\n",
       "\n",
       "    .dataframe tbody tr th {\n",
       "        vertical-align: top;\n",
       "    }\n",
       "\n",
       "    .dataframe thead th {\n",
       "        text-align: right;\n",
       "    }\n",
       "</style>\n",
       "<table border=\"1\" class=\"dataframe\">\n",
       "  <thead>\n",
       "    <tr style=\"text-align: right;\">\n",
       "      <th></th>\n",
       "      <th>column1</th>\n",
       "      <th>column2</th>\n",
       "      <th>chi2</th>\n",
       "      <th>p_value</th>\n",
       "      <th>cramer_v</th>\n",
       "    </tr>\n",
       "  </thead>\n",
       "  <tbody>\n",
       "    <tr>\n",
       "      <th>0</th>\n",
       "      <td>BloodGroup_CAN</td>\n",
       "      <td>BloodGroup_DON</td>\n",
       "      <td>26338.660587</td>\n",
       "      <td>0.000000e+00</td>\n",
       "      <td>0.483042</td>\n",
       "    </tr>\n",
       "    <tr>\n",
       "      <th>1</th>\n",
       "      <td>BloodGroup_CAN</td>\n",
       "      <td>BloodGroupMatchLevel</td>\n",
       "      <td>3616.335729</td>\n",
       "      <td>0.000000e+00</td>\n",
       "      <td>0.334854</td>\n",
       "    </tr>\n",
       "    <tr>\n",
       "      <th>2</th>\n",
       "      <td>BloodGroup_DON</td>\n",
       "      <td>BloodGroupMatchLevel</td>\n",
       "      <td>1007.907794</td>\n",
       "      <td>3.146350e-206</td>\n",
       "      <td>0.176780</td>\n",
       "    </tr>\n",
       "  </tbody>\n",
       "</table>\n",
       "</div>"
      ],
      "text/plain": [
       "          column1               column2          chi2        p_value  cramer_v\n",
       "0  BloodGroup_CAN        BloodGroup_DON  26338.660587   0.000000e+00  0.483042\n",
       "1  BloodGroup_CAN  BloodGroupMatchLevel   3616.335729   0.000000e+00  0.334854\n",
       "2  BloodGroup_DON  BloodGroupMatchLevel   1007.907794  3.146350e-206  0.176780"
      ]
     },
     "execution_count": 30,
     "metadata": {},
     "output_type": "execute_result"
    }
   ],
   "source": [
    "# test of Independence for Categorical Variables\n",
    "usf.pairColsMultiIndependenceCat(df, features)"
   ]
  },
  {
   "cell_type": "code",
   "execution_count": 31,
   "id": "fded0b6a-5331-4de9-a064-121e1e68eeb9",
   "metadata": {},
   "outputs": [
    {
     "name": "stdout",
     "output_type": "stream",
     "text": [
      "Survival          Dead  Living  Row Total     Dead %    Living %\n",
      "BloodGroup_CAN                                                  \n",
      "A               3012.0  3407.0     6419.0  46.923197   53.076803\n",
      "A1                34.0     9.0       43.0  79.069767   20.930233\n",
      "A1B                2.0     1.0        3.0  66.666667   33.333333\n",
      "A2                 5.0     1.0        6.0  83.333333   16.666667\n",
      "A2B                0.0     2.0        2.0   0.000000  100.000000\n",
      "AB               417.0   489.0      906.0  46.026490   53.973510\n",
      "B               1237.0  1311.0     2548.0  48.547881   51.452119\n",
      "O               3145.0  3054.0     6199.0  50.733989   49.266011\n",
      "Column Total    7852.0  8274.0    16126.0  48.691554   51.308446\n",
      "\n",
      "\n",
      "Survival          Dead  Living  Row Total     Dead %   Living %\n",
      "BloodGroup_DON                                                 \n",
      "A               1317.0  1413.0     2730.0  48.241758  51.758242\n",
      "A1              1190.0  1405.0     2595.0  45.857418  54.142582\n",
      "A1B               44.0    57.0      101.0  43.564356  56.435644\n",
      "A2               247.0   286.0      533.0  46.341463  53.658537\n",
      "A2B               27.0    22.0       49.0  55.102041  44.897959\n",
      "AB                70.0   122.0      192.0  36.458333  63.541667\n",
      "B                879.0   937.0     1816.0  48.403084  51.596916\n",
      "O               4078.0  4032.0     8110.0  50.283600  49.716400\n",
      "Column Total    7852.0  8274.0    16126.0  48.691554  51.308446\n",
      "\n",
      "\n",
      "Survival                Dead  Living  Row Total      Dead %   Living %\n",
      "BloodGroupMatchLevel                                                  \n",
      "Compatible            1179.0  1228.0     2407.0   48.982135  51.017865\n",
      "Identical             6672.0  7046.0    13718.0   48.636828  51.363172\n",
      "Incompatible             1.0     0.0        1.0  100.000000   0.000000\n",
      "Column Total          7852.0  8274.0    16126.0   48.691554  51.308446\n",
      "\n",
      "\n"
     ]
    }
   ],
   "source": [
    "for col in features:\n",
    "    print(uf.categoryContingencySurvival(df, col).to_string())\n",
    "    print(\"\\n\")"
   ]
  },
  {
   "cell_type": "markdown",
   "id": "3371dff2-bef2-455a-ad9b-19028db7b093",
   "metadata": {},
   "source": [
    "#### BloodPH_CAT_DON"
   ]
  },
  {
   "cell_type": "code",
   "execution_count": 32,
   "id": "d131860d-8a46-4fdc-9b48-8fc379935c85",
   "metadata": {},
   "outputs": [
    {
     "name": "stdout",
     "output_type": "stream",
     "text": [
      "                 count unique     top  freq\n",
      "BloodPH_CAT_DON  16126      4  Normal  9454\n"
     ]
    }
   ],
   "source": [
    "features = getFeatureList(df, 'BloodPH')"
   ]
  },
  {
   "cell_type": "code",
   "execution_count": 33,
   "id": "e3bfad29-8204-4707-859a-80bde9ecb116",
   "metadata": {},
   "outputs": [
    {
     "name": "stdout",
     "output_type": "stream",
     "text": [
      "Survival           Dead  Living  Row Total     Dead %   Living %\n",
      "BloodPH_CAT_DON                                                 \n",
      "Acidic            857.0  1057.0     1914.0  44.775340  55.224660\n",
      "Alkaline         2212.0  2333.0     4545.0  48.668867  51.331133\n",
      "Missing           188.0    25.0      213.0  88.262911  11.737089\n",
      "Normal           4595.0  4859.0     9454.0  48.603766  51.396234\n",
      "Column Total     7852.0  8274.0    16126.0  48.691554  51.308446\n",
      "\n",
      "\n"
     ]
    }
   ],
   "source": [
    "for col in features:\n",
    "    print(uf.categoryContingencySurvival(df, col).to_string())\n",
    "    print(\"\\n\")"
   ]
  },
  {
   "cell_type": "markdown",
   "id": "0038fb36-86a9-4b59-b39b-b45fbf85df2d",
   "metadata": {},
   "source": [
    "#### Bronchoscopy\n",
    "- BronchoscopyLeft_DON & BronchoscopyRight_DON\n",
    "- New Feature Bronchoscopy_Combined"
   ]
  },
  {
   "cell_type": "code",
   "execution_count": 34,
   "id": "7faf228b-cb6c-47e7-9602-b59ba5dce64a",
   "metadata": {},
   "outputs": [
    {
     "name": "stdout",
     "output_type": "stream",
     "text": [
      "                       count unique      top  freq\n",
      "BronchoscopyLeft_DON   16126      9  Missing  8284\n",
      "BronchoscopyRight_DON  16126      9  Missing  8344\n"
     ]
    }
   ],
   "source": [
    "features = getFeatureList(df, 'Bronchoscopy')"
   ]
  },
  {
   "cell_type": "code",
   "execution_count": 35,
   "id": "e79d68fb-ca0d-40f2-bcde-c1a40294a4cf",
   "metadata": {},
   "outputs": [
    {
     "data": {
      "text/html": [
       "<div>\n",
       "<style scoped>\n",
       "    .dataframe tbody tr th:only-of-type {\n",
       "        vertical-align: middle;\n",
       "    }\n",
       "\n",
       "    .dataframe tbody tr th {\n",
       "        vertical-align: top;\n",
       "    }\n",
       "\n",
       "    .dataframe thead th {\n",
       "        text-align: right;\n",
       "    }\n",
       "</style>\n",
       "<table border=\"1\" class=\"dataframe\">\n",
       "  <thead>\n",
       "    <tr style=\"text-align: right;\">\n",
       "      <th></th>\n",
       "      <th>column1</th>\n",
       "      <th>column2</th>\n",
       "      <th>chi2</th>\n",
       "      <th>p_value</th>\n",
       "      <th>cramer_v</th>\n",
       "    </tr>\n",
       "  </thead>\n",
       "  <tbody>\n",
       "    <tr>\n",
       "      <th>0</th>\n",
       "      <td>BronchoscopyLeft_DON</td>\n",
       "      <td>BronchoscopyRight_DON</td>\n",
       "      <td>87934.054043</td>\n",
       "      <td>0.0</td>\n",
       "      <td>0.825601</td>\n",
       "    </tr>\n",
       "  </tbody>\n",
       "</table>\n",
       "</div>"
      ],
      "text/plain": [
       "                column1                column2          chi2  p_value  \\\n",
       "0  BronchoscopyLeft_DON  BronchoscopyRight_DON  87934.054043      0.0   \n",
       "\n",
       "   cramer_v  \n",
       "0  0.825601  "
      ]
     },
     "execution_count": 35,
     "metadata": {},
     "output_type": "execute_result"
    }
   ],
   "source": [
    "# test of Independence for Categorical Variables\n",
    "usf.pairColsMultiIndependenceCat(df, features)"
   ]
  },
  {
   "cell_type": "code",
   "execution_count": 36,
   "id": "7509f33b-4bff-4fa6-a92a-2fc39a6ff954",
   "metadata": {},
   "outputs": [
    {
     "name": "stdout",
     "output_type": "stream",
     "text": [
      "Survival                               Dead  Living  Row Total     Dead %    Living %\n",
      "BronchoscopyLeft_DON                                                                 \n",
      "Abnormal-anatomy/other lesion          50.0    46.0       96.0  52.083333   47.916667\n",
      "Abnormal-aspiration of foreign body    29.0    31.0       60.0  48.333333   51.666667\n",
      "Abnormal-blood                        200.0   274.0      474.0  42.194093   57.805907\n",
      "Abnormal-purulent secretions          492.0   674.0     1166.0  42.195540   57.804460\n",
      "Missing                              4304.0  3980.0     8284.0  51.955577   48.044423\n",
      "No Bronchoscopy                       177.0   185.0      362.0  48.895028   51.104972\n",
      "Normal                               2595.0  3075.0     5670.0  45.767196   54.232804\n",
      "Unknown                                 5.0     8.0       13.0  38.461538   61.538462\n",
      "Unknown if bronchoscopy performed       0.0     1.0        1.0   0.000000  100.000000\n",
      "Column Total                         7852.0  8274.0    16126.0  48.691554   51.308446\n",
      "\n",
      "\n",
      "Survival                               Dead  Living  Row Total     Dead %    Living %\n",
      "BronchoscopyRight_DON                                                                \n",
      "Abnormal-anatomy/other lesion          58.0    53.0      111.0  52.252252   47.747748\n",
      "Abnormal-aspiration of foreign body    42.0    40.0       82.0  51.219512   48.780488\n",
      "Abnormal-blood                        232.0   296.0      528.0  43.939394   56.060606\n",
      "Abnormal-purulent secretions          572.0   770.0     1342.0  42.622951   57.377049\n",
      "Missing                              4309.0  4035.0     8344.0  51.641898   48.358102\n",
      "No Bronchoscopy                       182.0   188.0      370.0  49.189189   50.810811\n",
      "Normal                               2448.0  2882.0     5330.0  45.928705   54.071295\n",
      "Unknown                                 9.0     9.0       18.0  50.000000   50.000000\n",
      "Unknown if bronchoscopy performed       0.0     1.0        1.0   0.000000  100.000000\n",
      "Column Total                         7852.0  8274.0    16126.0  48.691554   51.308446\n",
      "\n",
      "\n"
     ]
    }
   ],
   "source": [
    "for col in features:\n",
    "    print(uf.categoryContingencySurvival(df, col).to_string())\n",
    "    print(\"\\n\")"
   ]
  },
  {
   "cell_type": "code",
   "execution_count": 37,
   "id": "6bfc2958-a81f-415a-841c-cc7aeeec164a",
   "metadata": {},
   "outputs": [],
   "source": [
    "def combine_bronchoscopy(left, right):\n",
    "    if left == 'Normal' and right == 'Normal':\n",
    "        return 'Normal'\n",
    "    elif left.startswith('Abnormal') or right.startswith('Abnormal'):\n",
    "        return 'Abnormal'\n",
    "    elif left == 'No Bronchoscopy' and right == 'No Bronchoscopy':\n",
    "        return 'No Bronchoscopy'\n",
    "    else:\n",
    "        return 'Missing/Unknown'"
   ]
  },
  {
   "cell_type": "code",
   "execution_count": 38,
   "id": "772b5f68-1807-4b58-87ae-99918db828af",
   "metadata": {},
   "outputs": [],
   "source": [
    "# new feature\n",
    "df['Bronchoscopy_Combined_DON'] = df.apply(lambda row: combine_bronchoscopy(row['BronchoscopyLeft_DON'], row['BronchoscopyRight_DON']), axis=1)\n",
    "\n",
    "# update DataFrame\n",
    "df_drop  = uf.insertIntoDataFrame(df_drop, features)\n",
    "df_don  = uf.insertIntoDataFrame(df_don, ['Bronchoscopy_Combined_DON'])\n",
    "df_nominal  = uf.insertIntoDataFrame(df_nominal, ['Bronchoscopy_Combined_DON'])\n",
    "\n",
    "# convert to category\n",
    "df = uf.toCategory(df, ['Bronchoscopy_Combined_DON'])"
   ]
  },
  {
   "cell_type": "code",
   "execution_count": 39,
   "id": "cea21ee0-8448-4a1d-ac22-96a2da2edfe3",
   "metadata": {},
   "outputs": [
    {
     "data": {
      "text/html": [
       "<div>\n",
       "<style scoped>\n",
       "    .dataframe tbody tr th:only-of-type {\n",
       "        vertical-align: middle;\n",
       "    }\n",
       "\n",
       "    .dataframe tbody tr th {\n",
       "        vertical-align: top;\n",
       "    }\n",
       "\n",
       "    .dataframe thead th {\n",
       "        text-align: right;\n",
       "    }\n",
       "</style>\n",
       "<table border=\"1\" class=\"dataframe\">\n",
       "  <thead>\n",
       "    <tr style=\"text-align: right;\">\n",
       "      <th>Survival</th>\n",
       "      <th>Dead</th>\n",
       "      <th>Living</th>\n",
       "      <th>Row Total</th>\n",
       "      <th>Dead %</th>\n",
       "      <th>Living %</th>\n",
       "    </tr>\n",
       "    <tr>\n",
       "      <th>Bronchoscopy_Combined_DON</th>\n",
       "      <th></th>\n",
       "      <th></th>\n",
       "      <th></th>\n",
       "      <th></th>\n",
       "      <th></th>\n",
       "    </tr>\n",
       "  </thead>\n",
       "  <tbody>\n",
       "    <tr>\n",
       "      <th>Abnormal</th>\n",
       "      <td>1029.0</td>\n",
       "      <td>1338.0</td>\n",
       "      <td>2367.0</td>\n",
       "      <td>43.472750</td>\n",
       "      <td>56.527250</td>\n",
       "    </tr>\n",
       "    <tr>\n",
       "      <th>Missing/Unknown</th>\n",
       "      <td>4362.0</td>\n",
       "      <td>4093.0</td>\n",
       "      <td>8455.0</td>\n",
       "      <td>51.590775</td>\n",
       "      <td>48.409225</td>\n",
       "    </tr>\n",
       "    <tr>\n",
       "      <th>No Bronchoscopy</th>\n",
       "      <td>165.0</td>\n",
       "      <td>171.0</td>\n",
       "      <td>336.0</td>\n",
       "      <td>49.107143</td>\n",
       "      <td>50.892857</td>\n",
       "    </tr>\n",
       "    <tr>\n",
       "      <th>Normal</th>\n",
       "      <td>2296.0</td>\n",
       "      <td>2672.0</td>\n",
       "      <td>4968.0</td>\n",
       "      <td>46.215781</td>\n",
       "      <td>53.784219</td>\n",
       "    </tr>\n",
       "    <tr>\n",
       "      <th>Column Total</th>\n",
       "      <td>7852.0</td>\n",
       "      <td>8274.0</td>\n",
       "      <td>16126.0</td>\n",
       "      <td>48.691554</td>\n",
       "      <td>51.308446</td>\n",
       "    </tr>\n",
       "  </tbody>\n",
       "</table>\n",
       "</div>"
      ],
      "text/plain": [
       "Survival                     Dead  Living  Row Total     Dead %   Living %\n",
       "Bronchoscopy_Combined_DON                                                 \n",
       "Abnormal                   1029.0  1338.0     2367.0  43.472750  56.527250\n",
       "Missing/Unknown            4362.0  4093.0     8455.0  51.590775  48.409225\n",
       "No Bronchoscopy             165.0   171.0      336.0  49.107143  50.892857\n",
       "Normal                     2296.0  2672.0     4968.0  46.215781  53.784219\n",
       "Column Total               7852.0  8274.0    16126.0  48.691554  51.308446"
      ]
     },
     "execution_count": 39,
     "metadata": {},
     "output_type": "execute_result"
    }
   ],
   "source": [
    "uf.categoryContingencySurvival(df, 'Bronchoscopy_Combined_DON')"
   ]
  },
  {
   "cell_type": "markdown",
   "id": "1cf15208-e41d-44bb-be02-7b83ad929dc7",
   "metadata": {},
   "source": [
    "#### CMV\n",
    "- CMVStatus_Transplant_CAN & CMV_IGG_Transplant_CAN & CMV_IGM_Transplant_CAN & SerologyAntiCMV_DON"
   ]
  },
  {
   "cell_type": "code",
   "execution_count": 40,
   "id": "b67b8b8e-fa00-4118-9458-9fe793dc213c",
   "metadata": {},
   "outputs": [
    {
     "name": "stdout",
     "output_type": "stream",
     "text": [
      "                          count unique       top   freq\n",
      "CMVStatus_Transplant_CAN  16126      5  Positive   8692\n",
      "CMV_IGG_Transplant_CAN    16126      1   Missing  16126\n",
      "CMV_IGM_Transplant_CAN    16126      1   Missing  16126\n",
      "SerologyAntiCMV_DON       16126      6  Positive   9880\n"
     ]
    }
   ],
   "source": [
    "features = getFeatureList(df, 'CMV')"
   ]
  },
  {
   "cell_type": "code",
   "execution_count": 41,
   "id": "3f9f2d19-d2d4-4199-898d-c248121786c5",
   "metadata": {},
   "outputs": [
    {
     "data": {
      "text/html": [
       "<div>\n",
       "<style scoped>\n",
       "    .dataframe tbody tr th:only-of-type {\n",
       "        vertical-align: middle;\n",
       "    }\n",
       "\n",
       "    .dataframe tbody tr th {\n",
       "        vertical-align: top;\n",
       "    }\n",
       "\n",
       "    .dataframe thead th {\n",
       "        text-align: right;\n",
       "    }\n",
       "</style>\n",
       "<table border=\"1\" class=\"dataframe\">\n",
       "  <thead>\n",
       "    <tr style=\"text-align: right;\">\n",
       "      <th></th>\n",
       "      <th>column1</th>\n",
       "      <th>column2</th>\n",
       "      <th>chi2</th>\n",
       "      <th>p_value</th>\n",
       "      <th>cramer_v</th>\n",
       "    </tr>\n",
       "  </thead>\n",
       "  <tbody>\n",
       "    <tr>\n",
       "      <th>2</th>\n",
       "      <td>CMVStatus_Transplant_CAN</td>\n",
       "      <td>SerologyAntiCMV_DON</td>\n",
       "      <td>37.081308</td>\n",
       "      <td>0.011442</td>\n",
       "      <td>0.023976</td>\n",
       "    </tr>\n",
       "    <tr>\n",
       "      <th>0</th>\n",
       "      <td>CMVStatus_Transplant_CAN</td>\n",
       "      <td>CMV_IGG_Transplant_CAN</td>\n",
       "      <td>0.000000</td>\n",
       "      <td>1.000000</td>\n",
       "      <td>NaN</td>\n",
       "    </tr>\n",
       "    <tr>\n",
       "      <th>1</th>\n",
       "      <td>CMVStatus_Transplant_CAN</td>\n",
       "      <td>CMV_IGM_Transplant_CAN</td>\n",
       "      <td>0.000000</td>\n",
       "      <td>1.000000</td>\n",
       "      <td>NaN</td>\n",
       "    </tr>\n",
       "    <tr>\n",
       "      <th>3</th>\n",
       "      <td>CMV_IGG_Transplant_CAN</td>\n",
       "      <td>CMV_IGM_Transplant_CAN</td>\n",
       "      <td>0.000000</td>\n",
       "      <td>1.000000</td>\n",
       "      <td>NaN</td>\n",
       "    </tr>\n",
       "    <tr>\n",
       "      <th>4</th>\n",
       "      <td>CMV_IGG_Transplant_CAN</td>\n",
       "      <td>SerologyAntiCMV_DON</td>\n",
       "      <td>0.000000</td>\n",
       "      <td>1.000000</td>\n",
       "      <td>NaN</td>\n",
       "    </tr>\n",
       "    <tr>\n",
       "      <th>5</th>\n",
       "      <td>CMV_IGM_Transplant_CAN</td>\n",
       "      <td>SerologyAntiCMV_DON</td>\n",
       "      <td>0.000000</td>\n",
       "      <td>1.000000</td>\n",
       "      <td>NaN</td>\n",
       "    </tr>\n",
       "  </tbody>\n",
       "</table>\n",
       "</div>"
      ],
      "text/plain": [
       "                    column1                 column2       chi2   p_value  \\\n",
       "2  CMVStatus_Transplant_CAN     SerologyAntiCMV_DON  37.081308  0.011442   \n",
       "0  CMVStatus_Transplant_CAN  CMV_IGG_Transplant_CAN   0.000000  1.000000   \n",
       "1  CMVStatus_Transplant_CAN  CMV_IGM_Transplant_CAN   0.000000  1.000000   \n",
       "3    CMV_IGG_Transplant_CAN  CMV_IGM_Transplant_CAN   0.000000  1.000000   \n",
       "4    CMV_IGG_Transplant_CAN     SerologyAntiCMV_DON   0.000000  1.000000   \n",
       "5    CMV_IGM_Transplant_CAN     SerologyAntiCMV_DON   0.000000  1.000000   \n",
       "\n",
       "   cramer_v  \n",
       "2  0.023976  \n",
       "0       NaN  \n",
       "1       NaN  \n",
       "3       NaN  \n",
       "4       NaN  \n",
       "5       NaN  "
      ]
     },
     "execution_count": 41,
     "metadata": {},
     "output_type": "execute_result"
    }
   ],
   "source": [
    "# test of Independence for Categorical Variables\n",
    "usf.pairColsMultiIndependenceCat(df, features)"
   ]
  },
  {
   "cell_type": "code",
   "execution_count": 42,
   "id": "f63223ba-cc39-4cee-99b4-ddc85743d3c2",
   "metadata": {},
   "outputs": [
    {
     "name": "stdout",
     "output_type": "stream",
     "text": [
      "Survival                    Dead  Living  Row Total      Dead %   Living %\n",
      "CMVStatus_Transplant_CAN                                                  \n",
      "Missing                    407.0     0.0      407.0  100.000000   0.000000\n",
      "Negative                  3225.0  3571.0     6796.0   47.454385  52.545615\n",
      "Not Done                    84.0   121.0      205.0   40.975610  59.024390\n",
      "Positive                  4124.0  4568.0     8692.0   47.445927  52.554073\n",
      "Unknown                     12.0    14.0       26.0   46.153846  53.846154\n",
      "Column Total              7852.0  8274.0    16126.0   48.691554  51.308446\n",
      "\n",
      "\n",
      "Survival                  Dead  Living  Row Total     Dead %   Living %\n",
      "CMV_IGG_Transplant_CAN                                                 \n",
      "Missing                 7852.0  8274.0    16126.0  48.691554  51.308446\n",
      "Column Total            7852.0  8274.0    16126.0  48.691554  51.308446\n",
      "\n",
      "\n",
      "Survival                  Dead  Living  Row Total     Dead %   Living %\n",
      "CMV_IGM_Transplant_CAN                                                 \n",
      "Missing                 7852.0  8274.0    16126.0  48.691554  51.308446\n",
      "Column Total            7852.0  8274.0    16126.0  48.691554  51.308446\n",
      "\n",
      "\n",
      "Survival               Dead  Living  Row Total      Dead %   Living %\n",
      "SerologyAntiCMV_DON                                                  \n",
      "Indeterminate          42.0    32.0       74.0   56.756757  43.243243\n",
      "Missing                 4.0     3.0        7.0   57.142857  42.857143\n",
      "Negative             3018.0  3135.0     6153.0   49.049244  50.950756\n",
      "Not Done                4.0     7.0       11.0   36.363636  63.636364\n",
      "Positive             4783.0  5097.0     9880.0   48.410931  51.589069\n",
      "Unknown                 1.0     0.0        1.0  100.000000   0.000000\n",
      "Column Total         7852.0  8274.0    16126.0   48.691554  51.308446\n",
      "\n",
      "\n"
     ]
    }
   ],
   "source": [
    "for col in features:\n",
    "    print(uf.categoryContingencySurvival(df, col).to_string())\n",
    "    print(\"\\n\")"
   ]
  },
  {
   "cell_type": "code",
   "execution_count": 43,
   "id": "d0119e0c-afd0-4000-9fd0-332956993cb4",
   "metadata": {},
   "outputs": [],
   "source": [
    "# update DataFrame\n",
    "df_drop  = uf.insertIntoDataFrame(df_drop, ['CMV_IGG_Transplant_CAN','CMV_IGM_Transplant_CAN'])"
   ]
  },
  {
   "cell_type": "markdown",
   "id": "5fb9f587-2648-4bfa-ae98-f35691260790",
   "metadata": {
    "jp-MarkdownHeadingCollapsed": true
   },
   "source": [
    "#### ChestXray_DON"
   ]
  },
  {
   "cell_type": "code",
   "execution_count": 44,
   "id": "d9369451-fb4f-47cd-86d2-1f24e7890339",
   "metadata": {},
   "outputs": [
    {
     "name": "stdout",
     "output_type": "stream",
     "text": [
      "               count unique            top  freq\n",
      "ChestXray_DON  16126      7  Abnormal-both  9278\n"
     ]
    }
   ],
   "source": [
    "features = getFeatureList(df, 'ChestXray')"
   ]
  },
  {
   "cell_type": "code",
   "execution_count": 45,
   "id": "369ac46e-0204-4bc8-9d74-484f75b3e9c9",
   "metadata": {},
   "outputs": [
    {
     "name": "stdout",
     "output_type": "stream",
     "text": [
      "Survival           Dead  Living  Row Total     Dead %   Living %\n",
      "ChestXray_DON                                                   \n",
      "Abnormal-both    4607.0  4671.0     9278.0  49.655098  50.344902\n",
      "Abnormal-left     593.0   714.0     1307.0  45.371079  54.628921\n",
      "Abnormal-right    823.0   946.0     1769.0  46.523460  53.476540\n",
      "Missing           439.0   340.0      779.0  56.354300  43.645700\n",
      "No chest x-ray      5.0     1.0        6.0  83.333333  16.666667\n",
      "Normal           1358.0  1595.0     2953.0  45.987132  54.012868\n",
      "Results Unknown    27.0     7.0       34.0  79.411765  20.588235\n",
      "Column Total     7852.0  8274.0    16126.0  48.691554  51.308446\n",
      "\n",
      "\n"
     ]
    }
   ],
   "source": [
    "for col in features:\n",
    "    print(uf.categoryContingencySurvival(df, col).to_string())\n",
    "    print(\"\\n\")"
   ]
  },
  {
   "cell_type": "markdown",
   "id": "9fe68f92-2e03-431d-b8e4-1659d00a1626",
   "metadata": {},
   "source": [
    "#### Cigarette\n",
    "- CigaretteUse_CAN & CigaretteAbstinence_CAN & CigaretteHistory_DON"
   ]
  },
  {
   "cell_type": "code",
   "execution_count": 46,
   "id": "17c0368d-c05d-401a-b188-a331e65f78ca",
   "metadata": {},
   "outputs": [
    {
     "name": "stdout",
     "output_type": "stream",
     "text": [
      "                         count unique      top   freq\n",
      "CigaretteUse_CAN         16126      3       No   9276\n",
      "CigaretteAbstinence_CAN  16126     10  Missing   9349\n",
      "CigaretteHistory_DON     16126      4       No  13924\n"
     ]
    }
   ],
   "source": [
    "features = getFeatureList(df, 'Cigarette')"
   ]
  },
  {
   "cell_type": "code",
   "execution_count": 47,
   "id": "4ff7bec7-ec58-4eff-bd97-59bad9da30a0",
   "metadata": {},
   "outputs": [
    {
     "data": {
      "text/html": [
       "<div>\n",
       "<style scoped>\n",
       "    .dataframe tbody tr th:only-of-type {\n",
       "        vertical-align: middle;\n",
       "    }\n",
       "\n",
       "    .dataframe tbody tr th {\n",
       "        vertical-align: top;\n",
       "    }\n",
       "\n",
       "    .dataframe thead th {\n",
       "        text-align: right;\n",
       "    }\n",
       "</style>\n",
       "<table border=\"1\" class=\"dataframe\">\n",
       "  <thead>\n",
       "    <tr style=\"text-align: right;\">\n",
       "      <th></th>\n",
       "      <th>column1</th>\n",
       "      <th>column2</th>\n",
       "      <th>chi2</th>\n",
       "      <th>p_value</th>\n",
       "      <th>cramer_v</th>\n",
       "    </tr>\n",
       "  </thead>\n",
       "  <tbody>\n",
       "    <tr>\n",
       "      <th>0</th>\n",
       "      <td>CigaretteUse_CAN</td>\n",
       "      <td>CigaretteAbstinence_CAN</td>\n",
       "      <td>16126.000000</td>\n",
       "      <td>0.000000</td>\n",
       "      <td>0.707107</td>\n",
       "    </tr>\n",
       "    <tr>\n",
       "      <th>2</th>\n",
       "      <td>CigaretteAbstinence_CAN</td>\n",
       "      <td>CigaretteHistory_DON</td>\n",
       "      <td>19.778772</td>\n",
       "      <td>0.839911</td>\n",
       "      <td>0.020220</td>\n",
       "    </tr>\n",
       "    <tr>\n",
       "      <th>1</th>\n",
       "      <td>CigaretteUse_CAN</td>\n",
       "      <td>CigaretteHistory_DON</td>\n",
       "      <td>4.537247</td>\n",
       "      <td>0.604376</td>\n",
       "      <td>0.011861</td>\n",
       "    </tr>\n",
       "  </tbody>\n",
       "</table>\n",
       "</div>"
      ],
      "text/plain": [
       "                   column1                  column2          chi2   p_value  \\\n",
       "0         CigaretteUse_CAN  CigaretteAbstinence_CAN  16126.000000  0.000000   \n",
       "2  CigaretteAbstinence_CAN     CigaretteHistory_DON     19.778772  0.839911   \n",
       "1         CigaretteUse_CAN     CigaretteHistory_DON      4.537247  0.604376   \n",
       "\n",
       "   cramer_v  \n",
       "0  0.707107  \n",
       "2  0.020220  \n",
       "1  0.011861  "
      ]
     },
     "execution_count": 47,
     "metadata": {},
     "output_type": "execute_result"
    }
   ],
   "source": [
    "# test of Independence for Categorical Variables\n",
    "usf.pairColsMultiIndependenceCat(df, features)"
   ]
  },
  {
   "cell_type": "code",
   "execution_count": 48,
   "id": "b21aae6f-5ec6-42e2-9450-2aa736515da4",
   "metadata": {},
   "outputs": [
    {
     "name": "stdout",
     "output_type": "stream",
     "text": [
      "Survival            Dead  Living  Row Total      Dead %   Living %\n",
      "CigaretteUse_CAN                                                  \n",
      "Missing             73.0     0.0       73.0  100.000000   0.000000\n",
      "No                4540.0  4736.0     9276.0   48.943510  51.056490\n",
      "Yes               3239.0  3538.0     6777.0   47.794009  52.205991\n",
      "Column Total      7852.0  8274.0    16126.0   48.691554  51.308446\n",
      "\n",
      "\n",
      "Survival                   Dead  Living  Row Total     Dead %   Living %\n",
      "CigaretteAbstinence_CAN                                                 \n",
      "0-2 months                 81.0    87.0      168.0  48.214286  51.785714\n",
      "13-24 months              283.0   280.0      563.0  50.266430  49.733570\n",
      "25-36 months              171.0   168.0      339.0  50.442478  49.557522\n",
      "3-12 months               502.0   596.0     1098.0  45.719490  54.280510\n",
      "37-48 months              132.0   123.0      255.0  51.764706  48.235294\n",
      "49-60 months               99.0   119.0      218.0  45.412844  54.587156\n",
      ">60 months               1845.0  2053.0     3898.0  47.331965  52.668035\n",
      "Continues to smoke         16.0     6.0       22.0  72.727273  27.272727\n",
      "Missing                  4613.0  4736.0     9349.0  49.342176  50.657824\n",
      "Unknown duration          110.0   106.0      216.0  50.925926  49.074074\n",
      "Column Total             7852.0  8274.0    16126.0  48.691554  51.308446\n",
      "\n",
      "\n",
      "Survival                Dead  Living  Row Total     Dead %   Living %\n",
      "CigaretteHistory_DON                                                 \n",
      "Missing                  2.0     2.0        4.0  50.000000  50.000000\n",
      "No                    6720.0  7204.0    13924.0  48.261994  51.738006\n",
      "Unknown                192.0   132.0      324.0  59.259259  40.740741\n",
      "Yes                    938.0   936.0     1874.0  50.053362  49.946638\n",
      "Column Total          7852.0  8274.0    16126.0  48.691554  51.308446\n",
      "\n",
      "\n"
     ]
    }
   ],
   "source": [
    "for col in features:\n",
    "    print(uf.categoryContingencySurvival(df, col).to_string())\n",
    "    print(\"\\n\")"
   ]
  },
  {
   "cell_type": "code",
   "execution_count": 49,
   "id": "b5be544a-96ec-4337-ab8e-600bc82e2eb9",
   "metadata": {},
   "outputs": [],
   "source": [
    "# update DataFrame\n",
    "df_drop  = uf.insertIntoDataFrame(df_drop, ['CigaretteAbstinence_CAN'])"
   ]
  },
  {
   "cell_type": "markdown",
   "id": "417c3719-cf99-4ead-9ec6-ce206d51c4ed",
   "metadata": {},
   "source": [
    "#### Cancer\n",
    "- CancerExtraCranial_DON & CancerIntraCranial_DON & CancerHistory_DON & CancerSkin_DON\n",
    "- Consolidated Cancer_CountTotal_DON"
   ]
  },
  {
   "cell_type": "code",
   "execution_count": 50,
   "id": "efe6c40b-77e4-40b1-af36-3849136b86bc",
   "metadata": {},
   "outputs": [
    {
     "name": "stdout",
     "output_type": "stream",
     "text": [
      "                        count unique top   freq\n",
      "CancerExtraCranial_DON  16126      4  No  15812\n",
      "CancerIntraCranial_DON  16126      4  No  15813\n",
      "CancerHistory_DON       16126      4  No  15788\n",
      "CancerSkin_DON          16126      4  No  15831\n"
     ]
    }
   ],
   "source": [
    "features = getFeatureList(df, 'Cancer')"
   ]
  },
  {
   "cell_type": "code",
   "execution_count": 51,
   "id": "0c536004-01f9-4445-b8c0-5cf8b7d75c3a",
   "metadata": {},
   "outputs": [
    {
     "data": {
      "text/html": [
       "<div>\n",
       "<style scoped>\n",
       "    .dataframe tbody tr th:only-of-type {\n",
       "        vertical-align: middle;\n",
       "    }\n",
       "\n",
       "    .dataframe tbody tr th {\n",
       "        vertical-align: top;\n",
       "    }\n",
       "\n",
       "    .dataframe thead th {\n",
       "        text-align: right;\n",
       "    }\n",
       "</style>\n",
       "<table border=\"1\" class=\"dataframe\">\n",
       "  <thead>\n",
       "    <tr style=\"text-align: right;\">\n",
       "      <th></th>\n",
       "      <th>column1</th>\n",
       "      <th>column2</th>\n",
       "      <th>chi2</th>\n",
       "      <th>p_value</th>\n",
       "      <th>cramer_v</th>\n",
       "    </tr>\n",
       "  </thead>\n",
       "  <tbody>\n",
       "    <tr>\n",
       "      <th>2</th>\n",
       "      <td>CancerExtraCranial_DON</td>\n",
       "      <td>CancerSkin_DON</td>\n",
       "      <td>30163.914790</td>\n",
       "      <td>0.0</td>\n",
       "      <td>0.789623</td>\n",
       "    </tr>\n",
       "    <tr>\n",
       "      <th>0</th>\n",
       "      <td>CancerExtraCranial_DON</td>\n",
       "      <td>CancerIntraCranial_DON</td>\n",
       "      <td>30010.382128</td>\n",
       "      <td>0.0</td>\n",
       "      <td>0.787611</td>\n",
       "    </tr>\n",
       "    <tr>\n",
       "      <th>4</th>\n",
       "      <td>CancerIntraCranial_DON</td>\n",
       "      <td>CancerSkin_DON</td>\n",
       "      <td>29703.152245</td>\n",
       "      <td>0.0</td>\n",
       "      <td>0.783569</td>\n",
       "    </tr>\n",
       "    <tr>\n",
       "      <th>3</th>\n",
       "      <td>CancerIntraCranial_DON</td>\n",
       "      <td>CancerHistory_DON</td>\n",
       "      <td>5485.081283</td>\n",
       "      <td>0.0</td>\n",
       "      <td>0.336719</td>\n",
       "    </tr>\n",
       "    <tr>\n",
       "      <th>5</th>\n",
       "      <td>CancerHistory_DON</td>\n",
       "      <td>CancerSkin_DON</td>\n",
       "      <td>5152.772003</td>\n",
       "      <td>0.0</td>\n",
       "      <td>0.326360</td>\n",
       "    </tr>\n",
       "    <tr>\n",
       "      <th>1</th>\n",
       "      <td>CancerExtraCranial_DON</td>\n",
       "      <td>CancerHistory_DON</td>\n",
       "      <td>4710.037669</td>\n",
       "      <td>0.0</td>\n",
       "      <td>0.312024</td>\n",
       "    </tr>\n",
       "  </tbody>\n",
       "</table>\n",
       "</div>"
      ],
      "text/plain": [
       "                  column1                 column2          chi2  p_value  \\\n",
       "2  CancerExtraCranial_DON          CancerSkin_DON  30163.914790      0.0   \n",
       "0  CancerExtraCranial_DON  CancerIntraCranial_DON  30010.382128      0.0   \n",
       "4  CancerIntraCranial_DON          CancerSkin_DON  29703.152245      0.0   \n",
       "3  CancerIntraCranial_DON       CancerHistory_DON   5485.081283      0.0   \n",
       "5       CancerHistory_DON          CancerSkin_DON   5152.772003      0.0   \n",
       "1  CancerExtraCranial_DON       CancerHistory_DON   4710.037669      0.0   \n",
       "\n",
       "   cramer_v  \n",
       "2  0.789623  \n",
       "0  0.787611  \n",
       "4  0.783569  \n",
       "3  0.336719  \n",
       "5  0.326360  \n",
       "1  0.312024  "
      ]
     },
     "execution_count": 51,
     "metadata": {},
     "output_type": "execute_result"
    }
   ],
   "source": [
    "# test of Independence for Categorical Variables\n",
    "usf.pairColsMultiIndependenceCat(df, features)"
   ]
  },
  {
   "cell_type": "code",
   "execution_count": 52,
   "id": "1db2188a-0864-48e4-a260-a666e6722126",
   "metadata": {},
   "outputs": [
    {
     "name": "stdout",
     "output_type": "stream",
     "text": [
      "Survival                  Dead  Living  Row Total     Dead %   Living %\n",
      "CancerExtraCranial_DON                                                 \n",
      "Missing                  182.0    12.0      194.0  93.814433   6.185567\n",
      "No                      7604.0  8208.0    15812.0  48.090058  51.909942\n",
      "Unknown                   53.0    36.0       89.0  59.550562  40.449438\n",
      "Yes                       13.0    18.0       31.0  41.935484  58.064516\n",
      "Column Total            7852.0  8274.0    16126.0  48.691554  51.308446\n",
      "\n",
      "\n",
      "Survival                  Dead  Living  Row Total     Dead %   Living %\n",
      "CancerIntraCranial_DON                                                 \n",
      "Missing                  182.0    12.0      194.0  93.814433   6.185567\n",
      "No                      7600.0  8213.0    15813.0  48.061721  51.938279\n",
      "Unknown                   57.0    35.0       92.0  61.956522  38.043478\n",
      "Yes                       13.0    14.0       27.0  48.148148  51.851852\n",
      "Column Total            7852.0  8274.0    16126.0  48.691554  51.308446\n",
      "\n",
      "\n",
      "Survival             Dead  Living  Row Total     Dead %   Living %\n",
      "CancerHistory_DON                                                 \n",
      "Missing               2.0     3.0        5.0  40.000000  60.000000\n",
      "No                 7663.0  8125.0    15788.0  48.536863  51.463137\n",
      "Unknown              90.0    39.0      129.0  69.767442  30.232558\n",
      "Yes                  97.0   107.0      204.0  47.549020  52.450980\n",
      "Column Total       7852.0  8274.0    16126.0  48.691554  51.308446\n",
      "\n",
      "\n",
      "Survival          Dead  Living  Row Total     Dead %   Living %\n",
      "CancerSkin_DON                                                 \n",
      "Missing          182.0    12.0      194.0  93.814433   6.185567\n",
      "No              7609.0  8222.0    15831.0  48.063925  51.936075\n",
      "Unknown           55.0    36.0       91.0  60.439560  39.560440\n",
      "Yes                6.0     4.0       10.0  60.000000  40.000000\n",
      "Column Total    7852.0  8274.0    16126.0  48.691554  51.308446\n",
      "\n",
      "\n"
     ]
    }
   ],
   "source": [
    "for col in features:\n",
    "    print(uf.categoryContingencySurvival(df, col).to_string())\n",
    "    print(\"\\n\")"
   ]
  },
  {
   "cell_type": "code",
   "execution_count": 53,
   "id": "9ffc8a95-599d-4072-88a0-174e5a5c8700",
   "metadata": {},
   "outputs": [],
   "source": [
    "# new feature\n",
    "df['Cancer_CountTotal_DON'] = df[features].apply(lambda row: sum(1 for value in row if value == 'Yes'), axis=1)\n",
    "\n",
    "# update DataFrame\n",
    "df_drop  = uf.insertIntoDataFrame(df_drop, features)\n",
    "df_don  = uf.insertIntoDataFrame(df_don, ['Cancer_CountTotal_DON'])\n",
    "df_ordinal  = uf.insertIntoDataFrame(df_ordinal, ['Cancer_CountTotal_DON'])\n",
    "\n",
    "# convert to category\n",
    "df = uf.toCategory(df, ['Cancer_CountTotal_DON'])"
   ]
  },
  {
   "cell_type": "code",
   "execution_count": 54,
   "id": "f7ffe769-9dd1-4b93-8f1a-769a2bced8d1",
   "metadata": {},
   "outputs": [
    {
     "name": "stdout",
     "output_type": "stream",
     "text": [
      "Survival                 Dead  Living  Row Total     Dead %   Living %\n",
      "Cancer_CountTotal_DON                                                 \n",
      "0                      7741.0  8149.0    15890.0  48.716174  51.283826\n",
      "1                        93.0   107.0      200.0  46.500000  53.500000\n",
      "2                        18.0    18.0       36.0  50.000000  50.000000\n",
      "Column Total           7852.0  8274.0    16126.0  48.691554  51.308446\n"
     ]
    }
   ],
   "source": [
    "print(uf.categoryContingencySurvival(df, 'Cancer_CountTotal_DON').to_string())"
   ]
  },
  {
   "cell_type": "markdown",
   "id": "dff32e01-3272-4733-be6c-24259e1d6dfa",
   "metadata": {},
   "source": [
    "#### CardiacArrest_DON"
   ]
  },
  {
   "cell_type": "code",
   "execution_count": 55,
   "id": "e2f303c6-4d8e-4b94-905e-8a97e84188c8",
   "metadata": {},
   "outputs": [
    {
     "name": "stdout",
     "output_type": "stream",
     "text": [
      "                   count unique top   freq\n",
      "CardiacArrest_DON  16126      3  No  14523\n"
     ]
    }
   ],
   "source": [
    "features = getFeatureList(df, 'CardiacArrest')"
   ]
  },
  {
   "cell_type": "code",
   "execution_count": 56,
   "id": "862c01ee-e769-4c03-9518-0ad7b2408d95",
   "metadata": {},
   "outputs": [
    {
     "name": "stdout",
     "output_type": "stream",
     "text": [
      "Survival             Dead  Living  Row Total     Dead %   Living %\n",
      "CardiacArrest_DON                                                 \n",
      "Missing             484.0    13.0      497.0  97.384306   2.615694\n",
      "No                 6806.0  7717.0    14523.0  46.863596  53.136404\n",
      "Yes                 562.0   544.0     1106.0  50.813743  49.186257\n",
      "Column Total       7852.0  8274.0    16126.0  48.691554  51.308446\n",
      "\n",
      "\n"
     ]
    }
   ],
   "source": [
    "for col in features:\n",
    "    print(uf.categoryContingencySurvival(df, col).to_string())\n",
    "    print(\"\\n\")"
   ]
  },
  {
   "cell_type": "markdown",
   "id": "236da26e-3637-46e8-992e-deb0438a2d3c",
   "metadata": {},
   "source": [
    "#### Citizenship\n",
    "- Citizenship_CAN & Citizenship_DON\n",
    "- New Feature Citizenship_Difference"
   ]
  },
  {
   "cell_type": "code",
   "execution_count": 57,
   "id": "e8cefdaf-2308-4777-b9a7-859e10c4655e",
   "metadata": {},
   "outputs": [
    {
     "name": "stdout",
     "output_type": "stream",
     "text": [
      "                 count unique         top   freq\n",
      "Citizenship_CAN  16126      5  US Citizen  15402\n",
      "Citizenship_DON  16126      5  US Citizen  14084\n"
     ]
    }
   ],
   "source": [
    "features = getFeatureList(df, 'Citizenship')"
   ]
  },
  {
   "cell_type": "code",
   "execution_count": 58,
   "id": "b98d59f8-a8ea-4055-9102-b5e23413e9c2",
   "metadata": {},
   "outputs": [
    {
     "data": {
      "text/html": [
       "<div>\n",
       "<style scoped>\n",
       "    .dataframe tbody tr th:only-of-type {\n",
       "        vertical-align: middle;\n",
       "    }\n",
       "\n",
       "    .dataframe tbody tr th {\n",
       "        vertical-align: top;\n",
       "    }\n",
       "\n",
       "    .dataframe thead th {\n",
       "        text-align: right;\n",
       "    }\n",
       "</style>\n",
       "<table border=\"1\" class=\"dataframe\">\n",
       "  <thead>\n",
       "    <tr style=\"text-align: right;\">\n",
       "      <th></th>\n",
       "      <th>column1</th>\n",
       "      <th>column2</th>\n",
       "      <th>chi2</th>\n",
       "      <th>p_value</th>\n",
       "      <th>cramer_v</th>\n",
       "    </tr>\n",
       "  </thead>\n",
       "  <tbody>\n",
       "    <tr>\n",
       "      <th>0</th>\n",
       "      <td>Citizenship_CAN</td>\n",
       "      <td>Citizenship_DON</td>\n",
       "      <td>599.975559</td>\n",
       "      <td>2.314600e-117</td>\n",
       "      <td>0.096444</td>\n",
       "    </tr>\n",
       "  </tbody>\n",
       "</table>\n",
       "</div>"
      ],
      "text/plain": [
       "           column1          column2        chi2        p_value  cramer_v\n",
       "0  Citizenship_CAN  Citizenship_DON  599.975559  2.314600e-117  0.096444"
      ]
     },
     "execution_count": 58,
     "metadata": {},
     "output_type": "execute_result"
    }
   ],
   "source": [
    "# test of Independence for Categorical Variables\n",
    "usf.pairColsMultiIndependenceCat(df, features)"
   ]
  },
  {
   "cell_type": "code",
   "execution_count": 59,
   "id": "d1036173-4188-4c4e-84d6-bdfb9d46f1c9",
   "metadata": {},
   "outputs": [],
   "source": [
    "# convert to string\n",
    "df[features] = df[features].astype(str)\n",
    "\n",
    "# create New Feature (True = 1 & False = 0)\n",
    "df['Citizenship_Difference'] = ( df.Citizenship_CAN.str.replace(\" \", \"\", regex=False).str.lower() == df.Citizenship_DON.str.replace(\" \", \"\", regex=False).str.lower()).astype(int)\n",
    "\n",
    "# convert to category\n",
    "df = uf.toCategory(df, ['Citizenship_Difference']).copy()\n",
    "\n",
    "# update DataFrame\n",
    "df_drop  = uf.insertIntoDataFrame(df_drop, features)\n",
    "df_nominal = uf.insertIntoDataFrame(df_nominal, ['Citizenship_Difference'])\n",
    "df_both = uf.insertIntoDataFrame(df_both, ['Citizenship_Difference'])"
   ]
  },
  {
   "cell_type": "code",
   "execution_count": 60,
   "id": "4cf5ed78-d066-44ca-82bd-c1ca411ce5c0",
   "metadata": {},
   "outputs": [
    {
     "data": {
      "text/html": [
       "<div>\n",
       "<style scoped>\n",
       "    .dataframe tbody tr th:only-of-type {\n",
       "        vertical-align: middle;\n",
       "    }\n",
       "\n",
       "    .dataframe tbody tr th {\n",
       "        vertical-align: top;\n",
       "    }\n",
       "\n",
       "    .dataframe thead th {\n",
       "        text-align: right;\n",
       "    }\n",
       "</style>\n",
       "<table border=\"1\" class=\"dataframe\">\n",
       "  <thead>\n",
       "    <tr style=\"text-align: right;\">\n",
       "      <th>Survival</th>\n",
       "      <th>Dead</th>\n",
       "      <th>Living</th>\n",
       "      <th>Row Total</th>\n",
       "      <th>Dead %</th>\n",
       "      <th>Living %</th>\n",
       "    </tr>\n",
       "    <tr>\n",
       "      <th>Citizenship_Difference</th>\n",
       "      <th></th>\n",
       "      <th></th>\n",
       "      <th></th>\n",
       "      <th></th>\n",
       "      <th></th>\n",
       "    </tr>\n",
       "  </thead>\n",
       "  <tbody>\n",
       "    <tr>\n",
       "      <th>0</th>\n",
       "      <td>1334.0</td>\n",
       "      <td>1222.0</td>\n",
       "      <td>2556.0</td>\n",
       "      <td>52.190923</td>\n",
       "      <td>47.809077</td>\n",
       "    </tr>\n",
       "    <tr>\n",
       "      <th>1</th>\n",
       "      <td>6518.0</td>\n",
       "      <td>7052.0</td>\n",
       "      <td>13570.0</td>\n",
       "      <td>48.032424</td>\n",
       "      <td>51.967576</td>\n",
       "    </tr>\n",
       "    <tr>\n",
       "      <th>Column Total</th>\n",
       "      <td>7852.0</td>\n",
       "      <td>8274.0</td>\n",
       "      <td>16126.0</td>\n",
       "      <td>48.691554</td>\n",
       "      <td>51.308446</td>\n",
       "    </tr>\n",
       "  </tbody>\n",
       "</table>\n",
       "</div>"
      ],
      "text/plain": [
       "Survival                  Dead  Living  Row Total     Dead %   Living %\n",
       "Citizenship_Difference                                                 \n",
       "0                       1334.0  1222.0     2556.0  52.190923  47.809077\n",
       "1                       6518.0  7052.0    13570.0  48.032424  51.967576\n",
       "Column Total            7852.0  8274.0    16126.0  48.691554  51.308446"
      ]
     },
     "execution_count": 60,
     "metadata": {},
     "output_type": "execute_result"
    }
   ],
   "source": [
    "uf.categoryContingencySurvival(df, 'Citizenship_Difference', 'Survival')"
   ]
  },
  {
   "cell_type": "markdown",
   "id": "e5a69f5a-3a45-43fa-bf9a-655b00389901",
   "metadata": {},
   "source": [
    "#### Cocaine & Drug\n",
    "- PastCocaineUse_DON & CocaineUse_DON & OtherDrugUse_DON & PastOtherDrugUse_DON\n",
    "- Consolidated DrugUse_CountTotal_DON"
   ]
  },
  {
   "cell_type": "code",
   "execution_count": 61,
   "id": "d0cafec1-4cf7-4015-a170-71f5e02b3470",
   "metadata": {},
   "outputs": [
    {
     "name": "stdout",
     "output_type": "stream",
     "text": [
      "                      count unique      top   freq\n",
      "PastCocaineUse_DON    16126      4       No  11483\n",
      "CocaineUse_DON        16126      4  Missing  11961\n",
      "OtherDrugUse_DON      16126      4      Yes   7746\n",
      "PastOtherDrugUse_DON  16126      4      Yes   9662\n"
     ]
    }
   ],
   "source": [
    "features = getFeatureList(df, 'Cocaine|Drug')"
   ]
  },
  {
   "cell_type": "code",
   "execution_count": 62,
   "id": "cad4b89f-b9eb-4152-80a5-5791b169c67d",
   "metadata": {},
   "outputs": [
    {
     "data": {
      "text/html": [
       "<div>\n",
       "<style scoped>\n",
       "    .dataframe tbody tr th:only-of-type {\n",
       "        vertical-align: middle;\n",
       "    }\n",
       "\n",
       "    .dataframe tbody tr th {\n",
       "        vertical-align: top;\n",
       "    }\n",
       "\n",
       "    .dataframe thead th {\n",
       "        text-align: right;\n",
       "    }\n",
       "</style>\n",
       "<table border=\"1\" class=\"dataframe\">\n",
       "  <thead>\n",
       "    <tr style=\"text-align: right;\">\n",
       "      <th></th>\n",
       "      <th>column1</th>\n",
       "      <th>column2</th>\n",
       "      <th>chi2</th>\n",
       "      <th>p_value</th>\n",
       "      <th>cramer_v</th>\n",
       "    </tr>\n",
       "  </thead>\n",
       "  <tbody>\n",
       "    <tr>\n",
       "      <th>2</th>\n",
       "      <td>PastCocaineUse_DON</td>\n",
       "      <td>PastOtherDrugUse_DON</td>\n",
       "      <td>21907.758852</td>\n",
       "      <td>0.0</td>\n",
       "      <td>0.672938</td>\n",
       "    </tr>\n",
       "    <tr>\n",
       "      <th>5</th>\n",
       "      <td>OtherDrugUse_DON</td>\n",
       "      <td>PastOtherDrugUse_DON</td>\n",
       "      <td>16126.000000</td>\n",
       "      <td>0.0</td>\n",
       "      <td>0.577350</td>\n",
       "    </tr>\n",
       "    <tr>\n",
       "      <th>0</th>\n",
       "      <td>PastCocaineUse_DON</td>\n",
       "      <td>CocaineUse_DON</td>\n",
       "      <td>16126.000000</td>\n",
       "      <td>0.0</td>\n",
       "      <td>0.577350</td>\n",
       "    </tr>\n",
       "    <tr>\n",
       "      <th>3</th>\n",
       "      <td>CocaineUse_DON</td>\n",
       "      <td>OtherDrugUse_DON</td>\n",
       "      <td>2981.587490</td>\n",
       "      <td>0.0</td>\n",
       "      <td>0.248256</td>\n",
       "    </tr>\n",
       "    <tr>\n",
       "      <th>1</th>\n",
       "      <td>PastCocaineUse_DON</td>\n",
       "      <td>OtherDrugUse_DON</td>\n",
       "      <td>1956.932954</td>\n",
       "      <td>0.0</td>\n",
       "      <td>0.201124</td>\n",
       "    </tr>\n",
       "    <tr>\n",
       "      <th>4</th>\n",
       "      <td>CocaineUse_DON</td>\n",
       "      <td>PastOtherDrugUse_DON</td>\n",
       "      <td>1733.719204</td>\n",
       "      <td>0.0</td>\n",
       "      <td>0.189306</td>\n",
       "    </tr>\n",
       "  </tbody>\n",
       "</table>\n",
       "</div>"
      ],
      "text/plain": [
       "              column1               column2          chi2  p_value  cramer_v\n",
       "2  PastCocaineUse_DON  PastOtherDrugUse_DON  21907.758852      0.0  0.672938\n",
       "5    OtherDrugUse_DON  PastOtherDrugUse_DON  16126.000000      0.0  0.577350\n",
       "0  PastCocaineUse_DON        CocaineUse_DON  16126.000000      0.0  0.577350\n",
       "3      CocaineUse_DON      OtherDrugUse_DON   2981.587490      0.0  0.248256\n",
       "1  PastCocaineUse_DON      OtherDrugUse_DON   1956.932954      0.0  0.201124\n",
       "4      CocaineUse_DON  PastOtherDrugUse_DON   1733.719204      0.0  0.189306"
      ]
     },
     "execution_count": 62,
     "metadata": {},
     "output_type": "execute_result"
    }
   ],
   "source": [
    "# test of Independence for Categorical Variables\n",
    "usf.pairColsMultiIndependenceCat(df, features)"
   ]
  },
  {
   "cell_type": "code",
   "execution_count": 63,
   "id": "20cff17a-4bdd-44ee-af48-97a6e74f7efb",
   "metadata": {},
   "outputs": [
    {
     "name": "stdout",
     "output_type": "stream",
     "text": [
      "Survival              Dead  Living  Row Total     Dead %   Living %\n",
      "PastCocaineUse_DON                                                 \n",
      "Missing              181.0    12.0      193.0  93.782383   6.217617\n",
      "No                  5496.0  5987.0    11483.0  47.862057  52.137943\n",
      "Unknown              172.0   113.0      285.0  60.350877  39.649123\n",
      "Yes                 2003.0  2162.0     4165.0  48.091236  51.908764\n",
      "Column Total        7852.0  8274.0    16126.0  48.691554  51.308446\n",
      "\n",
      "\n",
      "Survival          Dead  Living  Row Total     Dead %   Living %\n",
      "CocaineUse_DON                                                 \n",
      "Missing         5849.0  6112.0    11961.0  48.900594  51.099406\n",
      "No               547.0   667.0     1214.0  45.057661  54.942339\n",
      "Unknown          271.0   259.0      530.0  51.132075  48.867925\n",
      "Yes             1185.0  1236.0     2421.0  48.946716  51.053284\n",
      "Column Total    7852.0  8274.0    16126.0  48.691554  51.308446\n",
      "\n",
      "\n",
      "Survival            Dead  Living  Row Total     Dead %   Living %\n",
      "OtherDrugUse_DON                                                 \n",
      "Missing           3009.0  3455.0     6464.0  46.550124  53.449876\n",
      "No                 543.0   655.0     1198.0  45.325543  54.674457\n",
      "Unknown            341.0   377.0      718.0  47.493036  52.506964\n",
      "Yes               3959.0  3787.0     7746.0  51.110250  48.889750\n",
      "Column Total      7852.0  8274.0    16126.0  48.691554  51.308446\n",
      "\n",
      "\n",
      "Survival                Dead  Living  Row Total     Dead %   Living %\n",
      "PastOtherDrugUse_DON                                                 \n",
      "Missing                181.0    12.0      193.0  93.782383   6.217617\n",
      "No                    2717.0  3372.0     6089.0  44.621449  55.378551\n",
      "Unknown                111.0    71.0      182.0  60.989011  39.010989\n",
      "Yes                   4843.0  4819.0     9662.0  50.124198  49.875802\n",
      "Column Total          7852.0  8274.0    16126.0  48.691554  51.308446\n",
      "\n",
      "\n"
     ]
    }
   ],
   "source": [
    "for col in features:\n",
    "    print(uf.categoryContingencySurvival(df, col).to_string())\n",
    "    print(\"\\n\")"
   ]
  },
  {
   "cell_type": "code",
   "execution_count": 64,
   "id": "a44d9ed4-0593-4e6f-b9a7-2c7c7b9f6990",
   "metadata": {},
   "outputs": [],
   "source": [
    "# new feature\n",
    "df['DrugUse_CountTotal_DON'] = df[features].apply(lambda row: sum(1 for value in row if value == 'Yes'), axis=1)\n",
    "\n",
    "# update DataFrame\n",
    "df_drop  = uf.insertIntoDataFrame(df_drop, features)\n",
    "df_don  = uf.insertIntoDataFrame(df_don, ['DrugUse_CountTotal_DON'])\n",
    "df_ordinal  = uf.insertIntoDataFrame(df_ordinal, ['DrugUse_CountTotal_DON'])\n",
    "\n",
    "# convert to category\n",
    "df = uf.toCategory(df, ['DrugUse_CountTotal_DON'])"
   ]
  },
  {
   "cell_type": "code",
   "execution_count": 65,
   "id": "1c548361-8b45-4b0a-a40b-df31a6a3039e",
   "metadata": {},
   "outputs": [
    {
     "data": {
      "text/html": [
       "<div>\n",
       "<style scoped>\n",
       "    .dataframe tbody tr th:only-of-type {\n",
       "        vertical-align: middle;\n",
       "    }\n",
       "\n",
       "    .dataframe tbody tr th {\n",
       "        vertical-align: top;\n",
       "    }\n",
       "\n",
       "    .dataframe thead th {\n",
       "        text-align: right;\n",
       "    }\n",
       "</style>\n",
       "<table border=\"1\" class=\"dataframe\">\n",
       "  <thead>\n",
       "    <tr style=\"text-align: right;\">\n",
       "      <th>Survival</th>\n",
       "      <th>Dead</th>\n",
       "      <th>Living</th>\n",
       "      <th>Row Total</th>\n",
       "      <th>Dead %</th>\n",
       "      <th>Living %</th>\n",
       "    </tr>\n",
       "    <tr>\n",
       "      <th>DrugUse_CountTotal_DON</th>\n",
       "      <th></th>\n",
       "      <th></th>\n",
       "      <th></th>\n",
       "      <th></th>\n",
       "      <th></th>\n",
       "    </tr>\n",
       "  </thead>\n",
       "  <tbody>\n",
       "    <tr>\n",
       "      <th>0</th>\n",
       "      <td>2746.0</td>\n",
       "      <td>3171.0</td>\n",
       "      <td>5917.0</td>\n",
       "      <td>46.408653</td>\n",
       "      <td>53.591347</td>\n",
       "    </tr>\n",
       "    <tr>\n",
       "      <th>1</th>\n",
       "      <td>687.0</td>\n",
       "      <td>820.0</td>\n",
       "      <td>1507.0</td>\n",
       "      <td>45.587259</td>\n",
       "      <td>54.412741</td>\n",
       "    </tr>\n",
       "    <tr>\n",
       "      <th>2</th>\n",
       "      <td>2909.0</td>\n",
       "      <td>2673.0</td>\n",
       "      <td>5582.0</td>\n",
       "      <td>52.113938</td>\n",
       "      <td>47.886062</td>\n",
       "    </tr>\n",
       "    <tr>\n",
       "      <th>3</th>\n",
       "      <td>555.0</td>\n",
       "      <td>602.0</td>\n",
       "      <td>1157.0</td>\n",
       "      <td>47.968885</td>\n",
       "      <td>52.031115</td>\n",
       "    </tr>\n",
       "    <tr>\n",
       "      <th>4</th>\n",
       "      <td>955.0</td>\n",
       "      <td>1008.0</td>\n",
       "      <td>1963.0</td>\n",
       "      <td>48.650025</td>\n",
       "      <td>51.349975</td>\n",
       "    </tr>\n",
       "    <tr>\n",
       "      <th>Column Total</th>\n",
       "      <td>7852.0</td>\n",
       "      <td>8274.0</td>\n",
       "      <td>16126.0</td>\n",
       "      <td>48.691554</td>\n",
       "      <td>51.308446</td>\n",
       "    </tr>\n",
       "  </tbody>\n",
       "</table>\n",
       "</div>"
      ],
      "text/plain": [
       "Survival                  Dead  Living  Row Total     Dead %   Living %\n",
       "DrugUse_CountTotal_DON                                                 \n",
       "0                       2746.0  3171.0     5917.0  46.408653  53.591347\n",
       "1                        687.0   820.0     1507.0  45.587259  54.412741\n",
       "2                       2909.0  2673.0     5582.0  52.113938  47.886062\n",
       "3                        555.0   602.0     1157.0  47.968885  52.031115\n",
       "4                        955.0  1008.0     1963.0  48.650025  51.349975\n",
       "Column Total            7852.0  8274.0    16126.0  48.691554  51.308446"
      ]
     },
     "execution_count": 65,
     "metadata": {},
     "output_type": "execute_result"
    }
   ],
   "source": [
    "uf.categoryContingencySurvival(df, 'DrugUse_CountTotal_DON')"
   ]
  },
  {
   "cell_type": "markdown",
   "id": "fdf69e7d-75b6-415d-a55c-7fc05c64301d",
   "metadata": {
    "jp-MarkdownHeadingCollapsed": true
   },
   "source": [
    "#### CoronaryAngiogram_DON"
   ]
  },
  {
   "cell_type": "code",
   "execution_count": 66,
   "id": "e39623c0-beab-476e-9b89-e94ce362e699",
   "metadata": {},
   "outputs": [
    {
     "name": "stdout",
     "output_type": "stream",
     "text": [
      "                       count unique top  freq\n",
      "CoronaryAngiogram_DON  16126      4  No  9469\n"
     ]
    }
   ],
   "source": [
    "features = getFeatureList(df, 'Coronary')"
   ]
  },
  {
   "cell_type": "code",
   "execution_count": 67,
   "id": "b01f1c1d-468f-4cf5-ab9b-528530de5fb6",
   "metadata": {},
   "outputs": [
    {
     "name": "stdout",
     "output_type": "stream",
     "text": [
      "Survival                 Dead  Living  Row Total     Dead %   Living %\n",
      "CoronaryAngiogram_DON                                                 \n",
      "Missing                 184.0    12.0      196.0  93.877551   6.122449\n",
      "No                     4353.0  5116.0     9469.0  45.971063  54.028937\n",
      "Yes, normal            3016.0  2898.0     5914.0  50.997633  49.002367\n",
      "Yes, not normal         299.0   248.0      547.0  54.661792  45.338208\n",
      "Column Total           7852.0  8274.0    16126.0  48.691554  51.308446\n",
      "\n",
      "\n"
     ]
    }
   ],
   "source": [
    "for col in features:\n",
    "    print(uf.categoryContingencySurvival(df, col).to_string())\n",
    "    print(\"\\n\")"
   ]
  },
  {
   "cell_type": "markdown",
   "id": "4c2139d4-5b78-4eac-afaa-c88461b25c99",
   "metadata": {
    "jp-MarkdownHeadingCollapsed": true
   },
   "source": [
    "#### CrossMatchDone"
   ]
  },
  {
   "cell_type": "code",
   "execution_count": 68,
   "id": "f6911f94-9f46-4ed6-966f-230f4c38e35a",
   "metadata": {},
   "outputs": [
    {
     "name": "stdout",
     "output_type": "stream",
     "text": [
      "                count unique  top   freq\n",
      "CrossMatchDone  16126      3  Yes  14743\n"
     ]
    }
   ],
   "source": [
    "features = getFeatureList(df, 'CrossMatch')"
   ]
  },
  {
   "cell_type": "code",
   "execution_count": 69,
   "id": "dc45240d-39f9-48c3-ae65-ac0b4501d3a2",
   "metadata": {},
   "outputs": [
    {
     "data": {
      "text/html": [
       "<div>\n",
       "<style scoped>\n",
       "    .dataframe tbody tr th:only-of-type {\n",
       "        vertical-align: middle;\n",
       "    }\n",
       "\n",
       "    .dataframe tbody tr th {\n",
       "        vertical-align: top;\n",
       "    }\n",
       "\n",
       "    .dataframe thead th {\n",
       "        text-align: right;\n",
       "    }\n",
       "</style>\n",
       "<table border=\"1\" class=\"dataframe\">\n",
       "  <thead>\n",
       "    <tr style=\"text-align: right;\">\n",
       "      <th></th>\n",
       "      <th>Feature</th>\n",
       "      <th>Description</th>\n",
       "      <th>Form</th>\n",
       "      <th>FeatureStartDate</th>\n",
       "      <th>FeatureEndDate</th>\n",
       "      <th>FormSection</th>\n",
       "      <th>DataType</th>\n",
       "      <th>SASAnalysisFormat</th>\n",
       "      <th>Comment</th>\n",
       "      <th>OrginalFeature</th>\n",
       "      <th>FeatureType</th>\n",
       "      <th>Information</th>\n",
       "    </tr>\n",
       "  </thead>\n",
       "  <tbody>\n",
       "    <tr>\n",
       "      <th>47</th>\n",
       "      <td>CrossMatchDone</td>\n",
       "      <td>CROSSMATCH DONE Y/N</td>\n",
       "      <td>RH</td>\n",
       "      <td>1994-04-01</td>\n",
       "      <td>NaT</td>\n",
       "      <td>TEST INFORMATION</td>\n",
       "      <td>CHAR(1)</td>\n",
       "      <td></td>\n",
       "      <td></td>\n",
       "      <td>CRSMATCH_DONE</td>\n",
       "      <td>Category</td>\n",
       "      <td>N/Y/X to No/Yes/Missing</td>\n",
       "    </tr>\n",
       "  </tbody>\n",
       "</table>\n",
       "</div>"
      ],
      "text/plain": [
       "           Feature          Description Form FeatureStartDate FeatureEndDate  \\\n",
       "47  CrossMatchDone  CROSSMATCH DONE Y/N   RH       1994-04-01            NaT   \n",
       "\n",
       "         FormSection DataType SASAnalysisFormat Comment OrginalFeature  \\\n",
       "47  TEST INFORMATION  CHAR(1)                            CRSMATCH_DONE   \n",
       "\n",
       "   FeatureType              Information  \n",
       "47    Category  N/Y/X to No/Yes/Missing  "
      ]
     },
     "execution_count": 69,
     "metadata": {},
     "output_type": "execute_result"
    }
   ],
   "source": [
    "df_dict[df_dict.Feature.isin(features)]"
   ]
  },
  {
   "cell_type": "code",
   "execution_count": 70,
   "id": "1229851a-03e4-4f89-b34c-197a7bf8303c",
   "metadata": {},
   "outputs": [
    {
     "name": "stdout",
     "output_type": "stream",
     "text": [
      "Survival          Dead  Living  Row Total     Dead %   Living %\n",
      "CrossMatchDone                                                 \n",
      "Missing          498.0    87.0      585.0  85.128205  14.871795\n",
      "No               365.0   433.0      798.0  45.739348  54.260652\n",
      "Yes             6989.0  7754.0    14743.0  47.405548  52.594452\n",
      "Column Total    7852.0  8274.0    16126.0  48.691554  51.308446\n",
      "\n",
      "\n"
     ]
    }
   ],
   "source": [
    "for col in features:\n",
    "    print(uf.categoryContingencySurvival(df, col).to_string())\n",
    "    print(\"\\n\")"
   ]
  },
  {
   "cell_type": "markdown",
   "id": "ae62e894-d876-4658-9f71-1d4359a8434d",
   "metadata": {},
   "source": [
    "#### Death\n",
    "- CauseOfDeath_DON & DeathCircumstance_DON & DeathMechanism_DON"
   ]
  },
  {
   "cell_type": "code",
   "execution_count": 71,
   "id": "12d297d8-b7e9-4adb-bf4a-232aeba62a9c",
   "metadata": {},
   "outputs": [
    {
     "name": "stdout",
     "output_type": "stream",
     "text": [
      "                       count unique                        top  freq\n",
      "CauseOfDeath_DON       16126      6                HEAD TRAUMA  6741\n",
      "DeathCircumstance_DON  16126      8  DEATH FROM NATURAL CAUSES  3569\n",
      "DeathMechanism_DON     16126     13               BLUNT INJURY  4089\n"
     ]
    }
   ],
   "source": [
    "features = getFeatureList(df, 'Death')"
   ]
  },
  {
   "cell_type": "code",
   "execution_count": 72,
   "id": "759aff3f-e9d3-4ac4-b75d-5d8220398cb8",
   "metadata": {},
   "outputs": [
    {
     "data": {
      "text/html": [
       "<div>\n",
       "<style scoped>\n",
       "    .dataframe tbody tr th:only-of-type {\n",
       "        vertical-align: middle;\n",
       "    }\n",
       "\n",
       "    .dataframe tbody tr th {\n",
       "        vertical-align: top;\n",
       "    }\n",
       "\n",
       "    .dataframe thead th {\n",
       "        text-align: right;\n",
       "    }\n",
       "</style>\n",
       "<table border=\"1\" class=\"dataframe\">\n",
       "  <thead>\n",
       "    <tr style=\"text-align: right;\">\n",
       "      <th></th>\n",
       "      <th>column1</th>\n",
       "      <th>column2</th>\n",
       "      <th>chi2</th>\n",
       "      <th>p_value</th>\n",
       "      <th>cramer_v</th>\n",
       "    </tr>\n",
       "  </thead>\n",
       "  <tbody>\n",
       "    <tr>\n",
       "      <th>1</th>\n",
       "      <td>CauseOfDeath_DON</td>\n",
       "      <td>DeathMechanism_DON</td>\n",
       "      <td>42005.791298</td>\n",
       "      <td>0.0</td>\n",
       "      <td>0.721782</td>\n",
       "    </tr>\n",
       "    <tr>\n",
       "      <th>2</th>\n",
       "      <td>DeathCircumstance_DON</td>\n",
       "      <td>DeathMechanism_DON</td>\n",
       "      <td>35851.210225</td>\n",
       "      <td>0.0</td>\n",
       "      <td>0.563559</td>\n",
       "    </tr>\n",
       "    <tr>\n",
       "      <th>0</th>\n",
       "      <td>CauseOfDeath_DON</td>\n",
       "      <td>DeathCircumstance_DON</td>\n",
       "      <td>19011.505969</td>\n",
       "      <td>0.0</td>\n",
       "      <td>0.485579</td>\n",
       "    </tr>\n",
       "  </tbody>\n",
       "</table>\n",
       "</div>"
      ],
      "text/plain": [
       "                 column1                column2          chi2  p_value  \\\n",
       "1       CauseOfDeath_DON     DeathMechanism_DON  42005.791298      0.0   \n",
       "2  DeathCircumstance_DON     DeathMechanism_DON  35851.210225      0.0   \n",
       "0       CauseOfDeath_DON  DeathCircumstance_DON  19011.505969      0.0   \n",
       "\n",
       "   cramer_v  \n",
       "1  0.721782  \n",
       "2  0.563559  \n",
       "0  0.485579  "
      ]
     },
     "execution_count": 72,
     "metadata": {},
     "output_type": "execute_result"
    }
   ],
   "source": [
    "# test of Independence for Categorical Variables\n",
    "usf.pairColsMultiIndependenceCat(df, features)"
   ]
  },
  {
   "cell_type": "code",
   "execution_count": 73,
   "id": "d297ccb4-c01d-4eae-acb9-93ddf10a77f1",
   "metadata": {},
   "outputs": [
    {
     "name": "stdout",
     "output_type": "stream",
     "text": [
      "Survival                  Dead  Living  Row Total     Dead %   Living %\n",
      "CauseOfDeath_DON                                                       \n",
      "ANOXIA                  3482.0  3225.0     6707.0  51.915909  48.084091\n",
      "CEREBROVASCULAR/STROKE  1020.0  1222.0     2242.0  45.495094  54.504906\n",
      "CNS TUMOR                 31.0    32.0       63.0  49.206349  50.793651\n",
      "HEAD TRAUMA             3140.0  3601.0     6741.0  46.580626  53.419374\n",
      "Missing                    1.0     1.0        2.0  50.000000  50.000000\n",
      "OTHER SPECIFY            178.0   193.0      371.0  47.978437  52.021563\n",
      "Column Total            7852.0  8274.0    16126.0  48.691554  51.308446\n",
      "\n",
      "\n",
      "Survival                     Dead  Living  Row Total     Dead %    Living %\n",
      "DeathCircumstance_DON                                                      \n",
      "Accident, Non-MVA          1766.0  1577.0     3343.0  52.826802   47.173198\n",
      "CHILD-ABUSE                   0.0     1.0        1.0   0.000000  100.000000\n",
      "DEATH FROM NATURAL CAUSES  1724.0  1845.0     3569.0  48.304847   51.695153\n",
      "HOMICIDE                    639.0   706.0     1345.0  47.509294   52.490706\n",
      "MVA                        1460.0  1720.0     3180.0  45.911950   54.088050\n",
      "Missing                       4.0     3.0        7.0  57.142857   42.857143\n",
      "NONE OF THE ABOVE          1040.0  1074.0     2114.0  49.195837   50.804163\n",
      "SUICIDE                    1219.0  1348.0     2567.0  47.487339   52.512661\n",
      "Column Total               7852.0  8274.0    16126.0  48.691554   51.308446\n",
      "\n",
      "\n",
      "Survival                          Dead  Living  Row Total     Dead %   Living %\n",
      "DeathMechanism_DON                                                             \n",
      "ASPHYXIATION                     485.0   577.0     1062.0  45.668550  54.331450\n",
      "BLUNT INJURY                    1868.0  2221.0     4089.0  45.683541  54.316459\n",
      "CARDIOVASCULAR                   729.0   712.0     1441.0  50.589868  49.410132\n",
      "DEATH FROM NATURAL CAUSES        161.0   200.0      361.0  44.598338  55.401662\n",
      "DROWNING                          50.0    58.0      108.0  46.296296  53.703704\n",
      "DRUG INTOXICATION               1945.0  1595.0     3540.0  54.943503  45.056497\n",
      "ELECTRICAL                        12.0    12.0       24.0  50.000000  50.000000\n",
      "GUNSHOT WOUND                   1309.0  1361.0     2670.0  49.026217  50.973783\n",
      "INTRACRANIAL HEMORRHAGE/STROKE  1062.0  1277.0     2339.0  45.404019  54.595981\n",
      "Missing                            1.0     2.0        3.0  33.333333  66.666667\n",
      "NONE OF THE ABOVE                132.0   162.0      294.0  44.897959  55.102041\n",
      "SEIZURE                           79.0    76.0      155.0  50.967742  49.032258\n",
      "STAB                              19.0    21.0       40.0  47.500000  52.500000\n",
      "Column Total                    7852.0  8274.0    16126.0  48.691554  51.308446\n",
      "\n",
      "\n"
     ]
    }
   ],
   "source": [
    "for col in features:\n",
    "    print(uf.categoryContingencySurvival(df, col).to_string())\n",
    "    print(\"\\n\")"
   ]
  },
  {
   "cell_type": "code",
   "execution_count": 74,
   "id": "3bac4ca8-44e8-449c-a400-724d80cc75fd",
   "metadata": {},
   "outputs": [],
   "source": [
    "# update dataframe\n",
    "df_drop  = uf.insertIntoDataFrame(df_drop, ['CauseOfDeath_DON','DeathCircumstance_DON'])"
   ]
  },
  {
   "cell_type": "markdown",
   "id": "2481f20a-2066-4ddd-871f-7e610be987eb",
   "metadata": {
    "jp-MarkdownHeadingCollapsed": true
   },
   "source": [
    "#### DeceasedRetyped_DON"
   ]
  },
  {
   "cell_type": "code",
   "execution_count": 75,
   "id": "8dfc988d-f402-4997-80ff-9ccf5846ed30",
   "metadata": {},
   "outputs": [
    {
     "name": "stdout",
     "output_type": "stream",
     "text": [
      "                     count unique  top  freq\n",
      "DeceasedRetyped_DON  16126      3  Yes  9973\n"
     ]
    }
   ],
   "source": [
    "features = getFeatureList(df, 'Deceased')"
   ]
  },
  {
   "cell_type": "code",
   "execution_count": 76,
   "id": "222d2dec-053a-44c5-bc5f-7b77086eec34",
   "metadata": {},
   "outputs": [
    {
     "name": "stdout",
     "output_type": "stream",
     "text": [
      "Survival               Dead  Living  Row Total     Dead %   Living %\n",
      "DeceasedRetyped_DON                                                 \n",
      "Missing               500.0    87.0      587.0  85.178876  14.821124\n",
      "No                   2181.0  3385.0     5566.0  39.184333  60.815667\n",
      "Yes                  5171.0  4802.0     9973.0  51.849995  48.150005\n",
      "Column Total         7852.0  8274.0    16126.0  48.691554  51.308446\n",
      "\n",
      "\n"
     ]
    }
   ],
   "source": [
    "for col in features:\n",
    "    print(uf.categoryContingencySurvival(df, col).to_string())\n",
    "    print(\"\\n\")"
   ]
  },
  {
   "cell_type": "markdown",
   "id": "c6c87ae8-c9e3-4833-a1af-bdbb331712b6",
   "metadata": {
    "jp-MarkdownHeadingCollapsed": true
   },
   "source": [
    "#### DefibrillatorImplantRegistration_CAN"
   ]
  },
  {
   "cell_type": "code",
   "execution_count": 77,
   "id": "3c44f41c-1de0-481e-9e9d-a3dfb8b8d461",
   "metadata": {},
   "outputs": [
    {
     "name": "stdout",
     "output_type": "stream",
     "text": [
      "                                      count unique  top   freq\n",
      "DefibrillatorImplantRegistration_CAN  16126      4  Yes  11388\n"
     ]
    }
   ],
   "source": [
    "features = getFeatureList(df, 'Defibrillator')"
   ]
  },
  {
   "cell_type": "code",
   "execution_count": 78,
   "id": "3b1b2c2b-388d-414f-82db-542560f014a6",
   "metadata": {},
   "outputs": [
    {
     "name": "stdout",
     "output_type": "stream",
     "text": [
      "Survival                                Dead  Living  Row Total      Dead %   Living %\n",
      "DefibrillatorImplantRegistration_CAN                                                  \n",
      "Missing                                 75.0     0.0       75.0  100.000000   0.000000\n",
      "No                                    2278.0  2105.0     4383.0   51.973534  48.026466\n",
      "Unknown                                161.0   119.0      280.0   57.500000  42.500000\n",
      "Yes                                   5338.0  6050.0    11388.0   46.873902  53.126098\n",
      "Column Total                          7852.0  8274.0    16126.0   48.691554  51.308446\n",
      "\n",
      "\n"
     ]
    }
   ],
   "source": [
    "for col in features:\n",
    "    print(uf.categoryContingencySurvival(df, col).to_string())\n",
    "    print(\"\\n\")"
   ]
  },
  {
   "cell_type": "markdown",
   "id": "20b2ee31-2291-4fc6-8bb7-cf488768036a",
   "metadata": {},
   "source": [
    "#### Diabetes\n",
    "- DiabetesType_CAN & DiabetesHistory_DON & Diabetes_DON & InsulinManagement_DON"
   ]
  },
  {
   "cell_type": "code",
   "execution_count": 79,
   "id": "56a2eb36-6cdf-4488-998d-005d2a633663",
   "metadata": {},
   "outputs": [
    {
     "name": "stdout",
     "output_type": "stream",
     "text": [
      "                       count unique  top   freq\n",
      "DiabetesType_CAN       16126      7   No  11352\n",
      "DiabetesHistory_DON    16126      7   No  15379\n",
      "Diabetes_DON           16126      4   No  15379\n",
      "InsulinManagement_DON  16126      4  Yes   8255\n"
     ]
    }
   ],
   "source": [
    "features = getFeatureList(df, 'Diabetes|Insulin')"
   ]
  },
  {
   "cell_type": "code",
   "execution_count": 80,
   "id": "b3a860af-5636-4660-93b0-82bcf43d6b44",
   "metadata": {},
   "outputs": [
    {
     "data": {
      "text/html": [
       "<div>\n",
       "<style scoped>\n",
       "    .dataframe tbody tr th:only-of-type {\n",
       "        vertical-align: middle;\n",
       "    }\n",
       "\n",
       "    .dataframe tbody tr th {\n",
       "        vertical-align: top;\n",
       "    }\n",
       "\n",
       "    .dataframe thead th {\n",
       "        text-align: right;\n",
       "    }\n",
       "</style>\n",
       "<table border=\"1\" class=\"dataframe\">\n",
       "  <thead>\n",
       "    <tr style=\"text-align: right;\">\n",
       "      <th></th>\n",
       "      <th>column1</th>\n",
       "      <th>column2</th>\n",
       "      <th>chi2</th>\n",
       "      <th>p_value</th>\n",
       "      <th>cramer_v</th>\n",
       "    </tr>\n",
       "  </thead>\n",
       "  <tbody>\n",
       "    <tr>\n",
       "      <th>3</th>\n",
       "      <td>DiabetesHistory_DON</td>\n",
       "      <td>Diabetes_DON</td>\n",
       "      <td>48378.000000</td>\n",
       "      <td>0.000000e+00</td>\n",
       "      <td>1.000000</td>\n",
       "    </tr>\n",
       "    <tr>\n",
       "      <th>2</th>\n",
       "      <td>DiabetesType_CAN</td>\n",
       "      <td>InsulinManagement_DON</td>\n",
       "      <td>536.460630</td>\n",
       "      <td>2.211545e-102</td>\n",
       "      <td>0.105304</td>\n",
       "    </tr>\n",
       "    <tr>\n",
       "      <th>4</th>\n",
       "      <td>DiabetesHistory_DON</td>\n",
       "      <td>InsulinManagement_DON</td>\n",
       "      <td>409.219597</td>\n",
       "      <td>1.091985e-75</td>\n",
       "      <td>0.091972</td>\n",
       "    </tr>\n",
       "    <tr>\n",
       "      <th>5</th>\n",
       "      <td>Diabetes_DON</td>\n",
       "      <td>InsulinManagement_DON</td>\n",
       "      <td>400.021880</td>\n",
       "      <td>1.355265e-80</td>\n",
       "      <td>0.090932</td>\n",
       "    </tr>\n",
       "    <tr>\n",
       "      <th>0</th>\n",
       "      <td>DiabetesType_CAN</td>\n",
       "      <td>DiabetesHistory_DON</td>\n",
       "      <td>20.949957</td>\n",
       "      <td>9.785786e-01</td>\n",
       "      <td>0.014715</td>\n",
       "    </tr>\n",
       "    <tr>\n",
       "      <th>1</th>\n",
       "      <td>DiabetesType_CAN</td>\n",
       "      <td>Diabetes_DON</td>\n",
       "      <td>9.386660</td>\n",
       "      <td>9.501015e-01</td>\n",
       "      <td>0.013929</td>\n",
       "    </tr>\n",
       "  </tbody>\n",
       "</table>\n",
       "</div>"
      ],
      "text/plain": [
       "               column1                column2          chi2        p_value  \\\n",
       "3  DiabetesHistory_DON           Diabetes_DON  48378.000000   0.000000e+00   \n",
       "2     DiabetesType_CAN  InsulinManagement_DON    536.460630  2.211545e-102   \n",
       "4  DiabetesHistory_DON  InsulinManagement_DON    409.219597   1.091985e-75   \n",
       "5         Diabetes_DON  InsulinManagement_DON    400.021880   1.355265e-80   \n",
       "0     DiabetesType_CAN    DiabetesHistory_DON     20.949957   9.785786e-01   \n",
       "1     DiabetesType_CAN           Diabetes_DON      9.386660   9.501015e-01   \n",
       "\n",
       "   cramer_v  \n",
       "3  1.000000  \n",
       "2  0.105304  \n",
       "4  0.091972  \n",
       "5  0.090932  \n",
       "0  0.014715  \n",
       "1  0.013929  "
      ]
     },
     "execution_count": 80,
     "metadata": {},
     "output_type": "execute_result"
    }
   ],
   "source": [
    "# test of Independence for Categorical Variables\n",
    "usf.pairColsMultiIndependenceCat(df, features)"
   ]
  },
  {
   "cell_type": "code",
   "execution_count": 81,
   "id": "430a2945-0360-4af9-9b6f-cbf77b8abb12",
   "metadata": {},
   "outputs": [
    {
     "name": "stdout",
     "output_type": "stream",
     "text": [
      "Survival                   Dead  Living  Row Total      Dead %   Living %\n",
      "DiabetesType_CAN                                                         \n",
      "Diabetes Status Unknown     4.0     6.0       10.0   40.000000  60.000000\n",
      "Missing                    73.0     0.0       73.0  100.000000   0.000000\n",
      "No                       5416.0  5936.0    11352.0   47.709655  52.290345\n",
      "Type I                     97.0    87.0      184.0   52.717391  47.282609\n",
      "Type II                  2155.0  2146.0     4301.0   50.104627  49.895373\n",
      "Type Other                 53.0    36.0       89.0   59.550562  40.449438\n",
      "Type Unknown               54.0    63.0      117.0   46.153846  53.846154\n",
      "Column Total             7852.0  8274.0    16126.0   48.691554  51.308446\n",
      "\n",
      "\n",
      "Survival                 Dead  Living  Row Total     Dead %   Living %\n",
      "DiabetesHistory_DON                                                   \n",
      "Missing                   1.0     1.0        2.0  50.000000  50.000000\n",
      "No                     7452.0  7927.0    15379.0  48.455686  51.544314\n",
      "Unknown                  97.0    39.0      136.0  71.323529  28.676471\n",
      "Yes, 0-5 Years          144.0   147.0      291.0  49.484536  50.515464\n",
      "Yes, 6-10 Years          42.0    52.0       94.0  44.680851  55.319149\n",
      "Yes, >10 Years           78.0    85.0      163.0  47.852761  52.147239\n",
      "Yes, Duration Unknown    38.0    23.0       61.0  62.295082  37.704918\n",
      "Column Total           7852.0  8274.0    16126.0  48.691554  51.308446\n",
      "\n",
      "\n",
      "Survival        Dead  Living  Row Total     Dead %   Living %\n",
      "Diabetes_DON                                                 \n",
      "Missing          1.0     1.0        2.0  50.000000  50.000000\n",
      "No            7452.0  7927.0    15379.0  48.455686  51.544314\n",
      "Unknown         97.0    39.0      136.0  71.323529  28.676471\n",
      "Yes            302.0   307.0      609.0  49.589491  50.410509\n",
      "Column Total  7852.0  8274.0    16126.0  48.691554  51.308446\n",
      "\n",
      "\n",
      "Survival                 Dead  Living  Row Total     Dead %   Living %\n",
      "InsulinManagement_DON                                                 \n",
      "Missing                 180.0    12.0      192.0  93.750000   6.250000\n",
      "No                     3969.0  3706.0     7675.0  51.713355  48.286645\n",
      "Unknown                   1.0     3.0        4.0  25.000000  75.000000\n",
      "Yes                    3702.0  4553.0     8255.0  44.845548  55.154452\n",
      "Column Total           7852.0  8274.0    16126.0  48.691554  51.308446\n",
      "\n",
      "\n"
     ]
    }
   ],
   "source": [
    "for col in features:\n",
    "    print(uf.categoryContingencySurvival(df, col).to_string())\n",
    "    print(\"\\n\")"
   ]
  },
  {
   "cell_type": "code",
   "execution_count": 82,
   "id": "9b8df0cb-c4c4-4b20-8bda-f0ddad0a08a5",
   "metadata": {},
   "outputs": [],
   "source": [
    "# update DataFrame\n",
    "df_drop  = uf.insertIntoDataFrame(df_drop, ['DiabetesHistory_DON'])"
   ]
  },
  {
   "cell_type": "markdown",
   "id": "0c071902-c700-49ef-ad40-1874b9725ece",
   "metadata": {},
   "source": [
    "#### Diagnosis\n",
    "- WaitListDiagnosisCode_CAN & DiagnosisAtListing_CAN & PrimaryDiagnosisType_CAN"
   ]
  },
  {
   "cell_type": "code",
   "execution_count": 83,
   "id": "e270cc1e-4177-4c89-98b9-b20209ff5988",
   "metadata": {},
   "outputs": [
    {
     "name": "stdout",
     "output_type": "stream",
     "text": [
      "                           count unique                           top  freq\n",
      "WaitListDiagnosisCode_CAN  16126     36  DILATED MYOPATHY: IDIOPATHIC  5517\n",
      "DiagnosisAtListing_CAN     16126     37  DILATED MYOPATHY: IDIOPATHIC  5555\n",
      "PrimaryDiagnosisType_CAN   16126     37  DILATED MYOPATHY: IDIOPATHIC  5510\n"
     ]
    }
   ],
   "source": [
    "features = getFeatureList(df, 'Diagnosis')"
   ]
  },
  {
   "cell_type": "code",
   "execution_count": 84,
   "id": "f797d8a2-7abd-4de2-a0ad-7f1ac28b5dee",
   "metadata": {},
   "outputs": [
    {
     "data": {
      "text/html": [
       "<div>\n",
       "<style scoped>\n",
       "    .dataframe tbody tr th:only-of-type {\n",
       "        vertical-align: middle;\n",
       "    }\n",
       "\n",
       "    .dataframe tbody tr th {\n",
       "        vertical-align: top;\n",
       "    }\n",
       "\n",
       "    .dataframe thead th {\n",
       "        text-align: right;\n",
       "    }\n",
       "</style>\n",
       "<table border=\"1\" class=\"dataframe\">\n",
       "  <thead>\n",
       "    <tr style=\"text-align: right;\">\n",
       "      <th></th>\n",
       "      <th>column1</th>\n",
       "      <th>column2</th>\n",
       "      <th>chi2</th>\n",
       "      <th>p_value</th>\n",
       "      <th>cramer_v</th>\n",
       "    </tr>\n",
       "  </thead>\n",
       "  <tbody>\n",
       "    <tr>\n",
       "      <th>0</th>\n",
       "      <td>WaitListDiagnosisCode_CAN</td>\n",
       "      <td>DiagnosisAtListing_CAN</td>\n",
       "      <td>292228.216938</td>\n",
       "      <td>0.0</td>\n",
       "      <td>0.719555</td>\n",
       "    </tr>\n",
       "    <tr>\n",
       "      <th>2</th>\n",
       "      <td>DiagnosisAtListing_CAN</td>\n",
       "      <td>PrimaryDiagnosisType_CAN</td>\n",
       "      <td>293333.189131</td>\n",
       "      <td>0.0</td>\n",
       "      <td>0.710830</td>\n",
       "    </tr>\n",
       "    <tr>\n",
       "      <th>1</th>\n",
       "      <td>WaitListDiagnosisCode_CAN</td>\n",
       "      <td>PrimaryDiagnosisType_CAN</td>\n",
       "      <td>237514.891457</td>\n",
       "      <td>0.0</td>\n",
       "      <td>0.648706</td>\n",
       "    </tr>\n",
       "  </tbody>\n",
       "</table>\n",
       "</div>"
      ],
      "text/plain": [
       "                     column1                   column2           chi2  \\\n",
       "0  WaitListDiagnosisCode_CAN    DiagnosisAtListing_CAN  292228.216938   \n",
       "2     DiagnosisAtListing_CAN  PrimaryDiagnosisType_CAN  293333.189131   \n",
       "1  WaitListDiagnosisCode_CAN  PrimaryDiagnosisType_CAN  237514.891457   \n",
       "\n",
       "   p_value  cramer_v  \n",
       "0      0.0  0.719555  \n",
       "2      0.0  0.710830  \n",
       "1      0.0  0.648706  "
      ]
     },
     "execution_count": 84,
     "metadata": {},
     "output_type": "execute_result"
    }
   ],
   "source": [
    "# test of Independence for Categorical Variables\n",
    "usf.pairColsMultiIndependenceCat(df, features)"
   ]
  },
  {
   "cell_type": "code",
   "execution_count": 85,
   "id": "07291540-df12-4465-80aa-6c3f42e9823c",
   "metadata": {},
   "outputs": [
    {
     "data": {
      "text/html": [
       "<div>\n",
       "<style scoped>\n",
       "    .dataframe tbody tr th:only-of-type {\n",
       "        vertical-align: middle;\n",
       "    }\n",
       "\n",
       "    .dataframe tbody tr th {\n",
       "        vertical-align: top;\n",
       "    }\n",
       "\n",
       "    .dataframe thead th {\n",
       "        text-align: right;\n",
       "    }\n",
       "</style>\n",
       "<table border=\"1\" class=\"dataframe\">\n",
       "  <thead>\n",
       "    <tr style=\"text-align: right;\">\n",
       "      <th></th>\n",
       "      <th>Feature</th>\n",
       "      <th>Description</th>\n",
       "      <th>Form</th>\n",
       "      <th>FeatureStartDate</th>\n",
       "      <th>FeatureEndDate</th>\n",
       "      <th>FormSection</th>\n",
       "      <th>DataType</th>\n",
       "      <th>SASAnalysisFormat</th>\n",
       "      <th>Comment</th>\n",
       "      <th>OrginalFeature</th>\n",
       "      <th>FeatureType</th>\n",
       "      <th>Information</th>\n",
       "    </tr>\n",
       "  </thead>\n",
       "  <tbody>\n",
       "    <tr>\n",
       "      <th>72</th>\n",
       "      <td>PrimaryDiagnosisType_CAN</td>\n",
       "      <td>RECIPIENT PRIMARY DIAGNOSIS</td>\n",
       "      <td>TRR&gt;TCR</td>\n",
       "      <td>1987-10-01</td>\n",
       "      <td>NaT</td>\n",
       "      <td>PATIENT STATUS/CLINICAL INFORMATION</td>\n",
       "      <td>NUM</td>\n",
       "      <td>ALL_DGN</td>\n",
       "      <td>THIS FIELD DRAWS FROM \"AT TRANSPLANT\" AND IF NOT THERE THEN FROM TCR.</td>\n",
       "      <td>DIAG</td>\n",
       "      <td>Category</td>\n",
       "      <td>FMTNAME: TH_DGN</td>\n",
       "    </tr>\n",
       "    <tr>\n",
       "      <th>270</th>\n",
       "      <td>DiagnosisAtListing_CAN</td>\n",
       "      <td>CANDIDATE DIAGNOSIS AT LISTING</td>\n",
       "      <td>TCR</td>\n",
       "      <td>1994-04-01</td>\n",
       "      <td>NaT</td>\n",
       "      <td>CLINICAL INFORMATION</td>\n",
       "      <td>NUM</td>\n",
       "      <td>ALL_DGN</td>\n",
       "      <td></td>\n",
       "      <td>TCR_DGN</td>\n",
       "      <td>Category</td>\n",
       "      <td>FMTNAME: TH_DGN</td>\n",
       "    </tr>\n",
       "    <tr>\n",
       "      <th>272</th>\n",
       "      <td>WaitListDiagnosisCode_CAN</td>\n",
       "      <td>Waitlist CANDIDATE DIAGNOSIS</td>\n",
       "      <td>WL DATA</td>\n",
       "      <td>NaT</td>\n",
       "      <td>NaT</td>\n",
       "      <td></td>\n",
       "      <td>NUM</td>\n",
       "      <td>ALL_DGN</td>\n",
       "      <td></td>\n",
       "      <td>THORACIC_DGN</td>\n",
       "      <td>Category</td>\n",
       "      <td>FMTNAME: TH_DGN</td>\n",
       "    </tr>\n",
       "  </tbody>\n",
       "</table>\n",
       "</div>"
      ],
      "text/plain": [
       "                       Feature                     Description     Form  \\\n",
       "72    PrimaryDiagnosisType_CAN     RECIPIENT PRIMARY DIAGNOSIS  TRR>TCR   \n",
       "270     DiagnosisAtListing_CAN  CANDIDATE DIAGNOSIS AT LISTING      TCR   \n",
       "272  WaitListDiagnosisCode_CAN    Waitlist CANDIDATE DIAGNOSIS  WL DATA   \n",
       "\n",
       "    FeatureStartDate FeatureEndDate                          FormSection  \\\n",
       "72        1987-10-01            NaT  PATIENT STATUS/CLINICAL INFORMATION   \n",
       "270       1994-04-01            NaT                 CLINICAL INFORMATION   \n",
       "272              NaT            NaT                                        \n",
       "\n",
       "    DataType SASAnalysisFormat  \\\n",
       "72       NUM           ALL_DGN   \n",
       "270      NUM           ALL_DGN   \n",
       "272      NUM           ALL_DGN   \n",
       "\n",
       "                                                                    Comment  \\\n",
       "72    THIS FIELD DRAWS FROM \"AT TRANSPLANT\" AND IF NOT THERE THEN FROM TCR.   \n",
       "270                                                                           \n",
       "272                                                                           \n",
       "\n",
       "    OrginalFeature FeatureType      Information  \n",
       "72            DIAG    Category  FMTNAME: TH_DGN  \n",
       "270        TCR_DGN    Category  FMTNAME: TH_DGN  \n",
       "272   THORACIC_DGN    Category  FMTNAME: TH_DGN  "
      ]
     },
     "execution_count": 85,
     "metadata": {},
     "output_type": "execute_result"
    }
   ],
   "source": [
    "df_dict[df_dict.Feature.isin(features)]"
   ]
  },
  {
   "cell_type": "code",
   "execution_count": 86,
   "id": "50b29924-9889-4ad6-8a0b-9e0e0e198e48",
   "metadata": {},
   "outputs": [],
   "source": [
    "# update dataframe\n",
    "df_drop  = uf.insertIntoDataFrame(df_drop, ['WaitListDiagnosisCode_CAN','DiagnosisAtListing_CAN'])"
   ]
  },
  {
   "cell_type": "markdown",
   "id": "532de9e6-9c85-4415-8091-e558ddf37579",
   "metadata": {},
   "source": [
    "#### Dialysis\n",
    "- DialysisBetweenListingTransplant_CAN & DialysisPriorListing_CAN\n",
    "- New Feature Dialysis_Combined_CAN"
   ]
  },
  {
   "cell_type": "code",
   "execution_count": 87,
   "id": "7b83605d-2a4e-4945-bc8b-c982fc9c5a36",
   "metadata": {},
   "outputs": [
    {
     "name": "stdout",
     "output_type": "stream",
     "text": [
      "                                           count unique top   freq\n",
      "DialysisBetweenRegistrationTransplant_CAN  16126      4  No  14914\n",
      "DialysisPriorRegistration_CAN              16126      3  No  14781\n"
     ]
    }
   ],
   "source": [
    "features = getFeatureList(df, 'Dialysis')"
   ]
  },
  {
   "cell_type": "code",
   "execution_count": 88,
   "id": "5882f3f5-d464-4975-be9e-a253387219f6",
   "metadata": {},
   "outputs": [
    {
     "data": {
      "text/html": [
       "<div>\n",
       "<style scoped>\n",
       "    .dataframe tbody tr th:only-of-type {\n",
       "        vertical-align: middle;\n",
       "    }\n",
       "\n",
       "    .dataframe tbody tr th {\n",
       "        vertical-align: top;\n",
       "    }\n",
       "\n",
       "    .dataframe thead th {\n",
       "        text-align: right;\n",
       "    }\n",
       "</style>\n",
       "<table border=\"1\" class=\"dataframe\">\n",
       "  <thead>\n",
       "    <tr style=\"text-align: right;\">\n",
       "      <th></th>\n",
       "      <th>column1</th>\n",
       "      <th>column2</th>\n",
       "      <th>chi2</th>\n",
       "      <th>p_value</th>\n",
       "      <th>cramer_v</th>\n",
       "    </tr>\n",
       "  </thead>\n",
       "  <tbody>\n",
       "    <tr>\n",
       "      <th>0</th>\n",
       "      <td>DialysisBetweenRegistrationTransplant_CAN</td>\n",
       "      <td>DialysisPriorRegistration_CAN</td>\n",
       "      <td>28688.916103</td>\n",
       "      <td>0.0</td>\n",
       "      <td>0.943146</td>\n",
       "    </tr>\n",
       "  </tbody>\n",
       "</table>\n",
       "</div>"
      ],
      "text/plain": [
       "                                     column1                        column2  \\\n",
       "0  DialysisBetweenRegistrationTransplant_CAN  DialysisPriorRegistration_CAN   \n",
       "\n",
       "           chi2  p_value  cramer_v  \n",
       "0  28688.916103      0.0  0.943146  "
      ]
     },
     "execution_count": 88,
     "metadata": {},
     "output_type": "execute_result"
    }
   ],
   "source": [
    "# test of Independence for Categorical Variables\n",
    "usf.pairColsMultiIndependenceCat(df, features)"
   ]
  },
  {
   "cell_type": "code",
   "execution_count": 89,
   "id": "745b51af-e051-4425-bf58-ed05731387c5",
   "metadata": {},
   "outputs": [],
   "source": [
    "# new feature\n",
    "df['Dialysis_CountTotal_CAN'] = df[features].apply(lambda row: sum(1 for value in row if value == 'Yes'), axis=1)\n",
    "\n",
    "# update DataFrame\n",
    "df_drop  = uf.insertIntoDataFrame(df_drop, features)\n",
    "df_don  = uf.insertIntoDataFrame(df_don, ['Dialysis_CountTotal_CAN'])\n",
    "df_ordinal  = uf.insertIntoDataFrame(df_ordinal, ['Dialysis_CountTotal_CAN'])\n",
    "\n",
    "# change datatype to category\n",
    "df = uf.toCategory(df, ['Dialysis_CountTotal_CAN'])"
   ]
  },
  {
   "cell_type": "code",
   "execution_count": 90,
   "id": "ae8ee909-6f5f-4b0e-9c51-f7a447db3c44",
   "metadata": {},
   "outputs": [
    {
     "data": {
      "text/html": [
       "<div>\n",
       "<style scoped>\n",
       "    .dataframe tbody tr th:only-of-type {\n",
       "        vertical-align: middle;\n",
       "    }\n",
       "\n",
       "    .dataframe tbody tr th {\n",
       "        vertical-align: top;\n",
       "    }\n",
       "\n",
       "    .dataframe thead th {\n",
       "        text-align: right;\n",
       "    }\n",
       "</style>\n",
       "<table border=\"1\" class=\"dataframe\">\n",
       "  <thead>\n",
       "    <tr style=\"text-align: right;\">\n",
       "      <th>Survival</th>\n",
       "      <th>Dead</th>\n",
       "      <th>Living</th>\n",
       "      <th>Row Total</th>\n",
       "      <th>Dead %</th>\n",
       "      <th>Living %</th>\n",
       "    </tr>\n",
       "    <tr>\n",
       "      <th>Dialysis_CountTotal_CAN</th>\n",
       "      <th></th>\n",
       "      <th></th>\n",
       "      <th></th>\n",
       "      <th></th>\n",
       "      <th></th>\n",
       "    </tr>\n",
       "  </thead>\n",
       "  <tbody>\n",
       "    <tr>\n",
       "      <th>0</th>\n",
       "      <td>7326.0</td>\n",
       "      <td>7878.0</td>\n",
       "      <td>15204.0</td>\n",
       "      <td>48.184688</td>\n",
       "      <td>51.815312</td>\n",
       "    </tr>\n",
       "    <tr>\n",
       "      <th>1</th>\n",
       "      <td>85.0</td>\n",
       "      <td>62.0</td>\n",
       "      <td>147.0</td>\n",
       "      <td>57.823129</td>\n",
       "      <td>42.176871</td>\n",
       "    </tr>\n",
       "    <tr>\n",
       "      <th>2</th>\n",
       "      <td>441.0</td>\n",
       "      <td>334.0</td>\n",
       "      <td>775.0</td>\n",
       "      <td>56.903226</td>\n",
       "      <td>43.096774</td>\n",
       "    </tr>\n",
       "    <tr>\n",
       "      <th>Column Total</th>\n",
       "      <td>7852.0</td>\n",
       "      <td>8274.0</td>\n",
       "      <td>16126.0</td>\n",
       "      <td>48.691554</td>\n",
       "      <td>51.308446</td>\n",
       "    </tr>\n",
       "  </tbody>\n",
       "</table>\n",
       "</div>"
      ],
      "text/plain": [
       "Survival                   Dead  Living  Row Total     Dead %   Living %\n",
       "Dialysis_CountTotal_CAN                                                 \n",
       "0                        7326.0  7878.0    15204.0  48.184688  51.815312\n",
       "1                          85.0    62.0      147.0  57.823129  42.176871\n",
       "2                         441.0   334.0      775.0  56.903226  43.096774\n",
       "Column Total             7852.0  8274.0    16126.0  48.691554  51.308446"
      ]
     },
     "execution_count": 90,
     "metadata": {},
     "output_type": "execute_result"
    }
   ],
   "source": [
    "uf.categoryContingencySurvival(df, 'Dialysis_CountTotal_CAN')"
   ]
  },
  {
   "cell_type": "markdown",
   "id": "c148d489-54a9-49a8-9718-be559966d26a",
   "metadata": {},
   "source": [
    "#### Diuretic\n",
    "- Diuretics_DON & SynthicAntiDiureticHormone_DON\n",
    "- New Feature Diuretics_Combined_DON"
   ]
  },
  {
   "cell_type": "code",
   "execution_count": 91,
   "id": "f71f911c-66ce-4645-acc5-f7379c5686c4",
   "metadata": {},
   "outputs": [
    {
     "name": "stdout",
     "output_type": "stream",
     "text": [
      "                                count unique  top   freq\n",
      "Diuretics_DON                   16126      4  Yes  11012\n",
      "SynthicAntiDiureticHormone_DON  16126      4   No  13893\n"
     ]
    }
   ],
   "source": [
    "features = getFeatureList(df, 'Diuretic')"
   ]
  },
  {
   "cell_type": "code",
   "execution_count": 92,
   "id": "d010e1e9-ccda-470c-b662-1cd2da4aaba7",
   "metadata": {},
   "outputs": [
    {
     "data": {
      "text/html": [
       "<div>\n",
       "<style scoped>\n",
       "    .dataframe tbody tr th:only-of-type {\n",
       "        vertical-align: middle;\n",
       "    }\n",
       "\n",
       "    .dataframe tbody tr th {\n",
       "        vertical-align: top;\n",
       "    }\n",
       "\n",
       "    .dataframe thead th {\n",
       "        text-align: right;\n",
       "    }\n",
       "</style>\n",
       "<table border=\"1\" class=\"dataframe\">\n",
       "  <thead>\n",
       "    <tr style=\"text-align: right;\">\n",
       "      <th></th>\n",
       "      <th>column1</th>\n",
       "      <th>column2</th>\n",
       "      <th>chi2</th>\n",
       "      <th>p_value</th>\n",
       "      <th>cramer_v</th>\n",
       "    </tr>\n",
       "  </thead>\n",
       "  <tbody>\n",
       "    <tr>\n",
       "      <th>0</th>\n",
       "      <td>Diuretics_DON</td>\n",
       "      <td>SynthicAntiDiureticHormone_DON</td>\n",
       "      <td>17203.885241</td>\n",
       "      <td>0.0</td>\n",
       "      <td>0.596334</td>\n",
       "    </tr>\n",
       "  </tbody>\n",
       "</table>\n",
       "</div>"
      ],
      "text/plain": [
       "         column1                         column2          chi2  p_value  \\\n",
       "0  Diuretics_DON  SynthicAntiDiureticHormone_DON  17203.885241      0.0   \n",
       "\n",
       "   cramer_v  \n",
       "0  0.596334  "
      ]
     },
     "execution_count": 92,
     "metadata": {},
     "output_type": "execute_result"
    }
   ],
   "source": [
    "# test of Independence for Categorical Variables\n",
    "usf.pairColsMultiIndependenceCat(df, features)"
   ]
  },
  {
   "cell_type": "code",
   "execution_count": 93,
   "id": "67727460-768c-4ad1-9a8e-c208179bafa0",
   "metadata": {},
   "outputs": [],
   "source": [
    "# new feature\n",
    "df['Diuretics_CountTotal_DON'] = df[features].apply(lambda row: sum(1 for value in row if value == 'Yes'), axis=1)\n",
    "\n",
    "# update DataFrame\n",
    "df_drop  = uf.insertIntoDataFrame(df_drop, features)\n",
    "df_don  = uf.insertIntoDataFrame(df_don, ['Diuretics_CountTotal_DON'])\n",
    "df_ordinal  = uf.insertIntoDataFrame(df_ordinal, ['Diuretics_CountTotal_DON'])\n",
    "\n",
    "# change datatype to category\n",
    "df = uf.toCategory(df, ['Diuretics_CountTotal_DON'])"
   ]
  },
  {
   "cell_type": "code",
   "execution_count": 94,
   "id": "392771ad-8e01-45ed-97f8-ffe734dd14c6",
   "metadata": {},
   "outputs": [
    {
     "data": {
      "text/html": [
       "<div>\n",
       "<style scoped>\n",
       "    .dataframe tbody tr th:only-of-type {\n",
       "        vertical-align: middle;\n",
       "    }\n",
       "\n",
       "    .dataframe tbody tr th {\n",
       "        vertical-align: top;\n",
       "    }\n",
       "\n",
       "    .dataframe thead th {\n",
       "        text-align: right;\n",
       "    }\n",
       "</style>\n",
       "<table border=\"1\" class=\"dataframe\">\n",
       "  <thead>\n",
       "    <tr style=\"text-align: right;\">\n",
       "      <th>Survival</th>\n",
       "      <th>Dead</th>\n",
       "      <th>Living</th>\n",
       "      <th>Row Total</th>\n",
       "      <th>Dead %</th>\n",
       "      <th>Living %</th>\n",
       "    </tr>\n",
       "    <tr>\n",
       "      <th>Diuretics_CountTotal_DON</th>\n",
       "      <th></th>\n",
       "      <th></th>\n",
       "      <th></th>\n",
       "      <th></th>\n",
       "      <th></th>\n",
       "    </tr>\n",
       "  </thead>\n",
       "  <tbody>\n",
       "    <tr>\n",
       "      <th>0</th>\n",
       "      <td>2447.0</td>\n",
       "      <td>2007.0</td>\n",
       "      <td>4454.0</td>\n",
       "      <td>54.939380</td>\n",
       "      <td>45.060620</td>\n",
       "    </tr>\n",
       "    <tr>\n",
       "      <th>1</th>\n",
       "      <td>4834.0</td>\n",
       "      <td>5463.0</td>\n",
       "      <td>10297.0</td>\n",
       "      <td>46.945712</td>\n",
       "      <td>53.054288</td>\n",
       "    </tr>\n",
       "    <tr>\n",
       "      <th>2</th>\n",
       "      <td>571.0</td>\n",
       "      <td>804.0</td>\n",
       "      <td>1375.0</td>\n",
       "      <td>41.527273</td>\n",
       "      <td>58.472727</td>\n",
       "    </tr>\n",
       "    <tr>\n",
       "      <th>Column Total</th>\n",
       "      <td>7852.0</td>\n",
       "      <td>8274.0</td>\n",
       "      <td>16126.0</td>\n",
       "      <td>48.691554</td>\n",
       "      <td>51.308446</td>\n",
       "    </tr>\n",
       "  </tbody>\n",
       "</table>\n",
       "</div>"
      ],
      "text/plain": [
       "Survival                    Dead  Living  Row Total     Dead %   Living %\n",
       "Diuretics_CountTotal_DON                                                 \n",
       "0                         2447.0  2007.0     4454.0  54.939380  45.060620\n",
       "1                         4834.0  5463.0    10297.0  46.945712  53.054288\n",
       "2                          571.0   804.0     1375.0  41.527273  58.472727\n",
       "Column Total              7852.0  8274.0    16126.0  48.691554  51.308446"
      ]
     },
     "execution_count": 94,
     "metadata": {},
     "output_type": "execute_result"
    }
   ],
   "source": [
    "uf.categoryContingencySurvival(df, 'Diuretics_CountTotal_DON')"
   ]
  },
  {
   "cell_type": "markdown",
   "id": "9590354c-e5ba-472e-9874-a409f34614fb",
   "metadata": {},
   "source": [
    "#### EducationLevel_CAN"
   ]
  },
  {
   "cell_type": "code",
   "execution_count": 95,
   "id": "bedb9a8b-2c1a-408e-bdbf-69a816304f0d",
   "metadata": {},
   "outputs": [
    {
     "name": "stdout",
     "output_type": "stream",
     "text": [
      "                    count unique                        top  freq\n",
      "EducationLevel_CAN  16126      8  HIGH SCHOOL (9-12) or GED  5798\n"
     ]
    }
   ],
   "source": [
    "features = getFeatureList(df, 'Education')"
   ]
  },
  {
   "cell_type": "code",
   "execution_count": 96,
   "id": "989bb61b-5ed2-418d-8261-17e3fdba2b9f",
   "metadata": {},
   "outputs": [
    {
     "name": "stdout",
     "output_type": "stream",
     "text": [
      "Survival                             Dead  Living  Row Total      Dead %   Living %\n",
      "EducationLevel_CAN                                                                 \n",
      "ASSOCIATE/BACHELOR DEGREE          1662.0  1744.0     3406.0   48.796242  51.203758\n",
      "ATTENDED COLLEGE/TECHNICAL SCHOOL  2025.0  2278.0     4303.0   47.060191  52.939809\n",
      "GRADE SCHOOL (0-8)                  224.0   262.0      486.0   46.090535  53.909465\n",
      "HIGH SCHOOL (9-12) or GED          2794.0  3004.0     5798.0   48.189031  51.810969\n",
      "Missing                              74.0     0.0       74.0  100.000000   0.000000\n",
      "NONE                                 18.0    20.0       38.0   47.368421  52.631579\n",
      "POST-COLLEGE GRADUATE DEGREE        718.0   793.0     1511.0   47.518200  52.481800\n",
      "UNKNOWN                             337.0   173.0      510.0   66.078431  33.921569\n",
      "Column Total                       7852.0  8274.0    16126.0   48.691554  51.308446\n",
      "\n",
      "\n"
     ]
    }
   ],
   "source": [
    "for col in features:\n",
    "    print(uf.categoryContingencySurvival(df, col).to_string())\n",
    "    print(\"\\n\")"
   ]
  },
  {
   "cell_type": "markdown",
   "id": "99467274-6583-4e72-8407-763e00beee75",
   "metadata": {},
   "source": [
    "#### EpsteinBarr\n",
    "- EpsteinBarrSeroStatusTransplant_CAN & EpsteinBarr_IGG_DON & EpsteinBarr_IGM_DON\n",
    "- These differences make EpsteinBarr_IGG_DON and EpsteinBarr_IGM_DON complementary markers for diagnosing and staging Epstein-Barr virus infections in donors."
   ]
  },
  {
   "cell_type": "code",
   "execution_count": 97,
   "id": "44cc170e-48e6-459f-8ca3-da2b41cfae95",
   "metadata": {},
   "outputs": [
    {
     "name": "stdout",
     "output_type": "stream",
     "text": [
      "                                     count unique       top   freq\n",
      "EpsteinBarrSeroStatusTransplant_CAN  16126      4  Positive  13466\n",
      "EpsteinBarr_IGG_DON                  16126      5  Positive  14269\n",
      "EpsteinBarr_IGM_DON                  16126      5  Negative  12673\n"
     ]
    }
   ],
   "source": [
    "features = getFeatureList(df, 'EpsteinBarr')"
   ]
  },
  {
   "cell_type": "code",
   "execution_count": 98,
   "id": "b184e222-50de-4036-afb4-2b4530d61273",
   "metadata": {},
   "outputs": [
    {
     "data": {
      "text/html": [
       "<div>\n",
       "<style scoped>\n",
       "    .dataframe tbody tr th:only-of-type {\n",
       "        vertical-align: middle;\n",
       "    }\n",
       "\n",
       "    .dataframe tbody tr th {\n",
       "        vertical-align: top;\n",
       "    }\n",
       "\n",
       "    .dataframe thead th {\n",
       "        text-align: right;\n",
       "    }\n",
       "</style>\n",
       "<table border=\"1\" class=\"dataframe\">\n",
       "  <thead>\n",
       "    <tr style=\"text-align: right;\">\n",
       "      <th></th>\n",
       "      <th>column1</th>\n",
       "      <th>column2</th>\n",
       "      <th>chi2</th>\n",
       "      <th>p_value</th>\n",
       "      <th>cramer_v</th>\n",
       "    </tr>\n",
       "  </thead>\n",
       "  <tbody>\n",
       "    <tr>\n",
       "      <th>2</th>\n",
       "      <td>EpsteinBarr_IGG_DON</td>\n",
       "      <td>EpsteinBarr_IGM_DON</td>\n",
       "      <td>10545.634490</td>\n",
       "      <td>0.000000</td>\n",
       "      <td>0.404337</td>\n",
       "    </tr>\n",
       "    <tr>\n",
       "      <th>0</th>\n",
       "      <td>EpsteinBarrSeroStatusTransplant_CAN</td>\n",
       "      <td>EpsteinBarr_IGG_DON</td>\n",
       "      <td>28.176229</td>\n",
       "      <td>0.005213</td>\n",
       "      <td>0.024133</td>\n",
       "    </tr>\n",
       "    <tr>\n",
       "      <th>1</th>\n",
       "      <td>EpsteinBarrSeroStatusTransplant_CAN</td>\n",
       "      <td>EpsteinBarr_IGM_DON</td>\n",
       "      <td>20.723804</td>\n",
       "      <td>0.054574</td>\n",
       "      <td>0.020697</td>\n",
       "    </tr>\n",
       "  </tbody>\n",
       "</table>\n",
       "</div>"
      ],
      "text/plain": [
       "                               column1              column2          chi2  \\\n",
       "2                  EpsteinBarr_IGG_DON  EpsteinBarr_IGM_DON  10545.634490   \n",
       "0  EpsteinBarrSeroStatusTransplant_CAN  EpsteinBarr_IGG_DON     28.176229   \n",
       "1  EpsteinBarrSeroStatusTransplant_CAN  EpsteinBarr_IGM_DON     20.723804   \n",
       "\n",
       "    p_value  cramer_v  \n",
       "2  0.000000  0.404337  \n",
       "0  0.005213  0.024133  \n",
       "1  0.054574  0.020697  "
      ]
     },
     "execution_count": 98,
     "metadata": {},
     "output_type": "execute_result"
    }
   ],
   "source": [
    "# test of Independence for Categorical Variables\n",
    "usf.pairColsMultiIndependenceCat(df, features)"
   ]
  },
  {
   "cell_type": "code",
   "execution_count": 99,
   "id": "70455b09-5770-4306-9410-72bd31e9ce9a",
   "metadata": {},
   "outputs": [
    {
     "name": "stdout",
     "output_type": "stream",
     "text": [
      "Survival                               Dead  Living  Row Total     Dead %   Living %\n",
      "EpsteinBarrSeroStatusTransplant_CAN                                                 \n",
      "Missing/Unknown                       448.0    57.0      505.0  88.712871  11.287129\n",
      "Negative                              724.0   773.0     1497.0  48.363393  51.636607\n",
      "Not Done                              251.0   407.0      658.0  38.145897  61.854103\n",
      "Positive                             6429.0  7037.0    13466.0  47.742462  52.257538\n",
      "Column Total                         7852.0  8274.0    16126.0  48.691554  51.308446\n",
      "\n",
      "\n",
      "Survival               Dead  Living  Row Total     Dead %   Living %\n",
      "EpsteinBarr_IGG_DON                                                 \n",
      "Indeterminate          71.0    44.0      115.0  61.739130  38.260870\n",
      "Missing/Unknown         9.0    10.0       19.0  47.368421  52.631579\n",
      "Negative              555.0   529.0     1084.0  51.199262  48.800738\n",
      "Not Done              268.0   371.0      639.0  41.940532  58.059468\n",
      "Positive             6949.0  7320.0    14269.0  48.699979  51.300021\n",
      "Column Total         7852.0  8274.0    16126.0  48.691554  51.308446\n",
      "\n",
      "\n",
      "Survival               Dead  Living  Row Total     Dead %   Living %\n",
      "EpsteinBarr_IGM_DON                                                 \n",
      "Indeterminate          23.0    17.0       40.0  57.500000  42.500000\n",
      "Missing/Unknown         9.0    11.0       20.0  45.000000  55.000000\n",
      "Negative             6249.0  6424.0    12673.0  49.309556  50.690444\n",
      "Not Done             1454.0  1725.0     3179.0  45.737653  54.262347\n",
      "Positive              117.0    97.0      214.0  54.672897  45.327103\n",
      "Column Total         7852.0  8274.0    16126.0  48.691554  51.308446\n",
      "\n",
      "\n"
     ]
    }
   ],
   "source": [
    "for col in features:\n",
    "    print(uf.categoryContingencySurvival(df, col).to_string())\n",
    "    print(\"\\n\")"
   ]
  },
  {
   "cell_type": "code",
   "execution_count": 100,
   "id": "b223b965-81b6-459a-af75-55247849d38c",
   "metadata": {},
   "outputs": [],
   "source": [
    "def combine_EpsteinBarrDON(left, right):\n",
    "    if left.startswith('Positive') or right.startswith('Positive'):\n",
    "        return 'Positive'\n",
    "    elif left.startswith('Indeterminate') or right.startswith('Indeterminate'):\n",
    "        return 'Indeterminate' \n",
    "    elif left == 'Negative' and right == 'Negative':\n",
    "        return 'Negative'\n",
    "    elif left.startswith('Not') and right.startswith('Not'):\n",
    "        return 'Negative'\n",
    "    else:\n",
    "        return 'Missing/Unknown'"
   ]
  },
  {
   "cell_type": "code",
   "execution_count": 101,
   "id": "c741489f-948c-4aef-a3f4-f7a634ade16d",
   "metadata": {},
   "outputs": [],
   "source": [
    "# get features\n",
    "features = ['EpsteinBarr_IGG_DON', 'EpsteinBarr_IGM_DON']\n",
    "\n",
    "# new feature\n",
    "df['EpsteinBarr_Combined_DON'] = df[features].apply(lambda row: combine_EpsteinBarrDON(row['EpsteinBarr_IGG_DON'], row['EpsteinBarr_IGM_DON']), axis=1)\n",
    "\n",
    "# update DataFrame\n",
    "df_drop  = uf.insertIntoDataFrame(df_drop, features)\n",
    "df_don  = uf.insertIntoDataFrame(df_don, ['EpsteinBarr_Combined_DON'])\n",
    "df_nominal  = uf.insertIntoDataFrame(df_nominal, ['EpsteinBarr_Combined_DON'])\n",
    "\n",
    "# convert to category\n",
    "df = uf.toCategory(df, ['EpsteinBarr_Combined_DON'])"
   ]
  },
  {
   "cell_type": "code",
   "execution_count": 102,
   "id": "4767efa4-7f6f-47e0-8ddd-83af6293e317",
   "metadata": {},
   "outputs": [
    {
     "data": {
      "text/html": [
       "<div>\n",
       "<style scoped>\n",
       "    .dataframe tbody tr th:only-of-type {\n",
       "        vertical-align: middle;\n",
       "    }\n",
       "\n",
       "    .dataframe tbody tr th {\n",
       "        vertical-align: top;\n",
       "    }\n",
       "\n",
       "    .dataframe thead th {\n",
       "        text-align: right;\n",
       "    }\n",
       "</style>\n",
       "<table border=\"1\" class=\"dataframe\">\n",
       "  <thead>\n",
       "    <tr style=\"text-align: right;\">\n",
       "      <th>Survival</th>\n",
       "      <th>Dead</th>\n",
       "      <th>Living</th>\n",
       "      <th>Row Total</th>\n",
       "      <th>Dead %</th>\n",
       "      <th>Living %</th>\n",
       "    </tr>\n",
       "    <tr>\n",
       "      <th>EpsteinBarr_Combined_DON</th>\n",
       "      <th></th>\n",
       "      <th></th>\n",
       "      <th></th>\n",
       "      <th></th>\n",
       "      <th></th>\n",
       "    </tr>\n",
       "  </thead>\n",
       "  <tbody>\n",
       "    <tr>\n",
       "      <th>Indeterminate</th>\n",
       "      <td>71.0</td>\n",
       "      <td>44.0</td>\n",
       "      <td>115.0</td>\n",
       "      <td>61.739130</td>\n",
       "      <td>38.260870</td>\n",
       "    </tr>\n",
       "    <tr>\n",
       "      <th>Missing/Unknown</th>\n",
       "      <td>169.0</td>\n",
       "      <td>275.0</td>\n",
       "      <td>444.0</td>\n",
       "      <td>38.063063</td>\n",
       "      <td>61.936937</td>\n",
       "    </tr>\n",
       "    <tr>\n",
       "      <th>Negative</th>\n",
       "      <td>655.0</td>\n",
       "      <td>630.0</td>\n",
       "      <td>1285.0</td>\n",
       "      <td>50.972763</td>\n",
       "      <td>49.027237</td>\n",
       "    </tr>\n",
       "    <tr>\n",
       "      <th>Positive</th>\n",
       "      <td>6957.0</td>\n",
       "      <td>7325.0</td>\n",
       "      <td>14282.0</td>\n",
       "      <td>48.711665</td>\n",
       "      <td>51.288335</td>\n",
       "    </tr>\n",
       "    <tr>\n",
       "      <th>Column Total</th>\n",
       "      <td>7852.0</td>\n",
       "      <td>8274.0</td>\n",
       "      <td>16126.0</td>\n",
       "      <td>48.691554</td>\n",
       "      <td>51.308446</td>\n",
       "    </tr>\n",
       "  </tbody>\n",
       "</table>\n",
       "</div>"
      ],
      "text/plain": [
       "Survival                    Dead  Living  Row Total     Dead %   Living %\n",
       "EpsteinBarr_Combined_DON                                                 \n",
       "Indeterminate               71.0    44.0      115.0  61.739130  38.260870\n",
       "Missing/Unknown            169.0   275.0      444.0  38.063063  61.936937\n",
       "Negative                   655.0   630.0     1285.0  50.972763  49.027237\n",
       "Positive                  6957.0  7325.0    14282.0  48.711665  51.288335\n",
       "Column Total              7852.0  8274.0    16126.0  48.691554  51.308446"
      ]
     },
     "execution_count": 102,
     "metadata": {},
     "output_type": "execute_result"
    }
   ],
   "source": [
    "uf.categoryContingencySurvival(df, 'EpsteinBarr_Combined_DON')"
   ]
  },
  {
   "cell_type": "markdown",
   "id": "535779c9-597b-4203-a057-42accb390171",
   "metadata": {},
   "source": [
    "#### Ethnicity"
   ]
  },
  {
   "cell_type": "code",
   "execution_count": 103,
   "id": "74d09c3e-17c0-4289-abb4-e406bb26a3f2",
   "metadata": {},
   "outputs": [
    {
     "name": "stdout",
     "output_type": "stream",
     "text": [
      "               count unique                      top   freq\n",
      "Hispanic_CAN   16126      2  Non-Hispanic/Non-Latino  14583\n",
      "Ethnicity_CAN  16126      7      White, Non-Hispanic  10002\n",
      "Ethnicity_DON  16126      7      White, Non-Hispanic  10211\n"
     ]
    }
   ],
   "source": [
    "features = getFeatureList(df, 'Ethnicity|Hispani')"
   ]
  },
  {
   "cell_type": "code",
   "execution_count": 104,
   "id": "b38ad2de-0ac4-4367-930f-003fa3a2ef45",
   "metadata": {},
   "outputs": [
    {
     "data": {
      "text/html": [
       "<div>\n",
       "<style scoped>\n",
       "    .dataframe tbody tr th:only-of-type {\n",
       "        vertical-align: middle;\n",
       "    }\n",
       "\n",
       "    .dataframe tbody tr th {\n",
       "        vertical-align: top;\n",
       "    }\n",
       "\n",
       "    .dataframe thead th {\n",
       "        text-align: right;\n",
       "    }\n",
       "</style>\n",
       "<table border=\"1\" class=\"dataframe\">\n",
       "  <thead>\n",
       "    <tr style=\"text-align: right;\">\n",
       "      <th></th>\n",
       "      <th>column1</th>\n",
       "      <th>column2</th>\n",
       "      <th>chi2</th>\n",
       "      <th>p_value</th>\n",
       "      <th>cramer_v</th>\n",
       "    </tr>\n",
       "  </thead>\n",
       "  <tbody>\n",
       "    <tr>\n",
       "      <th>0</th>\n",
       "      <td>Hispanic_CAN</td>\n",
       "      <td>Ethnicity_CAN</td>\n",
       "      <td>15942.519677</td>\n",
       "      <td>0.000000e+00</td>\n",
       "      <td>0.994295</td>\n",
       "    </tr>\n",
       "    <tr>\n",
       "      <th>1</th>\n",
       "      <td>Hispanic_CAN</td>\n",
       "      <td>Ethnicity_DON</td>\n",
       "      <td>191.573778</td>\n",
       "      <td>1.177422e-38</td>\n",
       "      <td>0.108995</td>\n",
       "    </tr>\n",
       "    <tr>\n",
       "      <th>2</th>\n",
       "      <td>Ethnicity_CAN</td>\n",
       "      <td>Ethnicity_DON</td>\n",
       "      <td>356.147361</td>\n",
       "      <td>2.606182e-54</td>\n",
       "      <td>0.060670</td>\n",
       "    </tr>\n",
       "  </tbody>\n",
       "</table>\n",
       "</div>"
      ],
      "text/plain": [
       "         column1        column2          chi2       p_value  cramer_v\n",
       "0   Hispanic_CAN  Ethnicity_CAN  15942.519677  0.000000e+00  0.994295\n",
       "1   Hispanic_CAN  Ethnicity_DON    191.573778  1.177422e-38  0.108995\n",
       "2  Ethnicity_CAN  Ethnicity_DON    356.147361  2.606182e-54  0.060670"
      ]
     },
     "execution_count": 104,
     "metadata": {},
     "output_type": "execute_result"
    }
   ],
   "source": [
    "# test of Independence for Categorical Variables\n",
    "usf.pairColsMultiIndependenceCat(df, features)"
   ]
  },
  {
   "cell_type": "code",
   "execution_count": 105,
   "id": "951cccb2-357b-488e-80eb-aa687a505838",
   "metadata": {},
   "outputs": [
    {
     "name": "stdout",
     "output_type": "stream",
     "text": [
      "Survival                   Dead  Living  Row Total     Dead %   Living %\n",
      "Hispanic_CAN                                                            \n",
      "Hispanic/Latino           794.0   749.0     1543.0  51.458198  48.541802\n",
      "Non-Hispanic/Non-Latino  7058.0  7525.0    14583.0  48.398821  51.601179\n",
      "Column Total             7852.0  8274.0    16126.0  48.691554  51.308446\n",
      "\n",
      "\n",
      "Survival                                  Dead  Living  Row Total     Dead %   Living %\n",
      "Ethnicity_CAN                                                                          \n",
      "Amer Ind/Alaska Native                    25.0    22.0       47.0  53.191489  46.808511\n",
      "Asian                                    310.0   317.0      627.0  49.441786  50.558214\n",
      "Black                                   1909.0  1862.0     3771.0  50.623177  49.376823\n",
      "Hispanic                                 784.0   739.0     1523.0  51.477347  48.522653\n",
      "Multiracial                               52.0    45.0       97.0  53.608247  46.391753\n",
      "Native Hawaiian/other Pacific Islander    26.0    33.0       59.0  44.067797  55.932203\n",
      "White, Non-Hispanic                     4746.0  5256.0    10002.0  47.450510  52.549490\n",
      "Column Total                            7852.0  8274.0    16126.0  48.691554  51.308446\n",
      "\n",
      "\n",
      "Survival                                  Dead  Living  Row Total     Dead %   Living %\n",
      "Ethnicity_DON                                                                          \n",
      "Amer Ind/Alaska Native                    56.0    47.0      103.0  54.368932  45.631068\n",
      "Asian                                    128.0   139.0      267.0  47.940075  52.059925\n",
      "Black                                   1270.0  1320.0     2590.0  49.034749  50.965251\n",
      "Hispanic                                1414.0  1361.0     2775.0  50.954955  49.045045\n",
      "Multiracial                               66.0    79.0      145.0  45.517241  54.482759\n",
      "Native Hawaiian/other Pacific Islander    13.0    22.0       35.0  37.142857  62.857143\n",
      "White, Non-Hispanic                     4905.0  5306.0    10211.0  48.036431  51.963569\n",
      "Column Total                            7852.0  8274.0    16126.0  48.691554  51.308446\n",
      "\n",
      "\n"
     ]
    }
   ],
   "source": [
    "for col in features:\n",
    "    print(uf.categoryContingencySurvival(df, col).to_string())\n",
    "    print(\"\\n\")"
   ]
  },
  {
   "cell_type": "code",
   "execution_count": 106,
   "id": "d4be486c-017d-4215-8d12-84bf4d01862a",
   "metadata": {},
   "outputs": [],
   "source": [
    "# update DataFrame\n",
    "df_drop  = uf.insertIntoDataFrame(df_drop, ['Hispanic_CAN'])"
   ]
  },
  {
   "cell_type": "markdown",
   "id": "b5ffa48f-5e5c-4f45-99af-734a75809fd1",
   "metadata": {},
   "source": [
    "#### Gender\n",
    "- New Feature Gender_Difference"
   ]
  },
  {
   "cell_type": "code",
   "execution_count": 107,
   "id": "725d3eed-a02a-4279-81e5-6f24eb9425ad",
   "metadata": {},
   "outputs": [
    {
     "name": "stdout",
     "output_type": "stream",
     "text": [
      "            count unique top   freq\n",
      "Gender_CAN  16126      2   M  11717\n",
      "Gender_DON  16126      2   M  11394\n"
     ]
    }
   ],
   "source": [
    "features = getFeatureList(df, 'Gender')"
   ]
  },
  {
   "cell_type": "code",
   "execution_count": 108,
   "id": "6623f687-4e8d-4b39-8190-f1235323671b",
   "metadata": {},
   "outputs": [
    {
     "data": {
      "text/html": [
       "<div>\n",
       "<style scoped>\n",
       "    .dataframe tbody tr th:only-of-type {\n",
       "        vertical-align: middle;\n",
       "    }\n",
       "\n",
       "    .dataframe tbody tr th {\n",
       "        vertical-align: top;\n",
       "    }\n",
       "\n",
       "    .dataframe thead th {\n",
       "        text-align: right;\n",
       "    }\n",
       "</style>\n",
       "<table border=\"1\" class=\"dataframe\">\n",
       "  <thead>\n",
       "    <tr style=\"text-align: right;\">\n",
       "      <th></th>\n",
       "      <th>column1</th>\n",
       "      <th>column2</th>\n",
       "      <th>chi2</th>\n",
       "      <th>p_value</th>\n",
       "      <th>cramer_v</th>\n",
       "    </tr>\n",
       "  </thead>\n",
       "  <tbody>\n",
       "    <tr>\n",
       "      <th>0</th>\n",
       "      <td>Gender_CAN</td>\n",
       "      <td>Gender_DON</td>\n",
       "      <td>3221.282943</td>\n",
       "      <td>0.0</td>\n",
       "      <td>0.446942</td>\n",
       "    </tr>\n",
       "  </tbody>\n",
       "</table>\n",
       "</div>"
      ],
      "text/plain": [
       "      column1     column2         chi2  p_value  cramer_v\n",
       "0  Gender_CAN  Gender_DON  3221.282943      0.0  0.446942"
      ]
     },
     "execution_count": 108,
     "metadata": {},
     "output_type": "execute_result"
    }
   ],
   "source": [
    "# test of Independence for Categorical Variables\n",
    "usf.pairColsMultiIndependenceCat(df, features)"
   ]
  },
  {
   "cell_type": "code",
   "execution_count": 109,
   "id": "a967829d-a301-409d-994c-8ae4820619ae",
   "metadata": {},
   "outputs": [
    {
     "name": "stdout",
     "output_type": "stream",
     "text": [
      "Survival        Dead  Living  Row Total     Dead %   Living %\n",
      "Gender_CAN                                                   \n",
      "F             2081.0  2328.0     4409.0  47.198911  52.801089\n",
      "M             5771.0  5946.0    11717.0  49.253222  50.746778\n",
      "Column Total  7852.0  8274.0    16126.0  48.691554  51.308446\n",
      "\n",
      "\n",
      "Survival        Dead  Living  Row Total     Dead %   Living %\n",
      "Gender_DON                                                   \n",
      "F             2189.0  2543.0     4732.0  46.259510  53.740490\n",
      "M             5663.0  5731.0    11394.0  49.701597  50.298403\n",
      "Column Total  7852.0  8274.0    16126.0  48.691554  51.308446\n",
      "\n",
      "\n"
     ]
    }
   ],
   "source": [
    "for col in features:\n",
    "    print(uf.categoryContingencySurvival(df, col).to_string())\n",
    "    print(\"\\n\")"
   ]
  },
  {
   "cell_type": "code",
   "execution_count": 110,
   "id": "e4b2eb77-6a39-435c-b3b8-0917a22200e6",
   "metadata": {},
   "outputs": [],
   "source": [
    "# create New Feature (True = 1 & False = 0)\n",
    "df['Geder_Difference'] = (df.Gender_CAN == df.Gender_DON).astype(int)\n",
    "\n",
    "# update DataFrame\n",
    "df_drop  = uf.insertIntoDataFrame(df_drop, features)\n",
    "df_nominal = uf.insertIntoDataFrame(df_nominal, ['Geder_Difference'])\n",
    "df_both = uf.insertIntoDataFrame(df_both, ['Geder_Difference'])\n",
    "\n",
    "# convert to category\n",
    "df = uf.toCategory(df, ['Geder_Difference']).copy()"
   ]
  },
  {
   "cell_type": "code",
   "execution_count": 111,
   "id": "54f56bc3-9fc2-4428-871d-7849a9a27f44",
   "metadata": {},
   "outputs": [
    {
     "data": {
      "text/html": [
       "<div>\n",
       "<style scoped>\n",
       "    .dataframe tbody tr th:only-of-type {\n",
       "        vertical-align: middle;\n",
       "    }\n",
       "\n",
       "    .dataframe tbody tr th {\n",
       "        vertical-align: top;\n",
       "    }\n",
       "\n",
       "    .dataframe thead th {\n",
       "        text-align: right;\n",
       "    }\n",
       "</style>\n",
       "<table border=\"1\" class=\"dataframe\">\n",
       "  <thead>\n",
       "    <tr style=\"text-align: right;\">\n",
       "      <th>Survival</th>\n",
       "      <th>Dead</th>\n",
       "      <th>Living</th>\n",
       "      <th>Row Total</th>\n",
       "      <th>Dead %</th>\n",
       "      <th>Living %</th>\n",
       "    </tr>\n",
       "    <tr>\n",
       "      <th>Geder_Difference</th>\n",
       "      <th></th>\n",
       "      <th></th>\n",
       "      <th></th>\n",
       "      <th></th>\n",
       "      <th></th>\n",
       "    </tr>\n",
       "  </thead>\n",
       "  <tbody>\n",
       "    <tr>\n",
       "      <th>0</th>\n",
       "      <td>1690.0</td>\n",
       "      <td>1937.0</td>\n",
       "      <td>3627.0</td>\n",
       "      <td>46.594982</td>\n",
       "      <td>53.405018</td>\n",
       "    </tr>\n",
       "    <tr>\n",
       "      <th>1</th>\n",
       "      <td>6162.0</td>\n",
       "      <td>6337.0</td>\n",
       "      <td>12499.0</td>\n",
       "      <td>49.299944</td>\n",
       "      <td>50.700056</td>\n",
       "    </tr>\n",
       "    <tr>\n",
       "      <th>Column Total</th>\n",
       "      <td>7852.0</td>\n",
       "      <td>8274.0</td>\n",
       "      <td>16126.0</td>\n",
       "      <td>48.691554</td>\n",
       "      <td>51.308446</td>\n",
       "    </tr>\n",
       "  </tbody>\n",
       "</table>\n",
       "</div>"
      ],
      "text/plain": [
       "Survival            Dead  Living  Row Total     Dead %   Living %\n",
       "Geder_Difference                                                 \n",
       "0                 1690.0  1937.0     3627.0  46.594982  53.405018\n",
       "1                 6162.0  6337.0    12499.0  49.299944  50.700056\n",
       "Column Total      7852.0  8274.0    16126.0  48.691554  51.308446"
      ]
     },
     "execution_count": 111,
     "metadata": {},
     "output_type": "execute_result"
    }
   ],
   "source": [
    "uf.categoryContingencySurvival(df, 'Geder_Difference')"
   ]
  },
  {
   "cell_type": "markdown",
   "id": "f85b81f7-1396-4d9e-87fb-a2f4c63d476d",
   "metadata": {
    "jp-MarkdownHeadingCollapsed": true
   },
   "source": [
    "#### HBV\n",
    "- HBV_NAT_Result_CAN & HBV_NAT_Result_DON & SurfaceHBVAntibodyTotalTransplant_CAN"
   ]
  },
  {
   "cell_type": "code",
   "execution_count": 112,
   "id": "1409b5f7-6a75-44cf-a4ae-0d0c266b9cab",
   "metadata": {},
   "outputs": [
    {
     "name": "stdout",
     "output_type": "stream",
     "text": [
      "                                       count unique       top   freq\n",
      "SurfaceHBVAntibodyTotalTransplant_CAN  16126      4  Negative  10565\n",
      "HBV_NAT_Result_CAN                     16126      4  Not Done  10044\n",
      "HBV_NAT_Result_DON                     16126      4  Negative  16083\n"
     ]
    }
   ],
   "source": [
    "features = getFeatureList(df, 'HBV')"
   ]
  },
  {
   "cell_type": "code",
   "execution_count": 113,
   "id": "4311f9ec-f3e0-44e5-b833-e488603a0002",
   "metadata": {},
   "outputs": [
    {
     "data": {
      "text/html": [
       "<div>\n",
       "<style scoped>\n",
       "    .dataframe tbody tr th:only-of-type {\n",
       "        vertical-align: middle;\n",
       "    }\n",
       "\n",
       "    .dataframe tbody tr th {\n",
       "        vertical-align: top;\n",
       "    }\n",
       "\n",
       "    .dataframe thead th {\n",
       "        text-align: right;\n",
       "    }\n",
       "</style>\n",
       "<table border=\"1\" class=\"dataframe\">\n",
       "  <thead>\n",
       "    <tr style=\"text-align: right;\">\n",
       "      <th></th>\n",
       "      <th>column1</th>\n",
       "      <th>column2</th>\n",
       "      <th>chi2</th>\n",
       "      <th>p_value</th>\n",
       "      <th>cramer_v</th>\n",
       "    </tr>\n",
       "  </thead>\n",
       "  <tbody>\n",
       "    <tr>\n",
       "      <th>0</th>\n",
       "      <td>SurfaceHBVAntibodyTotalTransplant_CAN</td>\n",
       "      <td>HBV_NAT_Result_CAN</td>\n",
       "      <td>748.167735</td>\n",
       "      <td>3.028721e-155</td>\n",
       "      <td>0.124359</td>\n",
       "    </tr>\n",
       "    <tr>\n",
       "      <th>2</th>\n",
       "      <td>HBV_NAT_Result_CAN</td>\n",
       "      <td>HBV_NAT_Result_DON</td>\n",
       "      <td>269.392553</td>\n",
       "      <td>7.954225e-53</td>\n",
       "      <td>0.074622</td>\n",
       "    </tr>\n",
       "    <tr>\n",
       "      <th>1</th>\n",
       "      <td>SurfaceHBVAntibodyTotalTransplant_CAN</td>\n",
       "      <td>HBV_NAT_Result_DON</td>\n",
       "      <td>10.957194</td>\n",
       "      <td>2.786545e-01</td>\n",
       "      <td>0.015050</td>\n",
       "    </tr>\n",
       "  </tbody>\n",
       "</table>\n",
       "</div>"
      ],
      "text/plain": [
       "                                 column1             column2        chi2  \\\n",
       "0  SurfaceHBVAntibodyTotalTransplant_CAN  HBV_NAT_Result_CAN  748.167735   \n",
       "2                     HBV_NAT_Result_CAN  HBV_NAT_Result_DON  269.392553   \n",
       "1  SurfaceHBVAntibodyTotalTransplant_CAN  HBV_NAT_Result_DON   10.957194   \n",
       "\n",
       "         p_value  cramer_v  \n",
       "0  3.028721e-155  0.124359  \n",
       "2   7.954225e-53  0.074622  \n",
       "1   2.786545e-01  0.015050  "
      ]
     },
     "execution_count": 113,
     "metadata": {},
     "output_type": "execute_result"
    }
   ],
   "source": [
    "# test of Independence for Categorical Variables\n",
    "usf.pairColsMultiIndependenceCat(df, features)"
   ]
  },
  {
   "cell_type": "code",
   "execution_count": 114,
   "id": "c4576ed3-a55e-40c5-9142-7888444e89f8",
   "metadata": {},
   "outputs": [
    {
     "name": "stdout",
     "output_type": "stream",
     "text": [
      "Survival                                 Dead  Living  Row Total     Dead %   Living %\n",
      "SurfaceHBVAntibodyTotalTransplant_CAN                                                 \n",
      "Missing/Unknown                         632.0   358.0      990.0  63.838384  36.161616\n",
      "Negative                               4890.0  5675.0    10565.0  46.284903  53.715097\n",
      "Not Done                                182.0   405.0      587.0  31.005111  68.994889\n",
      "Positive                               2148.0  1836.0     3984.0  53.915663  46.084337\n",
      "Column Total                           7852.0  8274.0    16126.0  48.691554  51.308446\n",
      "\n",
      "\n",
      "Survival              Dead  Living  Row Total     Dead %   Living %\n",
      "HBV_NAT_Result_CAN                                                 \n",
      "Missing/Unknown      810.0  3004.0     3814.0  21.237546  78.762454\n",
      "Negative            1422.0   824.0     2246.0  63.312556  36.687444\n",
      "Not Done            5603.0  4441.0    10044.0  55.784548  44.215452\n",
      "Positive              17.0     5.0       22.0  77.272727  22.727273\n",
      "Column Total        7852.0  8274.0    16126.0  48.691554  51.308446\n",
      "\n",
      "\n",
      "Survival              Dead  Living  Row Total     Dead %   Living %\n",
      "HBV_NAT_Result_DON                                                 \n",
      "Missing/Unknown        1.0     3.0        4.0  25.000000  75.000000\n",
      "Negative            7840.0  8243.0    16083.0  48.747124  51.252876\n",
      "Not Done               4.0    23.0       27.0  14.814815  85.185185\n",
      "Positive               7.0     5.0       12.0  58.333333  41.666667\n",
      "Column Total        7852.0  8274.0    16126.0  48.691554  51.308446\n",
      "\n",
      "\n"
     ]
    }
   ],
   "source": [
    "for col in features:\n",
    "    print(uf.categoryContingencySurvival(df, col).to_string())\n",
    "    print(\"\\n\")"
   ]
  },
  {
   "cell_type": "markdown",
   "id": "64c1a7bc-a1cc-4df7-9a00-fe63627343d2",
   "metadata": {
    "jp-MarkdownHeadingCollapsed": true
   },
   "source": [
    "#### HCV\n",
    "- HCV_NAT_PreTranspant_CAN & HCV_NAT_Result_DON"
   ]
  },
  {
   "cell_type": "code",
   "execution_count": 115,
   "id": "8f88c2b6-9d20-407b-ac03-c0451f714a8d",
   "metadata": {},
   "outputs": [
    {
     "name": "stdout",
     "output_type": "stream",
     "text": [
      "                          count unique       top   freq\n",
      "HCV_NAT_PreTranspant_CAN  16126      4  Not Done   9397\n",
      "HCV_NAT_Result_DON        16126      4  Negative  15223\n"
     ]
    }
   ],
   "source": [
    "features = getFeatureList(df, 'HCV')"
   ]
  },
  {
   "cell_type": "code",
   "execution_count": 116,
   "id": "10d7f5b0-d732-457f-9e47-049d567030c8",
   "metadata": {},
   "outputs": [
    {
     "data": {
      "text/html": [
       "<div>\n",
       "<style scoped>\n",
       "    .dataframe tbody tr th:only-of-type {\n",
       "        vertical-align: middle;\n",
       "    }\n",
       "\n",
       "    .dataframe tbody tr th {\n",
       "        vertical-align: top;\n",
       "    }\n",
       "\n",
       "    .dataframe thead th {\n",
       "        text-align: right;\n",
       "    }\n",
       "</style>\n",
       "<table border=\"1\" class=\"dataframe\">\n",
       "  <thead>\n",
       "    <tr style=\"text-align: right;\">\n",
       "      <th></th>\n",
       "      <th>column1</th>\n",
       "      <th>column2</th>\n",
       "      <th>chi2</th>\n",
       "      <th>p_value</th>\n",
       "      <th>cramer_v</th>\n",
       "    </tr>\n",
       "  </thead>\n",
       "  <tbody>\n",
       "    <tr>\n",
       "      <th>0</th>\n",
       "      <td>HCV_NAT_PreTranspant_CAN</td>\n",
       "      <td>HCV_NAT_Result_DON</td>\n",
       "      <td>249.409174</td>\n",
       "      <td>1.329511e-48</td>\n",
       "      <td>0.071801</td>\n",
       "    </tr>\n",
       "  </tbody>\n",
       "</table>\n",
       "</div>"
      ],
      "text/plain": [
       "                    column1             column2        chi2       p_value  \\\n",
       "0  HCV_NAT_PreTranspant_CAN  HCV_NAT_Result_DON  249.409174  1.329511e-48   \n",
       "\n",
       "   cramer_v  \n",
       "0  0.071801  "
      ]
     },
     "execution_count": 116,
     "metadata": {},
     "output_type": "execute_result"
    }
   ],
   "source": [
    "# test of Independence for Categorical Variables\n",
    "usf.pairColsMultiIndependenceCat(df, features)"
   ]
  },
  {
   "cell_type": "code",
   "execution_count": 117,
   "id": "00b14bca-ac1a-4514-b718-33b0ececa3eb",
   "metadata": {},
   "outputs": [
    {
     "name": "stdout",
     "output_type": "stream",
     "text": [
      "Survival                    Dead  Living  Row Total     Dead %   Living %\n",
      "HCV_NAT_PreTranspant_CAN                                                 \n",
      "Missing/Unknown            804.0  3004.0     3808.0  21.113445  78.886555\n",
      "Negative                  1874.0  1011.0     2885.0  64.956672  35.043328\n",
      "Not Done                  5149.0  4248.0     9397.0  54.794083  45.205917\n",
      "Positive                    25.0    11.0       36.0  69.444444  30.555556\n",
      "Column Total              7852.0  8274.0    16126.0  48.691554  51.308446\n",
      "\n",
      "\n",
      "Survival              Dead  Living  Row Total     Dead %   Living %\n",
      "HCV_NAT_Result_DON                                                 \n",
      "Missing/Unknown        1.0     1.0        2.0  50.000000  50.000000\n",
      "Negative            7313.0  7910.0    15223.0  48.039151  51.960849\n",
      "Not Done               3.0     5.0        8.0  37.500000  62.500000\n",
      "Positive             535.0   358.0      893.0  59.910414  40.089586\n",
      "Column Total        7852.0  8274.0    16126.0  48.691554  51.308446\n",
      "\n",
      "\n"
     ]
    }
   ],
   "source": [
    "for col in features:\n",
    "    print(uf.categoryContingencySurvival(df, col).to_string())\n",
    "    print(\"\\n\")"
   ]
  },
  {
   "cell_type": "markdown",
   "id": "91b7ae62-ed10-4374-9bb1-c74973be810b",
   "metadata": {
    "jp-MarkdownHeadingCollapsed": true
   },
   "source": [
    "#### HEP\n",
    "- SurfaceAntigenHEP_B_CAN & HEP_C_SerostatusStatus_CAN & SurfaceAntigenHEP_B_DON & Antibody_HEP_C_DON"
   ]
  },
  {
   "cell_type": "code",
   "execution_count": 118,
   "id": "aee3ef11-c60e-4e3e-b439-07258f0935c3",
   "metadata": {},
   "outputs": [
    {
     "name": "stdout",
     "output_type": "stream",
     "text": [
      "                            count unique       top   freq\n",
      "SurfaceAntigenHEP_B_CAN     16126      4  Negative  15257\n",
      "HEP_C_SerostatusStatus_CAN  16126      4  Negative  15101\n",
      "SurfaceAntigenHEP_B_DON     16126      4  Negative  16086\n",
      "Antibody_HEP_C_DON          16126      4  Negative  14735\n"
     ]
    }
   ],
   "source": [
    "features = getFeatureList(df, 'HEP')"
   ]
  },
  {
   "cell_type": "code",
   "execution_count": 119,
   "id": "c2bcb198-9361-4809-9046-afe05fe7a1ea",
   "metadata": {},
   "outputs": [
    {
     "data": {
      "text/html": [
       "<div>\n",
       "<style scoped>\n",
       "    .dataframe tbody tr th:only-of-type {\n",
       "        vertical-align: middle;\n",
       "    }\n",
       "\n",
       "    .dataframe tbody tr th {\n",
       "        vertical-align: top;\n",
       "    }\n",
       "\n",
       "    .dataframe thead th {\n",
       "        text-align: right;\n",
       "    }\n",
       "</style>\n",
       "<table border=\"1\" class=\"dataframe\">\n",
       "  <thead>\n",
       "    <tr style=\"text-align: right;\">\n",
       "      <th></th>\n",
       "      <th>column1</th>\n",
       "      <th>column2</th>\n",
       "      <th>chi2</th>\n",
       "      <th>p_value</th>\n",
       "      <th>cramer_v</th>\n",
       "    </tr>\n",
       "  </thead>\n",
       "  <tbody>\n",
       "    <tr>\n",
       "      <th>0</th>\n",
       "      <td>SurfaceAntigenHEP_B_CAN</td>\n",
       "      <td>HEP_C_SerostatusStatus_CAN</td>\n",
       "      <td>17640.396194</td>\n",
       "      <td>0.000000</td>\n",
       "      <td>0.603852</td>\n",
       "    </tr>\n",
       "    <tr>\n",
       "      <th>5</th>\n",
       "      <td>SurfaceAntigenHEP_B_DON</td>\n",
       "      <td>Antibody_HEP_C_DON</td>\n",
       "      <td>1616.709437</td>\n",
       "      <td>0.000000</td>\n",
       "      <td>0.182807</td>\n",
       "    </tr>\n",
       "    <tr>\n",
       "      <th>4</th>\n",
       "      <td>HEP_C_SerostatusStatus_CAN</td>\n",
       "      <td>Antibody_HEP_C_DON</td>\n",
       "      <td>43.940632</td>\n",
       "      <td>0.000001</td>\n",
       "      <td>0.030138</td>\n",
       "    </tr>\n",
       "    <tr>\n",
       "      <th>1</th>\n",
       "      <td>SurfaceAntigenHEP_B_CAN</td>\n",
       "      <td>SurfaceAntigenHEP_B_DON</td>\n",
       "      <td>40.988075</td>\n",
       "      <td>0.000005</td>\n",
       "      <td>0.029107</td>\n",
       "    </tr>\n",
       "    <tr>\n",
       "      <th>2</th>\n",
       "      <td>SurfaceAntigenHEP_B_CAN</td>\n",
       "      <td>Antibody_HEP_C_DON</td>\n",
       "      <td>3.904700</td>\n",
       "      <td>0.917572</td>\n",
       "      <td>0.008984</td>\n",
       "    </tr>\n",
       "    <tr>\n",
       "      <th>3</th>\n",
       "      <td>HEP_C_SerostatusStatus_CAN</td>\n",
       "      <td>SurfaceAntigenHEP_B_DON</td>\n",
       "      <td>2.721803</td>\n",
       "      <td>0.974312</td>\n",
       "      <td>0.007501</td>\n",
       "    </tr>\n",
       "  </tbody>\n",
       "</table>\n",
       "</div>"
      ],
      "text/plain": [
       "                      column1                     column2          chi2  \\\n",
       "0     SurfaceAntigenHEP_B_CAN  HEP_C_SerostatusStatus_CAN  17640.396194   \n",
       "5     SurfaceAntigenHEP_B_DON          Antibody_HEP_C_DON   1616.709437   \n",
       "4  HEP_C_SerostatusStatus_CAN          Antibody_HEP_C_DON     43.940632   \n",
       "1     SurfaceAntigenHEP_B_CAN     SurfaceAntigenHEP_B_DON     40.988075   \n",
       "2     SurfaceAntigenHEP_B_CAN          Antibody_HEP_C_DON      3.904700   \n",
       "3  HEP_C_SerostatusStatus_CAN     SurfaceAntigenHEP_B_DON      2.721803   \n",
       "\n",
       "    p_value  cramer_v  \n",
       "0  0.000000  0.603852  \n",
       "5  0.000000  0.182807  \n",
       "4  0.000001  0.030138  \n",
       "1  0.000005  0.029107  \n",
       "2  0.917572  0.008984  \n",
       "3  0.974312  0.007501  "
      ]
     },
     "execution_count": 119,
     "metadata": {},
     "output_type": "execute_result"
    }
   ],
   "source": [
    "# test of Independence for Categorical Variables\n",
    "usf.pairColsMultiIndependenceCat(df, features)"
   ]
  },
  {
   "cell_type": "code",
   "execution_count": 120,
   "id": "b86af2da-98d4-4109-8e57-fcee10d99824",
   "metadata": {},
   "outputs": [
    {
     "name": "stdout",
     "output_type": "stream",
     "text": [
      "Survival                   Dead  Living  Row Total     Dead %   Living %\n",
      "SurfaceAntigenHEP_B_CAN                                                 \n",
      "Missing/Unknown           414.0    16.0      430.0  96.279070   3.720930\n",
      "Negative                 7226.0  8031.0    15257.0  47.361867  52.638133\n",
      "Not Done                   81.0   132.0      213.0  38.028169  61.971831\n",
      "Positive                  131.0    95.0      226.0  57.964602  42.035398\n",
      "Column Total             7852.0  8274.0    16126.0  48.691554  51.308446\n",
      "\n",
      "\n",
      "Survival                      Dead  Living  Row Total     Dead %   Living %\n",
      "HEP_C_SerostatusStatus_CAN                                                 \n",
      "Missing/Unknown              415.0    18.0      433.0  95.842956   4.157044\n",
      "Negative                    7155.0  7946.0    15101.0  47.380968  52.619032\n",
      "Not Done                     101.0   126.0      227.0  44.493392  55.506608\n",
      "Positive                     181.0   184.0      365.0  49.589041  50.410959\n",
      "Column Total                7852.0  8274.0    16126.0  48.691554  51.308446\n",
      "\n",
      "\n",
      "Survival                   Dead  Living  Row Total     Dead %   Living %\n",
      "SurfaceAntigenHEP_B_DON                                                 \n",
      "Missing/Unknown             3.0     7.0       10.0  30.000000  70.000000\n",
      "Negative                 7840.0  8246.0    16086.0  48.738033  51.261967\n",
      "Not Done                    1.0     9.0       10.0  10.000000  90.000000\n",
      "Positive                    8.0    12.0       20.0  40.000000  60.000000\n",
      "Column Total             7852.0  8274.0    16126.0  48.691554  51.308446\n",
      "\n",
      "\n",
      "Survival              Dead  Living  Row Total     Dead %    Living %\n",
      "Antibody_HEP_C_DON                                                  \n",
      "Missing/Unknown        1.0     1.0        2.0  50.000000   50.000000\n",
      "Negative            7008.0  7727.0    14735.0  47.560231   52.439769\n",
      "Not Done               0.0     1.0        1.0   0.000000  100.000000\n",
      "Positive             843.0   545.0     1388.0  60.734870   39.265130\n",
      "Column Total        7852.0  8274.0    16126.0  48.691554   51.308446\n",
      "\n",
      "\n"
     ]
    }
   ],
   "source": [
    "for col in features:\n",
    "    print(uf.categoryContingencySurvival(df, col).to_string())\n",
    "    print(\"\\n\")"
   ]
  },
  {
   "cell_type": "markdown",
   "id": "fb9d99cb-2d34-4e86-b3f3-276532ab019a",
   "metadata": {},
   "source": [
    "#### HIV\n",
    "- HIV_SeroStatusTransplant_CAN & HIV_NAT_PreTransplant_CAN & HIV_NAT_Result_DON & HIV_Risk_DON"
   ]
  },
  {
   "cell_type": "code",
   "execution_count": 121,
   "id": "36921219-30da-4a64-9a4b-f032db3197e5",
   "metadata": {},
   "outputs": [
    {
     "name": "stdout",
     "output_type": "stream",
     "text": [
      "                              count unique       top   freq\n",
      "HIV_SeroStatusTransplant_CAN  16126      4  Negative  15417\n",
      "HIV_NAT_PreTransplant_CAN     16126      4  Not Done  10226\n",
      "HIV_NAT_Result_DON            16126      3  Negative  16111\n",
      "HIV_Risk_DON                  16126      4        No  10996\n"
     ]
    }
   ],
   "source": [
    "features = getFeatureList(df, 'HIV')"
   ]
  },
  {
   "cell_type": "code",
   "execution_count": 122,
   "id": "03a61fdb-0ac6-4837-828a-2b92922189c6",
   "metadata": {},
   "outputs": [
    {
     "data": {
      "text/html": [
       "<div>\n",
       "<style scoped>\n",
       "    .dataframe tbody tr th:only-of-type {\n",
       "        vertical-align: middle;\n",
       "    }\n",
       "\n",
       "    .dataframe tbody tr th {\n",
       "        vertical-align: top;\n",
       "    }\n",
       "\n",
       "    .dataframe thead th {\n",
       "        text-align: right;\n",
       "    }\n",
       "</style>\n",
       "<table border=\"1\" class=\"dataframe\">\n",
       "  <thead>\n",
       "    <tr style=\"text-align: right;\">\n",
       "      <th></th>\n",
       "      <th>column1</th>\n",
       "      <th>column2</th>\n",
       "      <th>chi2</th>\n",
       "      <th>p_value</th>\n",
       "      <th>cramer_v</th>\n",
       "    </tr>\n",
       "  </thead>\n",
       "  <tbody>\n",
       "    <tr>\n",
       "      <th>5</th>\n",
       "      <td>HIV_NAT_Result_DON</td>\n",
       "      <td>HIV_Risk_DON</td>\n",
       "      <td>16126.457728</td>\n",
       "      <td>0.000000e+00</td>\n",
       "      <td>0.707117</td>\n",
       "    </tr>\n",
       "    <tr>\n",
       "      <th>0</th>\n",
       "      <td>HIV_SeroStatusTransplant_CAN</td>\n",
       "      <td>HIV_NAT_PreTransplant_CAN</td>\n",
       "      <td>2018.755018</td>\n",
       "      <td>0.000000e+00</td>\n",
       "      <td>0.204276</td>\n",
       "    </tr>\n",
       "    <tr>\n",
       "      <th>4</th>\n",
       "      <td>HIV_NAT_PreTransplant_CAN</td>\n",
       "      <td>HIV_Risk_DON</td>\n",
       "      <td>46.021184</td>\n",
       "      <td>5.967814e-07</td>\n",
       "      <td>0.030843</td>\n",
       "    </tr>\n",
       "    <tr>\n",
       "      <th>2</th>\n",
       "      <td>HIV_SeroStatusTransplant_CAN</td>\n",
       "      <td>HIV_Risk_DON</td>\n",
       "      <td>21.776113</td>\n",
       "      <td>9.616274e-03</td>\n",
       "      <td>0.021216</td>\n",
       "    </tr>\n",
       "    <tr>\n",
       "      <th>3</th>\n",
       "      <td>HIV_NAT_PreTransplant_CAN</td>\n",
       "      <td>HIV_NAT_Result_DON</td>\n",
       "      <td>8.328304</td>\n",
       "      <td>2.150240e-01</td>\n",
       "      <td>0.016069</td>\n",
       "    </tr>\n",
       "    <tr>\n",
       "      <th>1</th>\n",
       "      <td>HIV_SeroStatusTransplant_CAN</td>\n",
       "      <td>HIV_NAT_Result_DON</td>\n",
       "      <td>0.690465</td>\n",
       "      <td>9.946945e-01</td>\n",
       "      <td>0.004627</td>\n",
       "    </tr>\n",
       "  </tbody>\n",
       "</table>\n",
       "</div>"
      ],
      "text/plain": [
       "                        column1                    column2          chi2  \\\n",
       "5            HIV_NAT_Result_DON               HIV_Risk_DON  16126.457728   \n",
       "0  HIV_SeroStatusTransplant_CAN  HIV_NAT_PreTransplant_CAN   2018.755018   \n",
       "4     HIV_NAT_PreTransplant_CAN               HIV_Risk_DON     46.021184   \n",
       "2  HIV_SeroStatusTransplant_CAN               HIV_Risk_DON     21.776113   \n",
       "3     HIV_NAT_PreTransplant_CAN         HIV_NAT_Result_DON      8.328304   \n",
       "1  HIV_SeroStatusTransplant_CAN         HIV_NAT_Result_DON      0.690465   \n",
       "\n",
       "        p_value  cramer_v  \n",
       "5  0.000000e+00  0.707117  \n",
       "0  0.000000e+00  0.204276  \n",
       "4  5.967814e-07  0.030843  \n",
       "2  9.616274e-03  0.021216  \n",
       "3  2.150240e-01  0.016069  \n",
       "1  9.946945e-01  0.004627  "
      ]
     },
     "execution_count": 122,
     "metadata": {},
     "output_type": "execute_result"
    }
   ],
   "source": [
    "# test of Independence for Categorical Variables\n",
    "usf.pairColsMultiIndependenceCat(df, features)"
   ]
  },
  {
   "cell_type": "code",
   "execution_count": 123,
   "id": "027b73dc-fd76-4517-9aac-e8314267de3a",
   "metadata": {},
   "outputs": [
    {
     "name": "stdout",
     "output_type": "stream",
     "text": [
      "Survival                        Dead  Living  Row Total     Dead %   Living %\n",
      "HIV_SeroStatusTransplant_CAN                                                 \n",
      "Missing/Unknown                431.0    41.0      472.0  91.313559   8.686441\n",
      "Negative                      7323.0  8094.0    15417.0  47.499514  52.500486\n",
      "Not Done                        60.0   104.0      164.0  36.585366  63.414634\n",
      "Positive                        38.0    35.0       73.0  52.054795  47.945205\n",
      "Column Total                  7852.0  8274.0    16126.0  48.691554  51.308446\n",
      "\n",
      "\n",
      "Survival                     Dead  Living  Row Total     Dead %   Living %\n",
      "HIV_NAT_PreTransplant_CAN                                                 \n",
      "Missing/Unknown             814.0  3006.0     3820.0  21.308901  78.691099\n",
      "Negative                   1315.0   756.0     2071.0  63.495896  36.504104\n",
      "Not Done                   5719.0  4507.0    10226.0  55.926071  44.073929\n",
      "Positive                      4.0     5.0        9.0  44.444444  55.555556\n",
      "Column Total               7852.0  8274.0    16126.0  48.691554  51.308446\n",
      "\n",
      "\n",
      "Survival              Dead  Living  Row Total     Dead %   Living %\n",
      "HIV_NAT_Result_DON                                                 \n",
      "Missing/Unknown        1.0     1.0        2.0  50.000000  50.000000\n",
      "Negative            7847.0  8264.0    16111.0  48.705853  51.294147\n",
      "Not Done               4.0     9.0       13.0  30.769231  69.230769\n",
      "Column Total        7852.0  8274.0    16126.0  48.691554  51.308446\n",
      "\n",
      "\n",
      "Survival        Dead  Living  Row Total     Dead %    Living %\n",
      "HIV_Risk_DON                                                  \n",
      "Missing          1.0     1.0        2.0  50.000000   50.000000\n",
      "No            5442.0  5554.0    10996.0  49.490724   50.509276\n",
      "Unknown          0.0     2.0        2.0   0.000000  100.000000\n",
      "Yes           2409.0  2717.0     5126.0  46.995708   53.004292\n",
      "Column Total  7852.0  8274.0    16126.0  48.691554   51.308446\n",
      "\n",
      "\n"
     ]
    }
   ],
   "source": [
    "for col in features:\n",
    "    print(uf.categoryContingencySurvival(df, col, 'Survival').to_string())\n",
    "    print(\"\\n\")"
   ]
  },
  {
   "cell_type": "code",
   "execution_count": 124,
   "id": "c1806dc8-5396-4735-bf21-af75f3f4d9f0",
   "metadata": {},
   "outputs": [],
   "source": [
    "# update DataFrame\n",
    "df_drop  = uf.insertIntoDataFrame(df_drop, ['HIV_Risk_DON'])"
   ]
  },
  {
   "cell_type": "markdown",
   "id": "49f9264a-0f75-44f6-be38-45d40e3e7f9e",
   "metadata": {},
   "source": [
    "#### Heart\n",
    "- NonHeartBeating_DON & HeartProcedureType_CAN"
   ]
  },
  {
   "cell_type": "code",
   "execution_count": 125,
   "id": "5e5ad821-38e2-4ada-80f7-48902fc67c23",
   "metadata": {},
   "outputs": [
    {
     "name": "stdout",
     "output_type": "stream",
     "text": [
      "                        count unique                 top   freq\n",
      "NonHeartBeating_DON     16126      3                  No  15808\n",
      "HeartProcedureType_CAN  16126      5  Orthotopic Bicaval  12925\n"
     ]
    }
   ],
   "source": [
    "features = getFeatureList(df, 'Heart')"
   ]
  },
  {
   "cell_type": "code",
   "execution_count": 126,
   "id": "20c518fa-e2ed-4694-8fa7-0e94bcc6c43a",
   "metadata": {},
   "outputs": [
    {
     "data": {
      "text/html": [
       "<div>\n",
       "<style scoped>\n",
       "    .dataframe tbody tr th:only-of-type {\n",
       "        vertical-align: middle;\n",
       "    }\n",
       "\n",
       "    .dataframe tbody tr th {\n",
       "        vertical-align: top;\n",
       "    }\n",
       "\n",
       "    .dataframe thead th {\n",
       "        text-align: right;\n",
       "    }\n",
       "</style>\n",
       "<table border=\"1\" class=\"dataframe\">\n",
       "  <thead>\n",
       "    <tr style=\"text-align: right;\">\n",
       "      <th></th>\n",
       "      <th>column1</th>\n",
       "      <th>column2</th>\n",
       "      <th>chi2</th>\n",
       "      <th>p_value</th>\n",
       "      <th>cramer_v</th>\n",
       "    </tr>\n",
       "  </thead>\n",
       "  <tbody>\n",
       "    <tr>\n",
       "      <th>0</th>\n",
       "      <td>NonHeartBeating_DON</td>\n",
       "      <td>HeartProcedureType_CAN</td>\n",
       "      <td>252.361835</td>\n",
       "      <td>5.439005e-50</td>\n",
       "      <td>0.088457</td>\n",
       "    </tr>\n",
       "  </tbody>\n",
       "</table>\n",
       "</div>"
      ],
      "text/plain": [
       "               column1                 column2        chi2       p_value  \\\n",
       "0  NonHeartBeating_DON  HeartProcedureType_CAN  252.361835  5.439005e-50   \n",
       "\n",
       "   cramer_v  \n",
       "0  0.088457  "
      ]
     },
     "execution_count": 126,
     "metadata": {},
     "output_type": "execute_result"
    }
   ],
   "source": [
    "# test of Independence for Categorical Variables\n",
    "usf.pairColsMultiIndependenceCat(df, features)"
   ]
  },
  {
   "cell_type": "code",
   "execution_count": 127,
   "id": "28860b02-b5c5-427c-9509-e7007ee7d033",
   "metadata": {},
   "outputs": [
    {
     "name": "stdout",
     "output_type": "stream",
     "text": [
      "Survival               Dead  Living  Row Total     Dead %   Living %\n",
      "NonHeartBeating_DON                                                 \n",
      "Missing                 2.0     1.0        3.0  66.666667  33.333333\n",
      "No                   7536.0  8272.0    15808.0  47.672065  52.327935\n",
      "Yes                   314.0     1.0      315.0  99.682540   0.317460\n",
      "Column Total         7852.0  8274.0    16126.0  48.691554  51.308446\n",
      "\n",
      "\n",
      "Survival                          Dead  Living  Row Total     Dead %   Living %\n",
      "HeartProcedureType_CAN                                                         \n",
      "Heterotopic                        5.0     6.0       11.0  45.454545  54.545455\n",
      "Missing                          422.0     1.0      423.0  99.763593   0.236407\n",
      "Orthotopic Bicaval              6031.0  6894.0    12925.0  46.661509  53.338491\n",
      "Orthotopic Total (Bicaval, PV)   238.0   212.0      450.0  52.888889  47.111111\n",
      "Orthotopic Traditional          1156.0  1161.0     2317.0  49.892102  50.107898\n",
      "Column Total                    7852.0  8274.0    16126.0  48.691554  51.308446\n",
      "\n",
      "\n"
     ]
    }
   ],
   "source": [
    "for col in features:\n",
    "    print(uf.categoryContingencySurvival(df, col).to_string())\n",
    "    print(\"\\n\")"
   ]
  },
  {
   "cell_type": "code",
   "execution_count": 128,
   "id": "1d405a0c-a7ed-4430-a0be-dbf0b2bf3030",
   "metadata": {},
   "outputs": [],
   "source": [
    "# update DataFrame\n",
    "df_drop  = uf.insertIntoDataFrame(df_drop, ['NonHeartBeating_DON'])"
   ]
  },
  {
   "cell_type": "markdown",
   "id": "15db538c-ec76-4297-816d-bc298fb15aeb",
   "metadata": {
    "jp-MarkdownHeadingCollapsed": true
   },
   "source": [
    "#### HeavyAlcoholUse_DON"
   ]
  },
  {
   "cell_type": "code",
   "execution_count": 129,
   "id": "747783aa-2bd1-401d-9634-1af45e5959c5",
   "metadata": {},
   "outputs": [
    {
     "name": "stdout",
     "output_type": "stream",
     "text": [
      "                     count unique top   freq\n",
      "HeavyAlcoholUse_DON  16126      4  No  12796\n"
     ]
    }
   ],
   "source": [
    "features = getFeatureList(df, 'Heavy')"
   ]
  },
  {
   "cell_type": "code",
   "execution_count": 130,
   "id": "1dde9ca3-0d2a-4cf3-88fb-c00a3a1fff18",
   "metadata": {},
   "outputs": [
    {
     "name": "stdout",
     "output_type": "stream",
     "text": [
      "Survival               Dead  Living  Row Total     Dead %   Living %\n",
      "HeavyAlcoholUse_DON                                                 \n",
      "Missing                 3.0     4.0        7.0  42.857143  57.142857\n",
      "No                   6138.0  6658.0    12796.0  47.968115  52.031885\n",
      "Unknown               261.0   197.0      458.0  56.986900  43.013100\n",
      "Yes                  1450.0  1415.0     2865.0  50.610820  49.389180\n",
      "Column Total         7852.0  8274.0    16126.0  48.691554  51.308446\n",
      "\n",
      "\n"
     ]
    }
   ],
   "source": [
    "for col in features:\n",
    "    print(uf.categoryContingencySurvival(df, col).to_string())\n",
    "    print(\"\\n\")"
   ]
  },
  {
   "cell_type": "markdown",
   "id": "37d07f4a-d9ed-4c3d-a69a-176623ed8121",
   "metadata": {
    "jp-MarkdownHeadingCollapsed": true
   },
   "source": [
    "#### HeparinManagement_DON"
   ]
  },
  {
   "cell_type": "code",
   "execution_count": 131,
   "id": "0728798c-d11e-45c1-abf1-50df061850f4",
   "metadata": {},
   "outputs": [
    {
     "name": "stdout",
     "output_type": "stream",
     "text": [
      "                       count unique  top   freq\n",
      "HeparinManagement_DON  16126      4  Yes  15711\n"
     ]
    }
   ],
   "source": [
    "features = getFeatureList(df, 'Heparin')"
   ]
  },
  {
   "cell_type": "code",
   "execution_count": 132,
   "id": "67899dd7-2c97-4b30-b125-668a33590313",
   "metadata": {},
   "outputs": [
    {
     "name": "stdout",
     "output_type": "stream",
     "text": [
      "Survival                 Dead  Living  Row Total     Dead %    Living %\n",
      "HeparinManagement_DON                                                  \n",
      "Missing                 181.0    12.0      193.0  93.782383    6.217617\n",
      "No                       81.0   140.0      221.0  36.651584   63.348416\n",
      "Unknown                   0.0     1.0        1.0   0.000000  100.000000\n",
      "Yes                    7590.0  8121.0    15711.0  48.310101   51.689899\n",
      "Column Total           7852.0  8274.0    16126.0  48.691554   51.308446\n",
      "\n",
      "\n"
     ]
    }
   ],
   "source": [
    "for col in features:\n",
    "    print(uf.categoryContingencySurvival(df, col).to_string())\n",
    "    print(\"\\n\")"
   ]
  },
  {
   "cell_type": "markdown",
   "id": "4e145118-ec9b-4b69-8574-a6c71ed554bb",
   "metadata": {
    "jp-MarkdownHeadingCollapsed": true
   },
   "source": [
    "#### Hepatitis"
   ]
  },
  {
   "cell_type": "code",
   "execution_count": 133,
   "id": "aace7957-7296-4868-ab61-a72ca9940147",
   "metadata": {},
   "outputs": [
    {
     "name": "stdout",
     "output_type": "stream",
     "text": [
      "                              count unique       top   freq\n",
      "Hepatitis_B_CoreAntibody_CAN  16126      4  Negative  14454\n",
      "Hepatitis_B_CoreAntibody_DON  16126      4  Negative  15744\n"
     ]
    }
   ],
   "source": [
    "features = getFeatureList(df, 'Hepatitis')"
   ]
  },
  {
   "cell_type": "code",
   "execution_count": 134,
   "id": "edf55212-f586-4568-ac2a-0de3ada7d87e",
   "metadata": {},
   "outputs": [
    {
     "data": {
      "text/html": [
       "<div>\n",
       "<style scoped>\n",
       "    .dataframe tbody tr th:only-of-type {\n",
       "        vertical-align: middle;\n",
       "    }\n",
       "\n",
       "    .dataframe tbody tr th {\n",
       "        vertical-align: top;\n",
       "    }\n",
       "\n",
       "    .dataframe thead th {\n",
       "        text-align: right;\n",
       "    }\n",
       "</style>\n",
       "<table border=\"1\" class=\"dataframe\">\n",
       "  <thead>\n",
       "    <tr style=\"text-align: right;\">\n",
       "      <th></th>\n",
       "      <th>column1</th>\n",
       "      <th>column2</th>\n",
       "      <th>chi2</th>\n",
       "      <th>p_value</th>\n",
       "      <th>cramer_v</th>\n",
       "    </tr>\n",
       "  </thead>\n",
       "  <tbody>\n",
       "    <tr>\n",
       "      <th>0</th>\n",
       "      <td>Hepatitis_B_CoreAntibody_CAN</td>\n",
       "      <td>Hepatitis_B_CoreAntibody_DON</td>\n",
       "      <td>3.938124</td>\n",
       "      <td>0.915438</td>\n",
       "      <td>0.009022</td>\n",
       "    </tr>\n",
       "  </tbody>\n",
       "</table>\n",
       "</div>"
      ],
      "text/plain": [
       "                        column1                       column2      chi2  \\\n",
       "0  Hepatitis_B_CoreAntibody_CAN  Hepatitis_B_CoreAntibody_DON  3.938124   \n",
       "\n",
       "    p_value  cramer_v  \n",
       "0  0.915438  0.009022  "
      ]
     },
     "execution_count": 134,
     "metadata": {},
     "output_type": "execute_result"
    }
   ],
   "source": [
    "# test of Independence for Categorical Variables\n",
    "usf.pairColsMultiIndependenceCat(df, features)"
   ]
  },
  {
   "cell_type": "code",
   "execution_count": 135,
   "id": "64d5ac43-7d94-4093-b0ce-a2cae5cfa8e7",
   "metadata": {},
   "outputs": [
    {
     "name": "stdout",
     "output_type": "stream",
     "text": [
      "Survival                        Dead  Living  Row Total     Dead %   Living %\n",
      "Hepatitis_B_CoreAntibody_CAN                                                 \n",
      "Missing/Unknown                420.0    22.0      442.0  95.022624   4.977376\n",
      "Negative                      6860.0  7594.0    14454.0  47.460910  52.539090\n",
      "Not Done                       218.0   283.0      501.0  43.512974  56.487026\n",
      "Positive                       354.0   375.0      729.0  48.559671  51.440329\n",
      "Column Total                  7852.0  8274.0    16126.0  48.691554  51.308446\n",
      "\n",
      "\n",
      "Survival                        Dead  Living  Row Total      Dead %   Living %\n",
      "Hepatitis_B_CoreAntibody_DON                                                  \n",
      "Indeterminate                    1.0     0.0        1.0  100.000000   0.000000\n",
      "Negative                      7651.0  8093.0    15744.0   48.596291  51.403709\n",
      "Not Done                         3.0     5.0        8.0   37.500000  62.500000\n",
      "Positive                       197.0   176.0      373.0   52.815013  47.184987\n",
      "Column Total                  7852.0  8274.0    16126.0   48.691554  51.308446\n",
      "\n",
      "\n"
     ]
    }
   ],
   "source": [
    "for col in features:\n",
    "    print(uf.categoryContingencySurvival(df, col).to_string())\n",
    "    print(\"\\n\")"
   ]
  },
  {
   "cell_type": "markdown",
   "id": "7a273b58-7c98-4275-b0f8-413b64965a38",
   "metadata": {
    "jp-MarkdownHeadingCollapsed": true
   },
   "source": [
    "#### HypertensionHistory_DON"
   ]
  },
  {
   "cell_type": "code",
   "execution_count": 136,
   "id": "4364cf9b-d506-4bcb-900e-ef91a886d767",
   "metadata": {},
   "outputs": [
    {
     "name": "stdout",
     "output_type": "stream",
     "text": [
      "                         count unique top   freq\n",
      "HypertensionHistory_DON  16126      4  No  13483\n"
     ]
    }
   ],
   "source": [
    "features = getFeatureList(df, 'HypertensionH')"
   ]
  },
  {
   "cell_type": "code",
   "execution_count": 137,
   "id": "2c6a5c5e-95b1-46e6-8851-3bca1dd97737",
   "metadata": {},
   "outputs": [
    {
     "name": "stdout",
     "output_type": "stream",
     "text": [
      "Survival                   Dead  Living  Row Total     Dead %   Living %\n",
      "HypertensionHistory_DON                                                 \n",
      "Missing                     1.0     1.0        2.0  50.000000  50.000000\n",
      "No                       6548.0  6935.0    13483.0  48.564859  51.435141\n",
      "Unknown                   105.0    46.0      151.0  69.536424  30.463576\n",
      "Yes                      1198.0  1292.0     2490.0  48.112450  51.887550\n",
      "Column Total             7852.0  8274.0    16126.0  48.691554  51.308446\n",
      "\n",
      "\n"
     ]
    }
   ],
   "source": [
    "for col in features:\n",
    "    print(uf.categoryContingencySurvival(df, col).to_string())\n",
    "    print(\"\\n\")"
   ]
  },
  {
   "cell_type": "markdown",
   "id": "f35d3e06-dcf5-4266-bf56-40cdbdc1cf67",
   "metadata": {},
   "source": [
    "#### Infection\n",
    "- InfectionTherapyIV_CAN & BloodInfectionSource_DON & OtherInfectionSource_DON & PulmonaryInfection_DON & UrineInfection_DON & InfectionClinical_DON"
   ]
  },
  {
   "cell_type": "code",
   "execution_count": 138,
   "id": "5fe791c5-12d7-434b-a632-ef18ab515672",
   "metadata": {},
   "outputs": [
    {
     "name": "stdout",
     "output_type": "stream",
     "text": [
      "                          count unique  top   freq\n",
      "InfectionTherapyIV_CAN    16126      4   No  14068\n",
      "BloodInfectionSource_DON  16126      3    0  14448\n",
      "OtherInfectionSource_DON  16126      3    0  11424\n",
      "PulmonaryInfection_DON    16126      3    1  11625\n",
      "UrineInfection_DON        16126      3    0  14219\n",
      "InfectionClinical_DON     16126      4  Yes  12616\n"
     ]
    }
   ],
   "source": [
    "features = getFeatureList(df, 'Infection')"
   ]
  },
  {
   "cell_type": "code",
   "execution_count": 139,
   "id": "c25c4555-75cd-4f18-8cb6-3e9794c57e4a",
   "metadata": {},
   "outputs": [
    {
     "data": {
      "text/html": [
       "<div>\n",
       "<style scoped>\n",
       "    .dataframe tbody tr th:only-of-type {\n",
       "        vertical-align: middle;\n",
       "    }\n",
       "\n",
       "    .dataframe tbody tr th {\n",
       "        vertical-align: top;\n",
       "    }\n",
       "\n",
       "    .dataframe thead th {\n",
       "        text-align: right;\n",
       "    }\n",
       "</style>\n",
       "<table border=\"1\" class=\"dataframe\">\n",
       "  <thead>\n",
       "    <tr style=\"text-align: right;\">\n",
       "      <th></th>\n",
       "      <th>column1</th>\n",
       "      <th>column2</th>\n",
       "      <th>chi2</th>\n",
       "      <th>p_value</th>\n",
       "      <th>cramer_v</th>\n",
       "    </tr>\n",
       "  </thead>\n",
       "  <tbody>\n",
       "    <tr>\n",
       "      <th>7</th>\n",
       "      <td>BloodInfectionSource_DON</td>\n",
       "      <td>UrineInfection_DON</td>\n",
       "      <td>16171.085698</td>\n",
       "      <td>0.000000e+00</td>\n",
       "      <td>0.708095</td>\n",
       "    </tr>\n",
       "    <tr>\n",
       "      <th>12</th>\n",
       "      <td>PulmonaryInfection_DON</td>\n",
       "      <td>UrineInfection_DON</td>\n",
       "      <td>16170.440031</td>\n",
       "      <td>0.000000e+00</td>\n",
       "      <td>0.708080</td>\n",
       "    </tr>\n",
       "    <tr>\n",
       "      <th>6</th>\n",
       "      <td>BloodInfectionSource_DON</td>\n",
       "      <td>PulmonaryInfection_DON</td>\n",
       "      <td>16153.804078</td>\n",
       "      <td>0.000000e+00</td>\n",
       "      <td>0.707716</td>\n",
       "    </tr>\n",
       "    <tr>\n",
       "      <th>11</th>\n",
       "      <td>OtherInfectionSource_DON</td>\n",
       "      <td>InfectionClinical_DON</td>\n",
       "      <td>16126.000000</td>\n",
       "      <td>0.000000e+00</td>\n",
       "      <td>0.707107</td>\n",
       "    </tr>\n",
       "    <tr>\n",
       "      <th>9</th>\n",
       "      <td>OtherInfectionSource_DON</td>\n",
       "      <td>PulmonaryInfection_DON</td>\n",
       "      <td>11893.324696</td>\n",
       "      <td>0.000000e+00</td>\n",
       "      <td>0.607258</td>\n",
       "    </tr>\n",
       "    <tr>\n",
       "      <th>13</th>\n",
       "      <td>PulmonaryInfection_DON</td>\n",
       "      <td>InfectionClinical_DON</td>\n",
       "      <td>11747.098669</td>\n",
       "      <td>0.000000e+00</td>\n",
       "      <td>0.603513</td>\n",
       "    </tr>\n",
       "    <tr>\n",
       "      <th>4</th>\n",
       "      <td>InfectionTherapyIV_CAN</td>\n",
       "      <td>InfectionClinical_DON</td>\n",
       "      <td>3718.706529</td>\n",
       "      <td>0.000000e+00</td>\n",
       "      <td>0.277250</td>\n",
       "    </tr>\n",
       "    <tr>\n",
       "      <th>14</th>\n",
       "      <td>UrineInfection_DON</td>\n",
       "      <td>InfectionClinical_DON</td>\n",
       "      <td>766.480005</td>\n",
       "      <td>2.686332e-162</td>\n",
       "      <td>0.154160</td>\n",
       "    </tr>\n",
       "    <tr>\n",
       "      <th>8</th>\n",
       "      <td>BloodInfectionSource_DON</td>\n",
       "      <td>InfectionClinical_DON</td>\n",
       "      <td>685.922819</td>\n",
       "      <td>6.694921e-145</td>\n",
       "      <td>0.145834</td>\n",
       "    </tr>\n",
       "    <tr>\n",
       "      <th>10</th>\n",
       "      <td>OtherInfectionSource_DON</td>\n",
       "      <td>UrineInfection_DON</td>\n",
       "      <td>608.949773</td>\n",
       "      <td>1.791482e-130</td>\n",
       "      <td>0.137408</td>\n",
       "    </tr>\n",
       "    <tr>\n",
       "      <th>5</th>\n",
       "      <td>BloodInfectionSource_DON</td>\n",
       "      <td>OtherInfectionSource_DON</td>\n",
       "      <td>527.427416</td>\n",
       "      <td>7.822908e-113</td>\n",
       "      <td>0.127880</td>\n",
       "    </tr>\n",
       "    <tr>\n",
       "      <th>1</th>\n",
       "      <td>InfectionTherapyIV_CAN</td>\n",
       "      <td>OtherInfectionSource_DON</td>\n",
       "      <td>144.160223</td>\n",
       "      <td>1.326340e-28</td>\n",
       "      <td>0.066857</td>\n",
       "    </tr>\n",
       "    <tr>\n",
       "      <th>2</th>\n",
       "      <td>InfectionTherapyIV_CAN</td>\n",
       "      <td>PulmonaryInfection_DON</td>\n",
       "      <td>96.163046</td>\n",
       "      <td>1.582873e-18</td>\n",
       "      <td>0.054604</td>\n",
       "    </tr>\n",
       "    <tr>\n",
       "      <th>3</th>\n",
       "      <td>InfectionTherapyIV_CAN</td>\n",
       "      <td>UrineInfection_DON</td>\n",
       "      <td>12.181846</td>\n",
       "      <td>5.803283e-02</td>\n",
       "      <td>0.019435</td>\n",
       "    </tr>\n",
       "    <tr>\n",
       "      <th>0</th>\n",
       "      <td>InfectionTherapyIV_CAN</td>\n",
       "      <td>BloodInfectionSource_DON</td>\n",
       "      <td>8.663101</td>\n",
       "      <td>1.934303e-01</td>\n",
       "      <td>0.016389</td>\n",
       "    </tr>\n",
       "  </tbody>\n",
       "</table>\n",
       "</div>"
      ],
      "text/plain": [
       "                     column1                   column2          chi2  \\\n",
       "7   BloodInfectionSource_DON        UrineInfection_DON  16171.085698   \n",
       "12    PulmonaryInfection_DON        UrineInfection_DON  16170.440031   \n",
       "6   BloodInfectionSource_DON    PulmonaryInfection_DON  16153.804078   \n",
       "11  OtherInfectionSource_DON     InfectionClinical_DON  16126.000000   \n",
       "9   OtherInfectionSource_DON    PulmonaryInfection_DON  11893.324696   \n",
       "13    PulmonaryInfection_DON     InfectionClinical_DON  11747.098669   \n",
       "4     InfectionTherapyIV_CAN     InfectionClinical_DON   3718.706529   \n",
       "14        UrineInfection_DON     InfectionClinical_DON    766.480005   \n",
       "8   BloodInfectionSource_DON     InfectionClinical_DON    685.922819   \n",
       "10  OtherInfectionSource_DON        UrineInfection_DON    608.949773   \n",
       "5   BloodInfectionSource_DON  OtherInfectionSource_DON    527.427416   \n",
       "1     InfectionTherapyIV_CAN  OtherInfectionSource_DON    144.160223   \n",
       "2     InfectionTherapyIV_CAN    PulmonaryInfection_DON     96.163046   \n",
       "3     InfectionTherapyIV_CAN        UrineInfection_DON     12.181846   \n",
       "0     InfectionTherapyIV_CAN  BloodInfectionSource_DON      8.663101   \n",
       "\n",
       "          p_value  cramer_v  \n",
       "7    0.000000e+00  0.708095  \n",
       "12   0.000000e+00  0.708080  \n",
       "6    0.000000e+00  0.707716  \n",
       "11   0.000000e+00  0.707107  \n",
       "9    0.000000e+00  0.607258  \n",
       "13   0.000000e+00  0.603513  \n",
       "4    0.000000e+00  0.277250  \n",
       "14  2.686332e-162  0.154160  \n",
       "8   6.694921e-145  0.145834  \n",
       "10  1.791482e-130  0.137408  \n",
       "5   7.822908e-113  0.127880  \n",
       "1    1.326340e-28  0.066857  \n",
       "2    1.582873e-18  0.054604  \n",
       "3    5.803283e-02  0.019435  \n",
       "0    1.934303e-01  0.016389  "
      ]
     },
     "execution_count": 139,
     "metadata": {},
     "output_type": "execute_result"
    }
   ],
   "source": [
    "# test of Independence for Categorical Variables\n",
    "usf.pairColsMultiIndependenceCat(df, features)"
   ]
  },
  {
   "cell_type": "code",
   "execution_count": 140,
   "id": "e6c3f6f4-93c6-4bf4-9107-77b3136d894e",
   "metadata": {},
   "outputs": [],
   "source": [
    "# combine features\n",
    "features = ['BloodInfectionSource_DON','UrineInfection_DON','PulmonaryInfection_DON','InfectionClinical_DON','OtherInfectionSource_DON']\n",
    "\n",
    "# new feature\n",
    "df['Infection_CountTotal_DON'] = df[features].apply(lambda row: sum(1 for value in row if value == 1 or value == 'Yes'), axis=1)\n",
    "\n",
    "# update DataFrame\n",
    "df_drop  = uf.insertIntoDataFrame(df_drop, features)\n",
    "df_don  = uf.insertIntoDataFrame(df_don, ['Infection_CountTotal_DON'])\n",
    "df_ordinal  = uf.insertIntoDataFrame(df_ordinal, ['Infection_CountTotal_DON'])\n",
    "\n",
    "# change datatype to category\n",
    "df = uf.toCategory(df, ['Infection_CountTotal_DON'])"
   ]
  },
  {
   "cell_type": "code",
   "execution_count": 141,
   "id": "84213fa1-4ce8-41e9-8123-159fa09c33c5",
   "metadata": {},
   "outputs": [
    {
     "data": {
      "text/html": [
       "<div>\n",
       "<style scoped>\n",
       "    .dataframe tbody tr th:only-of-type {\n",
       "        vertical-align: middle;\n",
       "    }\n",
       "\n",
       "    .dataframe tbody tr th {\n",
       "        vertical-align: top;\n",
       "    }\n",
       "\n",
       "    .dataframe thead th {\n",
       "        text-align: right;\n",
       "    }\n",
       "</style>\n",
       "<table border=\"1\" class=\"dataframe\">\n",
       "  <thead>\n",
       "    <tr style=\"text-align: right;\">\n",
       "      <th>Survival</th>\n",
       "      <th>Dead</th>\n",
       "      <th>Living</th>\n",
       "      <th>Row Total</th>\n",
       "      <th>Dead %</th>\n",
       "      <th>Living %</th>\n",
       "    </tr>\n",
       "    <tr>\n",
       "      <th>Infection_CountTotal_DON</th>\n",
       "      <th></th>\n",
       "      <th></th>\n",
       "      <th></th>\n",
       "      <th></th>\n",
       "      <th></th>\n",
       "    </tr>\n",
       "  </thead>\n",
       "  <tbody>\n",
       "    <tr>\n",
       "      <th>0</th>\n",
       "      <td>1764.0</td>\n",
       "      <td>1746.0</td>\n",
       "      <td>3510.0</td>\n",
       "      <td>50.256410</td>\n",
       "      <td>49.743590</td>\n",
       "    </tr>\n",
       "    <tr>\n",
       "      <th>1</th>\n",
       "      <td>1.0</td>\n",
       "      <td>0.0</td>\n",
       "      <td>1.0</td>\n",
       "      <td>100.000000</td>\n",
       "      <td>0.000000</td>\n",
       "    </tr>\n",
       "    <tr>\n",
       "      <th>2</th>\n",
       "      <td>4474.0</td>\n",
       "      <td>4829.0</td>\n",
       "      <td>9303.0</td>\n",
       "      <td>48.092013</td>\n",
       "      <td>51.907987</td>\n",
       "    </tr>\n",
       "    <tr>\n",
       "      <th>3</th>\n",
       "      <td>1393.0</td>\n",
       "      <td>1469.0</td>\n",
       "      <td>2862.0</td>\n",
       "      <td>48.672257</td>\n",
       "      <td>51.327743</td>\n",
       "    </tr>\n",
       "    <tr>\n",
       "      <th>4</th>\n",
       "      <td>214.0</td>\n",
       "      <td>215.0</td>\n",
       "      <td>429.0</td>\n",
       "      <td>49.883450</td>\n",
       "      <td>50.116550</td>\n",
       "    </tr>\n",
       "    <tr>\n",
       "      <th>5</th>\n",
       "      <td>6.0</td>\n",
       "      <td>15.0</td>\n",
       "      <td>21.0</td>\n",
       "      <td>28.571429</td>\n",
       "      <td>71.428571</td>\n",
       "    </tr>\n",
       "    <tr>\n",
       "      <th>Column Total</th>\n",
       "      <td>7852.0</td>\n",
       "      <td>8274.0</td>\n",
       "      <td>16126.0</td>\n",
       "      <td>48.691554</td>\n",
       "      <td>51.308446</td>\n",
       "    </tr>\n",
       "  </tbody>\n",
       "</table>\n",
       "</div>"
      ],
      "text/plain": [
       "Survival                    Dead  Living  Row Total      Dead %   Living %\n",
       "Infection_CountTotal_DON                                                  \n",
       "0                         1764.0  1746.0     3510.0   50.256410  49.743590\n",
       "1                            1.0     0.0        1.0  100.000000   0.000000\n",
       "2                         4474.0  4829.0     9303.0   48.092013  51.907987\n",
       "3                         1393.0  1469.0     2862.0   48.672257  51.327743\n",
       "4                          214.0   215.0      429.0   49.883450  50.116550\n",
       "5                            6.0    15.0       21.0   28.571429  71.428571\n",
       "Column Total              7852.0  8274.0    16126.0   48.691554  51.308446"
      ]
     },
     "execution_count": 141,
     "metadata": {},
     "output_type": "execute_result"
    }
   ],
   "source": [
    "uf.categoryContingencySurvival(df, 'Infection_CountTotal_DON')"
   ]
  },
  {
   "cell_type": "markdown",
   "id": "1f4beb1d-8d88-4ebe-884e-d735550ed02a",
   "metadata": {
    "jp-MarkdownHeadingCollapsed": true
   },
   "source": [
    "#### Inotropic"
   ]
  },
  {
   "cell_type": "code",
   "execution_count": 142,
   "id": "a28d9464-29f6-4435-af72-3565dbb8dcbf",
   "metadata": {},
   "outputs": [
    {
     "name": "stdout",
     "output_type": "stream",
     "text": [
      "                    count unique      top   freq\n",
      "InotropicAgent_DON  16126      7  Missing  10484\n"
     ]
    }
   ],
   "source": [
    "features = getFeatureList(df, 'Inotropic')"
   ]
  },
  {
   "cell_type": "code",
   "execution_count": 143,
   "id": "b3773e72-0652-4a83-9e9d-d01e51a12233",
   "metadata": {},
   "outputs": [
    {
     "name": "stdout",
     "output_type": "stream",
     "text": [
      "Survival              Dead  Living  Row Total     Dead %   Living %\n",
      "InotropicAgent_DON                                                 \n",
      "Dobutamine           163.0   254.0      417.0  39.088729  60.911271\n",
      "Dopamine             207.0   343.0      550.0  37.636364  62.363636\n",
      "Epinephrine           38.0    36.0       74.0  51.351351  48.648649\n",
      "Levophed             798.0   966.0     1764.0  45.238095  54.761905\n",
      "Missing             5310.0  5174.0    10484.0  50.648607  49.351393\n",
      "Neosynephrine       1157.0  1275.0     2432.0  47.574013  52.425987\n",
      "Other, specify       179.0   226.0      405.0  44.197531  55.802469\n",
      "Column Total        7852.0  8274.0    16126.0  48.691554  51.308446\n",
      "\n",
      "\n"
     ]
    }
   ],
   "source": [
    "for col in features:\n",
    "    print(uf.categoryContingencySurvival(df, col, 'Survival').to_string())\n",
    "    print(\"\\n\")"
   ]
  },
  {
   "cell_type": "markdown",
   "id": "dcfcd172-5cc7-4896-a147-746c6ac6b268",
   "metadata": {},
   "source": [
    "#### Intropes"
   ]
  },
  {
   "cell_type": "markdown",
   "id": "ab3163e5-e7dc-4b4e-b458-44b25970297b",
   "metadata": {},
   "source": [
    "##### IntropesIV\n",
    "- IntropesIVRegistration_CAN & IntropesIVTransplant_CAN\n",
    "- Combined IntropesIV_CountTotal_CAN"
   ]
  },
  {
   "cell_type": "code",
   "execution_count": 144,
   "id": "43176294-74ed-44d6-b059-9c8a396528cc",
   "metadata": {},
   "outputs": [
    {
     "name": "stdout",
     "output_type": "stream",
     "text": [
      "                            count  unique  top   freq\n",
      "IntropesIVRegistration_CAN  16126       2    0  10594\n",
      "IntropesIVTransplant_CAN    16126       2    0   9890\n"
     ]
    }
   ],
   "source": [
    "features = getFeatureList(df, 'IntropesIV')"
   ]
  },
  {
   "cell_type": "code",
   "execution_count": 145,
   "id": "6f2dbb98-d5f9-411e-aed7-51d5e232f1fa",
   "metadata": {},
   "outputs": [
    {
     "data": {
      "text/html": [
       "<div>\n",
       "<style scoped>\n",
       "    .dataframe tbody tr th:only-of-type {\n",
       "        vertical-align: middle;\n",
       "    }\n",
       "\n",
       "    .dataframe tbody tr th {\n",
       "        vertical-align: top;\n",
       "    }\n",
       "\n",
       "    .dataframe thead th {\n",
       "        text-align: right;\n",
       "    }\n",
       "</style>\n",
       "<table border=\"1\" class=\"dataframe\">\n",
       "  <thead>\n",
       "    <tr style=\"text-align: right;\">\n",
       "      <th></th>\n",
       "      <th>column1</th>\n",
       "      <th>column2</th>\n",
       "      <th>chi2</th>\n",
       "      <th>p_value</th>\n",
       "      <th>cramer_v</th>\n",
       "    </tr>\n",
       "  </thead>\n",
       "  <tbody>\n",
       "    <tr>\n",
       "      <th>0</th>\n",
       "      <td>IntropesIVRegistration_CAN</td>\n",
       "      <td>IntropesIVTransplant_CAN</td>\n",
       "      <td>4010.613582</td>\n",
       "      <td>0.0</td>\n",
       "      <td>0.498703</td>\n",
       "    </tr>\n",
       "  </tbody>\n",
       "</table>\n",
       "</div>"
      ],
      "text/plain": [
       "                      column1                   column2         chi2  p_value  \\\n",
       "0  IntropesIVRegistration_CAN  IntropesIVTransplant_CAN  4010.613582      0.0   \n",
       "\n",
       "   cramer_v  \n",
       "0  0.498703  "
      ]
     },
     "execution_count": 145,
     "metadata": {},
     "output_type": "execute_result"
    }
   ],
   "source": [
    "# test of Independence for Categorical Variables\n",
    "usf.pairColsMultiIndependenceCat(df, features)"
   ]
  },
  {
   "cell_type": "code",
   "execution_count": 146,
   "id": "a3fdd6b9-6ec3-4aec-9b9e-69b9f5ddf2e6",
   "metadata": {},
   "outputs": [
    {
     "data": {
      "text/html": [
       "<div>\n",
       "<style scoped>\n",
       "    .dataframe tbody tr th:only-of-type {\n",
       "        vertical-align: middle;\n",
       "    }\n",
       "\n",
       "    .dataframe tbody tr th {\n",
       "        vertical-align: top;\n",
       "    }\n",
       "\n",
       "    .dataframe thead th {\n",
       "        text-align: right;\n",
       "    }\n",
       "</style>\n",
       "<table border=\"1\" class=\"dataframe\">\n",
       "  <thead>\n",
       "    <tr style=\"text-align: right;\">\n",
       "      <th></th>\n",
       "      <th>Feature</th>\n",
       "      <th>Description</th>\n",
       "      <th>Form</th>\n",
       "      <th>FeatureStartDate</th>\n",
       "      <th>FeatureEndDate</th>\n",
       "      <th>FormSection</th>\n",
       "      <th>DataType</th>\n",
       "      <th>SASAnalysisFormat</th>\n",
       "      <th>Comment</th>\n",
       "      <th>OrginalFeature</th>\n",
       "      <th>FeatureType</th>\n",
       "      <th>Information</th>\n",
       "    </tr>\n",
       "  </thead>\n",
       "  <tbody>\n",
       "    <tr>\n",
       "      <th>183</th>\n",
       "      <td>IntropesIVRegistration_CAN</td>\n",
       "      <td>IV INOTROPES @ REGISTRATION</td>\n",
       "      <td>TCR</td>\n",
       "      <td>1994-04-01</td>\n",
       "      <td>NaT</td>\n",
       "      <td>CANDIDATE INFORMATION</td>\n",
       "      <td>NUM</td>\n",
       "      <td></td>\n",
       "      <td></td>\n",
       "      <td>INOTROPES_TCR</td>\n",
       "      <td>Category</td>\n",
       "      <td></td>\n",
       "    </tr>\n",
       "    <tr>\n",
       "      <th>184</th>\n",
       "      <td>IntropesIVTransplant_CAN</td>\n",
       "      <td>IV INOTROPES @ TRANSPLANT</td>\n",
       "      <td>TRR</td>\n",
       "      <td>1994-04-01</td>\n",
       "      <td>NaT</td>\n",
       "      <td>PATIENT STATUS</td>\n",
       "      <td>NUM</td>\n",
       "      <td></td>\n",
       "      <td></td>\n",
       "      <td>INOTROPES_TRR</td>\n",
       "      <td>Category</td>\n",
       "      <td></td>\n",
       "    </tr>\n",
       "  </tbody>\n",
       "</table>\n",
       "</div>"
      ],
      "text/plain": [
       "                        Feature                  Description Form  \\\n",
       "183  IntropesIVRegistration_CAN  IV INOTROPES @ REGISTRATION  TCR   \n",
       "184    IntropesIVTransplant_CAN    IV INOTROPES @ TRANSPLANT  TRR   \n",
       "\n",
       "    FeatureStartDate FeatureEndDate            FormSection DataType  \\\n",
       "183       1994-04-01            NaT  CANDIDATE INFORMATION      NUM   \n",
       "184       1994-04-01            NaT         PATIENT STATUS      NUM   \n",
       "\n",
       "    SASAnalysisFormat Comment OrginalFeature FeatureType Information  \n",
       "183                            INOTROPES_TCR    Category              \n",
       "184                            INOTROPES_TRR    Category              "
      ]
     },
     "execution_count": 146,
     "metadata": {},
     "output_type": "execute_result"
    }
   ],
   "source": [
    "df_dict[df_dict.Feature.isin(features)]"
   ]
  },
  {
   "cell_type": "code",
   "execution_count": 147,
   "id": "b71b9705-8219-44de-9834-e01592acb0ba",
   "metadata": {},
   "outputs": [
    {
     "name": "stdout",
     "output_type": "stream",
     "text": [
      "Survival                      Dead  Living  Row Total     Dead %   Living %\n",
      "IntropesIVRegistration_CAN                                                 \n",
      "0                           5270.0  5324.0    10594.0  49.745139  50.254861\n",
      "1                           2582.0  2950.0     5532.0  46.673897  53.326103\n",
      "Column Total                7852.0  8274.0    16126.0  48.691554  51.308446\n",
      "\n",
      "\n",
      "Survival                    Dead  Living  Row Total     Dead %   Living %\n",
      "IntropesIVTransplant_CAN                                                 \n",
      "0                         4888.0  5002.0     9890.0  49.423660  50.576340\n",
      "1                         2964.0  3272.0     6236.0  47.530468  52.469532\n",
      "Column Total              7852.0  8274.0    16126.0  48.691554  51.308446\n",
      "\n",
      "\n"
     ]
    }
   ],
   "source": [
    "for col in features:\n",
    "    print(uf.categoryContingencySurvival(df, col, 'Survival').to_string())\n",
    "    print(\"\\n\")"
   ]
  },
  {
   "cell_type": "code",
   "execution_count": 148,
   "id": "58feb725-a18a-4e95-8058-6ad771e2bb7e",
   "metadata": {},
   "outputs": [],
   "source": [
    "# new feature\n",
    "df['IntropesIV_CountTotal_CAN'] = df[features].apply(lambda row: sum(1 for value in row if value == 1), axis=1)\n",
    "\n",
    "# update DataFrame\n",
    "df_drop  = uf.insertIntoDataFrame(df_drop, features)\n",
    "df_can  = uf.insertIntoDataFrame(df_can, ['IntropesIV_CountTotal_CAN'])\n",
    "df_ordinal  = uf.insertIntoDataFrame(df_ordinal, ['IntropesIV_CountTotal_CAN'])\n",
    "\n",
    "# change datatype to category\n",
    "df = uf.toCategory(df, ['IntropesIV_CountTotal_CAN'])"
   ]
  },
  {
   "cell_type": "code",
   "execution_count": 149,
   "id": "337f81e4-d322-48a9-980b-23d48e748b50",
   "metadata": {},
   "outputs": [
    {
     "data": {
      "text/html": [
       "<div>\n",
       "<style scoped>\n",
       "    .dataframe tbody tr th:only-of-type {\n",
       "        vertical-align: middle;\n",
       "    }\n",
       "\n",
       "    .dataframe tbody tr th {\n",
       "        vertical-align: top;\n",
       "    }\n",
       "\n",
       "    .dataframe thead th {\n",
       "        text-align: right;\n",
       "    }\n",
       "</style>\n",
       "<table border=\"1\" class=\"dataframe\">\n",
       "  <thead>\n",
       "    <tr style=\"text-align: right;\">\n",
       "      <th>Survival</th>\n",
       "      <th>Dead</th>\n",
       "      <th>Living</th>\n",
       "      <th>Row Total</th>\n",
       "      <th>Dead %</th>\n",
       "      <th>Living %</th>\n",
       "    </tr>\n",
       "    <tr>\n",
       "      <th>IntropesIV_CountTotal_CAN</th>\n",
       "      <th></th>\n",
       "      <th></th>\n",
       "      <th></th>\n",
       "      <th></th>\n",
       "      <th></th>\n",
       "    </tr>\n",
       "  </thead>\n",
       "  <tbody>\n",
       "    <tr>\n",
       "      <th>0</th>\n",
       "      <td>4186.0</td>\n",
       "      <td>4171.0</td>\n",
       "      <td>8357.0</td>\n",
       "      <td>50.089745</td>\n",
       "      <td>49.910255</td>\n",
       "    </tr>\n",
       "    <tr>\n",
       "      <th>1</th>\n",
       "      <td>1786.0</td>\n",
       "      <td>1984.0</td>\n",
       "      <td>3770.0</td>\n",
       "      <td>47.374005</td>\n",
       "      <td>52.625995</td>\n",
       "    </tr>\n",
       "    <tr>\n",
       "      <th>2</th>\n",
       "      <td>1880.0</td>\n",
       "      <td>2119.0</td>\n",
       "      <td>3999.0</td>\n",
       "      <td>47.011753</td>\n",
       "      <td>52.988247</td>\n",
       "    </tr>\n",
       "    <tr>\n",
       "      <th>Column Total</th>\n",
       "      <td>7852.0</td>\n",
       "      <td>8274.0</td>\n",
       "      <td>16126.0</td>\n",
       "      <td>48.691554</td>\n",
       "      <td>51.308446</td>\n",
       "    </tr>\n",
       "  </tbody>\n",
       "</table>\n",
       "</div>"
      ],
      "text/plain": [
       "Survival                     Dead  Living  Row Total     Dead %   Living %\n",
       "IntropesIV_CountTotal_CAN                                                 \n",
       "0                          4186.0  4171.0     8357.0  50.089745  49.910255\n",
       "1                          1786.0  1984.0     3770.0  47.374005  52.625995\n",
       "2                          1880.0  2119.0     3999.0  47.011753  52.988247\n",
       "Column Total               7852.0  8274.0    16126.0  48.691554  51.308446"
      ]
     },
     "execution_count": 149,
     "metadata": {},
     "output_type": "execute_result"
    }
   ],
   "source": [
    "uf.categoryContingencySurvival(df, 'IntropesIV_CountTotal_CAN')"
   ]
  },
  {
   "cell_type": "markdown",
   "id": "e06874aa-9357-42a6-ac77-0ab9df283bb4",
   "metadata": {},
   "source": [
    "#### IntropesVasodilators\n",
    "- Combined IntropesVasodilators_CountTotal_CAN"
   ]
  },
  {
   "cell_type": "code",
   "execution_count": 150,
   "id": "463b2a7e-065d-4baf-81f4-b8ec9fe05880",
   "metadata": {},
   "outputs": [
    {
     "name": "stdout",
     "output_type": "stream",
     "text": [
      "                                          count unique top  freq\n",
      "IntropesVasodilatorsRegistration_SYS_CAN  16126      3  No  9137\n",
      "IntropesVasodilatorsRegistration_DIA_CAN  16126      3  No  9134\n",
      "IntropesVasodilatorsRegistration_MN_CAN   16126      3  No  9113\n",
      "IntropesVasodilatorsRegistration_PCW_CAN  16126      3  No  9060\n",
      "IntropesVasodilatorsRegistration_CO_CAN   16126      3  No  9031\n",
      "IntropesVasodilatorsTransplant_CO_CAN     16126      3  No  8554\n",
      "IntropesVasodilatorsTransplant_DIA_CAN    16126      3  No  8622\n",
      "IntropesVasodilatorsTransplant_MN_CAN     16126      3  No  8548\n",
      "IntropesVasodilatorsTransplant_PCW_CAN    16126      3  No  8557\n",
      "IntropesVasodilatorsTransplant_SYS_CAN    16126      3  No  8628\n"
     ]
    }
   ],
   "source": [
    "features = getFeatureList(df, 'IntropesVasodilators')"
   ]
  },
  {
   "cell_type": "code",
   "execution_count": 151,
   "id": "75eca4ec-16e4-42eb-bf4a-987b718243dc",
   "metadata": {},
   "outputs": [
    {
     "data": {
      "text/html": [
       "<div>\n",
       "<style scoped>\n",
       "    .dataframe tbody tr th:only-of-type {\n",
       "        vertical-align: middle;\n",
       "    }\n",
       "\n",
       "    .dataframe tbody tr th {\n",
       "        vertical-align: top;\n",
       "    }\n",
       "\n",
       "    .dataframe thead th {\n",
       "        text-align: right;\n",
       "    }\n",
       "</style>\n",
       "<table border=\"1\" class=\"dataframe\">\n",
       "  <thead>\n",
       "    <tr style=\"text-align: right;\">\n",
       "      <th></th>\n",
       "      <th>column1</th>\n",
       "      <th>column2</th>\n",
       "      <th>chi2</th>\n",
       "      <th>p_value</th>\n",
       "      <th>cramer_v</th>\n",
       "    </tr>\n",
       "  </thead>\n",
       "  <tbody>\n",
       "    <tr>\n",
       "      <th>41</th>\n",
       "      <td>IntropesVasodilatorsTransplant_DIA_CAN</td>\n",
       "      <td>IntropesVasodilatorsTransplant_SYS_CAN</td>\n",
       "      <td>32062.886816</td>\n",
       "      <td>0.0</td>\n",
       "      <td>0.997064</td>\n",
       "    </tr>\n",
       "    <tr>\n",
       "      <th>0</th>\n",
       "      <td>IntropesVasodilatorsRegistration_SYS_CAN</td>\n",
       "      <td>IntropesVasodilatorsRegistration_DIA_CAN</td>\n",
       "      <td>31732.976835</td>\n",
       "      <td>0.0</td>\n",
       "      <td>0.991921</td>\n",
       "    </tr>\n",
       "    <tr>\n",
       "      <th>43</th>\n",
       "      <td>IntropesVasodilatorsTransplant_MN_CAN</td>\n",
       "      <td>IntropesVasodilatorsTransplant_SYS_CAN</td>\n",
       "      <td>27590.705166</td>\n",
       "      <td>0.0</td>\n",
       "      <td>0.924918</td>\n",
       "    </tr>\n",
       "    <tr>\n",
       "      <th>39</th>\n",
       "      <td>IntropesVasodilatorsTransplant_DIA_CAN</td>\n",
       "      <td>IntropesVasodilatorsTransplant_MN_CAN</td>\n",
       "      <td>27580.535778</td>\n",
       "      <td>0.0</td>\n",
       "      <td>0.924747</td>\n",
       "    </tr>\n",
       "    <tr>\n",
       "      <th>9</th>\n",
       "      <td>IntropesVasodilatorsRegistration_DIA_CAN</td>\n",
       "      <td>IntropesVasodilatorsRegistration_MN_CAN</td>\n",
       "      <td>26151.246676</td>\n",
       "      <td>0.0</td>\n",
       "      <td>0.900467</td>\n",
       "    </tr>\n",
       "    <tr>\n",
       "      <th>1</th>\n",
       "      <td>IntropesVasodilatorsRegistration_SYS_CAN</td>\n",
       "      <td>IntropesVasodilatorsRegistration_MN_CAN</td>\n",
       "      <td>26114.063256</td>\n",
       "      <td>0.0</td>\n",
       "      <td>0.899827</td>\n",
       "    </tr>\n",
       "    <tr>\n",
       "      <th>38</th>\n",
       "      <td>IntropesVasodilatorsTransplant_CO_CAN</td>\n",
       "      <td>IntropesVasodilatorsTransplant_SYS_CAN</td>\n",
       "      <td>25561.594146</td>\n",
       "      <td>0.0</td>\n",
       "      <td>0.890258</td>\n",
       "    </tr>\n",
       "    <tr>\n",
       "      <th>35</th>\n",
       "      <td>IntropesVasodilatorsTransplant_CO_CAN</td>\n",
       "      <td>IntropesVasodilatorsTransplant_DIA_CAN</td>\n",
       "      <td>25467.177525</td>\n",
       "      <td>0.0</td>\n",
       "      <td>0.888612</td>\n",
       "    </tr>\n",
       "    <tr>\n",
       "      <th>36</th>\n",
       "      <td>IntropesVasodilatorsTransplant_CO_CAN</td>\n",
       "      <td>IntropesVasodilatorsTransplant_MN_CAN</td>\n",
       "      <td>23919.380452</td>\n",
       "      <td>0.0</td>\n",
       "      <td>0.861185</td>\n",
       "    </tr>\n",
       "    <tr>\n",
       "      <th>3</th>\n",
       "      <td>IntropesVasodilatorsRegistration_SYS_CAN</td>\n",
       "      <td>IntropesVasodilatorsRegistration_CO_CAN</td>\n",
       "      <td>22863.284394</td>\n",
       "      <td>0.0</td>\n",
       "      <td>0.841959</td>\n",
       "    </tr>\n",
       "    <tr>\n",
       "      <th>11</th>\n",
       "      <td>IntropesVasodilatorsRegistration_DIA_CAN</td>\n",
       "      <td>IntropesVasodilatorsRegistration_CO_CAN</td>\n",
       "      <td>22800.592921</td>\n",
       "      <td>0.0</td>\n",
       "      <td>0.840804</td>\n",
       "    </tr>\n",
       "    <tr>\n",
       "      <th>18</th>\n",
       "      <td>IntropesVasodilatorsRegistration_MN_CAN</td>\n",
       "      <td>IntropesVasodilatorsRegistration_CO_CAN</td>\n",
       "      <td>21977.692565</td>\n",
       "      <td>0.0</td>\n",
       "      <td>0.825492</td>\n",
       "    </tr>\n",
       "    <tr>\n",
       "      <th>37</th>\n",
       "      <td>IntropesVasodilatorsTransplant_CO_CAN</td>\n",
       "      <td>IntropesVasodilatorsTransplant_PCW_CAN</td>\n",
       "      <td>21758.384630</td>\n",
       "      <td>0.0</td>\n",
       "      <td>0.821363</td>\n",
       "    </tr>\n",
       "    <tr>\n",
       "      <th>44</th>\n",
       "      <td>IntropesVasodilatorsTransplant_PCW_CAN</td>\n",
       "      <td>IntropesVasodilatorsTransplant_SYS_CAN</td>\n",
       "      <td>21597.956169</td>\n",
       "      <td>0.0</td>\n",
       "      <td>0.818329</td>\n",
       "    </tr>\n",
       "    <tr>\n",
       "      <th>40</th>\n",
       "      <td>IntropesVasodilatorsTransplant_DIA_CAN</td>\n",
       "      <td>IntropesVasodilatorsTransplant_PCW_CAN</td>\n",
       "      <td>21547.624618</td>\n",
       "      <td>0.0</td>\n",
       "      <td>0.817375</td>\n",
       "    </tr>\n",
       "    <tr>\n",
       "      <th>42</th>\n",
       "      <td>IntropesVasodilatorsTransplant_MN_CAN</td>\n",
       "      <td>IntropesVasodilatorsTransplant_PCW_CAN</td>\n",
       "      <td>21221.436742</td>\n",
       "      <td>0.0</td>\n",
       "      <td>0.811165</td>\n",
       "    </tr>\n",
       "    <tr>\n",
       "      <th>2</th>\n",
       "      <td>IntropesVasodilatorsRegistration_SYS_CAN</td>\n",
       "      <td>IntropesVasodilatorsRegistration_PCW_CAN</td>\n",
       "      <td>18871.850002</td>\n",
       "      <td>0.0</td>\n",
       "      <td>0.764943</td>\n",
       "    </tr>\n",
       "    <tr>\n",
       "      <th>10</th>\n",
       "      <td>IntropesVasodilatorsRegistration_DIA_CAN</td>\n",
       "      <td>IntropesVasodilatorsRegistration_PCW_CAN</td>\n",
       "      <td>18803.164756</td>\n",
       "      <td>0.0</td>\n",
       "      <td>0.763549</td>\n",
       "    </tr>\n",
       "    <tr>\n",
       "      <th>24</th>\n",
       "      <td>IntropesVasodilatorsRegistration_PCW_CAN</td>\n",
       "      <td>IntropesVasodilatorsRegistration_CO_CAN</td>\n",
       "      <td>18719.265065</td>\n",
       "      <td>0.0</td>\n",
       "      <td>0.761844</td>\n",
       "    </tr>\n",
       "    <tr>\n",
       "      <th>17</th>\n",
       "      <td>IntropesVasodilatorsRegistration_MN_CAN</td>\n",
       "      <td>IntropesVasodilatorsRegistration_PCW_CAN</td>\n",
       "      <td>18667.566747</td>\n",
       "      <td>0.0</td>\n",
       "      <td>0.760791</td>\n",
       "    </tr>\n",
       "    <tr>\n",
       "      <th>8</th>\n",
       "      <td>IntropesVasodilatorsRegistration_SYS_CAN</td>\n",
       "      <td>IntropesVasodilatorsTransplant_SYS_CAN</td>\n",
       "      <td>6431.087921</td>\n",
       "      <td>0.0</td>\n",
       "      <td>0.446544</td>\n",
       "    </tr>\n",
       "    <tr>\n",
       "      <th>16</th>\n",
       "      <td>IntropesVasodilatorsRegistration_DIA_CAN</td>\n",
       "      <td>IntropesVasodilatorsTransplant_SYS_CAN</td>\n",
       "      <td>6415.715919</td>\n",
       "      <td>0.0</td>\n",
       "      <td>0.446010</td>\n",
       "    </tr>\n",
       "    <tr>\n",
       "      <th>13</th>\n",
       "      <td>IntropesVasodilatorsRegistration_DIA_CAN</td>\n",
       "      <td>IntropesVasodilatorsTransplant_DIA_CAN</td>\n",
       "      <td>6406.416030</td>\n",
       "      <td>0.0</td>\n",
       "      <td>0.445686</td>\n",
       "    </tr>\n",
       "    <tr>\n",
       "      <th>5</th>\n",
       "      <td>IntropesVasodilatorsRegistration_SYS_CAN</td>\n",
       "      <td>IntropesVasodilatorsTransplant_DIA_CAN</td>\n",
       "      <td>6384.108533</td>\n",
       "      <td>0.0</td>\n",
       "      <td>0.444910</td>\n",
       "    </tr>\n",
       "    <tr>\n",
       "      <th>30</th>\n",
       "      <td>IntropesVasodilatorsRegistration_CO_CAN</td>\n",
       "      <td>IntropesVasodilatorsTransplant_CO_CAN</td>\n",
       "      <td>5746.077767</td>\n",
       "      <td>0.0</td>\n",
       "      <td>0.422092</td>\n",
       "    </tr>\n",
       "    <tr>\n",
       "      <th>21</th>\n",
       "      <td>IntropesVasodilatorsRegistration_MN_CAN</td>\n",
       "      <td>IntropesVasodilatorsTransplant_MN_CAN</td>\n",
       "      <td>5602.866344</td>\n",
       "      <td>0.0</td>\n",
       "      <td>0.416799</td>\n",
       "    </tr>\n",
       "    <tr>\n",
       "      <th>6</th>\n",
       "      <td>IntropesVasodilatorsRegistration_SYS_CAN</td>\n",
       "      <td>IntropesVasodilatorsTransplant_MN_CAN</td>\n",
       "      <td>5475.946825</td>\n",
       "      <td>0.0</td>\n",
       "      <td>0.412051</td>\n",
       "    </tr>\n",
       "    <tr>\n",
       "      <th>14</th>\n",
       "      <td>IntropesVasodilatorsRegistration_DIA_CAN</td>\n",
       "      <td>IntropesVasodilatorsTransplant_MN_CAN</td>\n",
       "      <td>5468.992822</td>\n",
       "      <td>0.0</td>\n",
       "      <td>0.411790</td>\n",
       "    </tr>\n",
       "    <tr>\n",
       "      <th>28</th>\n",
       "      <td>IntropesVasodilatorsRegistration_PCW_CAN</td>\n",
       "      <td>IntropesVasodilatorsTransplant_PCW_CAN</td>\n",
       "      <td>5451.821116</td>\n",
       "      <td>0.0</td>\n",
       "      <td>0.411143</td>\n",
       "    </tr>\n",
       "    <tr>\n",
       "      <th>23</th>\n",
       "      <td>IntropesVasodilatorsRegistration_MN_CAN</td>\n",
       "      <td>IntropesVasodilatorsTransplant_SYS_CAN</td>\n",
       "      <td>5401.020898</td>\n",
       "      <td>0.0</td>\n",
       "      <td>0.409223</td>\n",
       "    </tr>\n",
       "    <tr>\n",
       "      <th>20</th>\n",
       "      <td>IntropesVasodilatorsRegistration_MN_CAN</td>\n",
       "      <td>IntropesVasodilatorsTransplant_DIA_CAN</td>\n",
       "      <td>5367.734275</td>\n",
       "      <td>0.0</td>\n",
       "      <td>0.407960</td>\n",
       "    </tr>\n",
       "    <tr>\n",
       "      <th>4</th>\n",
       "      <td>IntropesVasodilatorsRegistration_SYS_CAN</td>\n",
       "      <td>IntropesVasodilatorsTransplant_CO_CAN</td>\n",
       "      <td>5215.424952</td>\n",
       "      <td>0.0</td>\n",
       "      <td>0.402130</td>\n",
       "    </tr>\n",
       "    <tr>\n",
       "      <th>12</th>\n",
       "      <td>IntropesVasodilatorsRegistration_DIA_CAN</td>\n",
       "      <td>IntropesVasodilatorsTransplant_CO_CAN</td>\n",
       "      <td>5208.723097</td>\n",
       "      <td>0.0</td>\n",
       "      <td>0.401872</td>\n",
       "    </tr>\n",
       "    <tr>\n",
       "      <th>34</th>\n",
       "      <td>IntropesVasodilatorsRegistration_CO_CAN</td>\n",
       "      <td>IntropesVasodilatorsTransplant_SYS_CAN</td>\n",
       "      <td>4950.483359</td>\n",
       "      <td>0.0</td>\n",
       "      <td>0.391783</td>\n",
       "    </tr>\n",
       "    <tr>\n",
       "      <th>31</th>\n",
       "      <td>IntropesVasodilatorsRegistration_CO_CAN</td>\n",
       "      <td>IntropesVasodilatorsTransplant_DIA_CAN</td>\n",
       "      <td>4933.027900</td>\n",
       "      <td>0.0</td>\n",
       "      <td>0.391092</td>\n",
       "    </tr>\n",
       "    <tr>\n",
       "      <th>19</th>\n",
       "      <td>IntropesVasodilatorsRegistration_MN_CAN</td>\n",
       "      <td>IntropesVasodilatorsTransplant_CO_CAN</td>\n",
       "      <td>4890.923947</td>\n",
       "      <td>0.0</td>\n",
       "      <td>0.389419</td>\n",
       "    </tr>\n",
       "    <tr>\n",
       "      <th>32</th>\n",
       "      <td>IntropesVasodilatorsRegistration_CO_CAN</td>\n",
       "      <td>IntropesVasodilatorsTransplant_MN_CAN</td>\n",
       "      <td>4776.139715</td>\n",
       "      <td>0.0</td>\n",
       "      <td>0.384822</td>\n",
       "    </tr>\n",
       "    <tr>\n",
       "      <th>15</th>\n",
       "      <td>IntropesVasodilatorsRegistration_DIA_CAN</td>\n",
       "      <td>IntropesVasodilatorsTransplant_PCW_CAN</td>\n",
       "      <td>4635.563697</td>\n",
       "      <td>0.0</td>\n",
       "      <td>0.379117</td>\n",
       "    </tr>\n",
       "    <tr>\n",
       "      <th>7</th>\n",
       "      <td>IntropesVasodilatorsRegistration_SYS_CAN</td>\n",
       "      <td>IntropesVasodilatorsTransplant_PCW_CAN</td>\n",
       "      <td>4613.959805</td>\n",
       "      <td>0.0</td>\n",
       "      <td>0.378232</td>\n",
       "    </tr>\n",
       "    <tr>\n",
       "      <th>22</th>\n",
       "      <td>IntropesVasodilatorsRegistration_MN_CAN</td>\n",
       "      <td>IntropesVasodilatorsTransplant_PCW_CAN</td>\n",
       "      <td>4558.552811</td>\n",
       "      <td>0.0</td>\n",
       "      <td>0.375954</td>\n",
       "    </tr>\n",
       "    <tr>\n",
       "      <th>33</th>\n",
       "      <td>IntropesVasodilatorsRegistration_CO_CAN</td>\n",
       "      <td>IntropesVasodilatorsTransplant_PCW_CAN</td>\n",
       "      <td>4420.210492</td>\n",
       "      <td>0.0</td>\n",
       "      <td>0.370206</td>\n",
       "    </tr>\n",
       "    <tr>\n",
       "      <th>25</th>\n",
       "      <td>IntropesVasodilatorsRegistration_PCW_CAN</td>\n",
       "      <td>IntropesVasodilatorsTransplant_CO_CAN</td>\n",
       "      <td>4173.044669</td>\n",
       "      <td>0.0</td>\n",
       "      <td>0.359706</td>\n",
       "    </tr>\n",
       "    <tr>\n",
       "      <th>27</th>\n",
       "      <td>IntropesVasodilatorsRegistration_PCW_CAN</td>\n",
       "      <td>IntropesVasodilatorsTransplant_MN_CAN</td>\n",
       "      <td>4137.412098</td>\n",
       "      <td>0.0</td>\n",
       "      <td>0.358167</td>\n",
       "    </tr>\n",
       "    <tr>\n",
       "      <th>29</th>\n",
       "      <td>IntropesVasodilatorsRegistration_PCW_CAN</td>\n",
       "      <td>IntropesVasodilatorsTransplant_SYS_CAN</td>\n",
       "      <td>4101.825107</td>\n",
       "      <td>0.0</td>\n",
       "      <td>0.356624</td>\n",
       "    </tr>\n",
       "    <tr>\n",
       "      <th>26</th>\n",
       "      <td>IntropesVasodilatorsRegistration_PCW_CAN</td>\n",
       "      <td>IntropesVasodilatorsTransplant_DIA_CAN</td>\n",
       "      <td>4085.103503</td>\n",
       "      <td>0.0</td>\n",
       "      <td>0.355896</td>\n",
       "    </tr>\n",
       "  </tbody>\n",
       "</table>\n",
       "</div>"
      ],
      "text/plain": [
       "                                     column1  \\\n",
       "41    IntropesVasodilatorsTransplant_DIA_CAN   \n",
       "0   IntropesVasodilatorsRegistration_SYS_CAN   \n",
       "43     IntropesVasodilatorsTransplant_MN_CAN   \n",
       "39    IntropesVasodilatorsTransplant_DIA_CAN   \n",
       "9   IntropesVasodilatorsRegistration_DIA_CAN   \n",
       "1   IntropesVasodilatorsRegistration_SYS_CAN   \n",
       "38     IntropesVasodilatorsTransplant_CO_CAN   \n",
       "35     IntropesVasodilatorsTransplant_CO_CAN   \n",
       "36     IntropesVasodilatorsTransplant_CO_CAN   \n",
       "3   IntropesVasodilatorsRegistration_SYS_CAN   \n",
       "11  IntropesVasodilatorsRegistration_DIA_CAN   \n",
       "18   IntropesVasodilatorsRegistration_MN_CAN   \n",
       "37     IntropesVasodilatorsTransplant_CO_CAN   \n",
       "44    IntropesVasodilatorsTransplant_PCW_CAN   \n",
       "40    IntropesVasodilatorsTransplant_DIA_CAN   \n",
       "42     IntropesVasodilatorsTransplant_MN_CAN   \n",
       "2   IntropesVasodilatorsRegistration_SYS_CAN   \n",
       "10  IntropesVasodilatorsRegistration_DIA_CAN   \n",
       "24  IntropesVasodilatorsRegistration_PCW_CAN   \n",
       "17   IntropesVasodilatorsRegistration_MN_CAN   \n",
       "8   IntropesVasodilatorsRegistration_SYS_CAN   \n",
       "16  IntropesVasodilatorsRegistration_DIA_CAN   \n",
       "13  IntropesVasodilatorsRegistration_DIA_CAN   \n",
       "5   IntropesVasodilatorsRegistration_SYS_CAN   \n",
       "30   IntropesVasodilatorsRegistration_CO_CAN   \n",
       "21   IntropesVasodilatorsRegistration_MN_CAN   \n",
       "6   IntropesVasodilatorsRegistration_SYS_CAN   \n",
       "14  IntropesVasodilatorsRegistration_DIA_CAN   \n",
       "28  IntropesVasodilatorsRegistration_PCW_CAN   \n",
       "23   IntropesVasodilatorsRegistration_MN_CAN   \n",
       "20   IntropesVasodilatorsRegistration_MN_CAN   \n",
       "4   IntropesVasodilatorsRegistration_SYS_CAN   \n",
       "12  IntropesVasodilatorsRegistration_DIA_CAN   \n",
       "34   IntropesVasodilatorsRegistration_CO_CAN   \n",
       "31   IntropesVasodilatorsRegistration_CO_CAN   \n",
       "19   IntropesVasodilatorsRegistration_MN_CAN   \n",
       "32   IntropesVasodilatorsRegistration_CO_CAN   \n",
       "15  IntropesVasodilatorsRegistration_DIA_CAN   \n",
       "7   IntropesVasodilatorsRegistration_SYS_CAN   \n",
       "22   IntropesVasodilatorsRegistration_MN_CAN   \n",
       "33   IntropesVasodilatorsRegistration_CO_CAN   \n",
       "25  IntropesVasodilatorsRegistration_PCW_CAN   \n",
       "27  IntropesVasodilatorsRegistration_PCW_CAN   \n",
       "29  IntropesVasodilatorsRegistration_PCW_CAN   \n",
       "26  IntropesVasodilatorsRegistration_PCW_CAN   \n",
       "\n",
       "                                     column2          chi2  p_value  cramer_v  \n",
       "41    IntropesVasodilatorsTransplant_SYS_CAN  32062.886816      0.0  0.997064  \n",
       "0   IntropesVasodilatorsRegistration_DIA_CAN  31732.976835      0.0  0.991921  \n",
       "43    IntropesVasodilatorsTransplant_SYS_CAN  27590.705166      0.0  0.924918  \n",
       "39     IntropesVasodilatorsTransplant_MN_CAN  27580.535778      0.0  0.924747  \n",
       "9    IntropesVasodilatorsRegistration_MN_CAN  26151.246676      0.0  0.900467  \n",
       "1    IntropesVasodilatorsRegistration_MN_CAN  26114.063256      0.0  0.899827  \n",
       "38    IntropesVasodilatorsTransplant_SYS_CAN  25561.594146      0.0  0.890258  \n",
       "35    IntropesVasodilatorsTransplant_DIA_CAN  25467.177525      0.0  0.888612  \n",
       "36     IntropesVasodilatorsTransplant_MN_CAN  23919.380452      0.0  0.861185  \n",
       "3    IntropesVasodilatorsRegistration_CO_CAN  22863.284394      0.0  0.841959  \n",
       "11   IntropesVasodilatorsRegistration_CO_CAN  22800.592921      0.0  0.840804  \n",
       "18   IntropesVasodilatorsRegistration_CO_CAN  21977.692565      0.0  0.825492  \n",
       "37    IntropesVasodilatorsTransplant_PCW_CAN  21758.384630      0.0  0.821363  \n",
       "44    IntropesVasodilatorsTransplant_SYS_CAN  21597.956169      0.0  0.818329  \n",
       "40    IntropesVasodilatorsTransplant_PCW_CAN  21547.624618      0.0  0.817375  \n",
       "42    IntropesVasodilatorsTransplant_PCW_CAN  21221.436742      0.0  0.811165  \n",
       "2   IntropesVasodilatorsRegistration_PCW_CAN  18871.850002      0.0  0.764943  \n",
       "10  IntropesVasodilatorsRegistration_PCW_CAN  18803.164756      0.0  0.763549  \n",
       "24   IntropesVasodilatorsRegistration_CO_CAN  18719.265065      0.0  0.761844  \n",
       "17  IntropesVasodilatorsRegistration_PCW_CAN  18667.566747      0.0  0.760791  \n",
       "8     IntropesVasodilatorsTransplant_SYS_CAN   6431.087921      0.0  0.446544  \n",
       "16    IntropesVasodilatorsTransplant_SYS_CAN   6415.715919      0.0  0.446010  \n",
       "13    IntropesVasodilatorsTransplant_DIA_CAN   6406.416030      0.0  0.445686  \n",
       "5     IntropesVasodilatorsTransplant_DIA_CAN   6384.108533      0.0  0.444910  \n",
       "30     IntropesVasodilatorsTransplant_CO_CAN   5746.077767      0.0  0.422092  \n",
       "21     IntropesVasodilatorsTransplant_MN_CAN   5602.866344      0.0  0.416799  \n",
       "6      IntropesVasodilatorsTransplant_MN_CAN   5475.946825      0.0  0.412051  \n",
       "14     IntropesVasodilatorsTransplant_MN_CAN   5468.992822      0.0  0.411790  \n",
       "28    IntropesVasodilatorsTransplant_PCW_CAN   5451.821116      0.0  0.411143  \n",
       "23    IntropesVasodilatorsTransplant_SYS_CAN   5401.020898      0.0  0.409223  \n",
       "20    IntropesVasodilatorsTransplant_DIA_CAN   5367.734275      0.0  0.407960  \n",
       "4      IntropesVasodilatorsTransplant_CO_CAN   5215.424952      0.0  0.402130  \n",
       "12     IntropesVasodilatorsTransplant_CO_CAN   5208.723097      0.0  0.401872  \n",
       "34    IntropesVasodilatorsTransplant_SYS_CAN   4950.483359      0.0  0.391783  \n",
       "31    IntropesVasodilatorsTransplant_DIA_CAN   4933.027900      0.0  0.391092  \n",
       "19     IntropesVasodilatorsTransplant_CO_CAN   4890.923947      0.0  0.389419  \n",
       "32     IntropesVasodilatorsTransplant_MN_CAN   4776.139715      0.0  0.384822  \n",
       "15    IntropesVasodilatorsTransplant_PCW_CAN   4635.563697      0.0  0.379117  \n",
       "7     IntropesVasodilatorsTransplant_PCW_CAN   4613.959805      0.0  0.378232  \n",
       "22    IntropesVasodilatorsTransplant_PCW_CAN   4558.552811      0.0  0.375954  \n",
       "33    IntropesVasodilatorsTransplant_PCW_CAN   4420.210492      0.0  0.370206  \n",
       "25     IntropesVasodilatorsTransplant_CO_CAN   4173.044669      0.0  0.359706  \n",
       "27     IntropesVasodilatorsTransplant_MN_CAN   4137.412098      0.0  0.358167  \n",
       "29    IntropesVasodilatorsTransplant_SYS_CAN   4101.825107      0.0  0.356624  \n",
       "26    IntropesVasodilatorsTransplant_DIA_CAN   4085.103503      0.0  0.355896  "
      ]
     },
     "execution_count": 151,
     "metadata": {},
     "output_type": "execute_result"
    }
   ],
   "source": [
    "# test of Independence for Categorical Variables\n",
    "usf.pairColsMultiIndependenceCat(df, features)"
   ]
  },
  {
   "cell_type": "code",
   "execution_count": 152,
   "id": "f3cf5c7c-7aab-48d7-a9ab-e2ec196329e2",
   "metadata": {},
   "outputs": [],
   "source": [
    "# new feature\n",
    "df['IntropesVasodilators_CountTotal_CAN'] = df[features].apply(lambda row: sum(1 for value in row if value == 'Yes'), axis=1)\n",
    "\n",
    "# update DataFrame\n",
    "df_drop  = uf.insertIntoDataFrame(df_drop, features)\n",
    "df_can  = uf.insertIntoDataFrame(df_can, ['IntropesVasodilators_CountTotal_CAN'])\n",
    "df_ordinal  = uf.insertIntoDataFrame(df_ordinal, ['IntropesVasodilators_CountTotal_CAN'])\n",
    "\n",
    "# change datatype to category\n",
    "df = uf.toCategory(df, ['IntropesVasodilators_CountTotal_CAN'])"
   ]
  },
  {
   "cell_type": "code",
   "execution_count": 153,
   "id": "15ab0373-22c5-4939-ba82-0c0ae20a8728",
   "metadata": {},
   "outputs": [
    {
     "data": {
      "text/html": [
       "<div>\n",
       "<style scoped>\n",
       "    .dataframe tbody tr th:only-of-type {\n",
       "        vertical-align: middle;\n",
       "    }\n",
       "\n",
       "    .dataframe tbody tr th {\n",
       "        vertical-align: top;\n",
       "    }\n",
       "\n",
       "    .dataframe thead th {\n",
       "        text-align: right;\n",
       "    }\n",
       "</style>\n",
       "<table border=\"1\" class=\"dataframe\">\n",
       "  <thead>\n",
       "    <tr style=\"text-align: right;\">\n",
       "      <th>Survival</th>\n",
       "      <th>Dead</th>\n",
       "      <th>Living</th>\n",
       "      <th>Row Total</th>\n",
       "      <th>Dead %</th>\n",
       "      <th>Living %</th>\n",
       "    </tr>\n",
       "    <tr>\n",
       "      <th>IntropesVasodilators_CountTotal_CAN</th>\n",
       "      <th></th>\n",
       "      <th></th>\n",
       "      <th></th>\n",
       "      <th></th>\n",
       "      <th></th>\n",
       "    </tr>\n",
       "  </thead>\n",
       "  <tbody>\n",
       "    <tr>\n",
       "      <th>0</th>\n",
       "      <td>3852.0</td>\n",
       "      <td>3679.0</td>\n",
       "      <td>7531.0</td>\n",
       "      <td>51.148586</td>\n",
       "      <td>48.851414</td>\n",
       "    </tr>\n",
       "    <tr>\n",
       "      <th>1</th>\n",
       "      <td>13.0</td>\n",
       "      <td>17.0</td>\n",
       "      <td>30.0</td>\n",
       "      <td>43.333333</td>\n",
       "      <td>56.666667</td>\n",
       "    </tr>\n",
       "    <tr>\n",
       "      <th>2</th>\n",
       "      <td>11.0</td>\n",
       "      <td>10.0</td>\n",
       "      <td>21.0</td>\n",
       "      <td>52.380952</td>\n",
       "      <td>47.619048</td>\n",
       "    </tr>\n",
       "    <tr>\n",
       "      <th>3</th>\n",
       "      <td>54.0</td>\n",
       "      <td>53.0</td>\n",
       "      <td>107.0</td>\n",
       "      <td>50.467290</td>\n",
       "      <td>49.532710</td>\n",
       "    </tr>\n",
       "    <tr>\n",
       "      <th>4</th>\n",
       "      <td>236.0</td>\n",
       "      <td>196.0</td>\n",
       "      <td>432.0</td>\n",
       "      <td>54.629630</td>\n",
       "      <td>45.370370</td>\n",
       "    </tr>\n",
       "    <tr>\n",
       "      <th>5</th>\n",
       "      <td>1498.0</td>\n",
       "      <td>1955.0</td>\n",
       "      <td>3453.0</td>\n",
       "      <td>43.382566</td>\n",
       "      <td>56.617434</td>\n",
       "    </tr>\n",
       "    <tr>\n",
       "      <th>6</th>\n",
       "      <td>25.0</td>\n",
       "      <td>32.0</td>\n",
       "      <td>57.0</td>\n",
       "      <td>43.859649</td>\n",
       "      <td>56.140351</td>\n",
       "    </tr>\n",
       "    <tr>\n",
       "      <th>7</th>\n",
       "      <td>23.0</td>\n",
       "      <td>17.0</td>\n",
       "      <td>40.0</td>\n",
       "      <td>57.500000</td>\n",
       "      <td>42.500000</td>\n",
       "    </tr>\n",
       "    <tr>\n",
       "      <th>8</th>\n",
       "      <td>172.0</td>\n",
       "      <td>163.0</td>\n",
       "      <td>335.0</td>\n",
       "      <td>51.343284</td>\n",
       "      <td>48.656716</td>\n",
       "    </tr>\n",
       "    <tr>\n",
       "      <th>9</th>\n",
       "      <td>297.0</td>\n",
       "      <td>277.0</td>\n",
       "      <td>574.0</td>\n",
       "      <td>51.742160</td>\n",
       "      <td>48.257840</td>\n",
       "    </tr>\n",
       "    <tr>\n",
       "      <th>10</th>\n",
       "      <td>1671.0</td>\n",
       "      <td>1875.0</td>\n",
       "      <td>3546.0</td>\n",
       "      <td>47.123519</td>\n",
       "      <td>52.876481</td>\n",
       "    </tr>\n",
       "    <tr>\n",
       "      <th>Column Total</th>\n",
       "      <td>7852.0</td>\n",
       "      <td>8274.0</td>\n",
       "      <td>16126.0</td>\n",
       "      <td>48.691554</td>\n",
       "      <td>51.308446</td>\n",
       "    </tr>\n",
       "  </tbody>\n",
       "</table>\n",
       "</div>"
      ],
      "text/plain": [
       "Survival                               Dead  Living  Row Total     Dead %  \\\n",
       "IntropesVasodilators_CountTotal_CAN                                         \n",
       "0                                    3852.0  3679.0     7531.0  51.148586   \n",
       "1                                      13.0    17.0       30.0  43.333333   \n",
       "2                                      11.0    10.0       21.0  52.380952   \n",
       "3                                      54.0    53.0      107.0  50.467290   \n",
       "4                                     236.0   196.0      432.0  54.629630   \n",
       "5                                    1498.0  1955.0     3453.0  43.382566   \n",
       "6                                      25.0    32.0       57.0  43.859649   \n",
       "7                                      23.0    17.0       40.0  57.500000   \n",
       "8                                     172.0   163.0      335.0  51.343284   \n",
       "9                                     297.0   277.0      574.0  51.742160   \n",
       "10                                   1671.0  1875.0     3546.0  47.123519   \n",
       "Column Total                         7852.0  8274.0    16126.0  48.691554   \n",
       "\n",
       "Survival                              Living %  \n",
       "IntropesVasodilators_CountTotal_CAN             \n",
       "0                                    48.851414  \n",
       "1                                    56.666667  \n",
       "2                                    47.619048  \n",
       "3                                    49.532710  \n",
       "4                                    45.370370  \n",
       "5                                    56.617434  \n",
       "6                                    56.140351  \n",
       "7                                    42.500000  \n",
       "8                                    48.656716  \n",
       "9                                    48.257840  \n",
       "10                                   52.876481  \n",
       "Column Total                         51.308446  "
      ]
     },
     "execution_count": 153,
     "metadata": {},
     "output_type": "execute_result"
    }
   ],
   "source": [
    "uf.categoryContingencySurvival(df, 'IntropesVasodilators_CountTotal_CAN')"
   ]
  },
  {
   "cell_type": "markdown",
   "id": "13e60b85-4578-4b21-b3c7-475942982ade",
   "metadata": {
    "jp-MarkdownHeadingCollapsed": true
   },
   "source": [
    "#### IntropicMedicationProcurement_DON"
   ]
  },
  {
   "cell_type": "code",
   "execution_count": 154,
   "id": "8bf2d8de-342d-415d-ac3f-6902f8dec581",
   "metadata": {},
   "outputs": [
    {
     "name": "stdout",
     "output_type": "stream",
     "text": [
      "                                   count unique top   freq\n",
      "IntropicMedicationProcurement_DON  16126      4  No  10266\n"
     ]
    }
   ],
   "source": [
    "features = getFeatureList(df, 'Intropic')"
   ]
  },
  {
   "cell_type": "code",
   "execution_count": 155,
   "id": "c752d001-3271-42d0-a571-bc5a62079869",
   "metadata": {},
   "outputs": [
    {
     "name": "stdout",
     "output_type": "stream",
     "text": [
      "Survival                             Dead  Living  Row Total     Dead %   Living %\n",
      "IntropicMedicationProcurement_DON                                                 \n",
      "Missing                             180.0    12.0      192.0  93.750000   6.250000\n",
      "No                                 5115.0  5151.0    10266.0  49.824664  50.175336\n",
      "Unknown                              14.0    11.0       25.0  56.000000  44.000000\n",
      "Yes                                2543.0  3100.0     5643.0  45.064682  54.935318\n",
      "Column Total                       7852.0  8274.0    16126.0  48.691554  51.308446\n",
      "\n",
      "\n"
     ]
    }
   ],
   "source": [
    "for col in features:\n",
    "    print(uf.categoryContingencySurvival(df, col, 'Survival').to_string())\n",
    "    print(\"\\n\")"
   ]
  },
  {
   "cell_type": "markdown",
   "id": "a55c1823-af56-45a7-9b55-361579d4f928",
   "metadata": {
    "jp-MarkdownHeadingCollapsed": true
   },
   "source": [
    "#### KidneyAllocation_DON"
   ]
  },
  {
   "cell_type": "code",
   "execution_count": 156,
   "id": "d33b3b3d-488e-4096-8915-9c02056b61c4",
   "metadata": {},
   "outputs": [
    {
     "name": "stdout",
     "output_type": "stream",
     "text": [
      "                      count  unique  top   freq\n",
      "KidneyAllocation_DON  16126       3    0  15724\n"
     ]
    }
   ],
   "source": [
    "features = getFeatureList(df, 'Kidney')"
   ]
  },
  {
   "cell_type": "code",
   "execution_count": 157,
   "id": "18ebfb44-d87b-46a3-b186-81078fbf3535",
   "metadata": {},
   "outputs": [
    {
     "name": "stdout",
     "output_type": "stream",
     "text": [
      "Survival                Dead  Living  Row Total     Dead %   Living %\n",
      "KidneyAllocation_DON                                                 \n",
      "0                     7670.0  8054.0    15724.0  48.778937  51.221063\n",
      "1                      181.0   219.0      400.0  45.250000  54.750000\n",
      "999                      1.0     1.0        2.0  50.000000  50.000000\n",
      "Column Total          7852.0  8274.0    16126.0  48.691554  51.308446\n",
      "\n",
      "\n"
     ]
    }
   ],
   "source": [
    "for col in features:\n",
    "    print(uf.categoryContingencySurvival(df, col, 'Survival').to_string())\n",
    "    print(\"\\n\")"
   ]
  },
  {
   "cell_type": "markdown",
   "id": "2b695845-921b-47d0-8e46-146ea01a7438",
   "metadata": {},
   "source": [
    "#### LV_Ejection\n",
    "- LV_EjectionFractionMedthod_DON & LV_EjectionFractionPercent_CAT_DON"
   ]
  },
  {
   "cell_type": "code",
   "execution_count": 158,
   "id": "b86595a8-5445-420e-9081-de62c9dcb59b",
   "metadata": {},
   "outputs": [
    {
     "name": "stdout",
     "output_type": "stream",
     "text": [
      "                                    count unique          top   freq\n",
      "LV_EjectionFractionMedthod_DON      16126      3         Echo  15826\n",
      "LV_EjectionFractionPercent_CAT_DON  16126      5  Normal LVEF  14831\n"
     ]
    }
   ],
   "source": [
    "features = getFeatureList(df, 'LV_Ejection')"
   ]
  },
  {
   "cell_type": "code",
   "execution_count": 159,
   "id": "4f649ecf-5690-4e70-aa88-92d34f9a6dd1",
   "metadata": {},
   "outputs": [
    {
     "data": {
      "text/html": [
       "<div>\n",
       "<style scoped>\n",
       "    .dataframe tbody tr th:only-of-type {\n",
       "        vertical-align: middle;\n",
       "    }\n",
       "\n",
       "    .dataframe tbody tr th {\n",
       "        vertical-align: top;\n",
       "    }\n",
       "\n",
       "    .dataframe thead th {\n",
       "        text-align: right;\n",
       "    }\n",
       "</style>\n",
       "<table border=\"1\" class=\"dataframe\">\n",
       "  <thead>\n",
       "    <tr style=\"text-align: right;\">\n",
       "      <th></th>\n",
       "      <th>column1</th>\n",
       "      <th>column2</th>\n",
       "      <th>chi2</th>\n",
       "      <th>p_value</th>\n",
       "      <th>cramer_v</th>\n",
       "    </tr>\n",
       "  </thead>\n",
       "  <tbody>\n",
       "    <tr>\n",
       "      <th>0</th>\n",
       "      <td>LV_EjectionFractionMedthod_DON</td>\n",
       "      <td>LV_EjectionFractionPercent_CAT_DON</td>\n",
       "      <td>9001.546943</td>\n",
       "      <td>0.0</td>\n",
       "      <td>0.5283</td>\n",
       "    </tr>\n",
       "  </tbody>\n",
       "</table>\n",
       "</div>"
      ],
      "text/plain": [
       "                          column1                             column2  \\\n",
       "0  LV_EjectionFractionMedthod_DON  LV_EjectionFractionPercent_CAT_DON   \n",
       "\n",
       "          chi2  p_value  cramer_v  \n",
       "0  9001.546943      0.0    0.5283  "
      ]
     },
     "execution_count": 159,
     "metadata": {},
     "output_type": "execute_result"
    }
   ],
   "source": [
    "# test of Independence for Categorical Variables\n",
    "usf.pairColsMultiIndependenceCat(df, features)"
   ]
  },
  {
   "cell_type": "code",
   "execution_count": 160,
   "id": "32a0152d-de46-416f-8433-fd755d499f0d",
   "metadata": {},
   "outputs": [
    {
     "name": "stdout",
     "output_type": "stream",
     "text": [
      "Survival                          Dead  Living  Row Total     Dead %   Living %\n",
      "LV_EjectionFractionMedthod_DON                                                 \n",
      "Angiogram                         83.0   190.0      273.0  30.402930  69.597070\n",
      "Echo                            7754.0  8072.0    15826.0  48.995324  51.004676\n",
      "Missing                           15.0    12.0       27.0  55.555556  44.444444\n",
      "Column Total                    7852.0  8274.0    16126.0  48.691554  51.308446\n",
      "\n",
      "\n",
      "Survival                              Dead  Living  Row Total     Dead %   Living %\n",
      "LV_EjectionFractionPercent_CAT_DON                                                 \n",
      "High LVEF                            523.0   537.0     1060.0  49.339623  50.660377\n",
      "Mild Dysfunction                      80.0    94.0      174.0  45.977011  54.022989\n",
      "Missing                                7.0    10.0       17.0  41.176471  58.823529\n",
      "Normal LVEF                         7215.0  7616.0    14831.0  48.648102  51.351898\n",
      "Reduced LVEF                          27.0    17.0       44.0  61.363636  38.636364\n",
      "Column Total                        7852.0  8274.0    16126.0  48.691554  51.308446\n",
      "\n",
      "\n"
     ]
    }
   ],
   "source": [
    "for col in features:\n",
    "    print(uf.categoryContingencySurvival(df, col, 'Survival').to_string())\n",
    "    print(\"\\n\")"
   ]
  },
  {
   "cell_type": "code",
   "execution_count": 161,
   "id": "a486e0d1-5c1c-4283-83bd-299e2e7a7839",
   "metadata": {},
   "outputs": [],
   "source": [
    "# update DataFrame\n",
    "df_drop  = uf.insertIntoDataFrame(df_drop, ['LV_EjectionFractionMedthod_DON'])"
   ]
  },
  {
   "cell_type": "markdown",
   "id": "856ceddb-e4e4-49eb-a22a-7e729d9e0dd1",
   "metadata": {},
   "source": [
    "#### LifeSupport\n",
    "- LifeSupportRegistration_ECMO_CAN & LifeSupportRegistration_IABP_CAN & LifeSupportRegistration_PGE_CAN & LifeSupportMechanismRegistration_OTHER_CAN & LifeSupportRegistration_CAN & LifeSupportInhaledRegistration_CAN\n",
    "- LifeSupportTransplant_ECMO_CAN & LifeSupportTransplant_PGE_CAN & LifeSupportTransplant_IABP_CAN & LifeSupportMechanismTransplant_OTHER_CAN & LifeSupportInhaledTransplant_CAN & LifeSupportTransplant_CAN\n",
    "- LifeSupportInhaled_CAN "
   ]
  },
  {
   "cell_type": "code",
   "execution_count": 162,
   "id": "f5fcbf43-362e-49c8-9e59-688b1c297833",
   "metadata": {},
   "outputs": [
    {
     "name": "stdout",
     "output_type": "stream",
     "text": [
      "                                            count unique  top   freq\n",
      "LifeSupportRegistration_ECMO_CAN            16126      2    0  15682\n",
      "LifeSupportRegistration_IABP_CAN            16126      2    0  14217\n",
      "LifeSupportInhaled_CAN                      16126      2    0  16091\n",
      "LifeSupportRegistration_PGE_CAN             16126      2    0  16119\n",
      "LifeSupportMechanismRegistration_OTHER_CAN  16126      2    0  15314\n",
      "LifeSupportRegistration_CAN                 16126      3  Yes  10558\n",
      "LifeSupportTransplant_ECMO_CAN              16126      2    0  15504\n",
      "LifeSupportTransplant_PGE_CAN               16126      2    0  16107\n",
      "LifeSupportTransplant_IABP_CAN              16126      2    0  12851\n",
      "LifeSupportMechanismTransplant_OTHER_CAN    16126      2    0  15096\n",
      "LifeSupportInhaledTransplant_CAN            16126      2    0  16088\n",
      "LifeSupportInhaledRegistration_CAN          16126      2    0  16091\n",
      "LifeSupportTransplant_CAN                   16126      3  Yes  12891\n"
     ]
    }
   ],
   "source": [
    "features = getFeatureList(df, 'LifeSupportRegistration|LifeSupport')"
   ]
  },
  {
   "cell_type": "code",
   "execution_count": 163,
   "id": "32f69fce-6cf4-4e5f-b1db-5ab379720aa1",
   "metadata": {},
   "outputs": [
    {
     "data": {
      "text/html": [
       "<div>\n",
       "<style scoped>\n",
       "    .dataframe tbody tr th:only-of-type {\n",
       "        vertical-align: middle;\n",
       "    }\n",
       "\n",
       "    .dataframe tbody tr th {\n",
       "        vertical-align: top;\n",
       "    }\n",
       "\n",
       "    .dataframe thead th {\n",
       "        text-align: right;\n",
       "    }\n",
       "</style>\n",
       "<table border=\"1\" class=\"dataframe\">\n",
       "  <thead>\n",
       "    <tr style=\"text-align: right;\">\n",
       "      <th></th>\n",
       "      <th>column1</th>\n",
       "      <th>column2</th>\n",
       "      <th>chi2</th>\n",
       "      <th>p_value</th>\n",
       "      <th>cramer_v</th>\n",
       "    </tr>\n",
       "  </thead>\n",
       "  <tbody>\n",
       "    <tr>\n",
       "      <th>31</th>\n",
       "      <td>LifeSupportInhaled_CAN</td>\n",
       "      <td>LifeSupportInhaledRegistration_CAN</td>\n",
       "      <td>15667.560320</td>\n",
       "      <td>0.000000e+00</td>\n",
       "      <td>0.985683</td>\n",
       "    </tr>\n",
       "    <tr>\n",
       "      <th>5</th>\n",
       "      <td>LifeSupportRegistration_ECMO_CAN</td>\n",
       "      <td>LifeSupportTransplant_ECMO_CAN</td>\n",
       "      <td>7235.608979</td>\n",
       "      <td>0.000000e+00</td>\n",
       "      <td>0.669845</td>\n",
       "    </tr>\n",
       "    <tr>\n",
       "      <th>18</th>\n",
       "      <td>LifeSupportRegistration_IABP_CAN</td>\n",
       "      <td>LifeSupportTransplant_IABP_CAN</td>\n",
       "      <td>4456.840161</td>\n",
       "      <td>0.000000e+00</td>\n",
       "      <td>0.525715</td>\n",
       "    </tr>\n",
       "    <tr>\n",
       "      <th>56</th>\n",
       "      <td>LifeSupportRegistration_CAN</td>\n",
       "      <td>LifeSupportTransplant_CAN</td>\n",
       "      <td>6880.905290</td>\n",
       "      <td>0.000000e+00</td>\n",
       "      <td>0.461896</td>\n",
       "    </tr>\n",
       "    <tr>\n",
       "      <th>46</th>\n",
       "      <td>LifeSupportMechanismRegistration_OTHER_CAN</td>\n",
       "      <td>LifeSupportMechanismTransplant_OTHER_CAN</td>\n",
       "      <td>2414.247613</td>\n",
       "      <td>0.000000e+00</td>\n",
       "      <td>0.386926</td>\n",
       "    </tr>\n",
       "    <tr>\n",
       "      <th>15</th>\n",
       "      <td>LifeSupportRegistration_IABP_CAN</td>\n",
       "      <td>LifeSupportRegistration_CAN</td>\n",
       "      <td>1141.937117</td>\n",
       "      <td>1.075241e-248</td>\n",
       "      <td>0.266108</td>\n",
       "    </tr>\n",
       "    <tr>\n",
       "      <th>71</th>\n",
       "      <td>LifeSupportTransplant_IABP_CAN</td>\n",
       "      <td>LifeSupportTransplant_CAN</td>\n",
       "      <td>1031.308775</td>\n",
       "      <td>1.132779e-224</td>\n",
       "      <td>0.252890</td>\n",
       "    </tr>\n",
       "    <tr>\n",
       "      <th>42</th>\n",
       "      <td>LifeSupportMechanismRegistration_OTHER_CAN</td>\n",
       "      <td>LifeSupportRegistration_CAN</td>\n",
       "      <td>450.932576</td>\n",
       "      <td>1.205689e-98</td>\n",
       "      <td>0.167222</td>\n",
       "    </tr>\n",
       "    <tr>\n",
       "      <th>30</th>\n",
       "      <td>LifeSupportInhaled_CAN</td>\n",
       "      <td>LifeSupportInhaledTransplant_CAN</td>\n",
       "      <td>357.474445</td>\n",
       "      <td>9.988992e-80</td>\n",
       "      <td>0.148888</td>\n",
       "    </tr>\n",
       "    <tr>\n",
       "      <th>75</th>\n",
       "      <td>LifeSupportInhaledTransplant_CAN</td>\n",
       "      <td>LifeSupportInhaledRegistration_CAN</td>\n",
       "      <td>357.474445</td>\n",
       "      <td>9.988992e-80</td>\n",
       "      <td>0.148888</td>\n",
       "    </tr>\n",
       "    <tr>\n",
       "      <th>22</th>\n",
       "      <td>LifeSupportRegistration_IABP_CAN</td>\n",
       "      <td>LifeSupportTransplant_CAN</td>\n",
       "      <td>285.594774</td>\n",
       "      <td>9.635687e-63</td>\n",
       "      <td>0.133080</td>\n",
       "    </tr>\n",
       "    <tr>\n",
       "      <th>74</th>\n",
       "      <td>LifeSupportMechanismTransplant_OTHER_CAN</td>\n",
       "      <td>LifeSupportTransplant_CAN</td>\n",
       "      <td>276.114790</td>\n",
       "      <td>1.102644e-60</td>\n",
       "      <td>0.130852</td>\n",
       "    </tr>\n",
       "    <tr>\n",
       "      <th>4</th>\n",
       "      <td>LifeSupportRegistration_ECMO_CAN</td>\n",
       "      <td>LifeSupportRegistration_CAN</td>\n",
       "      <td>240.782958</td>\n",
       "      <td>5.183762e-53</td>\n",
       "      <td>0.122194</td>\n",
       "    </tr>\n",
       "    <tr>\n",
       "      <th>10</th>\n",
       "      <td>LifeSupportRegistration_ECMO_CAN</td>\n",
       "      <td>LifeSupportInhaledRegistration_CAN</td>\n",
       "      <td>225.971955</td>\n",
       "      <td>4.506353e-51</td>\n",
       "      <td>0.118376</td>\n",
       "    </tr>\n",
       "    <tr>\n",
       "      <th>1</th>\n",
       "      <td>LifeSupportRegistration_ECMO_CAN</td>\n",
       "      <td>LifeSupportInhaled_CAN</td>\n",
       "      <td>225.971955</td>\n",
       "      <td>4.506353e-51</td>\n",
       "      <td>0.118376</td>\n",
       "    </tr>\n",
       "    <tr>\n",
       "      <th>53</th>\n",
       "      <td>LifeSupportRegistration_CAN</td>\n",
       "      <td>LifeSupportMechanismTransplant_OTHER_CAN</td>\n",
       "      <td>191.196948</td>\n",
       "      <td>3.034662e-42</td>\n",
       "      <td>0.108887</td>\n",
       "    </tr>\n",
       "    <tr>\n",
       "      <th>68</th>\n",
       "      <td>LifeSupportTransplant_IABP_CAN</td>\n",
       "      <td>LifeSupportMechanismTransplant_OTHER_CAN</td>\n",
       "      <td>191.082477</td>\n",
       "      <td>1.845242e-43</td>\n",
       "      <td>0.108855</td>\n",
       "    </tr>\n",
       "    <tr>\n",
       "      <th>62</th>\n",
       "      <td>LifeSupportTransplant_ECMO_CAN</td>\n",
       "      <td>LifeSupportTransplant_CAN</td>\n",
       "      <td>162.353239</td>\n",
       "      <td>5.564705e-36</td>\n",
       "      <td>0.100338</td>\n",
       "    </tr>\n",
       "    <tr>\n",
       "      <th>45</th>\n",
       "      <td>LifeSupportMechanismRegistration_OTHER_CAN</td>\n",
       "      <td>LifeSupportTransplant_IABP_CAN</td>\n",
       "      <td>106.722479</td>\n",
       "      <td>5.120850e-25</td>\n",
       "      <td>0.081351</td>\n",
       "    </tr>\n",
       "    <tr>\n",
       "      <th>50</th>\n",
       "      <td>LifeSupportRegistration_CAN</td>\n",
       "      <td>LifeSupportTransplant_ECMO_CAN</td>\n",
       "      <td>104.946788</td>\n",
       "      <td>1.625903e-23</td>\n",
       "      <td>0.080672</td>\n",
       "    </tr>\n",
       "    <tr>\n",
       "      <th>49</th>\n",
       "      <td>LifeSupportMechanismRegistration_OTHER_CAN</td>\n",
       "      <td>LifeSupportTransplant_CAN</td>\n",
       "      <td>92.408636</td>\n",
       "      <td>8.584592e-21</td>\n",
       "      <td>0.075699</td>\n",
       "    </tr>\n",
       "    <tr>\n",
       "      <th>9</th>\n",
       "      <td>LifeSupportRegistration_ECMO_CAN</td>\n",
       "      <td>LifeSupportInhaledTransplant_CAN</td>\n",
       "      <td>88.047522</td>\n",
       "      <td>6.390066e-21</td>\n",
       "      <td>0.073892</td>\n",
       "    </tr>\n",
       "    <tr>\n",
       "      <th>11</th>\n",
       "      <td>LifeSupportRegistration_ECMO_CAN</td>\n",
       "      <td>LifeSupportTransplant_CAN</td>\n",
       "      <td>87.075278</td>\n",
       "      <td>1.235503e-19</td>\n",
       "      <td>0.073483</td>\n",
       "    </tr>\n",
       "    <tr>\n",
       "      <th>61</th>\n",
       "      <td>LifeSupportTransplant_ECMO_CAN</td>\n",
       "      <td>LifeSupportInhaledRegistration_CAN</td>\n",
       "      <td>79.547651</td>\n",
       "      <td>4.707342e-19</td>\n",
       "      <td>0.070234</td>\n",
       "    </tr>\n",
       "    <tr>\n",
       "      <th>26</th>\n",
       "      <td>LifeSupportInhaled_CAN</td>\n",
       "      <td>LifeSupportTransplant_ECMO_CAN</td>\n",
       "      <td>79.547651</td>\n",
       "      <td>4.707342e-19</td>\n",
       "      <td>0.070234</td>\n",
       "    </tr>\n",
       "    <tr>\n",
       "      <th>14</th>\n",
       "      <td>LifeSupportRegistration_IABP_CAN</td>\n",
       "      <td>LifeSupportMechanismRegistration_OTHER_CAN</td>\n",
       "      <td>74.872447</td>\n",
       "      <td>5.021290e-18</td>\n",
       "      <td>0.068139</td>\n",
       "    </tr>\n",
       "    <tr>\n",
       "      <th>60</th>\n",
       "      <td>LifeSupportTransplant_ECMO_CAN</td>\n",
       "      <td>LifeSupportInhaledTransplant_CAN</td>\n",
       "      <td>71.619894</td>\n",
       "      <td>2.609127e-17</td>\n",
       "      <td>0.066643</td>\n",
       "    </tr>\n",
       "    <tr>\n",
       "      <th>19</th>\n",
       "      <td>LifeSupportRegistration_IABP_CAN</td>\n",
       "      <td>LifeSupportMechanismTransplant_OTHER_CAN</td>\n",
       "      <td>39.983348</td>\n",
       "      <td>2.561371e-10</td>\n",
       "      <td>0.049794</td>\n",
       "    </tr>\n",
       "    <tr>\n",
       "      <th>16</th>\n",
       "      <td>LifeSupportRegistration_IABP_CAN</td>\n",
       "      <td>LifeSupportTransplant_ECMO_CAN</td>\n",
       "      <td>36.712426</td>\n",
       "      <td>1.369040e-09</td>\n",
       "      <td>0.047714</td>\n",
       "    </tr>\n",
       "    <tr>\n",
       "      <th>36</th>\n",
       "      <td>LifeSupportRegistration_PGE_CAN</td>\n",
       "      <td>LifeSupportTransplant_PGE_CAN</td>\n",
       "      <td>29.367612</td>\n",
       "      <td>5.986992e-08</td>\n",
       "      <td>0.042675</td>\n",
       "    </tr>\n",
       "    <tr>\n",
       "      <th>52</th>\n",
       "      <td>LifeSupportRegistration_CAN</td>\n",
       "      <td>LifeSupportTransplant_IABP_CAN</td>\n",
       "      <td>27.827460</td>\n",
       "      <td>9.064499e-07</td>\n",
       "      <td>0.041541</td>\n",
       "    </tr>\n",
       "    <tr>\n",
       "      <th>25</th>\n",
       "      <td>LifeSupportInhaled_CAN</td>\n",
       "      <td>LifeSupportRegistration_CAN</td>\n",
       "      <td>18.498190</td>\n",
       "      <td>9.619868e-05</td>\n",
       "      <td>0.033869</td>\n",
       "    </tr>\n",
       "    <tr>\n",
       "      <th>55</th>\n",
       "      <td>LifeSupportRegistration_CAN</td>\n",
       "      <td>LifeSupportInhaledRegistration_CAN</td>\n",
       "      <td>18.498190</td>\n",
       "      <td>9.619868e-05</td>\n",
       "      <td>0.033869</td>\n",
       "    </tr>\n",
       "    <tr>\n",
       "      <th>12</th>\n",
       "      <td>LifeSupportRegistration_IABP_CAN</td>\n",
       "      <td>LifeSupportInhaled_CAN</td>\n",
       "      <td>14.848413</td>\n",
       "      <td>1.165061e-04</td>\n",
       "      <td>0.030344</td>\n",
       "    </tr>\n",
       "    <tr>\n",
       "      <th>21</th>\n",
       "      <td>LifeSupportRegistration_IABP_CAN</td>\n",
       "      <td>LifeSupportInhaledRegistration_CAN</td>\n",
       "      <td>14.848413</td>\n",
       "      <td>1.165061e-04</td>\n",
       "      <td>0.030344</td>\n",
       "    </tr>\n",
       "    <tr>\n",
       "      <th>0</th>\n",
       "      <td>LifeSupportRegistration_ECMO_CAN</td>\n",
       "      <td>LifeSupportRegistration_IABP_CAN</td>\n",
       "      <td>12.717440</td>\n",
       "      <td>3.622613e-04</td>\n",
       "      <td>0.028083</td>\n",
       "    </tr>\n",
       "    <tr>\n",
       "      <th>69</th>\n",
       "      <td>LifeSupportTransplant_IABP_CAN</td>\n",
       "      <td>LifeSupportInhaledTransplant_CAN</td>\n",
       "      <td>12.571791</td>\n",
       "      <td>3.916131e-04</td>\n",
       "      <td>0.027921</td>\n",
       "    </tr>\n",
       "    <tr>\n",
       "      <th>20</th>\n",
       "      <td>LifeSupportRegistration_IABP_CAN</td>\n",
       "      <td>LifeSupportInhaledTransplant_CAN</td>\n",
       "      <td>12.389930</td>\n",
       "      <td>4.316555e-04</td>\n",
       "      <td>0.027719</td>\n",
       "    </tr>\n",
       "    <tr>\n",
       "      <th>76</th>\n",
       "      <td>LifeSupportInhaledTransplant_CAN</td>\n",
       "      <td>LifeSupportTransplant_CAN</td>\n",
       "      <td>9.558635</td>\n",
       "      <td>8.401732e-03</td>\n",
       "      <td>0.024346</td>\n",
       "    </tr>\n",
       "    <tr>\n",
       "      <th>2</th>\n",
       "      <td>LifeSupportRegistration_ECMO_CAN</td>\n",
       "      <td>LifeSupportRegistration_PGE_CAN</td>\n",
       "      <td>9.121967</td>\n",
       "      <td>2.525582e-03</td>\n",
       "      <td>0.023784</td>\n",
       "    </tr>\n",
       "    <tr>\n",
       "      <th>3</th>\n",
       "      <td>LifeSupportRegistration_ECMO_CAN</td>\n",
       "      <td>LifeSupportMechanismRegistration_OTHER_CAN</td>\n",
       "      <td>8.366502</td>\n",
       "      <td>3.822006e-03</td>\n",
       "      <td>0.022778</td>\n",
       "    </tr>\n",
       "    <tr>\n",
       "      <th>24</th>\n",
       "      <td>LifeSupportInhaled_CAN</td>\n",
       "      <td>LifeSupportMechanismRegistration_OTHER_CAN</td>\n",
       "      <td>8.365204</td>\n",
       "      <td>3.824737e-03</td>\n",
       "      <td>0.022776</td>\n",
       "    </tr>\n",
       "    <tr>\n",
       "      <th>48</th>\n",
       "      <td>LifeSupportMechanismRegistration_OTHER_CAN</td>\n",
       "      <td>LifeSupportInhaledRegistration_CAN</td>\n",
       "      <td>8.365204</td>\n",
       "      <td>3.824737e-03</td>\n",
       "      <td>0.022776</td>\n",
       "    </tr>\n",
       "    <tr>\n",
       "      <th>7</th>\n",
       "      <td>LifeSupportRegistration_ECMO_CAN</td>\n",
       "      <td>LifeSupportTransplant_IABP_CAN</td>\n",
       "      <td>8.018370</td>\n",
       "      <td>4.630522e-03</td>\n",
       "      <td>0.022299</td>\n",
       "    </tr>\n",
       "    <tr>\n",
       "      <th>8</th>\n",
       "      <td>LifeSupportRegistration_ECMO_CAN</td>\n",
       "      <td>LifeSupportMechanismTransplant_OTHER_CAN</td>\n",
       "      <td>7.745441</td>\n",
       "      <td>5.384831e-03</td>\n",
       "      <td>0.021916</td>\n",
       "    </tr>\n",
       "    <tr>\n",
       "      <th>54</th>\n",
       "      <td>LifeSupportRegistration_CAN</td>\n",
       "      <td>LifeSupportInhaledTransplant_CAN</td>\n",
       "      <td>7.720883</td>\n",
       "      <td>2.105870e-02</td>\n",
       "      <td>0.021881</td>\n",
       "    </tr>\n",
       "    <tr>\n",
       "      <th>6</th>\n",
       "      <td>LifeSupportRegistration_ECMO_CAN</td>\n",
       "      <td>LifeSupportTransplant_PGE_CAN</td>\n",
       "      <td>7.691010</td>\n",
       "      <td>5.549657e-03</td>\n",
       "      <td>0.021839</td>\n",
       "    </tr>\n",
       "    <tr>\n",
       "      <th>77</th>\n",
       "      <td>LifeSupportInhaledRegistration_CAN</td>\n",
       "      <td>LifeSupportTransplant_CAN</td>\n",
       "      <td>7.493927</td>\n",
       "      <td>2.358927e-02</td>\n",
       "      <td>0.021557</td>\n",
       "    </tr>\n",
       "    <tr>\n",
       "      <th>32</th>\n",
       "      <td>LifeSupportInhaled_CAN</td>\n",
       "      <td>LifeSupportTransplant_CAN</td>\n",
       "      <td>7.493927</td>\n",
       "      <td>2.358927e-02</td>\n",
       "      <td>0.021557</td>\n",
       "    </tr>\n",
       "    <tr>\n",
       "      <th>35</th>\n",
       "      <td>LifeSupportRegistration_PGE_CAN</td>\n",
       "      <td>LifeSupportTransplant_ECMO_CAN</td>\n",
       "      <td>5.830701</td>\n",
       "      <td>1.574885e-02</td>\n",
       "      <td>0.019015</td>\n",
       "    </tr>\n",
       "    <tr>\n",
       "      <th>43</th>\n",
       "      <td>LifeSupportMechanismRegistration_OTHER_CAN</td>\n",
       "      <td>LifeSupportTransplant_ECMO_CAN</td>\n",
       "      <td>5.188072</td>\n",
       "      <td>2.274243e-02</td>\n",
       "      <td>0.017937</td>\n",
       "    </tr>\n",
       "    <tr>\n",
       "      <th>67</th>\n",
       "      <td>LifeSupportTransplant_PGE_CAN</td>\n",
       "      <td>LifeSupportTransplant_CAN</td>\n",
       "      <td>4.773680</td>\n",
       "      <td>9.191971e-02</td>\n",
       "      <td>0.017205</td>\n",
       "    </tr>\n",
       "    <tr>\n",
       "      <th>57</th>\n",
       "      <td>LifeSupportTransplant_ECMO_CAN</td>\n",
       "      <td>LifeSupportTransplant_PGE_CAN</td>\n",
       "      <td>4.437338</td>\n",
       "      <td>3.516103e-02</td>\n",
       "      <td>0.016588</td>\n",
       "    </tr>\n",
       "    <tr>\n",
       "      <th>41</th>\n",
       "      <td>LifeSupportRegistration_PGE_CAN</td>\n",
       "      <td>LifeSupportTransplant_CAN</td>\n",
       "      <td>4.083998</td>\n",
       "      <td>1.297691e-01</td>\n",
       "      <td>0.015914</td>\n",
       "    </tr>\n",
       "    <tr>\n",
       "      <th>34</th>\n",
       "      <td>LifeSupportRegistration_PGE_CAN</td>\n",
       "      <td>LifeSupportRegistration_CAN</td>\n",
       "      <td>3.693211</td>\n",
       "      <td>1.577718e-01</td>\n",
       "      <td>0.015133</td>\n",
       "    </tr>\n",
       "    <tr>\n",
       "      <th>17</th>\n",
       "      <td>LifeSupportRegistration_IABP_CAN</td>\n",
       "      <td>LifeSupportTransplant_PGE_CAN</td>\n",
       "      <td>2.557773</td>\n",
       "      <td>1.097531e-01</td>\n",
       "      <td>0.012594</td>\n",
       "    </tr>\n",
       "    <tr>\n",
       "      <th>59</th>\n",
       "      <td>LifeSupportTransplant_ECMO_CAN</td>\n",
       "      <td>LifeSupportMechanismTransplant_OTHER_CAN</td>\n",
       "      <td>0.397833</td>\n",
       "      <td>5.282107e-01</td>\n",
       "      <td>0.004967</td>\n",
       "    </tr>\n",
       "    <tr>\n",
       "      <th>58</th>\n",
       "      <td>LifeSupportTransplant_ECMO_CAN</td>\n",
       "      <td>LifeSupportTransplant_IABP_CAN</td>\n",
       "      <td>0.240129</td>\n",
       "      <td>6.241130e-01</td>\n",
       "      <td>0.003859</td>\n",
       "    </tr>\n",
       "    <tr>\n",
       "      <th>44</th>\n",
       "      <td>LifeSupportMechanismRegistration_OTHER_CAN</td>\n",
       "      <td>LifeSupportTransplant_PGE_CAN</td>\n",
       "      <td>0.229858</td>\n",
       "      <td>6.316293e-01</td>\n",
       "      <td>0.003775</td>\n",
       "    </tr>\n",
       "    <tr>\n",
       "      <th>51</th>\n",
       "      <td>LifeSupportRegistration_CAN</td>\n",
       "      <td>LifeSupportTransplant_PGE_CAN</td>\n",
       "      <td>0.148200</td>\n",
       "      <td>9.285789e-01</td>\n",
       "      <td>0.003032</td>\n",
       "    </tr>\n",
       "    <tr>\n",
       "      <th>63</th>\n",
       "      <td>LifeSupportTransplant_PGE_CAN</td>\n",
       "      <td>LifeSupportTransplant_IABP_CAN</td>\n",
       "      <td>0.133912</td>\n",
       "      <td>7.144100e-01</td>\n",
       "      <td>0.002882</td>\n",
       "    </tr>\n",
       "    <tr>\n",
       "      <th>33</th>\n",
       "      <td>LifeSupportRegistration_PGE_CAN</td>\n",
       "      <td>LifeSupportMechanismRegistration_OTHER_CAN</td>\n",
       "      <td>0.065048</td>\n",
       "      <td>7.986881e-01</td>\n",
       "      <td>0.002008</td>\n",
       "    </tr>\n",
       "    <tr>\n",
       "      <th>73</th>\n",
       "      <td>LifeSupportMechanismTransplant_OTHER_CAN</td>\n",
       "      <td>LifeSupportInhaledRegistration_CAN</td>\n",
       "      <td>0.033498</td>\n",
       "      <td>8.547794e-01</td>\n",
       "      <td>0.001441</td>\n",
       "    </tr>\n",
       "    <tr>\n",
       "      <th>29</th>\n",
       "      <td>LifeSupportInhaled_CAN</td>\n",
       "      <td>LifeSupportMechanismTransplant_OTHER_CAN</td>\n",
       "      <td>0.033498</td>\n",
       "      <td>8.547794e-01</td>\n",
       "      <td>0.001441</td>\n",
       "    </tr>\n",
       "    <tr>\n",
       "      <th>70</th>\n",
       "      <td>LifeSupportTransplant_IABP_CAN</td>\n",
       "      <td>LifeSupportInhaledRegistration_CAN</td>\n",
       "      <td>0.027174</td>\n",
       "      <td>8.690645e-01</td>\n",
       "      <td>0.001298</td>\n",
       "    </tr>\n",
       "    <tr>\n",
       "      <th>28</th>\n",
       "      <td>LifeSupportInhaled_CAN</td>\n",
       "      <td>LifeSupportTransplant_IABP_CAN</td>\n",
       "      <td>0.027174</td>\n",
       "      <td>8.690645e-01</td>\n",
       "      <td>0.001298</td>\n",
       "    </tr>\n",
       "    <tr>\n",
       "      <th>72</th>\n",
       "      <td>LifeSupportMechanismTransplant_OTHER_CAN</td>\n",
       "      <td>LifeSupportInhaledTransplant_CAN</td>\n",
       "      <td>0.002342</td>\n",
       "      <td>9.614007e-01</td>\n",
       "      <td>0.000381</td>\n",
       "    </tr>\n",
       "    <tr>\n",
       "      <th>23</th>\n",
       "      <td>LifeSupportInhaled_CAN</td>\n",
       "      <td>LifeSupportRegistration_PGE_CAN</td>\n",
       "      <td>0.000000</td>\n",
       "      <td>1.000000e+00</td>\n",
       "      <td>0.000000</td>\n",
       "    </tr>\n",
       "    <tr>\n",
       "      <th>27</th>\n",
       "      <td>LifeSupportInhaled_CAN</td>\n",
       "      <td>LifeSupportTransplant_PGE_CAN</td>\n",
       "      <td>0.000000</td>\n",
       "      <td>1.000000e+00</td>\n",
       "      <td>0.000000</td>\n",
       "    </tr>\n",
       "    <tr>\n",
       "      <th>13</th>\n",
       "      <td>LifeSupportRegistration_IABP_CAN</td>\n",
       "      <td>LifeSupportRegistration_PGE_CAN</td>\n",
       "      <td>0.000000</td>\n",
       "      <td>1.000000e+00</td>\n",
       "      <td>0.000000</td>\n",
       "    </tr>\n",
       "    <tr>\n",
       "      <th>47</th>\n",
       "      <td>LifeSupportMechanismRegistration_OTHER_CAN</td>\n",
       "      <td>LifeSupportInhaledTransplant_CAN</td>\n",
       "      <td>0.000000</td>\n",
       "      <td>1.000000e+00</td>\n",
       "      <td>0.000000</td>\n",
       "    </tr>\n",
       "    <tr>\n",
       "      <th>66</th>\n",
       "      <td>LifeSupportTransplant_PGE_CAN</td>\n",
       "      <td>LifeSupportInhaledRegistration_CAN</td>\n",
       "      <td>0.000000</td>\n",
       "      <td>1.000000e+00</td>\n",
       "      <td>0.000000</td>\n",
       "    </tr>\n",
       "    <tr>\n",
       "      <th>65</th>\n",
       "      <td>LifeSupportTransplant_PGE_CAN</td>\n",
       "      <td>LifeSupportInhaledTransplant_CAN</td>\n",
       "      <td>0.000000</td>\n",
       "      <td>1.000000e+00</td>\n",
       "      <td>0.000000</td>\n",
       "    </tr>\n",
       "    <tr>\n",
       "      <th>64</th>\n",
       "      <td>LifeSupportTransplant_PGE_CAN</td>\n",
       "      <td>LifeSupportMechanismTransplant_OTHER_CAN</td>\n",
       "      <td>0.000000</td>\n",
       "      <td>1.000000e+00</td>\n",
       "      <td>0.000000</td>\n",
       "    </tr>\n",
       "    <tr>\n",
       "      <th>37</th>\n",
       "      <td>LifeSupportRegistration_PGE_CAN</td>\n",
       "      <td>LifeSupportTransplant_IABP_CAN</td>\n",
       "      <td>0.000000</td>\n",
       "      <td>1.000000e+00</td>\n",
       "      <td>0.000000</td>\n",
       "    </tr>\n",
       "    <tr>\n",
       "      <th>38</th>\n",
       "      <td>LifeSupportRegistration_PGE_CAN</td>\n",
       "      <td>LifeSupportMechanismTransplant_OTHER_CAN</td>\n",
       "      <td>0.000000</td>\n",
       "      <td>1.000000e+00</td>\n",
       "      <td>0.000000</td>\n",
       "    </tr>\n",
       "    <tr>\n",
       "      <th>40</th>\n",
       "      <td>LifeSupportRegistration_PGE_CAN</td>\n",
       "      <td>LifeSupportInhaledRegistration_CAN</td>\n",
       "      <td>0.000000</td>\n",
       "      <td>1.000000e+00</td>\n",
       "      <td>0.000000</td>\n",
       "    </tr>\n",
       "    <tr>\n",
       "      <th>39</th>\n",
       "      <td>LifeSupportRegistration_PGE_CAN</td>\n",
       "      <td>LifeSupportInhaledTransplant_CAN</td>\n",
       "      <td>0.000000</td>\n",
       "      <td>1.000000e+00</td>\n",
       "      <td>0.000000</td>\n",
       "    </tr>\n",
       "  </tbody>\n",
       "</table>\n",
       "</div>"
      ],
      "text/plain": [
       "                                       column1  \\\n",
       "31                      LifeSupportInhaled_CAN   \n",
       "5             LifeSupportRegistration_ECMO_CAN   \n",
       "18            LifeSupportRegistration_IABP_CAN   \n",
       "56                 LifeSupportRegistration_CAN   \n",
       "46  LifeSupportMechanismRegistration_OTHER_CAN   \n",
       "15            LifeSupportRegistration_IABP_CAN   \n",
       "71              LifeSupportTransplant_IABP_CAN   \n",
       "42  LifeSupportMechanismRegistration_OTHER_CAN   \n",
       "30                      LifeSupportInhaled_CAN   \n",
       "75            LifeSupportInhaledTransplant_CAN   \n",
       "22            LifeSupportRegistration_IABP_CAN   \n",
       "74    LifeSupportMechanismTransplant_OTHER_CAN   \n",
       "4             LifeSupportRegistration_ECMO_CAN   \n",
       "10            LifeSupportRegistration_ECMO_CAN   \n",
       "1             LifeSupportRegistration_ECMO_CAN   \n",
       "53                 LifeSupportRegistration_CAN   \n",
       "68              LifeSupportTransplant_IABP_CAN   \n",
       "62              LifeSupportTransplant_ECMO_CAN   \n",
       "45  LifeSupportMechanismRegistration_OTHER_CAN   \n",
       "50                 LifeSupportRegistration_CAN   \n",
       "49  LifeSupportMechanismRegistration_OTHER_CAN   \n",
       "9             LifeSupportRegistration_ECMO_CAN   \n",
       "11            LifeSupportRegistration_ECMO_CAN   \n",
       "61              LifeSupportTransplant_ECMO_CAN   \n",
       "26                      LifeSupportInhaled_CAN   \n",
       "14            LifeSupportRegistration_IABP_CAN   \n",
       "60              LifeSupportTransplant_ECMO_CAN   \n",
       "19            LifeSupportRegistration_IABP_CAN   \n",
       "16            LifeSupportRegistration_IABP_CAN   \n",
       "36             LifeSupportRegistration_PGE_CAN   \n",
       "52                 LifeSupportRegistration_CAN   \n",
       "25                      LifeSupportInhaled_CAN   \n",
       "55                 LifeSupportRegistration_CAN   \n",
       "12            LifeSupportRegistration_IABP_CAN   \n",
       "21            LifeSupportRegistration_IABP_CAN   \n",
       "0             LifeSupportRegistration_ECMO_CAN   \n",
       "69              LifeSupportTransplant_IABP_CAN   \n",
       "20            LifeSupportRegistration_IABP_CAN   \n",
       "76            LifeSupportInhaledTransplant_CAN   \n",
       "2             LifeSupportRegistration_ECMO_CAN   \n",
       "3             LifeSupportRegistration_ECMO_CAN   \n",
       "24                      LifeSupportInhaled_CAN   \n",
       "48  LifeSupportMechanismRegistration_OTHER_CAN   \n",
       "7             LifeSupportRegistration_ECMO_CAN   \n",
       "8             LifeSupportRegistration_ECMO_CAN   \n",
       "54                 LifeSupportRegistration_CAN   \n",
       "6             LifeSupportRegistration_ECMO_CAN   \n",
       "77          LifeSupportInhaledRegistration_CAN   \n",
       "32                      LifeSupportInhaled_CAN   \n",
       "35             LifeSupportRegistration_PGE_CAN   \n",
       "43  LifeSupportMechanismRegistration_OTHER_CAN   \n",
       "67               LifeSupportTransplant_PGE_CAN   \n",
       "57              LifeSupportTransplant_ECMO_CAN   \n",
       "41             LifeSupportRegistration_PGE_CAN   \n",
       "34             LifeSupportRegistration_PGE_CAN   \n",
       "17            LifeSupportRegistration_IABP_CAN   \n",
       "59              LifeSupportTransplant_ECMO_CAN   \n",
       "58              LifeSupportTransplant_ECMO_CAN   \n",
       "44  LifeSupportMechanismRegistration_OTHER_CAN   \n",
       "51                 LifeSupportRegistration_CAN   \n",
       "63               LifeSupportTransplant_PGE_CAN   \n",
       "33             LifeSupportRegistration_PGE_CAN   \n",
       "73    LifeSupportMechanismTransplant_OTHER_CAN   \n",
       "29                      LifeSupportInhaled_CAN   \n",
       "70              LifeSupportTransplant_IABP_CAN   \n",
       "28                      LifeSupportInhaled_CAN   \n",
       "72    LifeSupportMechanismTransplant_OTHER_CAN   \n",
       "23                      LifeSupportInhaled_CAN   \n",
       "27                      LifeSupportInhaled_CAN   \n",
       "13            LifeSupportRegistration_IABP_CAN   \n",
       "47  LifeSupportMechanismRegistration_OTHER_CAN   \n",
       "66               LifeSupportTransplant_PGE_CAN   \n",
       "65               LifeSupportTransplant_PGE_CAN   \n",
       "64               LifeSupportTransplant_PGE_CAN   \n",
       "37             LifeSupportRegistration_PGE_CAN   \n",
       "38             LifeSupportRegistration_PGE_CAN   \n",
       "40             LifeSupportRegistration_PGE_CAN   \n",
       "39             LifeSupportRegistration_PGE_CAN   \n",
       "\n",
       "                                       column2          chi2        p_value  \\\n",
       "31          LifeSupportInhaledRegistration_CAN  15667.560320   0.000000e+00   \n",
       "5               LifeSupportTransplant_ECMO_CAN   7235.608979   0.000000e+00   \n",
       "18              LifeSupportTransplant_IABP_CAN   4456.840161   0.000000e+00   \n",
       "56                   LifeSupportTransplant_CAN   6880.905290   0.000000e+00   \n",
       "46    LifeSupportMechanismTransplant_OTHER_CAN   2414.247613   0.000000e+00   \n",
       "15                 LifeSupportRegistration_CAN   1141.937117  1.075241e-248   \n",
       "71                   LifeSupportTransplant_CAN   1031.308775  1.132779e-224   \n",
       "42                 LifeSupportRegistration_CAN    450.932576   1.205689e-98   \n",
       "30            LifeSupportInhaledTransplant_CAN    357.474445   9.988992e-80   \n",
       "75          LifeSupportInhaledRegistration_CAN    357.474445   9.988992e-80   \n",
       "22                   LifeSupportTransplant_CAN    285.594774   9.635687e-63   \n",
       "74                   LifeSupportTransplant_CAN    276.114790   1.102644e-60   \n",
       "4                  LifeSupportRegistration_CAN    240.782958   5.183762e-53   \n",
       "10          LifeSupportInhaledRegistration_CAN    225.971955   4.506353e-51   \n",
       "1                       LifeSupportInhaled_CAN    225.971955   4.506353e-51   \n",
       "53    LifeSupportMechanismTransplant_OTHER_CAN    191.196948   3.034662e-42   \n",
       "68    LifeSupportMechanismTransplant_OTHER_CAN    191.082477   1.845242e-43   \n",
       "62                   LifeSupportTransplant_CAN    162.353239   5.564705e-36   \n",
       "45              LifeSupportTransplant_IABP_CAN    106.722479   5.120850e-25   \n",
       "50              LifeSupportTransplant_ECMO_CAN    104.946788   1.625903e-23   \n",
       "49                   LifeSupportTransplant_CAN     92.408636   8.584592e-21   \n",
       "9             LifeSupportInhaledTransplant_CAN     88.047522   6.390066e-21   \n",
       "11                   LifeSupportTransplant_CAN     87.075278   1.235503e-19   \n",
       "61          LifeSupportInhaledRegistration_CAN     79.547651   4.707342e-19   \n",
       "26              LifeSupportTransplant_ECMO_CAN     79.547651   4.707342e-19   \n",
       "14  LifeSupportMechanismRegistration_OTHER_CAN     74.872447   5.021290e-18   \n",
       "60            LifeSupportInhaledTransplant_CAN     71.619894   2.609127e-17   \n",
       "19    LifeSupportMechanismTransplant_OTHER_CAN     39.983348   2.561371e-10   \n",
       "16              LifeSupportTransplant_ECMO_CAN     36.712426   1.369040e-09   \n",
       "36               LifeSupportTransplant_PGE_CAN     29.367612   5.986992e-08   \n",
       "52              LifeSupportTransplant_IABP_CAN     27.827460   9.064499e-07   \n",
       "25                 LifeSupportRegistration_CAN     18.498190   9.619868e-05   \n",
       "55          LifeSupportInhaledRegistration_CAN     18.498190   9.619868e-05   \n",
       "12                      LifeSupportInhaled_CAN     14.848413   1.165061e-04   \n",
       "21          LifeSupportInhaledRegistration_CAN     14.848413   1.165061e-04   \n",
       "0             LifeSupportRegistration_IABP_CAN     12.717440   3.622613e-04   \n",
       "69            LifeSupportInhaledTransplant_CAN     12.571791   3.916131e-04   \n",
       "20            LifeSupportInhaledTransplant_CAN     12.389930   4.316555e-04   \n",
       "76                   LifeSupportTransplant_CAN      9.558635   8.401732e-03   \n",
       "2              LifeSupportRegistration_PGE_CAN      9.121967   2.525582e-03   \n",
       "3   LifeSupportMechanismRegistration_OTHER_CAN      8.366502   3.822006e-03   \n",
       "24  LifeSupportMechanismRegistration_OTHER_CAN      8.365204   3.824737e-03   \n",
       "48          LifeSupportInhaledRegistration_CAN      8.365204   3.824737e-03   \n",
       "7               LifeSupportTransplant_IABP_CAN      8.018370   4.630522e-03   \n",
       "8     LifeSupportMechanismTransplant_OTHER_CAN      7.745441   5.384831e-03   \n",
       "54            LifeSupportInhaledTransplant_CAN      7.720883   2.105870e-02   \n",
       "6                LifeSupportTransplant_PGE_CAN      7.691010   5.549657e-03   \n",
       "77                   LifeSupportTransplant_CAN      7.493927   2.358927e-02   \n",
       "32                   LifeSupportTransplant_CAN      7.493927   2.358927e-02   \n",
       "35              LifeSupportTransplant_ECMO_CAN      5.830701   1.574885e-02   \n",
       "43              LifeSupportTransplant_ECMO_CAN      5.188072   2.274243e-02   \n",
       "67                   LifeSupportTransplant_CAN      4.773680   9.191971e-02   \n",
       "57               LifeSupportTransplant_PGE_CAN      4.437338   3.516103e-02   \n",
       "41                   LifeSupportTransplant_CAN      4.083998   1.297691e-01   \n",
       "34                 LifeSupportRegistration_CAN      3.693211   1.577718e-01   \n",
       "17               LifeSupportTransplant_PGE_CAN      2.557773   1.097531e-01   \n",
       "59    LifeSupportMechanismTransplant_OTHER_CAN      0.397833   5.282107e-01   \n",
       "58              LifeSupportTransplant_IABP_CAN      0.240129   6.241130e-01   \n",
       "44               LifeSupportTransplant_PGE_CAN      0.229858   6.316293e-01   \n",
       "51               LifeSupportTransplant_PGE_CAN      0.148200   9.285789e-01   \n",
       "63              LifeSupportTransplant_IABP_CAN      0.133912   7.144100e-01   \n",
       "33  LifeSupportMechanismRegistration_OTHER_CAN      0.065048   7.986881e-01   \n",
       "73          LifeSupportInhaledRegistration_CAN      0.033498   8.547794e-01   \n",
       "29    LifeSupportMechanismTransplant_OTHER_CAN      0.033498   8.547794e-01   \n",
       "70          LifeSupportInhaledRegistration_CAN      0.027174   8.690645e-01   \n",
       "28              LifeSupportTransplant_IABP_CAN      0.027174   8.690645e-01   \n",
       "72            LifeSupportInhaledTransplant_CAN      0.002342   9.614007e-01   \n",
       "23             LifeSupportRegistration_PGE_CAN      0.000000   1.000000e+00   \n",
       "27               LifeSupportTransplant_PGE_CAN      0.000000   1.000000e+00   \n",
       "13             LifeSupportRegistration_PGE_CAN      0.000000   1.000000e+00   \n",
       "47            LifeSupportInhaledTransplant_CAN      0.000000   1.000000e+00   \n",
       "66          LifeSupportInhaledRegistration_CAN      0.000000   1.000000e+00   \n",
       "65            LifeSupportInhaledTransplant_CAN      0.000000   1.000000e+00   \n",
       "64    LifeSupportMechanismTransplant_OTHER_CAN      0.000000   1.000000e+00   \n",
       "37              LifeSupportTransplant_IABP_CAN      0.000000   1.000000e+00   \n",
       "38    LifeSupportMechanismTransplant_OTHER_CAN      0.000000   1.000000e+00   \n",
       "40          LifeSupportInhaledRegistration_CAN      0.000000   1.000000e+00   \n",
       "39            LifeSupportInhaledTransplant_CAN      0.000000   1.000000e+00   \n",
       "\n",
       "    cramer_v  \n",
       "31  0.985683  \n",
       "5   0.669845  \n",
       "18  0.525715  \n",
       "56  0.461896  \n",
       "46  0.386926  \n",
       "15  0.266108  \n",
       "71  0.252890  \n",
       "42  0.167222  \n",
       "30  0.148888  \n",
       "75  0.148888  \n",
       "22  0.133080  \n",
       "74  0.130852  \n",
       "4   0.122194  \n",
       "10  0.118376  \n",
       "1   0.118376  \n",
       "53  0.108887  \n",
       "68  0.108855  \n",
       "62  0.100338  \n",
       "45  0.081351  \n",
       "50  0.080672  \n",
       "49  0.075699  \n",
       "9   0.073892  \n",
       "11  0.073483  \n",
       "61  0.070234  \n",
       "26  0.070234  \n",
       "14  0.068139  \n",
       "60  0.066643  \n",
       "19  0.049794  \n",
       "16  0.047714  \n",
       "36  0.042675  \n",
       "52  0.041541  \n",
       "25  0.033869  \n",
       "55  0.033869  \n",
       "12  0.030344  \n",
       "21  0.030344  \n",
       "0   0.028083  \n",
       "69  0.027921  \n",
       "20  0.027719  \n",
       "76  0.024346  \n",
       "2   0.023784  \n",
       "3   0.022778  \n",
       "24  0.022776  \n",
       "48  0.022776  \n",
       "7   0.022299  \n",
       "8   0.021916  \n",
       "54  0.021881  \n",
       "6   0.021839  \n",
       "77  0.021557  \n",
       "32  0.021557  \n",
       "35  0.019015  \n",
       "43  0.017937  \n",
       "67  0.017205  \n",
       "57  0.016588  \n",
       "41  0.015914  \n",
       "34  0.015133  \n",
       "17  0.012594  \n",
       "59  0.004967  \n",
       "58  0.003859  \n",
       "44  0.003775  \n",
       "51  0.003032  \n",
       "63  0.002882  \n",
       "33  0.002008  \n",
       "73  0.001441  \n",
       "29  0.001441  \n",
       "70  0.001298  \n",
       "28  0.001298  \n",
       "72  0.000381  \n",
       "23  0.000000  \n",
       "27  0.000000  \n",
       "13  0.000000  \n",
       "47  0.000000  \n",
       "66  0.000000  \n",
       "65  0.000000  \n",
       "64  0.000000  \n",
       "37  0.000000  \n",
       "38  0.000000  \n",
       "40  0.000000  \n",
       "39  0.000000  "
      ]
     },
     "execution_count": 163,
     "metadata": {},
     "output_type": "execute_result"
    }
   ],
   "source": [
    "# test of Independence for Categorical Variables\n",
    "usf.pairColsMultiIndependenceCat(df, features)"
   ]
  },
  {
   "cell_type": "code",
   "execution_count": 164,
   "id": "d169ba10-c7b6-4474-988c-90d933ec6a13",
   "metadata": {},
   "outputs": [
    {
     "name": "stdout",
     "output_type": "stream",
     "text": [
      "Survival                            Dead  Living  Row Total     Dead %   Living %\n",
      "LifeSupportRegistration_ECMO_CAN                                                 \n",
      "0                                 7553.0  8129.0    15682.0  48.163500  51.836500\n",
      "1                                  299.0   145.0      444.0  67.342342  32.657658\n",
      "Column Total                      7852.0  8274.0    16126.0  48.691554  51.308446\n",
      "\n",
      "\n",
      "Survival                            Dead  Living  Row Total     Dead %   Living %\n",
      "LifeSupportRegistration_IABP_CAN                                                 \n",
      "0                                 6713.0  7504.0    14217.0  47.218119  52.781881\n",
      "1                                 1139.0   770.0     1909.0  59.664746  40.335254\n",
      "Column Total                      7852.0  8274.0    16126.0  48.691554  51.308446\n",
      "\n",
      "\n",
      "Survival                  Dead  Living  Row Total     Dead %   Living %\n",
      "LifeSupportInhaled_CAN                                                 \n",
      "0                       7833.0  8258.0    16091.0  48.679386  51.320614\n",
      "1                         19.0    16.0       35.0  54.285714  45.714286\n",
      "Column Total            7852.0  8274.0    16126.0  48.691554  51.308446\n",
      "\n",
      "\n",
      "Survival                           Dead  Living  Row Total     Dead %   Living %\n",
      "LifeSupportRegistration_PGE_CAN                                                 \n",
      "0                                7850.0  8269.0    16119.0  48.700292  51.299708\n",
      "1                                   2.0     5.0        7.0  28.571429  71.428571\n",
      "Column Total                     7852.0  8274.0    16126.0  48.691554  51.308446\n",
      "\n",
      "\n",
      "Survival                                      Dead  Living  Row Total     Dead %   Living %\n",
      "LifeSupportMechanismRegistration_OTHER_CAN                                                 \n",
      "0                                           7499.0  7815.0    15314.0  48.968264  51.031736\n",
      "1                                            353.0   459.0      812.0  43.472906  56.527094\n",
      "Column Total                                7852.0  8274.0    16126.0  48.691554  51.308446\n",
      "\n",
      "\n",
      "Survival                       Dead  Living  Row Total      Dead %   Living %\n",
      "LifeSupportRegistration_CAN                                                  \n",
      "Missing                        75.0     0.0       75.0  100.000000   0.000000\n",
      "No                           2834.0  2659.0     5493.0   51.592936  48.407064\n",
      "Yes                          4943.0  5615.0    10558.0   46.817579  53.182421\n",
      "Column Total                 7852.0  8274.0    16126.0   48.691554  51.308446\n",
      "\n",
      "\n",
      "Survival                          Dead  Living  Row Total     Dead %   Living %\n",
      "LifeSupportTransplant_ECMO_CAN                                                 \n",
      "0                               7421.0  8083.0    15504.0  47.865067  52.134933\n",
      "1                                431.0   191.0      622.0  69.292605  30.707395\n",
      "Column Total                    7852.0  8274.0    16126.0  48.691554  51.308446\n",
      "\n",
      "\n",
      "Survival                         Dead  Living  Row Total     Dead %   Living %\n",
      "LifeSupportTransplant_PGE_CAN                                                 \n",
      "0                              7844.0  8263.0    16107.0  48.699323  51.300677\n",
      "1                                 8.0    11.0       19.0  42.105263  57.894737\n",
      "Column Total                   7852.0  8274.0    16126.0  48.691554  51.308446\n",
      "\n",
      "\n",
      "Survival                          Dead  Living  Row Total     Dead %   Living %\n",
      "LifeSupportTransplant_IABP_CAN                                                 \n",
      "0                               5917.0  6934.0    12851.0  46.043109  53.956891\n",
      "1                               1935.0  1340.0     3275.0  59.083969  40.916031\n",
      "Column Total                    7852.0  8274.0    16126.0  48.691554  51.308446\n",
      "\n",
      "\n",
      "Survival                                    Dead  Living  Row Total     Dead %   Living %\n",
      "LifeSupportMechanismTransplant_OTHER_CAN                                                 \n",
      "0                                         7411.0  7685.0    15096.0  49.092475  50.907525\n",
      "1                                          441.0   589.0     1030.0  42.815534  57.184466\n",
      "Column Total                              7852.0  8274.0    16126.0  48.691554  51.308446\n",
      "\n",
      "\n",
      "Survival                            Dead  Living  Row Total     Dead %   Living %\n",
      "LifeSupportInhaledTransplant_CAN                                                 \n",
      "0                                 7826.0  8262.0    16088.0  48.644953  51.355047\n",
      "1                                   26.0    12.0       38.0  68.421053  31.578947\n",
      "Column Total                      7852.0  8274.0    16126.0  48.691554  51.308446\n",
      "\n",
      "\n",
      "Survival                              Dead  Living  Row Total     Dead %   Living %\n",
      "LifeSupportInhaledRegistration_CAN                                                 \n",
      "0                                   7833.0  8258.0    16091.0  48.679386  51.320614\n",
      "1                                     19.0    16.0       35.0  54.285714  45.714286\n",
      "Column Total                        7852.0  8274.0    16126.0  48.691554  51.308446\n",
      "\n",
      "\n",
      "Survival                     Dead  Living  Row Total      Dead %   Living %\n",
      "LifeSupportTransplant_CAN                                                  \n",
      "Missing                     397.0     0.0      397.0  100.000000   0.000000\n",
      "No                         1468.0  1370.0     2838.0   51.726568  48.273432\n",
      "Yes                        5987.0  6904.0    12891.0   46.443255  53.556745\n",
      "Column Total               7852.0  8274.0    16126.0   48.691554  51.308446\n",
      "\n",
      "\n"
     ]
    }
   ],
   "source": [
    "for col in features:\n",
    "    print(uf.categoryContingencySurvival(df, col).to_string())\n",
    "    print(\"\\n\")"
   ]
  },
  {
   "cell_type": "code",
   "execution_count": 165,
   "id": "a60065a5-d411-497f-bc00-835a83e3d8e7",
   "metadata": {},
   "outputs": [],
   "source": [
    "# new feature\n",
    "df['LifeSupport_CountTotal_CAN'] = df[features].apply(lambda row: sum(1 for value in row if value == 'Yes' or value == 1), axis=1)\n",
    "\n",
    "# update DataFrame\n",
    "df_drop  = uf.insertIntoDataFrame(df_drop, features)\n",
    "df_can  = uf.insertIntoDataFrame(df_can, ['LifeSupport_CountTotal_CAN'])\n",
    "df_ordinal  = uf.insertIntoDataFrame(df_ordinal, ['LifeSupport_CountTotal_CAN'])\n",
    "\n",
    "# change datatype to category\n",
    "df = uf.toCategory(df, ['LifeSupport_CountTotal_CAN'])"
   ]
  },
  {
   "cell_type": "code",
   "execution_count": 166,
   "id": "496c6c28-1b89-41de-bd9d-7bcde2f73f83",
   "metadata": {},
   "outputs": [
    {
     "data": {
      "text/html": [
       "<div>\n",
       "<style scoped>\n",
       "    .dataframe tbody tr th:only-of-type {\n",
       "        vertical-align: middle;\n",
       "    }\n",
       "\n",
       "    .dataframe tbody tr th {\n",
       "        vertical-align: top;\n",
       "    }\n",
       "\n",
       "    .dataframe thead th {\n",
       "        text-align: right;\n",
       "    }\n",
       "</style>\n",
       "<table border=\"1\" class=\"dataframe\">\n",
       "  <thead>\n",
       "    <tr style=\"text-align: right;\">\n",
       "      <th>Survival</th>\n",
       "      <th>Dead</th>\n",
       "      <th>Living</th>\n",
       "      <th>Row Total</th>\n",
       "      <th>Dead %</th>\n",
       "      <th>Living %</th>\n",
       "    </tr>\n",
       "    <tr>\n",
       "      <th>LifeSupport_CountTotal_CAN</th>\n",
       "      <th></th>\n",
       "      <th></th>\n",
       "      <th></th>\n",
       "      <th></th>\n",
       "      <th></th>\n",
       "    </tr>\n",
       "  </thead>\n",
       "  <tbody>\n",
       "    <tr>\n",
       "      <th>0</th>\n",
       "      <td>1471.0</td>\n",
       "      <td>1135.0</td>\n",
       "      <td>2606.0</td>\n",
       "      <td>56.446662</td>\n",
       "      <td>43.553338</td>\n",
       "    </tr>\n",
       "    <tr>\n",
       "      <th>1</th>\n",
       "      <td>927.0</td>\n",
       "      <td>1203.0</td>\n",
       "      <td>2130.0</td>\n",
       "      <td>43.521127</td>\n",
       "      <td>56.478873</td>\n",
       "    </tr>\n",
       "    <tr>\n",
       "      <th>2</th>\n",
       "      <td>3268.0</td>\n",
       "      <td>4054.0</td>\n",
       "      <td>7322.0</td>\n",
       "      <td>44.632614</td>\n",
       "      <td>55.367386</td>\n",
       "    </tr>\n",
       "    <tr>\n",
       "      <th>3</th>\n",
       "      <td>814.0</td>\n",
       "      <td>878.0</td>\n",
       "      <td>1692.0</td>\n",
       "      <td>48.108747</td>\n",
       "      <td>51.891253</td>\n",
       "    </tr>\n",
       "    <tr>\n",
       "      <th>4</th>\n",
       "      <td>1231.0</td>\n",
       "      <td>922.0</td>\n",
       "      <td>2153.0</td>\n",
       "      <td>57.176033</td>\n",
       "      <td>42.823967</td>\n",
       "    </tr>\n",
       "    <tr>\n",
       "      <th>5</th>\n",
       "      <td>87.0</td>\n",
       "      <td>58.0</td>\n",
       "      <td>145.0</td>\n",
       "      <td>60.000000</td>\n",
       "      <td>40.000000</td>\n",
       "    </tr>\n",
       "    <tr>\n",
       "      <th>6</th>\n",
       "      <td>44.0</td>\n",
       "      <td>20.0</td>\n",
       "      <td>64.0</td>\n",
       "      <td>68.750000</td>\n",
       "      <td>31.250000</td>\n",
       "    </tr>\n",
       "    <tr>\n",
       "      <th>7</th>\n",
       "      <td>8.0</td>\n",
       "      <td>3.0</td>\n",
       "      <td>11.0</td>\n",
       "      <td>72.727273</td>\n",
       "      <td>27.272727</td>\n",
       "    </tr>\n",
       "    <tr>\n",
       "      <th>9</th>\n",
       "      <td>2.0</td>\n",
       "      <td>1.0</td>\n",
       "      <td>3.0</td>\n",
       "      <td>66.666667</td>\n",
       "      <td>33.333333</td>\n",
       "    </tr>\n",
       "    <tr>\n",
       "      <th>Column Total</th>\n",
       "      <td>7852.0</td>\n",
       "      <td>8274.0</td>\n",
       "      <td>16126.0</td>\n",
       "      <td>48.691554</td>\n",
       "      <td>51.308446</td>\n",
       "    </tr>\n",
       "  </tbody>\n",
       "</table>\n",
       "</div>"
      ],
      "text/plain": [
       "Survival                      Dead  Living  Row Total     Dead %   Living %\n",
       "LifeSupport_CountTotal_CAN                                                 \n",
       "0                           1471.0  1135.0     2606.0  56.446662  43.553338\n",
       "1                            927.0  1203.0     2130.0  43.521127  56.478873\n",
       "2                           3268.0  4054.0     7322.0  44.632614  55.367386\n",
       "3                            814.0   878.0     1692.0  48.108747  51.891253\n",
       "4                           1231.0   922.0     2153.0  57.176033  42.823967\n",
       "5                             87.0    58.0      145.0  60.000000  40.000000\n",
       "6                             44.0    20.0       64.0  68.750000  31.250000\n",
       "7                              8.0     3.0       11.0  72.727273  27.272727\n",
       "9                              2.0     1.0        3.0  66.666667  33.333333\n",
       "Column Total                7852.0  8274.0    16126.0  48.691554  51.308446"
      ]
     },
     "execution_count": 166,
     "metadata": {},
     "output_type": "execute_result"
    }
   ],
   "source": [
    "uf.categoryContingencySurvival(df, 'LifeSupport_CountTotal_CAN')"
   ]
  },
  {
   "cell_type": "markdown",
   "id": "6f16e97a-88fe-4847-9911-05cca221102e",
   "metadata": {},
   "source": [
    "#### Malignancy\n",
    "- PreviousMalignancy_CAN & MalignancyBetweenRegistrationTransplant_CAN & Malignancy_CAN\n",
    "- Combined Malignancy_CountTotal_CAN"
   ]
  },
  {
   "cell_type": "code",
   "execution_count": 167,
   "id": "ab077261-3e8a-4d62-b417-c24fb80a8ca8",
   "metadata": {},
   "outputs": [
    {
     "name": "stdout",
     "output_type": "stream",
     "text": [
      "                                             count unique      top   freq\n",
      "PreviousMalignancy_CAN                       16126      3       No  14556\n",
      "MalignancyBetweenRegistrationTransplant_CAN  16126      1  Missing  16126\n",
      "Malignancy_CAN                               16126      3       No  14556\n"
     ]
    }
   ],
   "source": [
    "features = getFeatureList(df, 'Malignancy')"
   ]
  },
  {
   "cell_type": "code",
   "execution_count": 168,
   "id": "be264f6c-0cc1-481d-ab77-fcdf9973c0b1",
   "metadata": {},
   "outputs": [
    {
     "data": {
      "text/html": [
       "<div>\n",
       "<style scoped>\n",
       "    .dataframe tbody tr th:only-of-type {\n",
       "        vertical-align: middle;\n",
       "    }\n",
       "\n",
       "    .dataframe tbody tr th {\n",
       "        vertical-align: top;\n",
       "    }\n",
       "\n",
       "    .dataframe thead th {\n",
       "        text-align: right;\n",
       "    }\n",
       "</style>\n",
       "<table border=\"1\" class=\"dataframe\">\n",
       "  <thead>\n",
       "    <tr style=\"text-align: right;\">\n",
       "      <th></th>\n",
       "      <th>column1</th>\n",
       "      <th>column2</th>\n",
       "      <th>chi2</th>\n",
       "      <th>p_value</th>\n",
       "      <th>cramer_v</th>\n",
       "    </tr>\n",
       "  </thead>\n",
       "  <tbody>\n",
       "    <tr>\n",
       "      <th>1</th>\n",
       "      <td>PreviousMalignancy_CAN</td>\n",
       "      <td>Malignancy_CAN</td>\n",
       "      <td>32252.0</td>\n",
       "      <td>0.0</td>\n",
       "      <td>1.0</td>\n",
       "    </tr>\n",
       "    <tr>\n",
       "      <th>0</th>\n",
       "      <td>PreviousMalignancy_CAN</td>\n",
       "      <td>MalignancyBetweenRegistrationTransplant_CAN</td>\n",
       "      <td>0.0</td>\n",
       "      <td>1.0</td>\n",
       "      <td>NaN</td>\n",
       "    </tr>\n",
       "    <tr>\n",
       "      <th>2</th>\n",
       "      <td>MalignancyBetweenRegistrationTransplant_CAN</td>\n",
       "      <td>Malignancy_CAN</td>\n",
       "      <td>0.0</td>\n",
       "      <td>1.0</td>\n",
       "      <td>NaN</td>\n",
       "    </tr>\n",
       "  </tbody>\n",
       "</table>\n",
       "</div>"
      ],
      "text/plain": [
       "                                       column1  \\\n",
       "1                       PreviousMalignancy_CAN   \n",
       "0                       PreviousMalignancy_CAN   \n",
       "2  MalignancyBetweenRegistrationTransplant_CAN   \n",
       "\n",
       "                                       column2     chi2  p_value  cramer_v  \n",
       "1                               Malignancy_CAN  32252.0      0.0       1.0  \n",
       "0  MalignancyBetweenRegistrationTransplant_CAN      0.0      1.0       NaN  \n",
       "2                               Malignancy_CAN      0.0      1.0       NaN  "
      ]
     },
     "execution_count": 168,
     "metadata": {},
     "output_type": "execute_result"
    }
   ],
   "source": [
    "# test of Independence for Categorical Variables\n",
    "usf.pairColsMultiIndependenceCat(df, features)"
   ]
  },
  {
   "cell_type": "code",
   "execution_count": 169,
   "id": "56253ccb-678a-445b-8430-c045df5384c2",
   "metadata": {},
   "outputs": [
    {
     "name": "stdout",
     "output_type": "stream",
     "text": [
      "Survival                  Dead  Living  Row Total      Dead %   Living %\n",
      "PreviousMalignancy_CAN                                                  \n",
      "Missing                   73.0     0.0       73.0  100.000000   0.000000\n",
      "No                      7037.0  7519.0    14556.0   48.344325  51.655675\n",
      "Yes                      742.0   755.0     1497.0   49.565798  50.434202\n",
      "Column Total            7852.0  8274.0    16126.0   48.691554  51.308446\n",
      "\n",
      "\n",
      "Survival                                       Dead  Living  Row Total     Dead %   Living %\n",
      "MalignancyBetweenRegistrationTransplant_CAN                                                 \n",
      "Missing                                      7852.0  8274.0    16126.0  48.691554  51.308446\n",
      "Column Total                                 7852.0  8274.0    16126.0  48.691554  51.308446\n",
      "\n",
      "\n",
      "Survival          Dead  Living  Row Total      Dead %   Living %\n",
      "Malignancy_CAN                                                  \n",
      "Missing           73.0     0.0       73.0  100.000000   0.000000\n",
      "No              7037.0  7519.0    14556.0   48.344325  51.655675\n",
      "Yes              742.0   755.0     1497.0   49.565798  50.434202\n",
      "Column Total    7852.0  8274.0    16126.0   48.691554  51.308446\n",
      "\n",
      "\n"
     ]
    }
   ],
   "source": [
    "for col in features:\n",
    "    print(uf.categoryContingencySurvival(df, col, 'Survival').to_string())\n",
    "    print(\"\\n\")"
   ]
  },
  {
   "cell_type": "code",
   "execution_count": 170,
   "id": "b1b4d143-1b92-4756-82dc-a5fb3d7d704a",
   "metadata": {},
   "outputs": [],
   "source": [
    "# new feature\n",
    "df['Malignancy_CountTotal_CAN'] = df[features].apply(lambda row: sum(1 for value in row if value == 'Yes' or value == 1), axis=1)\n",
    "\n",
    "# update DataFrame\n",
    "df_drop  = uf.insertIntoDataFrame(df_drop, features)\n",
    "df_can  = uf.insertIntoDataFrame(df_can, ['Malignancy_CountTotal_CAN'])\n",
    "df_ordinal  = uf.insertIntoDataFrame(df_ordinal, ['Malignancy_CountTotal_CAN'])\n",
    "\n",
    "# change datatype to category\n",
    "df = uf.toCategory(df, ['Malignancy_CountTotal_CAN'])"
   ]
  },
  {
   "cell_type": "code",
   "execution_count": 171,
   "id": "b735e67c-d381-40f8-92f8-f2b178e9c2ba",
   "metadata": {},
   "outputs": [
    {
     "data": {
      "text/html": [
       "<div>\n",
       "<style scoped>\n",
       "    .dataframe tbody tr th:only-of-type {\n",
       "        vertical-align: middle;\n",
       "    }\n",
       "\n",
       "    .dataframe tbody tr th {\n",
       "        vertical-align: top;\n",
       "    }\n",
       "\n",
       "    .dataframe thead th {\n",
       "        text-align: right;\n",
       "    }\n",
       "</style>\n",
       "<table border=\"1\" class=\"dataframe\">\n",
       "  <thead>\n",
       "    <tr style=\"text-align: right;\">\n",
       "      <th>Survival</th>\n",
       "      <th>Dead</th>\n",
       "      <th>Living</th>\n",
       "      <th>Row Total</th>\n",
       "      <th>Dead %</th>\n",
       "      <th>Living %</th>\n",
       "    </tr>\n",
       "    <tr>\n",
       "      <th>Malignancy_CountTotal_CAN</th>\n",
       "      <th></th>\n",
       "      <th></th>\n",
       "      <th></th>\n",
       "      <th></th>\n",
       "      <th></th>\n",
       "    </tr>\n",
       "  </thead>\n",
       "  <tbody>\n",
       "    <tr>\n",
       "      <th>0</th>\n",
       "      <td>7110.0</td>\n",
       "      <td>7519.0</td>\n",
       "      <td>14629.0</td>\n",
       "      <td>48.602092</td>\n",
       "      <td>51.397908</td>\n",
       "    </tr>\n",
       "    <tr>\n",
       "      <th>2</th>\n",
       "      <td>742.0</td>\n",
       "      <td>755.0</td>\n",
       "      <td>1497.0</td>\n",
       "      <td>49.565798</td>\n",
       "      <td>50.434202</td>\n",
       "    </tr>\n",
       "    <tr>\n",
       "      <th>Column Total</th>\n",
       "      <td>7852.0</td>\n",
       "      <td>8274.0</td>\n",
       "      <td>16126.0</td>\n",
       "      <td>48.691554</td>\n",
       "      <td>51.308446</td>\n",
       "    </tr>\n",
       "  </tbody>\n",
       "</table>\n",
       "</div>"
      ],
      "text/plain": [
       "Survival                     Dead  Living  Row Total     Dead %   Living %\n",
       "Malignancy_CountTotal_CAN                                                 \n",
       "0                          7110.0  7519.0    14629.0  48.602092  51.397908\n",
       "2                           742.0   755.0     1497.0  49.565798  50.434202\n",
       "Column Total               7852.0  8274.0    16126.0  48.691554  51.308446"
      ]
     },
     "execution_count": 171,
     "metadata": {},
     "output_type": "execute_result"
    }
   ],
   "source": [
    "uf.categoryContingencySurvival(df, 'Malignancy_CountTotal_CAN')"
   ]
  },
  {
   "cell_type": "markdown",
   "id": "6b52fa9b-ba61-4cf4-883c-4b06e7e2fc16",
   "metadata": {
    "jp-MarkdownHeadingCollapsed": true
   },
   "source": [
    "#### MyocardialInfarctionHistory_DON"
   ]
  },
  {
   "cell_type": "code",
   "execution_count": 172,
   "id": "107d4691-7370-4a73-8689-0f691b09b717",
   "metadata": {},
   "outputs": [
    {
     "name": "stdout",
     "output_type": "stream",
     "text": [
      "                                 count unique top   freq\n",
      "MyocardialInfarctionHistory_DON  16126      4  No  15610\n"
     ]
    }
   ],
   "source": [
    "features = getFeatureList(df, 'Myocardial')"
   ]
  },
  {
   "cell_type": "code",
   "execution_count": 173,
   "id": "935d21dd-944b-494b-8836-0e26e650fe59",
   "metadata": {},
   "outputs": [
    {
     "name": "stdout",
     "output_type": "stream",
     "text": [
      "Survival                           Dead  Living  Row Total     Dead %   Living %\n",
      "MyocardialInfarctionHistory_DON                                                 \n",
      "Missing                           182.0    12.0      194.0  93.814433   6.185567\n",
      "No                               7484.0  8126.0    15610.0  47.943626  52.056374\n",
      "Unknown                           106.0    61.0      167.0  63.473054  36.526946\n",
      "Yes                                80.0    75.0      155.0  51.612903  48.387097\n",
      "Column Total                     7852.0  8274.0    16126.0  48.691554  51.308446\n",
      "\n",
      "\n"
     ]
    }
   ],
   "source": [
    "for col in features:\n",
    "    print(uf.categoryContingencySurvival(df, col, 'Survival').to_string())\n",
    "    print(\"\\n\")"
   ]
  },
  {
   "cell_type": "markdown",
   "id": "703fb1f9-192e-475c-b61b-53533abb9a77",
   "metadata": {},
   "source": [
    "#### PreviousTransplant"
   ]
  },
  {
   "cell_type": "code",
   "execution_count": 174,
   "id": "95acf627-5e6c-405e-96f8-5f5711de9aa4",
   "metadata": {},
   "outputs": [
    {
     "name": "stdout",
     "output_type": "stream",
     "text": [
      "                                 count unique top   freq\n",
      "PreviousTransplantNumber_CAN     16126      4   0  15616\n",
      "PreviousTransplantSameOrgan_CAN  16126      2  No  15640\n",
      "PreviousTransplantAnyOrgan_CAN   16126      2  No  15597\n"
     ]
    }
   ],
   "source": [
    "features = getFeatureList(df, 'PreviousTransplant')"
   ]
  },
  {
   "cell_type": "code",
   "execution_count": 175,
   "id": "add31560-2149-48cc-990f-2558df88db62",
   "metadata": {},
   "outputs": [
    {
     "data": {
      "text/html": [
       "<div>\n",
       "<style scoped>\n",
       "    .dataframe tbody tr th:only-of-type {\n",
       "        vertical-align: middle;\n",
       "    }\n",
       "\n",
       "    .dataframe tbody tr th {\n",
       "        vertical-align: top;\n",
       "    }\n",
       "\n",
       "    .dataframe thead th {\n",
       "        text-align: right;\n",
       "    }\n",
       "</style>\n",
       "<table border=\"1\" class=\"dataframe\">\n",
       "  <thead>\n",
       "    <tr style=\"text-align: right;\">\n",
       "      <th></th>\n",
       "      <th>column1</th>\n",
       "      <th>column2</th>\n",
       "      <th>chi2</th>\n",
       "      <th>p_value</th>\n",
       "      <th>cramer_v</th>\n",
       "    </tr>\n",
       "  </thead>\n",
       "  <tbody>\n",
       "    <tr>\n",
       "      <th>0</th>\n",
       "      <td>PreviousTransplantNumber_CAN</td>\n",
       "      <td>PreviousTransplantSameOrgan_CAN</td>\n",
       "      <td>14827.985760</td>\n",
       "      <td>0.0</td>\n",
       "      <td>0.958910</td>\n",
       "    </tr>\n",
       "    <tr>\n",
       "      <th>2</th>\n",
       "      <td>PreviousTransplantSameOrgan_CAN</td>\n",
       "      <td>PreviousTransplantAnyOrgan_CAN</td>\n",
       "      <td>14743.044146</td>\n",
       "      <td>0.0</td>\n",
       "      <td>0.956159</td>\n",
       "    </tr>\n",
       "    <tr>\n",
       "      <th>1</th>\n",
       "      <td>PreviousTransplantNumber_CAN</td>\n",
       "      <td>PreviousTransplantAnyOrgan_CAN</td>\n",
       "      <td>13580.060705</td>\n",
       "      <td>0.0</td>\n",
       "      <td>0.917672</td>\n",
       "    </tr>\n",
       "  </tbody>\n",
       "</table>\n",
       "</div>"
      ],
      "text/plain": [
       "                           column1                          column2  \\\n",
       "0     PreviousTransplantNumber_CAN  PreviousTransplantSameOrgan_CAN   \n",
       "2  PreviousTransplantSameOrgan_CAN   PreviousTransplantAnyOrgan_CAN   \n",
       "1     PreviousTransplantNumber_CAN   PreviousTransplantAnyOrgan_CAN   \n",
       "\n",
       "           chi2  p_value  cramer_v  \n",
       "0  14827.985760      0.0  0.958910  \n",
       "2  14743.044146      0.0  0.956159  \n",
       "1  13580.060705      0.0  0.917672  "
      ]
     },
     "execution_count": 175,
     "metadata": {},
     "output_type": "execute_result"
    }
   ],
   "source": [
    "# test of Independence for Categorical Variables\n",
    "usf.pairColsMultiIndependenceCat(df, features)"
   ]
  },
  {
   "cell_type": "code",
   "execution_count": 176,
   "id": "6233ce52-ab1e-495e-8490-15396e51d1e2",
   "metadata": {},
   "outputs": [
    {
     "name": "stdout",
     "output_type": "stream",
     "text": [
      "Survival                        Dead  Living  Row Total     Dead %    Living %\n",
      "PreviousTransplantNumber_CAN                                                  \n",
      "0                             7590.0  8026.0    15616.0  48.603996   51.396004\n",
      "1                              243.0   236.0      479.0  50.730689   49.269311\n",
      "2                               19.0    11.0       30.0  63.333333   36.666667\n",
      "3                                0.0     1.0        1.0   0.000000  100.000000\n",
      "Column Total                  7852.0  8274.0    16126.0  48.691554   51.308446\n",
      "\n",
      "\n",
      "Survival                           Dead  Living  Row Total     Dead %   Living %\n",
      "PreviousTransplantSameOrgan_CAN                                                 \n",
      "No                               7603.0  8037.0    15640.0  48.612532  51.387468\n",
      "Yes                               249.0   237.0      486.0  51.234568  48.765432\n",
      "Column Total                     7852.0  8274.0    16126.0  48.691554  51.308446\n",
      "\n",
      "\n",
      "Survival                          Dead  Living  Row Total     Dead %   Living %\n",
      "PreviousTransplantAnyOrgan_CAN                                                 \n",
      "No                              7578.0  8019.0    15597.0  48.586267  51.413733\n",
      "Yes                              274.0   255.0      529.0  51.795841  48.204159\n",
      "Column Total                    7852.0  8274.0    16126.0  48.691554  51.308446\n",
      "\n",
      "\n"
     ]
    }
   ],
   "source": [
    "for col in features:\n",
    "    print(uf.categoryContingencySurvival(df, col, 'Survival').to_string())\n",
    "    print(\"\\n\")"
   ]
  },
  {
   "cell_type": "code",
   "execution_count": 177,
   "id": "0b72eea9-8ea3-4491-af3d-46505958155e",
   "metadata": {},
   "outputs": [],
   "source": [
    "# update DataFrame\n",
    "df_drop  = uf.insertIntoDataFrame(df_drop, ['PreviousTransplantSameOrgan_CAN','PreviousTransplantAnyOrgan_CAN'])"
   ]
  },
  {
   "cell_type": "markdown",
   "id": "dad4d31f-f1ff-49b2-85b1-2f098effd0cb",
   "metadata": {},
   "source": [
    "#### PriorCardiac\n",
    "- PriorCardiacSurgery_CAN & PriorCardiacSurgeryType_CAN & PriorCardiacSurgeryTypeListAndTransplant_CAN & PriorCardiacSurgeryListAndTransplant_CAN"
   ]
  },
  {
   "cell_type": "code",
   "execution_count": 178,
   "id": "dfb38a7d-ff52-4607-a74d-f8d512b36db3",
   "metadata": {},
   "outputs": [
    {
     "name": "stdout",
     "output_type": "stream",
     "text": [
      "                                              count unique      top   freq\n",
      "PriorCardiacSurgery_CAN                       16126      4       No   9608\n",
      "PriorCardiacSurgeryType_CAN                   16126     23  Missing  10127\n",
      "PriorCardiacSurgeryTypeListAndTransplant_CAN  16126     16  Missing  13143\n",
      "PriorCardiacSurgeryListAndTransplant_CAN      16126      4       No  12706\n"
     ]
    }
   ],
   "source": [
    "features = getFeatureList(df, 'PriorCardiac')"
   ]
  },
  {
   "cell_type": "code",
   "execution_count": 179,
   "id": "26ce09be-86fe-4bfb-8f4e-0150fedc8788",
   "metadata": {},
   "outputs": [
    {
     "data": {
      "text/html": [
       "<div>\n",
       "<style scoped>\n",
       "    .dataframe tbody tr th:only-of-type {\n",
       "        vertical-align: middle;\n",
       "    }\n",
       "\n",
       "    .dataframe tbody tr th {\n",
       "        vertical-align: top;\n",
       "    }\n",
       "\n",
       "    .dataframe thead th {\n",
       "        text-align: right;\n",
       "    }\n",
       "</style>\n",
       "<table border=\"1\" class=\"dataframe\">\n",
       "  <thead>\n",
       "    <tr style=\"text-align: right;\">\n",
       "      <th></th>\n",
       "      <th>column1</th>\n",
       "      <th>column2</th>\n",
       "      <th>chi2</th>\n",
       "      <th>p_value</th>\n",
       "      <th>cramer_v</th>\n",
       "    </tr>\n",
       "  </thead>\n",
       "  <tbody>\n",
       "    <tr>\n",
       "      <th>0</th>\n",
       "      <td>PriorCardiacSurgery_CAN</td>\n",
       "      <td>PriorCardiacSurgeryType_CAN</td>\n",
       "      <td>16126.000000</td>\n",
       "      <td>0.000000e+00</td>\n",
       "      <td>0.577350</td>\n",
       "    </tr>\n",
       "    <tr>\n",
       "      <th>5</th>\n",
       "      <td>PriorCardiacSurgeryTypeListAndTransplant_CAN</td>\n",
       "      <td>PriorCardiacSurgeryListAndTransplant_CAN</td>\n",
       "      <td>16092.890836</td>\n",
       "      <td>0.000000e+00</td>\n",
       "      <td>0.576757</td>\n",
       "    </tr>\n",
       "    <tr>\n",
       "      <th>3</th>\n",
       "      <td>PriorCardiacSurgeryType_CAN</td>\n",
       "      <td>PriorCardiacSurgeryTypeListAndTransplant_CAN</td>\n",
       "      <td>12954.795759</td>\n",
       "      <td>0.000000e+00</td>\n",
       "      <td>0.231423</td>\n",
       "    </tr>\n",
       "    <tr>\n",
       "      <th>2</th>\n",
       "      <td>PriorCardiacSurgery_CAN</td>\n",
       "      <td>PriorCardiacSurgeryListAndTransplant_CAN</td>\n",
       "      <td>2531.342846</td>\n",
       "      <td>0.000000e+00</td>\n",
       "      <td>0.228745</td>\n",
       "    </tr>\n",
       "    <tr>\n",
       "      <th>1</th>\n",
       "      <td>PriorCardiacSurgery_CAN</td>\n",
       "      <td>PriorCardiacSurgeryTypeListAndTransplant_CAN</td>\n",
       "      <td>1376.122431</td>\n",
       "      <td>6.675309e-259</td>\n",
       "      <td>0.168657</td>\n",
       "    </tr>\n",
       "    <tr>\n",
       "      <th>4</th>\n",
       "      <td>PriorCardiacSurgeryType_CAN</td>\n",
       "      <td>PriorCardiacSurgeryListAndTransplant_CAN</td>\n",
       "      <td>1001.892307</td>\n",
       "      <td>2.777133e-167</td>\n",
       "      <td>0.143909</td>\n",
       "    </tr>\n",
       "  </tbody>\n",
       "</table>\n",
       "</div>"
      ],
      "text/plain": [
       "                                        column1  \\\n",
       "0                       PriorCardiacSurgery_CAN   \n",
       "5  PriorCardiacSurgeryTypeListAndTransplant_CAN   \n",
       "3                   PriorCardiacSurgeryType_CAN   \n",
       "2                       PriorCardiacSurgery_CAN   \n",
       "1                       PriorCardiacSurgery_CAN   \n",
       "4                   PriorCardiacSurgeryType_CAN   \n",
       "\n",
       "                                        column2          chi2        p_value  \\\n",
       "0                   PriorCardiacSurgeryType_CAN  16126.000000   0.000000e+00   \n",
       "5      PriorCardiacSurgeryListAndTransplant_CAN  16092.890836   0.000000e+00   \n",
       "3  PriorCardiacSurgeryTypeListAndTransplant_CAN  12954.795759   0.000000e+00   \n",
       "2      PriorCardiacSurgeryListAndTransplant_CAN   2531.342846   0.000000e+00   \n",
       "1  PriorCardiacSurgeryTypeListAndTransplant_CAN   1376.122431  6.675309e-259   \n",
       "4      PriorCardiacSurgeryListAndTransplant_CAN   1001.892307  2.777133e-167   \n",
       "\n",
       "   cramer_v  \n",
       "0  0.577350  \n",
       "5  0.576757  \n",
       "3  0.231423  \n",
       "2  0.228745  \n",
       "1  0.168657  \n",
       "4  0.143909  "
      ]
     },
     "execution_count": 179,
     "metadata": {},
     "output_type": "execute_result"
    }
   ],
   "source": [
    "# test of Independence for Categorical Variables\n",
    "usf.pairColsMultiIndependenceCat(df, features)"
   ]
  },
  {
   "cell_type": "code",
   "execution_count": 180,
   "id": "e5ef6e3a-989a-43d0-b89c-30b0a8390b57",
   "metadata": {},
   "outputs": [
    {
     "name": "stdout",
     "output_type": "stream",
     "text": [
      "Survival                   Dead  Living  Row Total     Dead %   Living %\n",
      "PriorCardiacSurgery_CAN                                                 \n",
      "Missing                   100.0    28.0      128.0  78.125000  21.875000\n",
      "No                       4606.0  5002.0     9608.0  47.939217  52.060783\n",
      "Unknown                   218.0   173.0      391.0  55.754476  44.245524\n",
      "Yes                      2928.0  3071.0     5999.0  48.808135  51.191865\n",
      "Column Total             7852.0  8274.0    16126.0  48.691554  51.308446\n",
      "\n",
      "\n",
      "Survival                                                       Dead  Living  Row Total      Dead %    Living %\n",
      "PriorCardiacSurgeryType_CAN                                                                                   \n",
      "CABG                                                          641.0   661.0     1302.0   49.231951   50.768049\n",
      "CABG; Congenital                                                1.0     2.0        3.0   33.333333   66.666667\n",
      "CABG; Congenital; Other, specify                                1.0     0.0        1.0  100.000000    0.000000\n",
      "CABG; Left Vent. Remodeling                                     1.0     2.0        3.0   33.333333   66.666667\n",
      "CABG; Left Vent. Remodeling; Other, specify                     1.0     2.0        3.0   33.333333   66.666667\n",
      "CABG; Other, specify                                          115.0   124.0      239.0   48.117155   51.882845\n",
      "CABG; Valve Replace/Repair                                     80.0    88.0      168.0   47.619048   52.380952\n",
      "CABG; Valve Replace/Repair; Congenital                          0.0     1.0        1.0    0.000000  100.000000\n",
      "CABG; Valve Replace/Repair; Other, specify                     10.0    18.0       28.0   35.714286   64.285714\n",
      "Congenital                                                    220.0   170.0      390.0   56.410256   43.589744\n",
      "Congenital; Left Vent. Remodeling                               3.0     2.0        5.0   60.000000   40.000000\n",
      "Congenital; Other, specify                                     17.0     9.0       26.0   65.384615   34.615385\n",
      "Left Vent. Remodeling                                          20.0     8.0       28.0   71.428571   28.571429\n",
      "Left Vent. Remodeling; Other, specify                           7.0     4.0       11.0   63.636364   36.363636\n",
      "Missing                                                      4924.0  5203.0    10127.0   48.622494   51.377506\n",
      "Other, specify                                               1287.0  1439.0     2726.0   47.212032   52.787968\n",
      "Valve Replace/Repair                                          365.0   412.0      777.0   46.975547   53.024453\n",
      "Valve Replace/Repair; Congenital                               41.0    27.0       68.0   60.294118   39.705882\n",
      "Valve Replace/Repair; Congenital; Left Vent. Remodeling         0.0     1.0        1.0    0.000000  100.000000\n",
      "Valve Replace/Repair; Congenital; Other, specify                5.0     4.0        9.0   55.555556   44.444444\n",
      "Valve Replace/Repair; Left Vent. Remodeling                     1.0     0.0        1.0  100.000000    0.000000\n",
      "Valve Replace/Repair; Left Vent. Remodeling; Other, specify     1.0     1.0        2.0   50.000000   50.000000\n",
      "Valve Replace/Repair; Other, specify                          111.0    96.0      207.0   53.623188   46.376812\n",
      "Column Total                                                 7852.0  8274.0    16126.0   48.691554   51.308446\n",
      "\n",
      "\n",
      "Survival                                            Dead  Living  Row Total      Dead %    Living %\n",
      "PriorCardiacSurgeryTypeListAndTransplant_CAN                                                       \n",
      "CABG                                               214.0   231.0      445.0   48.089888   51.910112\n",
      "CABG; Congenital                                     1.0     0.0        1.0  100.000000    0.000000\n",
      "CABG; Other, specify                                26.0    35.0       61.0   42.622951   57.377049\n",
      "CABG; Valve Replace/Repair                          30.0    25.0       55.0   54.545455   45.454545\n",
      "CABG; Valve Replace/Repair; Congenital               1.0     1.0        2.0   50.000000   50.000000\n",
      "CABG; Valve Replace/Repair; Other, specify           4.0     7.0       11.0   36.363636   63.636364\n",
      "Congenital                                          94.0    63.0      157.0   59.872611   40.127389\n",
      "Congenital; Other, specify                           3.0     3.0        6.0   50.000000   50.000000\n",
      "Left Vent. Remodeling                               14.0     7.0       21.0   66.666667   33.333333\n",
      "Left Vent. Remodeling; Other, specify                0.0     4.0        4.0    0.000000  100.000000\n",
      "Missing                                           6493.0  6650.0    13143.0   49.402724   50.597276\n",
      "Other, specify                                     767.0  1063.0     1830.0   41.912568   58.087432\n",
      "Valve Replace/Repair                               140.0   130.0      270.0   51.851852   48.148148\n",
      "Valve Replace/Repair; Congenital                    11.0    10.0       21.0   52.380952   47.619048\n",
      "Valve Replace/Repair; Congenital; Other, specify     3.0     0.0        3.0  100.000000    0.000000\n",
      "Valve Replace/Repair; Other, specify                51.0    45.0       96.0   53.125000   46.875000\n",
      "Column Total                                      7852.0  8274.0    16126.0   48.691554   51.308446\n",
      "\n",
      "\n",
      "Survival                                    Dead  Living  Row Total      Dead %   Living %\n",
      "PriorCardiacSurgeryListAndTransplant_CAN                                                  \n",
      "Missing                                    423.0     0.0      423.0  100.000000   0.000000\n",
      "No                                        6062.0  6644.0    12706.0   47.709743  52.290257\n",
      "Unknown                                      4.0     5.0        9.0   44.444444  55.555556\n",
      "Yes                                       1363.0  1625.0     2988.0   45.615797  54.384203\n",
      "Column Total                              7852.0  8274.0    16126.0   48.691554  51.308446\n",
      "\n",
      "\n"
     ]
    }
   ],
   "source": [
    "for col in features:\n",
    "    print(uf.categoryContingencySurvival(df, col, 'Survival').to_string())\n",
    "    print(\"\\n\")"
   ]
  },
  {
   "cell_type": "code",
   "execution_count": 181,
   "id": "92876209-02fe-4efe-9315-efa67360cf6b",
   "metadata": {},
   "outputs": [],
   "source": [
    "# initialize features\n",
    "features = ['PriorCardiacSurgery_CAN','PriorCardiacSurgeryListAndTransplant_CAN']\n",
    "\n",
    "# new feature\n",
    "df['PriorCardiacSurgery_CountTotal_CAN'] = df[features].apply(lambda row: sum(1 for value in row if value == 'Yes'), axis=1)\n",
    "\n",
    "# change to category\n",
    "df['PriorCardiacSurgery_CountTotal_CAN'] = df['PriorCardiacSurgery_CountTotal_CAN'].astype('category')\n",
    "\n",
    "# update DataFrame\n",
    "df_drop  = uf.insertIntoDataFrame(df_drop, features)\n",
    "df_can  = uf.insertIntoDataFrame(df_can, ['PriorCardiacSurgery_CountTotal_CAN'])\n",
    "df_ordinal  = uf.insertIntoDataFrame(df_ordinal, ['PriorCardiacSurgery_CountTotal_CAN'])\n",
    "\n",
    "# change datatype to category\n",
    "df = uf.toCategory(df, ['PriorCardiacSurgery_CountTotal_CAN'])"
   ]
  },
  {
   "cell_type": "code",
   "execution_count": 182,
   "id": "06a5b807-5735-4fc1-8cd1-c6db91d0ed34",
   "metadata": {},
   "outputs": [
    {
     "data": {
      "text/html": [
       "<div>\n",
       "<style scoped>\n",
       "    .dataframe tbody tr th:only-of-type {\n",
       "        vertical-align: middle;\n",
       "    }\n",
       "\n",
       "    .dataframe tbody tr th {\n",
       "        vertical-align: top;\n",
       "    }\n",
       "\n",
       "    .dataframe thead th {\n",
       "        text-align: right;\n",
       "    }\n",
       "</style>\n",
       "<table border=\"1\" class=\"dataframe\">\n",
       "  <thead>\n",
       "    <tr style=\"text-align: right;\">\n",
       "      <th>Survival</th>\n",
       "      <th>Dead</th>\n",
       "      <th>Living</th>\n",
       "      <th>Row Total</th>\n",
       "      <th>Dead %</th>\n",
       "      <th>Living %</th>\n",
       "    </tr>\n",
       "    <tr>\n",
       "      <th>PriorCardiacSurgery_CountTotal_CAN</th>\n",
       "      <th></th>\n",
       "      <th></th>\n",
       "      <th></th>\n",
       "      <th></th>\n",
       "      <th></th>\n",
       "    </tr>\n",
       "  </thead>\n",
       "  <tbody>\n",
       "    <tr>\n",
       "      <th>0</th>\n",
       "      <td>4429.0</td>\n",
       "      <td>4511.0</td>\n",
       "      <td>8940.0</td>\n",
       "      <td>49.541387</td>\n",
       "      <td>50.458613</td>\n",
       "    </tr>\n",
       "    <tr>\n",
       "      <th>1</th>\n",
       "      <td>2555.0</td>\n",
       "      <td>2830.0</td>\n",
       "      <td>5385.0</td>\n",
       "      <td>47.446611</td>\n",
       "      <td>52.553389</td>\n",
       "    </tr>\n",
       "    <tr>\n",
       "      <th>2</th>\n",
       "      <td>868.0</td>\n",
       "      <td>933.0</td>\n",
       "      <td>1801.0</td>\n",
       "      <td>48.195447</td>\n",
       "      <td>51.804553</td>\n",
       "    </tr>\n",
       "    <tr>\n",
       "      <th>Column Total</th>\n",
       "      <td>7852.0</td>\n",
       "      <td>8274.0</td>\n",
       "      <td>16126.0</td>\n",
       "      <td>48.691554</td>\n",
       "      <td>51.308446</td>\n",
       "    </tr>\n",
       "  </tbody>\n",
       "</table>\n",
       "</div>"
      ],
      "text/plain": [
       "Survival                              Dead  Living  Row Total     Dead %  \\\n",
       "PriorCardiacSurgery_CountTotal_CAN                                         \n",
       "0                                   4429.0  4511.0     8940.0  49.541387   \n",
       "1                                   2555.0  2830.0     5385.0  47.446611   \n",
       "2                                    868.0   933.0     1801.0  48.195447   \n",
       "Column Total                        7852.0  8274.0    16126.0  48.691554   \n",
       "\n",
       "Survival                             Living %  \n",
       "PriorCardiacSurgery_CountTotal_CAN             \n",
       "0                                   50.458613  \n",
       "1                                   52.553389  \n",
       "2                                   51.804553  \n",
       "Column Total                        51.308446  "
      ]
     },
     "execution_count": 182,
     "metadata": {},
     "output_type": "execute_result"
    }
   ],
   "source": [
    "uf.categoryContingencySurvival(df, 'PriorCardiacSurgery_CountTotal_CAN')"
   ]
  },
  {
   "cell_type": "code",
   "execution_count": 183,
   "id": "26052873-55c6-4e1a-81d4-1647190be43a",
   "metadata": {},
   "outputs": [],
   "source": [
    "def consolidate_PriorSurgery(value):\n",
    "    if value.startswith('CABG'):\n",
    "        return 'CABG'\n",
    "    elif value.startswith('Congenital'):\n",
    "        return 'Congenital' \n",
    "    elif value.startswith('Left Vent'):\n",
    "        return 'Left Vent'\n",
    "    elif value.startswith('Valve Replace'):\n",
    "        return 'Valve Replace'\n",
    "    elif value.startswith('Other'):\n",
    "        return 'Other'\n",
    "    else:\n",
    "        return 'Missing/Unknown'"
   ]
  },
  {
   "cell_type": "code",
   "execution_count": 184,
   "id": "80d21eb5-9e91-47b0-a488-b403efe56d37",
   "metadata": {},
   "outputs": [],
   "source": [
    "# consolidate features\n",
    "features = ['PriorCardiacSurgeryType_CAN','PriorCardiacSurgeryTypeListAndTransplant_CAN']\n",
    "\n",
    "# map \n",
    "df[features] = df[features].map(consolidate_PriorSurgery).fillna(\"Re-Examine\")\n",
    "\n",
    "# change datatype to category\n",
    "df = uf.toCategory(df, features)"
   ]
  },
  {
   "cell_type": "code",
   "execution_count": 185,
   "id": "6bc101db-3942-4dd0-9e71-41c61bd16973",
   "metadata": {},
   "outputs": [
    {
     "name": "stdout",
     "output_type": "stream",
     "text": [
      "Survival                       Dead  Living  Row Total     Dead %   Living %\n",
      "PriorCardiacSurgeryType_CAN                                                 \n",
      "CABG                          850.0   898.0     1748.0  48.627002  51.372998\n",
      "Congenital                    240.0   181.0      421.0  57.007126  42.992874\n",
      "Left Vent                      27.0    12.0       39.0  69.230769  30.769231\n",
      "Missing/Unknown              4924.0  5203.0    10127.0  48.622494  51.377506\n",
      "Other                        1287.0  1439.0     2726.0  47.212032  52.787968\n",
      "Valve Replace                 524.0   541.0     1065.0  49.201878  50.798122\n",
      "Column Total                 7852.0  8274.0    16126.0  48.691554  51.308446\n",
      "\n",
      "\n",
      "Survival                                        Dead  Living  Row Total     Dead %   Living %\n",
      "PriorCardiacSurgeryTypeListAndTransplant_CAN                                                 \n",
      "CABG                                           276.0   299.0      575.0  48.000000  52.000000\n",
      "Congenital                                      97.0    66.0      163.0  59.509202  40.490798\n",
      "Left Vent                                       14.0    11.0       25.0  56.000000  44.000000\n",
      "Missing/Unknown                               6493.0  6650.0    13143.0  49.402724  50.597276\n",
      "Other                                          767.0  1063.0     1830.0  41.912568  58.087432\n",
      "Valve Replace                                  205.0   185.0      390.0  52.564103  47.435897\n",
      "Column Total                                  7852.0  8274.0    16126.0  48.691554  51.308446\n",
      "\n",
      "\n"
     ]
    }
   ],
   "source": [
    "for col in features:\n",
    "    print(uf.categoryContingencySurvival(df, col).to_string())\n",
    "    print(\"\\n\")"
   ]
  },
  {
   "cell_type": "markdown",
   "id": "8d301252-37f4-4462-8c49-ddc0959d0860",
   "metadata": {},
   "source": [
    "#### PriorLungSurgeryAfterListing_CAN"
   ]
  },
  {
   "cell_type": "code",
   "execution_count": 186,
   "id": "8ae55130-915c-4ec2-8911-f01dceef4c54",
   "metadata": {},
   "outputs": [
    {
     "name": "stdout",
     "output_type": "stream",
     "text": [
      "                                       count unique top   freq\n",
      "PriorLungSurgeryAfterRegistration_CAN  16126      4  No  15646\n"
     ]
    }
   ],
   "source": [
    "features = getFeatureList(df, 'PriorLung')"
   ]
  },
  {
   "cell_type": "code",
   "execution_count": 187,
   "id": "cc18b35b-a4f5-4eb8-9329-08d51dab5e60",
   "metadata": {},
   "outputs": [
    {
     "name": "stdout",
     "output_type": "stream",
     "text": [
      "Survival                                 Dead  Living  Row Total      Dead %   Living %\n",
      "PriorLungSurgeryAfterRegistration_CAN                                                  \n",
      "Missing                                 422.0     0.0      422.0  100.000000   0.000000\n",
      "No                                     7397.0  8249.0    15646.0   47.277259  52.722741\n",
      "Unknown                                   6.0     3.0        9.0   66.666667  33.333333\n",
      "Yes                                      27.0    22.0       49.0   55.102041  44.897959\n",
      "Column Total                           7852.0  8274.0    16126.0   48.691554  51.308446\n",
      "\n",
      "\n"
     ]
    }
   ],
   "source": [
    "for col in features:\n",
    "    print(uf.categoryContingencySurvival(df, col, 'Survival').to_string())\n",
    "    print(\"\\n\")"
   ]
  },
  {
   "cell_type": "markdown",
   "id": "28a2158f-96d4-4bbe-b3fa-ab9a73607da8",
   "metadata": {},
   "source": [
    "#### PulmonaryCatheter_DON"
   ]
  },
  {
   "cell_type": "code",
   "execution_count": 188,
   "id": "09709990-06d6-40d9-9e4c-78849922857e",
   "metadata": {},
   "outputs": [
    {
     "name": "stdout",
     "output_type": "stream",
     "text": [
      "                       count unique top   freq\n",
      "PulmonaryCatheter_DON  16126      3  No  15242\n"
     ]
    }
   ],
   "source": [
    "features = getFeatureList(df, 'PulmonaryCatheter')"
   ]
  },
  {
   "cell_type": "code",
   "execution_count": 189,
   "id": "36aa476e-12a4-4d41-add5-2e3e6e2513a2",
   "metadata": {},
   "outputs": [
    {
     "name": "stdout",
     "output_type": "stream",
     "text": [
      "Survival                 Dead  Living  Row Total     Dead %   Living %\n",
      "PulmonaryCatheter_DON                                                 \n",
      "Missing                 181.0    12.0      193.0  93.782383   6.217617\n",
      "No                     7400.0  7842.0    15242.0  48.550059  51.449941\n",
      "Yes                     271.0   420.0      691.0  39.218524  60.781476\n",
      "Column Total           7852.0  8274.0    16126.0  48.691554  51.308446\n",
      "\n",
      "\n"
     ]
    }
   ],
   "source": [
    "for col in features:\n",
    "    print(uf.categoryContingencySurvival(df, col, 'Survival').to_string())\n",
    "    print(\"\\n\")"
   ]
  },
  {
   "cell_type": "markdown",
   "id": "4c9a33d9-ea9b-4943-9a45-7e674932b5c5",
   "metadata": {},
   "source": [
    "#### Residency\n",
    "- ResidencyStateRegistration_CAN & ResidencyStateTransplant_CAN & ResidencyState_DON"
   ]
  },
  {
   "cell_type": "code",
   "execution_count": 190,
   "id": "255e05df-5b37-4b40-8e30-e5d90abb7ec8",
   "metadata": {},
   "outputs": [
    {
     "name": "stdout",
     "output_type": "stream",
     "text": [
      "                                count unique top  freq\n",
      "ResidencyStateRegistration_CAN  16126     55  CA  1945\n",
      "ResidencyStateTransplant_CAN    16126     55  CA  1903\n",
      "ResidencyState_DON              16126     55  CA  1597\n"
     ]
    }
   ],
   "source": [
    "features = getFeatureList(df, 'Residency')"
   ]
  },
  {
   "cell_type": "code",
   "execution_count": 191,
   "id": "d084ec52-fc63-4a16-8796-bb4b0cd1e5c3",
   "metadata": {},
   "outputs": [
    {
     "data": {
      "text/html": [
       "<div>\n",
       "<style scoped>\n",
       "    .dataframe tbody tr th:only-of-type {\n",
       "        vertical-align: middle;\n",
       "    }\n",
       "\n",
       "    .dataframe tbody tr th {\n",
       "        vertical-align: top;\n",
       "    }\n",
       "\n",
       "    .dataframe thead th {\n",
       "        text-align: right;\n",
       "    }\n",
       "</style>\n",
       "<table border=\"1\" class=\"dataframe\">\n",
       "  <thead>\n",
       "    <tr style=\"text-align: right;\">\n",
       "      <th></th>\n",
       "      <th>column1</th>\n",
       "      <th>column2</th>\n",
       "      <th>chi2</th>\n",
       "      <th>p_value</th>\n",
       "      <th>cramer_v</th>\n",
       "    </tr>\n",
       "  </thead>\n",
       "  <tbody>\n",
       "    <tr>\n",
       "      <th>0</th>\n",
       "      <td>ResidencyStateRegistration_CAN</td>\n",
       "      <td>ResidencyStateTransplant_CAN</td>\n",
       "      <td>763321.295784</td>\n",
       "      <td>0.0</td>\n",
       "      <td>0.936254</td>\n",
       "    </tr>\n",
       "    <tr>\n",
       "      <th>2</th>\n",
       "      <td>ResidencyStateTransplant_CAN</td>\n",
       "      <td>ResidencyState_DON</td>\n",
       "      <td>84369.682892</td>\n",
       "      <td>0.0</td>\n",
       "      <td>0.311267</td>\n",
       "    </tr>\n",
       "    <tr>\n",
       "      <th>1</th>\n",
       "      <td>ResidencyStateRegistration_CAN</td>\n",
       "      <td>ResidencyState_DON</td>\n",
       "      <td>81539.183909</td>\n",
       "      <td>0.0</td>\n",
       "      <td>0.306001</td>\n",
       "    </tr>\n",
       "  </tbody>\n",
       "</table>\n",
       "</div>"
      ],
      "text/plain": [
       "                          column1                       column2  \\\n",
       "0  ResidencyStateRegistration_CAN  ResidencyStateTransplant_CAN   \n",
       "2    ResidencyStateTransplant_CAN            ResidencyState_DON   \n",
       "1  ResidencyStateRegistration_CAN            ResidencyState_DON   \n",
       "\n",
       "            chi2  p_value  cramer_v  \n",
       "0  763321.295784      0.0  0.936254  \n",
       "2   84369.682892      0.0  0.311267  \n",
       "1   81539.183909      0.0  0.306001  "
      ]
     },
     "execution_count": 191,
     "metadata": {},
     "output_type": "execute_result"
    }
   ],
   "source": [
    "# test of Independence for Categorical Variables\n",
    "usf.pairColsMultiIndependenceCat(df, features)"
   ]
  },
  {
   "cell_type": "code",
   "execution_count": 192,
   "id": "0bd9c9f4-f3a6-4aea-8f0e-ed681522b19f",
   "metadata": {},
   "outputs": [],
   "source": [
    "# update DataFrame\n",
    "df_drop  = uf.insertIntoDataFrame(df_drop, features)"
   ]
  },
  {
   "cell_type": "markdown",
   "id": "693c6faf-5361-4243-8bfa-f8f07aaadf59",
   "metadata": {},
   "source": [
    "#### Status\n",
    "- FunctionalStatusRegistration_CAN & StatusAtTransplant_CAN & FunctionalStatusTransplant_CAN\n",
    "- Coronary artery bypass grafting `(CABG)` is a major surgical procedure used to treat coronary heart disease. The surgery involves creating a new path for blood to flow around blocked or narrowed coronary arteries, improving blood supply to the heart muscle"
   ]
  },
  {
   "cell_type": "code",
   "execution_count": 193,
   "id": "3d1eb992-4864-4d37-8273-510ccf7b1b9c",
   "metadata": {},
   "outputs": [
    {
     "name": "stdout",
     "output_type": "stream",
     "text": [
      "                                  count unique                                                                                  top  freq\n",
      "FunctionalStatusRegistration_CAN  16126     19               20% - Very sick, hospitalization necessary: active treatment necessary  4120\n",
      "StatusAtTransplant_CAN            16126      8  Atrioventricular Septal Defect; Congenitally Corrected Transposition (L-TGA); Other  4728\n",
      "FunctionalStatusTransplant_CAN    16126     11               20% - Very sick, hospitalization necessary: active treatment necessary  5353\n"
     ]
    }
   ],
   "source": [
    "features = getFeatureList(df, 'FunctionalStatus|StatusAtTransplant')"
   ]
  },
  {
   "cell_type": "code",
   "execution_count": 194,
   "id": "5ef911d1-aa00-4229-a3ac-ba000a212e97",
   "metadata": {},
   "outputs": [
    {
     "data": {
      "text/html": [
       "<div>\n",
       "<style scoped>\n",
       "    .dataframe tbody tr th:only-of-type {\n",
       "        vertical-align: middle;\n",
       "    }\n",
       "\n",
       "    .dataframe tbody tr th {\n",
       "        vertical-align: top;\n",
       "    }\n",
       "\n",
       "    .dataframe thead th {\n",
       "        text-align: right;\n",
       "    }\n",
       "</style>\n",
       "<table border=\"1\" class=\"dataframe\">\n",
       "  <thead>\n",
       "    <tr style=\"text-align: right;\">\n",
       "      <th></th>\n",
       "      <th>column1</th>\n",
       "      <th>column2</th>\n",
       "      <th>chi2</th>\n",
       "      <th>p_value</th>\n",
       "      <th>cramer_v</th>\n",
       "    </tr>\n",
       "  </thead>\n",
       "  <tbody>\n",
       "    <tr>\n",
       "      <th>1</th>\n",
       "      <td>FunctionalStatusRegistration_CAN</td>\n",
       "      <td>FunctionalStatusTransplant_CAN</td>\n",
       "      <td>19533.535086</td>\n",
       "      <td>0.0</td>\n",
       "      <td>0.348038</td>\n",
       "    </tr>\n",
       "    <tr>\n",
       "      <th>2</th>\n",
       "      <td>StatusAtTransplant_CAN</td>\n",
       "      <td>FunctionalStatusTransplant_CAN</td>\n",
       "      <td>6724.735428</td>\n",
       "      <td>0.0</td>\n",
       "      <td>0.244076</td>\n",
       "    </tr>\n",
       "    <tr>\n",
       "      <th>0</th>\n",
       "      <td>FunctionalStatusRegistration_CAN</td>\n",
       "      <td>StatusAtTransplant_CAN</td>\n",
       "      <td>3486.987448</td>\n",
       "      <td>0.0</td>\n",
       "      <td>0.175757</td>\n",
       "    </tr>\n",
       "  </tbody>\n",
       "</table>\n",
       "</div>"
      ],
      "text/plain": [
       "                            column1                         column2  \\\n",
       "1  FunctionalStatusRegistration_CAN  FunctionalStatusTransplant_CAN   \n",
       "2            StatusAtTransplant_CAN  FunctionalStatusTransplant_CAN   \n",
       "0  FunctionalStatusRegistration_CAN          StatusAtTransplant_CAN   \n",
       "\n",
       "           chi2  p_value  cramer_v  \n",
       "1  19533.535086      0.0  0.348038  \n",
       "2   6724.735428      0.0  0.244076  \n",
       "0   3486.987448      0.0  0.175757  "
      ]
     },
     "execution_count": 194,
     "metadata": {},
     "output_type": "execute_result"
    }
   ],
   "source": [
    "# test of Independence for Categorical Variables\n",
    "usf.pairColsMultiIndependenceCat(df, features)"
   ]
  },
  {
   "cell_type": "code",
   "execution_count": 195,
   "id": "d237a488-6e88-455b-b091-d839f2a36896",
   "metadata": {},
   "outputs": [
    {
     "data": {
      "text/html": [
       "<div>\n",
       "<style scoped>\n",
       "    .dataframe tbody tr th:only-of-type {\n",
       "        vertical-align: middle;\n",
       "    }\n",
       "\n",
       "    .dataframe tbody tr th {\n",
       "        vertical-align: top;\n",
       "    }\n",
       "\n",
       "    .dataframe thead th {\n",
       "        text-align: right;\n",
       "    }\n",
       "</style>\n",
       "<table border=\"1\" class=\"dataframe\">\n",
       "  <thead>\n",
       "    <tr style=\"text-align: right;\">\n",
       "      <th></th>\n",
       "      <th>Feature</th>\n",
       "      <th>Description</th>\n",
       "      <th>Form</th>\n",
       "      <th>FeatureStartDate</th>\n",
       "      <th>FeatureEndDate</th>\n",
       "      <th>FormSection</th>\n",
       "      <th>DataType</th>\n",
       "      <th>SASAnalysisFormat</th>\n",
       "      <th>Comment</th>\n",
       "      <th>OrginalFeature</th>\n",
       "      <th>FeatureType</th>\n",
       "      <th>Information</th>\n",
       "    </tr>\n",
       "  </thead>\n",
       "  <tbody>\n",
       "    <tr>\n",
       "      <th>102</th>\n",
       "      <td>StatusAtTransplant_CAN</td>\n",
       "      <td>CANDIDATE STATUS AT TRANSPLANT OFFER/REMOVALCURRENT TIME</td>\n",
       "      <td>TRR&gt;TCR</td>\n",
       "      <td>1990-01-01</td>\n",
       "      <td>NaT</td>\n",
       "      <td>WAITING LIST DATA</td>\n",
       "      <td>NUM</td>\n",
       "      <td>STAT</td>\n",
       "      <td></td>\n",
       "      <td>END_STAT</td>\n",
       "      <td>Category</td>\n",
       "      <td>FMTNAME: CHDMULT - This Feature could be Ordinal but using as Nominal</td>\n",
       "    </tr>\n",
       "    <tr>\n",
       "      <th>108</th>\n",
       "      <td>FunctionalStatusRegistration_CAN</td>\n",
       "      <td>RECIPIENT FUNCTIONAL STATUS @ REGISTRATION</td>\n",
       "      <td>TCR</td>\n",
       "      <td>1994-04-01</td>\n",
       "      <td>NaT</td>\n",
       "      <td>CANDIDATE INFORMATION</td>\n",
       "      <td>NUM</td>\n",
       "      <td>FUNCSTAT</td>\n",
       "      <td></td>\n",
       "      <td>FUNC_STAT_TCR</td>\n",
       "      <td>Category</td>\n",
       "      <td>FMTNAME: FUNCSTAT</td>\n",
       "    </tr>\n",
       "    <tr>\n",
       "      <th>110</th>\n",
       "      <td>FunctionalStatusTransplant_CAN</td>\n",
       "      <td>RECIPIENT FUNCTIONAL STATUS @TRANSPLANT</td>\n",
       "      <td>TRR</td>\n",
       "      <td>1994-04-01</td>\n",
       "      <td>NaT</td>\n",
       "      <td>PATIENT STATUS</td>\n",
       "      <td>NUM</td>\n",
       "      <td>FUNCSTAT</td>\n",
       "      <td></td>\n",
       "      <td>FUNC_STAT_TRR</td>\n",
       "      <td>Category</td>\n",
       "      <td>FMTNAME: FUNCSTAT</td>\n",
       "    </tr>\n",
       "  </tbody>\n",
       "</table>\n",
       "</div>"
      ],
      "text/plain": [
       "                              Feature  \\\n",
       "102            StatusAtTransplant_CAN   \n",
       "108  FunctionalStatusRegistration_CAN   \n",
       "110    FunctionalStatusTransplant_CAN   \n",
       "\n",
       "                                                  Description     Form  \\\n",
       "102  CANDIDATE STATUS AT TRANSPLANT OFFER/REMOVALCURRENT TIME  TRR>TCR   \n",
       "108                RECIPIENT FUNCTIONAL STATUS @ REGISTRATION      TCR   \n",
       "110                   RECIPIENT FUNCTIONAL STATUS @TRANSPLANT      TRR   \n",
       "\n",
       "    FeatureStartDate FeatureEndDate            FormSection DataType  \\\n",
       "102       1990-01-01            NaT      WAITING LIST DATA      NUM   \n",
       "108       1994-04-01            NaT  CANDIDATE INFORMATION      NUM   \n",
       "110       1994-04-01            NaT         PATIENT STATUS      NUM   \n",
       "\n",
       "    SASAnalysisFormat Comment OrginalFeature FeatureType  \\\n",
       "102              STAT               END_STAT    Category   \n",
       "108          FUNCSTAT          FUNC_STAT_TCR    Category   \n",
       "110          FUNCSTAT          FUNC_STAT_TRR    Category   \n",
       "\n",
       "                                                               Information  \n",
       "102  FMTNAME: CHDMULT - This Feature could be Ordinal but using as Nominal  \n",
       "108                                                      FMTNAME: FUNCSTAT  \n",
       "110                                                      FMTNAME: FUNCSTAT  "
      ]
     },
     "execution_count": 195,
     "metadata": {},
     "output_type": "execute_result"
    }
   ],
   "source": [
    "df_dict[df_dict.Feature.isin(features)]"
   ]
  },
  {
   "cell_type": "code",
   "execution_count": 196,
   "id": "9ba8e85b-8492-4314-b0f0-a62d3bb5cd87",
   "metadata": {},
   "outputs": [
    {
     "name": "stdout",
     "output_type": "stream",
     "text": [
      "Survival                                                                                               Dead  Living  Row Total      Dead %    Living %\n",
      "FunctionalStatusRegistration_CAN                                                                                                                      \n",
      "10% - Moribund, fatal processes progressing rapidly                                                   315.0   180.0      495.0   63.636364   36.363636\n",
      "100% - Fully active, normal                                                                             4.0     0.0        4.0  100.000000    0.000000\n",
      "100% - Normal, no complaints, no evidence of disease                                                   27.0    21.0       48.0   56.250000   43.750000\n",
      "20% - Very sick, hospitalization necessary: active treatment necessary                               2124.0  1996.0     4120.0   51.553398   48.446602\n",
      "30% - In bed; needs assistance even for quiet play                                                      1.0     1.0        2.0   50.000000   50.000000\n",
      "30% - Severely disabled: hospitalization is indicated, death not imminent                             730.0   779.0     1509.0   48.376408   51.623592\n",
      "40% - Disabled: requires special care and assistance                                                 1063.0  1415.0     2478.0   42.897498   57.102502\n",
      "40% - Mostly in bed; participates in quiet activities                                                   0.0     2.0        2.0    0.000000  100.000000\n",
      "50% - Can dress but lies around much of day; no active play; can take part in quiet play/activities     1.0     1.0        2.0   50.000000   50.000000\n",
      "50% - Requires considerable assistance and frequent medical care                                      748.0   870.0     1618.0   46.229913   53.770087\n",
      "60% - Requires occasional assistance but is able to care for needs                                    858.0   927.0     1785.0   48.067227   51.932773\n",
      "60% - Up and around, but minimal active play; keeps busy with quieter activities                        3.0     6.0        9.0   33.333333   66.666667\n",
      "70% - Both greater restriction of and less time spent in play activity                                  7.0     6.0       13.0   53.846154   46.153846\n",
      "70% - Cares for self: unable to carry on normal activity or active work                               853.0   993.0     1846.0   46.208017   53.791983\n",
      "80% - Active, but tires more quickly                                                                    6.0     7.0       13.0   46.153846   53.846154\n",
      "80% - Normal activity with effort: some symptoms of disease                                           564.0   608.0     1172.0   48.122867   51.877133\n",
      "90% - Able to carry on normal activity: minor symptoms of disease                                     149.0   190.0      339.0   43.952802   56.047198\n",
      "90% - Minor restrictions in physically strenuous activity                                               2.0     4.0        6.0   33.333333   66.666667\n",
      "Unknown                                                                                               397.0   268.0      665.0   59.699248   40.300752\n",
      "Column Total                                                                                         7852.0  8274.0    16126.0   48.691554   51.308446\n",
      "\n",
      "\n",
      "Survival                                                                                                   Dead  Living  Row Total     Dead %   Living %\n",
      "StatusAtTransplant_CAN                                                                                                                                  \n",
      "Atrioventricular Septal Defect; Congenitally Corrected Transposition (L-TGA); Other                      3406.0  1322.0     4728.0  72.038917  27.961083\n",
      "Hypoplastic Left Heart Syndrome; Atrioventricular Septal Defect; Other left Heart Valvar/Structural       528.0  3799.0     4327.0  12.202450  87.797550\n",
      "Hypoplastic Left Heart Syndrome; Other left Heart Valvar/Structural Hypoplasia; Congenitally Correct     1190.0   613.0     1803.0  66.001109  33.998891\n",
      "Hypoplastic Left Heart Syndrome; Transposition of the Great Arteries; Atrioventricular Septal Defect      694.0   395.0     1089.0  63.728191  36.271809\n",
      "Hypoplastic Left Heart Syndrome; Transposition of the Great Arteries; Truncus Arteriosus; Congenital       60.0    15.0       75.0  80.000000  20.000000\n",
      "Other left Heart Valvar/Structural Hypoplasia; Truncus Arteriosus; Congenitally Corrected Transposition   351.0    95.0      446.0  78.699552  21.300448\n",
      "Transposition of the Great Arteries; Atrioventricular Septal Defect; Other left Heart Valvar/Structural  1439.0   506.0     1945.0  73.984576  26.015424\n",
      "Transposition of the Great Arteries; Truncus Arteriosus; Congenitally Corrected Transposition (L-TGA)     184.0  1529.0     1713.0  10.741389  89.258611\n",
      "Column Total                                                                                             7852.0  8274.0    16126.0  48.691554  51.308446\n",
      "\n",
      "\n",
      "Survival                                                                     Dead  Living  Row Total     Dead %   Living %\n",
      "FunctionalStatusTransplant_CAN                                                                                            \n",
      "10% - Moribund, fatal processes progressing rapidly                         456.0   340.0      796.0  57.286432  42.713568\n",
      "100% - Normal, no complaints, no evidence of disease                         27.0    47.0       74.0  36.486486  63.513514\n",
      "20% - Very sick, hospitalization necessary: active treatment necessary     2861.0  2492.0     5353.0  53.446665  46.553335\n",
      "30% - Severely disabled: hospitalization is indicated, death not imminent   715.0   827.0     1542.0  46.368353  53.631647\n",
      "40% - Disabled: requires special care and assistance                        712.0  1262.0     1974.0  36.068896  63.931104\n",
      "50% - Requires considerable assistance and frequent medical care            601.0   745.0     1346.0  44.650817  55.349183\n",
      "60% - Requires occasional assistance but is able to care for needs          563.0   716.0     1279.0  44.018765  55.981235\n",
      "70% - Cares for self: unable to carry on normal activity or active work     608.0   746.0     1354.0  44.903988  55.096012\n",
      "80% - Normal activity with effort: some symptoms of disease                 362.0   485.0      847.0  42.739079  57.260921\n",
      "90% - Able to carry on normal activity: minor symptoms of disease           120.0   206.0      326.0  36.809816  63.190184\n",
      "Unknown                                                                     827.0   408.0     1235.0  66.963563  33.036437\n",
      "Column Total                                                               7852.0  8274.0    16126.0  48.691554  51.308446\n",
      "\n",
      "\n"
     ]
    }
   ],
   "source": [
    "for col in features:\n",
    "    print(uf.categoryContingencySurvival(df, col).to_string())\n",
    "    print(\"\\n\")"
   ]
  },
  {
   "cell_type": "code",
   "execution_count": 197,
   "id": "642780e4-70d9-4b72-bef2-e4ed77499d70",
   "metadata": {},
   "outputs": [],
   "source": [
    "# update DataFrame\n",
    "df_drop  = uf.insertIntoDataFrame(df_drop, ['FunctionalStatusRegistration_CAN'])"
   ]
  },
  {
   "cell_type": "markdown",
   "id": "5dd28afb-2748-4c0e-9132-0a78d05c7f7b",
   "metadata": {
    "jp-MarkdownHeadingCollapsed": true
   },
   "source": [
    "#### Steroids"
   ]
  },
  {
   "cell_type": "code",
   "execution_count": 198,
   "id": "a9e0030c-eed0-46b6-879c-2242f3f92dcf",
   "metadata": {},
   "outputs": [
    {
     "name": "stdout",
     "output_type": "stream",
     "text": [
      "                 count unique  top   freq\n",
      "SteroidsUse_CAN  16126      4   No  14531\n",
      "SteroidsUse_DON  16126      4  Yes  11156\n"
     ]
    }
   ],
   "source": [
    "features = getFeatureList(df, 'Steroids')"
   ]
  },
  {
   "cell_type": "code",
   "execution_count": 199,
   "id": "887199e4-c508-4d7e-9245-5aa7cfb8c42a",
   "metadata": {},
   "outputs": [
    {
     "data": {
      "text/html": [
       "<div>\n",
       "<style scoped>\n",
       "    .dataframe tbody tr th:only-of-type {\n",
       "        vertical-align: middle;\n",
       "    }\n",
       "\n",
       "    .dataframe tbody tr th {\n",
       "        vertical-align: top;\n",
       "    }\n",
       "\n",
       "    .dataframe thead th {\n",
       "        text-align: right;\n",
       "    }\n",
       "</style>\n",
       "<table border=\"1\" class=\"dataframe\">\n",
       "  <thead>\n",
       "    <tr style=\"text-align: right;\">\n",
       "      <th></th>\n",
       "      <th>column1</th>\n",
       "      <th>column2</th>\n",
       "      <th>chi2</th>\n",
       "      <th>p_value</th>\n",
       "      <th>cramer_v</th>\n",
       "    </tr>\n",
       "  </thead>\n",
       "  <tbody>\n",
       "    <tr>\n",
       "      <th>0</th>\n",
       "      <td>SteroidsUse_CAN</td>\n",
       "      <td>SteroidsUse_DON</td>\n",
       "      <td>3655.355346</td>\n",
       "      <td>0.0</td>\n",
       "      <td>0.274879</td>\n",
       "    </tr>\n",
       "  </tbody>\n",
       "</table>\n",
       "</div>"
      ],
      "text/plain": [
       "           column1          column2         chi2  p_value  cramer_v\n",
       "0  SteroidsUse_CAN  SteroidsUse_DON  3655.355346      0.0  0.274879"
      ]
     },
     "execution_count": 199,
     "metadata": {},
     "output_type": "execute_result"
    }
   ],
   "source": [
    "# test of Independence for Categorical Variables\n",
    "usf.pairColsMultiIndependenceCat(df, features)"
   ]
  },
  {
   "cell_type": "code",
   "execution_count": 200,
   "id": "1fee5f1c-500a-43c2-9196-2475abd94a50",
   "metadata": {},
   "outputs": [
    {
     "name": "stdout",
     "output_type": "stream",
     "text": [
      "Survival           Dead  Living  Row Total      Dead %   Living %\n",
      "SteroidsUse_CAN                                                  \n",
      "Missing           429.0     0.0      429.0  100.000000   0.000000\n",
      "No               6898.0  7633.0    14531.0   47.470924  52.529076\n",
      "Unknown            60.0    37.0       97.0   61.855670  38.144330\n",
      "Yes               465.0   604.0     1069.0   43.498597  56.501403\n",
      "Column Total     7852.0  8274.0    16126.0   48.691554  51.308446\n",
      "\n",
      "\n",
      "Survival           Dead  Living  Row Total     Dead %   Living %\n",
      "SteroidsUse_DON                                                 \n",
      "Missing           180.0    12.0      192.0  93.750000   6.250000\n",
      "No               2265.0  2499.0     4764.0  47.544081  52.455919\n",
      "Unknown             8.0     6.0       14.0  57.142857  42.857143\n",
      "Yes              5399.0  5757.0    11156.0  48.395482  51.604518\n",
      "Column Total     7852.0  8274.0    16126.0  48.691554  51.308446\n",
      "\n",
      "\n"
     ]
    }
   ],
   "source": [
    "for col in features:\n",
    "    print(uf.categoryContingencySurvival(df, col, 'Survival').to_string())\n",
    "    print(\"\\n\")"
   ]
  },
  {
   "cell_type": "markdown",
   "id": "0b3414df-fe2b-4f12-8df2-34f8d97b9a9d",
   "metadata": {
    "jp-MarkdownHeadingCollapsed": true
   },
   "source": [
    "#### Tatoos"
   ]
  },
  {
   "cell_type": "code",
   "execution_count": 201,
   "id": "2817e202-359a-488a-b41f-799dada8b824",
   "metadata": {},
   "outputs": [
    {
     "name": "stdout",
     "output_type": "stream",
     "text": [
      "            count unique  top  freq\n",
      "Tatoos_DON  16126      4  Yes  9668\n"
     ]
    }
   ],
   "source": [
    "features = getFeatureList(df, 'Tatoos')"
   ]
  },
  {
   "cell_type": "code",
   "execution_count": 202,
   "id": "f3b07e86-535c-4bde-ad7d-c077f022a936",
   "metadata": {},
   "outputs": [
    {
     "name": "stdout",
     "output_type": "stream",
     "text": [
      "Survival        Dead  Living  Row Total     Dead %   Living %\n",
      "Tatoos_DON                                                   \n",
      "Missing        181.0    12.0      193.0  93.782383   6.217617\n",
      "No            2847.0  3404.0     6251.0  45.544713  54.455287\n",
      "Unknown          5.0     9.0       14.0  35.714286  64.285714\n",
      "Yes           4819.0  4849.0     9668.0  49.844849  50.155151\n",
      "Column Total  7852.0  8274.0    16126.0  48.691554  51.308446\n",
      "\n",
      "\n"
     ]
    }
   ],
   "source": [
    "for col in features:\n",
    "    print(uf.categoryContingencySurvival(df, col, 'Survival').to_string())\n",
    "    print(\"\\n\")"
   ]
  },
  {
   "cell_type": "markdown",
   "id": "5120f1ed-5ea2-43b0-98da-0ca7a318c5cf",
   "metadata": {
    "jp-MarkdownHeadingCollapsed": true
   },
   "source": [
    "#### ThyroxineT4_DON"
   ]
  },
  {
   "cell_type": "code",
   "execution_count": 203,
   "id": "379527c4-b106-4993-9766-791093f26499",
   "metadata": {},
   "outputs": [
    {
     "name": "stdout",
     "output_type": "stream",
     "text": [
      "                 count unique  top  freq\n",
      "ThyroxineT4_DON  16126      4  Yes  9723\n"
     ]
    }
   ],
   "source": [
    "features = getFeatureList(df, 'Thyroxine')"
   ]
  },
  {
   "cell_type": "code",
   "execution_count": 204,
   "id": "4f30b668-5a70-4537-8523-6bb9490a33e5",
   "metadata": {},
   "outputs": [
    {
     "name": "stdout",
     "output_type": "stream",
     "text": [
      "Survival           Dead  Living  Row Total     Dead %   Living %\n",
      "ThyroxineT4_DON                                                 \n",
      "Missing           181.0    12.0      193.0  93.782383   6.217617\n",
      "No               3426.0  2781.0     6207.0  55.195747  44.804253\n",
      "Unknown             1.0     2.0        3.0  33.333333  66.666667\n",
      "Yes              4244.0  5479.0     9723.0  43.649080  56.350920\n",
      "Column Total     7852.0  8274.0    16126.0  48.691554  51.308446\n",
      "\n",
      "\n"
     ]
    }
   ],
   "source": [
    "for col in features:\n",
    "    print(uf.categoryContingencySurvival(df, col, 'Survival').to_string())\n",
    "    print(\"\\n\")"
   ]
  },
  {
   "cell_type": "markdown",
   "id": "b793ec96-a756-45e5-9ea8-92d1a291e025",
   "metadata": {
    "jp-MarkdownHeadingCollapsed": true
   },
   "source": [
    "#### Transfusion\n",
    "- TransfusionAfterListing_CAN & TransfusionNumber_DON"
   ]
  },
  {
   "cell_type": "code",
   "execution_count": 205,
   "id": "32c9d186-de5b-41a7-a2c7-a66a32f4e623",
   "metadata": {},
   "outputs": [
    {
     "name": "stdout",
     "output_type": "stream",
     "text": [
      "                                  count unique   top   freq\n",
      "TransfusionAfterRegistration_CAN  16126      4    No  13087\n",
      "TransfusionNumber_DON             16126      5  NONE   8187\n"
     ]
    }
   ],
   "source": [
    "features = getFeatureList(df, 'Transfusion')"
   ]
  },
  {
   "cell_type": "code",
   "execution_count": 206,
   "id": "c5a8a4a2-d8a4-4e4f-a61d-2ff692d1c5c0",
   "metadata": {},
   "outputs": [
    {
     "data": {
      "text/html": [
       "<div>\n",
       "<style scoped>\n",
       "    .dataframe tbody tr th:only-of-type {\n",
       "        vertical-align: middle;\n",
       "    }\n",
       "\n",
       "    .dataframe tbody tr th {\n",
       "        vertical-align: top;\n",
       "    }\n",
       "\n",
       "    .dataframe thead th {\n",
       "        text-align: right;\n",
       "    }\n",
       "</style>\n",
       "<table border=\"1\" class=\"dataframe\">\n",
       "  <thead>\n",
       "    <tr style=\"text-align: right;\">\n",
       "      <th></th>\n",
       "      <th>column1</th>\n",
       "      <th>column2</th>\n",
       "      <th>chi2</th>\n",
       "      <th>p_value</th>\n",
       "      <th>cramer_v</th>\n",
       "    </tr>\n",
       "  </thead>\n",
       "  <tbody>\n",
       "    <tr>\n",
       "      <th>0</th>\n",
       "      <td>TransfusionAfterRegistration_CAN</td>\n",
       "      <td>TransfusionNumber_DON</td>\n",
       "      <td>10.890692</td>\n",
       "      <td>0.538309</td>\n",
       "      <td>0.015004</td>\n",
       "    </tr>\n",
       "  </tbody>\n",
       "</table>\n",
       "</div>"
      ],
      "text/plain": [
       "                            column1                column2       chi2  \\\n",
       "0  TransfusionAfterRegistration_CAN  TransfusionNumber_DON  10.890692   \n",
       "\n",
       "    p_value  cramer_v  \n",
       "0  0.538309  0.015004  "
      ]
     },
     "execution_count": 206,
     "metadata": {},
     "output_type": "execute_result"
    }
   ],
   "source": [
    "# test of Independence for Categorical Variables\n",
    "usf.pairColsMultiIndependenceCat(df, features)"
   ]
  },
  {
   "cell_type": "code",
   "execution_count": 207,
   "id": "188d8e38-71b1-4ade-866b-9a975a6d5298",
   "metadata": {},
   "outputs": [
    {
     "name": "stdout",
     "output_type": "stream",
     "text": [
      "Survival                            Dead  Living  Row Total      Dead %   Living %\n",
      "TransfusionAfterRegistration_CAN                                                  \n",
      "Missing                            424.0     0.0      424.0  100.000000   0.000000\n",
      "No                                6248.0  6839.0    13087.0   47.742034  52.257966\n",
      "Unknown                             46.0    32.0       78.0   58.974359  41.025641\n",
      "Yes                               1134.0  1403.0     2537.0   44.698463  55.301537\n",
      "Column Total                      7852.0  8274.0    16126.0   48.691554  51.308446\n",
      "\n",
      "\n",
      "Survival                 Dead  Living  Row Total     Dead %   Living %\n",
      "TransfusionNumber_DON                                                 \n",
      "1 - 5                  2443.0  2664.0     5107.0  47.836303  52.163697\n",
      "6 - 10                  809.0   953.0     1762.0  45.913734  54.086266\n",
      "GREATER THAN 10         475.0   578.0     1053.0  45.109212  54.890788\n",
      "Missing                   5.0    12.0       17.0  29.411765  70.588235\n",
      "NONE                   4120.0  4067.0     8187.0  50.323684  49.676316\n",
      "Column Total           7852.0  8274.0    16126.0  48.691554  51.308446\n",
      "\n",
      "\n"
     ]
    }
   ],
   "source": [
    "for col in features:\n",
    "    print(uf.categoryContingencySurvival(df, col, 'Survival').to_string())\n",
    "    print(\"\\n\")"
   ]
  },
  {
   "cell_type": "markdown",
   "id": "10ed5a66-cb60-4a92-be34-76621d7265fd",
   "metadata": {
    "jp-MarkdownHeadingCollapsed": true
   },
   "source": [
    "#### TransplantType_CAN"
   ]
  },
  {
   "cell_type": "code",
   "execution_count": 208,
   "id": "30c5a164-b3dd-4302-b9e4-5a0d46bb9c9a",
   "metadata": {},
   "outputs": [
    {
     "name": "stdout",
     "output_type": "stream",
     "text": [
      "                    count unique top   freq\n",
      "TransplantType_CAN  16126      3   O  15692\n"
     ]
    }
   ],
   "source": [
    "features = getFeatureList(df, 'TransplantType')"
   ]
  },
  {
   "cell_type": "code",
   "execution_count": 209,
   "id": "4bbcd93e-9512-49e2-a7a5-9912e5e084e7",
   "metadata": {},
   "outputs": [
    {
     "name": "stdout",
     "output_type": "stream",
     "text": [
      "Survival              Dead  Living  Row Total     Dead %   Living %\n",
      "TransplantType_CAN                                                 \n",
      "H                      5.0     6.0       11.0  45.454545  54.545455\n",
      "O                   7425.0  8267.0    15692.0  47.317104  52.682896\n",
      "X                    422.0     1.0      423.0  99.763593   0.236407\n",
      "Column Total        7852.0  8274.0    16126.0  48.691554  51.308446\n",
      "\n",
      "\n"
     ]
    }
   ],
   "source": [
    "for col in features:\n",
    "    print(uf.categoryContingencySurvival(df, col, 'Survival').to_string())\n",
    "    print(\"\\n\")"
   ]
  },
  {
   "cell_type": "markdown",
   "id": "301f48d3-ef94-42fb-a31c-7e1fdde4e10f",
   "metadata": {
    "jp-MarkdownHeadingCollapsed": true
   },
   "source": [
    "#### TriiodothyronineT3_DON"
   ]
  },
  {
   "cell_type": "code",
   "execution_count": 210,
   "id": "673110a0-a225-4c5b-8b10-a6ad84b49062",
   "metadata": {},
   "outputs": [
    {
     "name": "stdout",
     "output_type": "stream",
     "text": [
      "                        count unique top   freq\n",
      "TriiodothyronineT3_DON  16126      4  No  15907\n"
     ]
    }
   ],
   "source": [
    "features = getFeatureList(df, 'Triiodothyronine')"
   ]
  },
  {
   "cell_type": "code",
   "execution_count": 211,
   "id": "3140c646-cc12-4a74-a9d7-b7a68275ef3d",
   "metadata": {},
   "outputs": [
    {
     "name": "stdout",
     "output_type": "stream",
     "text": [
      "Survival                  Dead  Living  Row Total     Dead %   Living %\n",
      "TriiodothyronineT3_DON                                                 \n",
      "Missing                  181.0    12.0      193.0  93.782383   6.217617\n",
      "No                      7658.0  8249.0    15907.0  48.142327  51.857673\n",
      "Unknown                    2.0     2.0        4.0  50.000000  50.000000\n",
      "Yes                       11.0    11.0       22.0  50.000000  50.000000\n",
      "Column Total            7852.0  8274.0    16126.0  48.691554  51.308446\n",
      "\n",
      "\n"
     ]
    }
   ],
   "source": [
    "for col in features:\n",
    "    print(uf.categoryContingencySurvival(df, col, 'Survival').to_string())\n",
    "    print(\"\\n\")"
   ]
  },
  {
   "cell_type": "markdown",
   "id": "8923befa-ec92-4f9f-84ff-bdad93f120ee",
   "metadata": {
    "jp-MarkdownHeadingCollapsed": true
   },
   "source": [
    "#### UrinePortein_DON"
   ]
  },
  {
   "cell_type": "code",
   "execution_count": 212,
   "id": "f6f3fc48-10c6-4a8a-a4b2-91feaca3ace0",
   "metadata": {},
   "outputs": [
    {
     "name": "stdout",
     "output_type": "stream",
     "text": [
      "                  count unique top  freq\n",
      "UrinePortein_DON  16126      4  No  8069\n"
     ]
    }
   ],
   "source": [
    "features = getFeatureList(df, 'UrinePortein')\n"
   ]
  },
  {
   "cell_type": "code",
   "execution_count": 213,
   "id": "2f4bbf02-e7b5-425c-b5cf-243478e0d1c9",
   "metadata": {},
   "outputs": [
    {
     "name": "stdout",
     "output_type": "stream",
     "text": [
      "Survival            Dead  Living  Row Total     Dead %   Living %\n",
      "UrinePortein_DON                                                 \n",
      "Missing            180.0    12.0      192.0  93.750000   6.250000\n",
      "No                3648.0  4421.0     8069.0  45.210063  54.789937\n",
      "Unknown             27.0    33.0       60.0  45.000000  55.000000\n",
      "Yes               3997.0  3808.0     7805.0  51.210762  48.789238\n",
      "Column Total      7852.0  8274.0    16126.0  48.691554  51.308446\n",
      "\n",
      "\n"
     ]
    }
   ],
   "source": [
    "for col in features:\n",
    "    print(uf.categoryContingencySurvival(df, col, 'Survival').to_string())\n",
    "    print(\"\\n\")"
   ]
  },
  {
   "cell_type": "markdown",
   "id": "cea368ee-b0ae-4472-a5f6-e94ac92734cf",
   "metadata": {
    "jp-MarkdownHeadingCollapsed": true
   },
   "source": [
    "#### Vasodilators_DON"
   ]
  },
  {
   "cell_type": "code",
   "execution_count": 214,
   "id": "0a955ce0-9b71-42a1-95c2-9d95c3c884bd",
   "metadata": {},
   "outputs": [
    {
     "name": "stdout",
     "output_type": "stream",
     "text": [
      "                  count unique top   freq\n",
      "Vasodilators_DON  16126      4  No  13093\n"
     ]
    }
   ],
   "source": [
    "features = getFeatureList(df, 'Vasodilators_DON')"
   ]
  },
  {
   "cell_type": "code",
   "execution_count": 215,
   "id": "213ca5c3-c71f-4bee-95d4-6b0b07fd65f6",
   "metadata": {},
   "outputs": [
    {
     "name": "stdout",
     "output_type": "stream",
     "text": [
      "Survival            Dead  Living  Row Total     Dead %    Living %\n",
      "Vasodilators_DON                                                  \n",
      "Missing            181.0    12.0      193.0  93.782383    6.217617\n",
      "No                6195.0  6898.0    13093.0  47.315359   52.684641\n",
      "Unknown              0.0     6.0        6.0   0.000000  100.000000\n",
      "Yes               1476.0  1358.0     2834.0  52.081863   47.918137\n",
      "Column Total      7852.0  8274.0    16126.0  48.691554   51.308446\n",
      "\n",
      "\n"
     ]
    }
   ],
   "source": [
    "for col in features:\n",
    "    print(uf.categoryContingencySurvival(df, col, 'Survival').to_string())\n",
    "    print(\"\\n\")"
   ]
  },
  {
   "cell_type": "markdown",
   "id": "de3250d4-7864-4727-9891-cb0a85b14843",
   "metadata": {},
   "source": [
    "#### Ventilator\n",
    "- VentilatorRegistration_CAN & VentilatorySupport_CAN & VentilatorTransplant_CAN & VentilatorySupportAfterRegistration_CAN\n",
    "- Combined Ventilator_CountTotal_CAN"
   ]
  },
  {
   "cell_type": "code",
   "execution_count": 216,
   "id": "f3f1f960-aca1-41af-98ba-fd0e178d20e1",
   "metadata": {},
   "outputs": [
    {
     "name": "stdout",
     "output_type": "stream",
     "text": [
      "                                         count unique top   freq\n",
      "VentilatorRegistration_CAN               16126      2   0  15869\n",
      "VentilatorySupport_CAN                   16126      4  No  13163\n",
      "VentilatorTransplant_CAN                 16126      2   0  15840\n",
      "VentilatorySupportAfterRegistration_CAN  16126      4  No  13163\n"
     ]
    }
   ],
   "source": [
    "features = getFeatureList(df, 'Ventilator')"
   ]
  },
  {
   "cell_type": "code",
   "execution_count": 217,
   "id": "ba468441-cc55-4f4d-800e-c85e5002e34c",
   "metadata": {},
   "outputs": [
    {
     "data": {
      "text/html": [
       "<div>\n",
       "<style scoped>\n",
       "    .dataframe tbody tr th:only-of-type {\n",
       "        vertical-align: middle;\n",
       "    }\n",
       "\n",
       "    .dataframe tbody tr th {\n",
       "        vertical-align: top;\n",
       "    }\n",
       "\n",
       "    .dataframe thead th {\n",
       "        text-align: right;\n",
       "    }\n",
       "</style>\n",
       "<table border=\"1\" class=\"dataframe\">\n",
       "  <thead>\n",
       "    <tr style=\"text-align: right;\">\n",
       "      <th></th>\n",
       "      <th>column1</th>\n",
       "      <th>column2</th>\n",
       "      <th>chi2</th>\n",
       "      <th>p_value</th>\n",
       "      <th>cramer_v</th>\n",
       "    </tr>\n",
       "  </thead>\n",
       "  <tbody>\n",
       "    <tr>\n",
       "      <th>4</th>\n",
       "      <td>VentilatorySupport_CAN</td>\n",
       "      <td>VentilatorySupportAfterRegistration_CAN</td>\n",
       "      <td>48378.000000</td>\n",
       "      <td>0.000000e+00</td>\n",
       "      <td>1.000000</td>\n",
       "    </tr>\n",
       "    <tr>\n",
       "      <th>1</th>\n",
       "      <td>VentilatorRegistration_CAN</td>\n",
       "      <td>VentilatorTransplant_CAN</td>\n",
       "      <td>2595.809583</td>\n",
       "      <td>0.000000e+00</td>\n",
       "      <td>0.401211</td>\n",
       "    </tr>\n",
       "    <tr>\n",
       "      <th>5</th>\n",
       "      <td>VentilatorTransplant_CAN</td>\n",
       "      <td>VentilatorySupportAfterRegistration_CAN</td>\n",
       "      <td>1117.523080</td>\n",
       "      <td>5.746494e-242</td>\n",
       "      <td>0.263248</td>\n",
       "    </tr>\n",
       "    <tr>\n",
       "      <th>3</th>\n",
       "      <td>VentilatorySupport_CAN</td>\n",
       "      <td>VentilatorTransplant_CAN</td>\n",
       "      <td>1117.523080</td>\n",
       "      <td>5.746494e-242</td>\n",
       "      <td>0.263248</td>\n",
       "    </tr>\n",
       "    <tr>\n",
       "      <th>0</th>\n",
       "      <td>VentilatorRegistration_CAN</td>\n",
       "      <td>VentilatorySupport_CAN</td>\n",
       "      <td>518.262808</td>\n",
       "      <td>5.256683e-112</td>\n",
       "      <td>0.179272</td>\n",
       "    </tr>\n",
       "    <tr>\n",
       "      <th>2</th>\n",
       "      <td>VentilatorRegistration_CAN</td>\n",
       "      <td>VentilatorySupportAfterRegistration_CAN</td>\n",
       "      <td>518.262808</td>\n",
       "      <td>5.256683e-112</td>\n",
       "      <td>0.179272</td>\n",
       "    </tr>\n",
       "  </tbody>\n",
       "</table>\n",
       "</div>"
      ],
      "text/plain": [
       "                      column1                                  column2  \\\n",
       "4      VentilatorySupport_CAN  VentilatorySupportAfterRegistration_CAN   \n",
       "1  VentilatorRegistration_CAN                 VentilatorTransplant_CAN   \n",
       "5    VentilatorTransplant_CAN  VentilatorySupportAfterRegistration_CAN   \n",
       "3      VentilatorySupport_CAN                 VentilatorTransplant_CAN   \n",
       "0  VentilatorRegistration_CAN                   VentilatorySupport_CAN   \n",
       "2  VentilatorRegistration_CAN  VentilatorySupportAfterRegistration_CAN   \n",
       "\n",
       "           chi2        p_value  cramer_v  \n",
       "4  48378.000000   0.000000e+00  1.000000  \n",
       "1   2595.809583   0.000000e+00  0.401211  \n",
       "5   1117.523080  5.746494e-242  0.263248  \n",
       "3   1117.523080  5.746494e-242  0.263248  \n",
       "0    518.262808  5.256683e-112  0.179272  \n",
       "2    518.262808  5.256683e-112  0.179272  "
      ]
     },
     "execution_count": 217,
     "metadata": {},
     "output_type": "execute_result"
    }
   ],
   "source": [
    "# test of Independence for Categorical Variables\n",
    "usf.pairColsMultiIndependenceCat(df, features)"
   ]
  },
  {
   "cell_type": "code",
   "execution_count": 218,
   "id": "adb23296-8c9d-4248-9e2d-fe6f59c3b325",
   "metadata": {},
   "outputs": [
    {
     "name": "stdout",
     "output_type": "stream",
     "text": [
      "Survival                      Dead  Living  Row Total     Dead %   Living %\n",
      "VentilatorRegistration_CAN                                                 \n",
      "0                           7710.0  8159.0    15869.0  48.585292  51.414708\n",
      "1                            142.0   115.0      257.0  55.252918  44.747082\n",
      "Column Total                7852.0  8274.0    16126.0  48.691554  51.308446\n",
      "\n",
      "\n",
      "Survival                  Dead  Living  Row Total      Dead %   Living %\n",
      "VentilatorySupport_CAN                                                  \n",
      "Missing                  424.0     0.0      424.0  100.000000   0.000000\n",
      "No                      6256.0  6907.0    13163.0   47.527159  52.472841\n",
      "Unknown                   42.0    19.0       61.0   68.852459  31.147541\n",
      "Yes                     1130.0  1348.0     2478.0   45.601291  54.398709\n",
      "Column Total            7852.0  8274.0    16126.0   48.691554  51.308446\n",
      "\n",
      "\n",
      "Survival                    Dead  Living  Row Total     Dead %   Living %\n",
      "VentilatorTransplant_CAN                                                 \n",
      "0                         7674.0  8166.0    15840.0  48.446970  51.553030\n",
      "1                          178.0   108.0      286.0  62.237762  37.762238\n",
      "Column Total              7852.0  8274.0    16126.0  48.691554  51.308446\n",
      "\n",
      "\n",
      "Survival                                   Dead  Living  Row Total      Dead %   Living %\n",
      "VentilatorySupportAfterRegistration_CAN                                                  \n",
      "Missing                                   424.0     0.0      424.0  100.000000   0.000000\n",
      "No                                       6256.0  6907.0    13163.0   47.527159  52.472841\n",
      "Unknown                                    42.0    19.0       61.0   68.852459  31.147541\n",
      "Yes                                      1130.0  1348.0     2478.0   45.601291  54.398709\n",
      "Column Total                             7852.0  8274.0    16126.0   48.691554  51.308446\n",
      "\n",
      "\n"
     ]
    }
   ],
   "source": [
    "for col in features:\n",
    "    print(uf.categoryContingencySurvival(df, col, 'Survival').to_string())\n",
    "    print(\"\\n\")"
   ]
  },
  {
   "cell_type": "code",
   "execution_count": 219,
   "id": "cd2c86d4-9e1e-4679-8b2c-b9e598db7558",
   "metadata": {},
   "outputs": [],
   "source": [
    "# new feature\n",
    "df['Ventilator_CountTotal_CAN'] = df[features].apply(lambda row: sum(1 for value in row if value == 'Yes' or value == 1), axis=1)\n",
    "\n",
    "# update DataFrame\n",
    "df_drop  = uf.insertIntoDataFrame(df_drop, features)\n",
    "df_can  = uf.insertIntoDataFrame(df_can, ['Ventilator_CountTotal_CAN'])\n",
    "df_ordinal  = uf.insertIntoDataFrame(df_ordinal, ['Ventilator_CountTotal_CAN'])\n",
    "\n",
    "# change datatype to category\n",
    "df = uf.toCategory(df, ['Ventilator_CountTotal_CAN'])"
   ]
  },
  {
   "cell_type": "code",
   "execution_count": 220,
   "id": "7cc5f850-dfa1-4433-bc2a-3bdf90168fe7",
   "metadata": {},
   "outputs": [
    {
     "data": {
      "text/html": [
       "<div>\n",
       "<style scoped>\n",
       "    .dataframe tbody tr th:only-of-type {\n",
       "        vertical-align: middle;\n",
       "    }\n",
       "\n",
       "    .dataframe tbody tr th {\n",
       "        vertical-align: top;\n",
       "    }\n",
       "\n",
       "    .dataframe thead th {\n",
       "        text-align: right;\n",
       "    }\n",
       "</style>\n",
       "<table border=\"1\" class=\"dataframe\">\n",
       "  <thead>\n",
       "    <tr style=\"text-align: right;\">\n",
       "      <th>Survival</th>\n",
       "      <th>Dead</th>\n",
       "      <th>Living</th>\n",
       "      <th>Row Total</th>\n",
       "      <th>Dead %</th>\n",
       "      <th>Living %</th>\n",
       "    </tr>\n",
       "    <tr>\n",
       "      <th>Ventilator_CountTotal_CAN</th>\n",
       "      <th></th>\n",
       "      <th></th>\n",
       "      <th></th>\n",
       "      <th></th>\n",
       "      <th></th>\n",
       "    </tr>\n",
       "  </thead>\n",
       "  <tbody>\n",
       "    <tr>\n",
       "      <th>0</th>\n",
       "      <td>6669.0</td>\n",
       "      <td>6860.0</td>\n",
       "      <td>13529.0</td>\n",
       "      <td>49.294109</td>\n",
       "      <td>50.705891</td>\n",
       "    </tr>\n",
       "    <tr>\n",
       "      <th>1</th>\n",
       "      <td>49.0</td>\n",
       "      <td>62.0</td>\n",
       "      <td>111.0</td>\n",
       "      <td>44.144144</td>\n",
       "      <td>55.855856</td>\n",
       "    </tr>\n",
       "    <tr>\n",
       "      <th>2</th>\n",
       "      <td>937.0</td>\n",
       "      <td>1237.0</td>\n",
       "      <td>2174.0</td>\n",
       "      <td>43.100276</td>\n",
       "      <td>56.899724</td>\n",
       "    </tr>\n",
       "    <tr>\n",
       "      <th>3</th>\n",
       "      <td>131.0</td>\n",
       "      <td>77.0</td>\n",
       "      <td>208.0</td>\n",
       "      <td>62.980769</td>\n",
       "      <td>37.019231</td>\n",
       "    </tr>\n",
       "    <tr>\n",
       "      <th>4</th>\n",
       "      <td>66.0</td>\n",
       "      <td>38.0</td>\n",
       "      <td>104.0</td>\n",
       "      <td>63.461538</td>\n",
       "      <td>36.538462</td>\n",
       "    </tr>\n",
       "    <tr>\n",
       "      <th>Column Total</th>\n",
       "      <td>7852.0</td>\n",
       "      <td>8274.0</td>\n",
       "      <td>16126.0</td>\n",
       "      <td>48.691554</td>\n",
       "      <td>51.308446</td>\n",
       "    </tr>\n",
       "  </tbody>\n",
       "</table>\n",
       "</div>"
      ],
      "text/plain": [
       "Survival                     Dead  Living  Row Total     Dead %   Living %\n",
       "Ventilator_CountTotal_CAN                                                 \n",
       "0                          6669.0  6860.0    13529.0  49.294109  50.705891\n",
       "1                            49.0    62.0      111.0  44.144144  55.855856\n",
       "2                           937.0  1237.0     2174.0  43.100276  56.899724\n",
       "3                           131.0    77.0      208.0  62.980769  37.019231\n",
       "4                            66.0    38.0      104.0  63.461538  36.538462\n",
       "Column Total               7852.0  8274.0    16126.0  48.691554  51.308446"
      ]
     },
     "execution_count": 220,
     "metadata": {},
     "output_type": "execute_result"
    }
   ],
   "source": [
    "uf.categoryContingencySurvival(df, 'Ventilator_CountTotal_CAN')"
   ]
  },
  {
   "cell_type": "markdown",
   "id": "ba5e9189-b47f-4ed0-97fb-0407d50e78b5",
   "metadata": {},
   "source": [
    "#### WorkIncome\n",
    "- WorkIncomeRegistration_CAN & WorkIncomeTransplant_CAN"
   ]
  },
  {
   "cell_type": "code",
   "execution_count": 221,
   "id": "5395e11d-f2d1-42a8-8533-ad6ea6537c4c",
   "metadata": {},
   "outputs": [
    {
     "name": "stdout",
     "output_type": "stream",
     "text": [
      "                            count unique top   freq\n",
      "WorkIncomeRegistration_CAN  16126      4  No  12059\n",
      "WorkIncomeTransplant_CAN    16126      4  No  12695\n"
     ]
    }
   ],
   "source": [
    "features = getFeatureList(df, 'WorkIncome')"
   ]
  },
  {
   "cell_type": "code",
   "execution_count": 222,
   "id": "c3cc2813-a6a3-4c6f-b586-69fbc7cc7c46",
   "metadata": {},
   "outputs": [
    {
     "data": {
      "text/html": [
       "<div>\n",
       "<style scoped>\n",
       "    .dataframe tbody tr th:only-of-type {\n",
       "        vertical-align: middle;\n",
       "    }\n",
       "\n",
       "    .dataframe tbody tr th {\n",
       "        vertical-align: top;\n",
       "    }\n",
       "\n",
       "    .dataframe thead th {\n",
       "        text-align: right;\n",
       "    }\n",
       "</style>\n",
       "<table border=\"1\" class=\"dataframe\">\n",
       "  <thead>\n",
       "    <tr style=\"text-align: right;\">\n",
       "      <th></th>\n",
       "      <th>column1</th>\n",
       "      <th>column2</th>\n",
       "      <th>chi2</th>\n",
       "      <th>p_value</th>\n",
       "      <th>cramer_v</th>\n",
       "    </tr>\n",
       "  </thead>\n",
       "  <tbody>\n",
       "    <tr>\n",
       "      <th>0</th>\n",
       "      <td>WorkIncomeRegistration_CAN</td>\n",
       "      <td>WorkIncomeTransplant_CAN</td>\n",
       "      <td>7388.401051</td>\n",
       "      <td>0.0</td>\n",
       "      <td>0.390797</td>\n",
       "    </tr>\n",
       "  </tbody>\n",
       "</table>\n",
       "</div>"
      ],
      "text/plain": [
       "                      column1                   column2         chi2  p_value  \\\n",
       "0  WorkIncomeRegistration_CAN  WorkIncomeTransplant_CAN  7388.401051      0.0   \n",
       "\n",
       "   cramer_v  \n",
       "0  0.390797  "
      ]
     },
     "execution_count": 222,
     "metadata": {},
     "output_type": "execute_result"
    }
   ],
   "source": [
    "# test of Independence for Categorical Variables\n",
    "usf.pairColsMultiIndependenceCat(df, features)"
   ]
  },
  {
   "cell_type": "code",
   "execution_count": 223,
   "id": "3dd1868a-3431-4fe7-92c9-95f57a51b50c",
   "metadata": {},
   "outputs": [
    {
     "name": "stdout",
     "output_type": "stream",
     "text": [
      "Survival                      Dead  Living  Row Total     Dead %   Living %\n",
      "WorkIncomeRegistration_CAN                                                 \n",
      "Missing                       98.0    28.0      126.0  77.777778  22.222222\n",
      "No                          5675.0  6384.0    12059.0  47.060287  52.939713\n",
      "Unknown                      230.0   137.0      367.0  62.670300  37.329700\n",
      "Yes                         1849.0  1725.0     3574.0  51.734751  48.265249\n",
      "Column Total                7852.0  8274.0    16126.0  48.691554  51.308446\n",
      "\n",
      "\n",
      "Survival                    Dead  Living  Row Total      Dead %   Living %\n",
      "WorkIncomeTransplant_CAN                                                  \n",
      "Missing                    412.0     0.0      412.0  100.000000   0.000000\n",
      "No                        5834.0  6861.0    12695.0   45.955100  54.044900\n",
      "Unknown                    214.0   217.0      431.0   49.651972  50.348028\n",
      "Yes                       1392.0  1196.0     2588.0   53.786708  46.213292\n",
      "Column Total              7852.0  8274.0    16126.0   48.691554  51.308446\n",
      "\n",
      "\n"
     ]
    }
   ],
   "source": [
    "for col in features:\n",
    "    print(uf.categoryContingencySurvival(df, col, 'Survival').to_string())\n",
    "    print(\"\\n\")"
   ]
  },
  {
   "cell_type": "code",
   "execution_count": 224,
   "id": "5aa8981c-31b4-4724-9d30-c3bfebc7f882",
   "metadata": {},
   "outputs": [],
   "source": [
    "# new feature\n",
    "df['WorkIncome_CountTotal_CAN'] = df[features].apply(lambda row: sum(1 for value in row if value == 'Yes' or value == 1), axis=1)\n",
    "\n",
    "# update DataFrame\n",
    "df_drop  = uf.insertIntoDataFrame(df_drop, features)\n",
    "df_can  = uf.insertIntoDataFrame(df_can, ['WorkIncome_CountTotal_CAN'])\n",
    "df_ordinal  = uf.insertIntoDataFrame(df_ordinal, ['WorkIncome_CountTotal_CAN'])\n",
    "\n",
    "# change datatype to category\n",
    "df = uf.toCategory(df, ['WorkIncome_CountTotal_CAN'])"
   ]
  },
  {
   "cell_type": "code",
   "execution_count": 225,
   "id": "d2b89df5-2798-43fc-9215-48103c01598d",
   "metadata": {},
   "outputs": [
    {
     "data": {
      "text/html": [
       "<div>\n",
       "<style scoped>\n",
       "    .dataframe tbody tr th:only-of-type {\n",
       "        vertical-align: middle;\n",
       "    }\n",
       "\n",
       "    .dataframe tbody tr th {\n",
       "        vertical-align: top;\n",
       "    }\n",
       "\n",
       "    .dataframe thead th {\n",
       "        text-align: right;\n",
       "    }\n",
       "</style>\n",
       "<table border=\"1\" class=\"dataframe\">\n",
       "  <thead>\n",
       "    <tr style=\"text-align: right;\">\n",
       "      <th>Survival</th>\n",
       "      <th>Dead</th>\n",
       "      <th>Living</th>\n",
       "      <th>Row Total</th>\n",
       "      <th>Dead %</th>\n",
       "      <th>Living %</th>\n",
       "    </tr>\n",
       "    <tr>\n",
       "      <th>WorkIncome_CountTotal_CAN</th>\n",
       "      <th></th>\n",
       "      <th></th>\n",
       "      <th></th>\n",
       "      <th></th>\n",
       "      <th></th>\n",
       "    </tr>\n",
       "  </thead>\n",
       "  <tbody>\n",
       "    <tr>\n",
       "      <th>0</th>\n",
       "      <td>5717.0</td>\n",
       "      <td>6255.0</td>\n",
       "      <td>11972.0</td>\n",
       "      <td>47.753091</td>\n",
       "      <td>52.246909</td>\n",
       "    </tr>\n",
       "    <tr>\n",
       "      <th>1</th>\n",
       "      <td>1029.0</td>\n",
       "      <td>1117.0</td>\n",
       "      <td>2146.0</td>\n",
       "      <td>47.949674</td>\n",
       "      <td>52.050326</td>\n",
       "    </tr>\n",
       "    <tr>\n",
       "      <th>2</th>\n",
       "      <td>1106.0</td>\n",
       "      <td>902.0</td>\n",
       "      <td>2008.0</td>\n",
       "      <td>55.079681</td>\n",
       "      <td>44.920319</td>\n",
       "    </tr>\n",
       "    <tr>\n",
       "      <th>Column Total</th>\n",
       "      <td>7852.0</td>\n",
       "      <td>8274.0</td>\n",
       "      <td>16126.0</td>\n",
       "      <td>48.691554</td>\n",
       "      <td>51.308446</td>\n",
       "    </tr>\n",
       "  </tbody>\n",
       "</table>\n",
       "</div>"
      ],
      "text/plain": [
       "Survival                     Dead  Living  Row Total     Dead %   Living %\n",
       "WorkIncome_CountTotal_CAN                                                 \n",
       "0                          5717.0  6255.0    11972.0  47.753091  52.246909\n",
       "1                          1029.0  1117.0     2146.0  47.949674  52.050326\n",
       "2                          1106.0   902.0     2008.0  55.079681  44.920319\n",
       "Column Total               7852.0  8274.0    16126.0  48.691554  51.308446"
      ]
     },
     "execution_count": 225,
     "metadata": {},
     "output_type": "execute_result"
    }
   ],
   "source": [
    "uf.categoryContingencySurvival(df, 'WorkIncome_CountTotal_CAN')"
   ]
  },
  {
   "cell_type": "markdown",
   "id": "7bc36506-1367-4ee1-95fe-92b12035d1d2",
   "metadata": {},
   "source": [
    "### Remove Unwanted Features"
   ]
  },
  {
   "cell_type": "code",
   "execution_count": 226,
   "id": "a7b1968b-de43-43ba-ba87-107426a41a58",
   "metadata": {},
   "outputs": [
    {
     "name": "stdout",
     "output_type": "stream",
     "text": [
      "Data Dictionary Updated.\n",
      "Remove 0 row(s) from df_label DataFrame.\n",
      "Remove 51 row(s) from df_can DataFrame.\n",
      "Remove 27 row(s) from df_don DataFrame.\n",
      "Remove 0 row(s) from df_both DataFrame.\n",
      "Remove 3 row(s) from df_ordinal DataFrame.\n",
      "Remove 76 row(s) from df_nominal DataFrame.\n",
      "Remove 0 row(s) from df_numeric DataFrame.\n",
      "Remove 79 row(s) from df_drop DataFrame.\n",
      "Remove 0 row(s) from df_object DataFrame.\n",
      "Remove 0 row(s) from df_unknown DataFrame.\n",
      "Remove 0 row(s) from df_date DataFrame.\n",
      "\n",
      "Removed Features: ['BloodInfectionSource_DON', 'BronchoscopyLeft_DON', 'BronchoscopyRight_DON', 'CMV_IGG_Transplant_CAN', 'CMV_IGM_Transplant_CAN', 'CancerExtraCranial_DON', 'CancerHistory_DON', 'CancerIntraCranial_DON', 'CancerSkin_DON', 'CauseOfDeath_DON', 'CigaretteAbstinence_CAN', 'Citizenship_CAN', 'Citizenship_DON', 'CocaineUse_DON', 'DeathCircumstance_DON', 'DiabetesHistory_DON', 'DiagnosisAtListing_CAN', 'DialysisBetweenRegistrationTransplant_CAN', 'DialysisPriorRegistration_CAN', 'Diuretics_DON', 'EpsteinBarr_IGG_DON', 'EpsteinBarr_IGM_DON', 'FunctionalStatusRegistration_CAN', 'Gender_CAN', 'Gender_DON', 'HIV_Risk_DON', 'Hispanic_CAN', 'InfectionClinical_DON', 'IntropesIVRegistration_CAN', 'IntropesIVTransplant_CAN', 'IntropesVasodilatorsRegistration_CO_CAN', 'IntropesVasodilatorsRegistration_DIA_CAN', 'IntropesVasodilatorsRegistration_MN_CAN', 'IntropesVasodilatorsRegistration_PCW_CAN', 'IntropesVasodilatorsRegistration_SYS_CAN', 'IntropesVasodilatorsTransplant_CO_CAN', 'IntropesVasodilatorsTransplant_DIA_CAN', 'IntropesVasodilatorsTransplant_MN_CAN', 'IntropesVasodilatorsTransplant_PCW_CAN', 'IntropesVasodilatorsTransplant_SYS_CAN', 'LV_EjectionFractionMedthod_DON', 'LifeSupportInhaledRegistration_CAN', 'LifeSupportInhaledTransplant_CAN', 'LifeSupportInhaled_CAN', 'LifeSupportMechanismRegistration_OTHER_CAN', 'LifeSupportMechanismTransplant_OTHER_CAN', 'LifeSupportRegistration_CAN', 'LifeSupportRegistration_ECMO_CAN', 'LifeSupportRegistration_IABP_CAN', 'LifeSupportRegistration_PGE_CAN', 'LifeSupportTransplant_CAN', 'LifeSupportTransplant_ECMO_CAN', 'LifeSupportTransplant_IABP_CAN', 'LifeSupportTransplant_PGE_CAN', 'MalignancyBetweenRegistrationTransplant_CAN', 'Malignancy_CAN', 'NonHeartBeating_DON', 'OtherDrugUse_DON', 'OtherInfectionSource_DON', 'PastCocaineUse_DON', 'PastOtherDrugUse_DON', 'PreviousMalignancy_CAN', 'PreviousTransplantAnyOrgan_CAN', 'PreviousTransplantSameOrgan_CAN', 'PriorCardiacSurgeryListAndTransplant_CAN', 'PriorCardiacSurgery_CAN', 'PulmonaryInfection_DON', 'ResidencyStateRegistration_CAN', 'ResidencyStateTransplant_CAN', 'ResidencyState_DON', 'SynthicAntiDiureticHormone_DON', 'UrineInfection_DON', 'VentilatorRegistration_CAN', 'VentilatorTransplant_CAN', 'VentilatorySupportAfterRegistration_CAN', 'VentilatorySupport_CAN', 'WaitListDiagnosisCode_CAN', 'WorkIncomeRegistration_CAN', 'WorkIncomeTransplant_CAN']\n",
      "\n",
      "Total Row(s) & Column(s) Before Removing Column(s): 16,126 & columns: 222\n",
      "Total Row(s) & Column(s) After Removing Column(s): 16,126 & columns: 143\n"
     ]
    }
   ],
   "source": [
    "# get remove features\n",
    "removeCols = df_drop.column.to_list()\n",
    "\n",
    "# remove features\n",
    "df, df_dict, df_label, df_can, df_don, df_both, df_ordinal, df_nominal, df_numeric, df_drop, df_object, df_unknown, df_date = uf.HouseKeeping(df, removeCols, df_dict, df_label, df_can,\\\n",
    "                                                                df_don, df_both, df_ordinal, df_nominal, df_numeric, df_drop, df_object, df_unknown, df_date, txt=REMOVE, display=True)"
   ]
  },
  {
   "cell_type": "markdown",
   "id": "ee704880-15f9-4575-9cfe-104e78a68673",
   "metadata": {},
   "source": [
    "### Ordinals"
   ]
  },
  {
   "cell_type": "code",
   "execution_count": 227,
   "id": "17d39b67-9d7a-4713-a7a5-0e75aaef5a9a",
   "metadata": {},
   "outputs": [
    {
     "name": "stdout",
     "output_type": "stream",
     "text": [
      "['Age_CAT_CAN', 'Age_CAT_DON', 'AntigenDA1_DON', 'AntigenDA2_DON', 'AntigenDB1_DON', 'AntigenDB2_DON', 'AntigenDQ1_CAN', 'AntigenDQ2_CAN', 'AntigenRA1_CAN', 'AntigenRA2_CAN', 'AntigenRB1_CAN', 'AntigenRB2_CAN', 'AntigenRDR1_CAN', 'AntigenRDR2_CAN', 'BMI_CAT_CAN', 'BMI_CAT_DON', 'BloodUreaNitrogenLevel_CAT_DON', 'Cancer_CountTotal_DON', 'Creatinine_CAT_CAN', 'Creatinine_CAT_DON', 'Dialysis_CountTotal_CAN', 'DistanceFromDonorHospitaltoTXCenter_CAT', 'Diuretics_CountTotal_DON', 'DrugUse_CountTotal_DON', 'EducationLevel_CAN', 'FunctionalStatusTransplant_CAN', 'HeightCm_CAT_CAN', 'HeightCm_CAT_DON', 'Hematocrit_CAT_DON', 'Hemodynamics_CAT_CAN', 'Hemodynamics_CO_CAT_CAN', 'Infection_CountTotal_DON', 'IntropesIV_CountTotal_CAN', 'IntropesVasodilators_CountTotal_CAN', 'IschemicTimeHour_CAT_DON', 'LV_EjectionFractionPercent_CAT_DON', 'Level_SGOT_ALT_CAT_DON', 'Level_SGOT_AST_CAT_DON', 'LifeSupport_CountTotal_CAN', 'LungPO2_CAT_DON', 'LungPO2_FIO2_CAT_DON', 'Malignancy_CountTotal_CAN', 'MedicalConditionTransplant_CAN', 'OrganRecovery_PCO2_CAT_DON', 'PanelReactiveAntibody_CPRA_CAT_CAN', 'PreviousTransplantNumber_CAN', 'PriorCardiacSurgery_CountTotal_CAN', 'TotalBilirubin_CAT_CAN', 'TotalBilirubin_CAT_DON', 'TotalDayWaitList_CAT_CAN', 'TransfusionNumber_DON', 'Ventilator_CountTotal_CAN', 'WeightKg_CAT_CAN', 'WeightKg_CAT_DON', 'WorkIncome_CountTotal_CAN']\n"
     ]
    }
   ],
   "source": [
    "print(sorted(df_ordinal.column.to_list()))"
   ]
  },
  {
   "cell_type": "markdown",
   "id": "d973fc7d-1239-46a4-a08c-26f78106a7ee",
   "metadata": {},
   "source": [
    "#### Age"
   ]
  },
  {
   "cell_type": "code",
   "execution_count": 228,
   "id": "92d968d7-7e3b-46b7-abed-1f76b3e08bad",
   "metadata": {},
   "outputs": [
    {
     "name": "stdout",
     "output_type": "stream",
     "text": [
      "             count unique           top  freq\n",
      "Age_CAT_CAN  16126      4    Age(46-57)  4439\n",
      "Age_CAT_DON  16126      4  Age (Min-24)  4377\n"
     ]
    }
   ],
   "source": [
    "features = getFeatureList(df, 'Age_CAT')"
   ]
  },
  {
   "cell_type": "code",
   "execution_count": 229,
   "id": "c606082f-c353-472c-9673-94cd9ccbc85f",
   "metadata": {},
   "outputs": [
    {
     "data": {
      "text/html": [
       "<div>\n",
       "<style scoped>\n",
       "    .dataframe tbody tr th:only-of-type {\n",
       "        vertical-align: middle;\n",
       "    }\n",
       "\n",
       "    .dataframe tbody tr th {\n",
       "        vertical-align: top;\n",
       "    }\n",
       "\n",
       "    .dataframe thead th {\n",
       "        text-align: right;\n",
       "    }\n",
       "</style>\n",
       "<table border=\"1\" class=\"dataframe\">\n",
       "  <thead>\n",
       "    <tr style=\"text-align: right;\">\n",
       "      <th></th>\n",
       "      <th>column1</th>\n",
       "      <th>columns2</th>\n",
       "      <th>U_statistic</th>\n",
       "      <th>p_value</th>\n",
       "    </tr>\n",
       "  </thead>\n",
       "  <tbody>\n",
       "    <tr>\n",
       "      <th>0</th>\n",
       "      <td>Age_CAT_CAN</td>\n",
       "      <td>Age_CAT_DON</td>\n",
       "      <td>128018300.5</td>\n",
       "      <td>0.013204</td>\n",
       "    </tr>\n",
       "  </tbody>\n",
       "</table>\n",
       "</div>"
      ],
      "text/plain": [
       "       column1     columns2  U_statistic   p_value\n",
       "0  Age_CAT_CAN  Age_CAT_DON  128018300.5  0.013204"
      ]
     },
     "execution_count": 229,
     "metadata": {},
     "output_type": "execute_result"
    }
   ],
   "source": [
    "# Age\n",
    "orderingCAN = sorted(df.Age_CAT_CAN.unique())\n",
    "orderingDON = sorted(df.Age_CAT_DON.unique())\n",
    "# initialize encoder\n",
    "encoderCAN = OrdinalEncoder(categories=[orderingCAN])\n",
    "encorerDON = OrdinalEncoder(categories=[orderingDON])\n",
    "\n",
    "# encode\n",
    "df['Age_CAT_CAN'] = encoderCAN.fit_transform(df[['Age_CAT_CAN']])\n",
    "df['Age_CAT_DON'] = encorerDON.fit_transform(df[['Age_CAT_DON']])\n",
    "\n",
    "# test\n",
    "usf.mannwhitneyu_combinations(df, features)"
   ]
  },
  {
   "cell_type": "markdown",
   "id": "8785bc8a-75e1-4ca1-a264-23bdc8bbb3db",
   "metadata": {},
   "source": [
    "#### AntigenC\n",
    "- AntigenC1_CAN & AntigenC2_CAN"
   ]
  },
  {
   "cell_type": "code",
   "execution_count": 230,
   "id": "b4d7323c-b35c-4f4d-b988-636a1ab641ae",
   "metadata": {},
   "outputs": [],
   "source": [
    "# custom sort function\n",
    "def custom_sort_key(x):\n",
    "    if x == 'Missing':\n",
    "        return (0, '')\n",
    "    elif x.isdigit():\n",
    "        return (1, int(x))  # single numbers sorted numerically\n",
    "    else:\n",
    "        return (2, x)  # other values sorted lexicographically"
   ]
  },
  {
   "cell_type": "code",
   "execution_count": 231,
   "id": "54bfde86-50e5-4d2d-a7d4-619ab9d32618",
   "metadata": {},
   "outputs": [
    {
     "name": "stdout",
     "output_type": "stream",
     "text": [
      "               count unique top   freq\n",
      "AntigenC1_CAN  16126     37   0  10275\n",
      "AntigenC2_CAN  16126     45   0  10733\n"
     ]
    }
   ],
   "source": [
    "features = getFeatureList(df, 'AntigenC')"
   ]
  },
  {
   "cell_type": "code",
   "execution_count": 232,
   "id": "3f9ff61c-68bc-4e2a-a6d5-8fa2e1713c76",
   "metadata": {},
   "outputs": [
    {
     "data": {
      "text/html": [
       "<div>\n",
       "<style scoped>\n",
       "    .dataframe tbody tr th:only-of-type {\n",
       "        vertical-align: middle;\n",
       "    }\n",
       "\n",
       "    .dataframe tbody tr th {\n",
       "        vertical-align: top;\n",
       "    }\n",
       "\n",
       "    .dataframe thead th {\n",
       "        text-align: right;\n",
       "    }\n",
       "</style>\n",
       "<table border=\"1\" class=\"dataframe\">\n",
       "  <thead>\n",
       "    <tr style=\"text-align: right;\">\n",
       "      <th></th>\n",
       "      <th>column1</th>\n",
       "      <th>columns2</th>\n",
       "      <th>U_statistic</th>\n",
       "      <th>p_value</th>\n",
       "    </tr>\n",
       "  </thead>\n",
       "  <tbody>\n",
       "    <tr>\n",
       "      <th>0</th>\n",
       "      <td>AntigenC1_CAN</td>\n",
       "      <td>AntigenC2_CAN</td>\n",
       "      <td>126897327.5</td>\n",
       "      <td>0.000011</td>\n",
       "    </tr>\n",
       "  </tbody>\n",
       "</table>\n",
       "</div>"
      ],
      "text/plain": [
       "         column1       columns2  U_statistic   p_value\n",
       "0  AntigenC1_CAN  AntigenC2_CAN  126897327.5  0.000011"
      ]
     },
     "execution_count": 232,
     "metadata": {},
     "output_type": "execute_result"
    }
   ],
   "source": [
    "# AntigenC1\n",
    "ordering1 = sorted(df.AntigenC1_CAN.unique(), key=custom_sort_key)\n",
    "ordering2 = sorted(df.AntigenC2_CAN.unique(), key=custom_sort_key)\n",
    "# initialize encoder\n",
    "encorer1 = OrdinalEncoder(categories=[ordering1])\n",
    "encoder2 = OrdinalEncoder(categories=[ordering2])\n",
    "\n",
    "# encode\n",
    "df['AntigenC1_CAN'] = encorer1.fit_transform(df[['AntigenC1_CAN']])\n",
    "df['AntigenC2_CAN'] = encoder2.fit_transform(df[['AntigenC2_CAN']])\n",
    "\n",
    "# test\n",
    "usf.mannwhitneyu_combinations(df, features)"
   ]
  },
  {
   "cell_type": "markdown",
   "id": "51524634-4b5e-4644-a0d6-1e143013c384",
   "metadata": {},
   "source": [
    "##### AntigenDA\n",
    "- AntigenDA1_DON & AntigenDA2_DON"
   ]
  },
  {
   "cell_type": "code",
   "execution_count": 233,
   "id": "14e62fa7-56dd-4346-b0dc-e4cc6976f3fa",
   "metadata": {},
   "outputs": [
    {
     "name": "stdout",
     "output_type": "stream",
     "text": [
      "                count unique top  freq\n",
      "AntigenDA1_DON  16126     39   2  6394\n",
      "AntigenDA2_DON  16126     44  24  1804\n"
     ]
    }
   ],
   "source": [
    "features = getFeatureList(df, 'AntigenDA')"
   ]
  },
  {
   "cell_type": "code",
   "execution_count": 234,
   "id": "ff91ff04-0af3-478f-8c20-6dcf88896b07",
   "metadata": {},
   "outputs": [
    {
     "data": {
      "text/html": [
       "<div>\n",
       "<style scoped>\n",
       "    .dataframe tbody tr th:only-of-type {\n",
       "        vertical-align: middle;\n",
       "    }\n",
       "\n",
       "    .dataframe tbody tr th {\n",
       "        vertical-align: top;\n",
       "    }\n",
       "\n",
       "    .dataframe thead th {\n",
       "        text-align: right;\n",
       "    }\n",
       "</style>\n",
       "<table border=\"1\" class=\"dataframe\">\n",
       "  <thead>\n",
       "    <tr style=\"text-align: right;\">\n",
       "      <th></th>\n",
       "      <th>column1</th>\n",
       "      <th>columns2</th>\n",
       "      <th>U_statistic</th>\n",
       "      <th>p_value</th>\n",
       "    </tr>\n",
       "  </thead>\n",
       "  <tbody>\n",
       "    <tr>\n",
       "      <th>0</th>\n",
       "      <td>AntigenDA1_DON</td>\n",
       "      <td>AntigenDA2_DON</td>\n",
       "      <td>43529234.0</td>\n",
       "      <td>0.0</td>\n",
       "    </tr>\n",
       "  </tbody>\n",
       "</table>\n",
       "</div>"
      ],
      "text/plain": [
       "          column1        columns2  U_statistic  p_value\n",
       "0  AntigenDA1_DON  AntigenDA2_DON   43529234.0      0.0"
      ]
     },
     "execution_count": 234,
     "metadata": {},
     "output_type": "execute_result"
    }
   ],
   "source": [
    "# AntigenDA\n",
    "ordering1 = sorted(df.AntigenDA1_DON.unique(), key=custom_sort_key)\n",
    "ordering2 = sorted(df.AntigenDA2_DON.unique(), key=custom_sort_key)\n",
    "# initialize encoder\n",
    "encorer1 = OrdinalEncoder(categories=[ordering1])\n",
    "encoder2 = OrdinalEncoder(categories=[ordering2])\n",
    "\n",
    "# encode\n",
    "df['AntigenDA1_DON'] = encorer1.fit_transform(df[['AntigenDA1_DON']])\n",
    "df['AntigenDA2_DON'] = encoder2.fit_transform(df[['AntigenDA2_DON']])\n",
    "\n",
    "# test\n",
    "usf.mannwhitneyu_combinations(df, features)"
   ]
  },
  {
   "cell_type": "markdown",
   "id": "60c8343b-ed93-4cdd-8ae8-6d52c6900a5f",
   "metadata": {},
   "source": [
    "##### AntigenDB\n",
    "- AntigenDB1_DON & AntigenDB2_DON"
   ]
  },
  {
   "cell_type": "code",
   "execution_count": 235,
   "id": "ae1ed7e4-9098-4e37-93a5-b8b62075ca90",
   "metadata": {},
   "outputs": [
    {
     "name": "stdout",
     "output_type": "stream",
     "text": [
      "                count unique top  freq\n",
      "AntigenDB1_DON  16126     81   7  3083\n",
      "AntigenDB2_DON  16126     87  44  2418\n"
     ]
    }
   ],
   "source": [
    "features = getFeatureList(df, 'AntigenDB')"
   ]
  },
  {
   "cell_type": "code",
   "execution_count": 236,
   "id": "523cf45f-b208-4962-a21e-062ff38529d3",
   "metadata": {},
   "outputs": [
    {
     "data": {
      "text/html": [
       "<div>\n",
       "<style scoped>\n",
       "    .dataframe tbody tr th:only-of-type {\n",
       "        vertical-align: middle;\n",
       "    }\n",
       "\n",
       "    .dataframe tbody tr th {\n",
       "        vertical-align: top;\n",
       "    }\n",
       "\n",
       "    .dataframe thead th {\n",
       "        text-align: right;\n",
       "    }\n",
       "</style>\n",
       "<table border=\"1\" class=\"dataframe\">\n",
       "  <thead>\n",
       "    <tr style=\"text-align: right;\">\n",
       "      <th></th>\n",
       "      <th>column1</th>\n",
       "      <th>columns2</th>\n",
       "      <th>U_statistic</th>\n",
       "      <th>p_value</th>\n",
       "    </tr>\n",
       "  </thead>\n",
       "  <tbody>\n",
       "    <tr>\n",
       "      <th>0</th>\n",
       "      <td>AntigenDB1_DON</td>\n",
       "      <td>AntigenDB2_DON</td>\n",
       "      <td>63449793.0</td>\n",
       "      <td>0.0</td>\n",
       "    </tr>\n",
       "  </tbody>\n",
       "</table>\n",
       "</div>"
      ],
      "text/plain": [
       "          column1        columns2  U_statistic  p_value\n",
       "0  AntigenDB1_DON  AntigenDB2_DON   63449793.0      0.0"
      ]
     },
     "execution_count": 236,
     "metadata": {},
     "output_type": "execute_result"
    }
   ],
   "source": [
    "# AntigenDB\n",
    "ordering1 = sorted(df.AntigenDB1_DON.unique(), key=custom_sort_key)\n",
    "ordering2 = sorted(df.AntigenDB2_DON.unique(), key=custom_sort_key)\n",
    "# initialize encoder\n",
    "encorer1 = OrdinalEncoder(categories=[ordering1])\n",
    "encoder2 = OrdinalEncoder(categories=[ordering2])\n",
    "\n",
    "# encode\n",
    "df['AntigenDB1_DON'] = encorer1.fit_transform(df[['AntigenDB1_DON']])\n",
    "df['AntigenDB2_DON'] = encoder2.fit_transform(df[['AntigenDB2_DON']])\n",
    "\n",
    "# test\n",
    "usf.mannwhitneyu_combinations(df, features)"
   ]
  },
  {
   "cell_type": "markdown",
   "id": "04feffe5-dc5c-469c-bd7a-31ed1558e116",
   "metadata": {},
   "source": [
    "##### AntigenDQ\n",
    "- AntigenDQ1_CAN & AntigenDQ2_CAN"
   ]
  },
  {
   "cell_type": "code",
   "execution_count": 237,
   "id": "203940d5-a0bf-478e-8bb2-8f9a4c85f5dd",
   "metadata": {},
   "outputs": [
    {
     "name": "stdout",
     "output_type": "stream",
     "text": [
      "                count unique top   freq\n",
      "AntigenDQ1_CAN  16126     25   0  10286\n",
      "AntigenDQ2_CAN  16126     25   0  10880\n"
     ]
    }
   ],
   "source": [
    "features = getFeatureList(df, 'AntigenDQ')"
   ]
  },
  {
   "cell_type": "code",
   "execution_count": 238,
   "id": "171a2f2a-0b6a-4712-a879-cd0b666f11df",
   "metadata": {},
   "outputs": [
    {
     "data": {
      "text/html": [
       "<div>\n",
       "<style scoped>\n",
       "    .dataframe tbody tr th:only-of-type {\n",
       "        vertical-align: middle;\n",
       "    }\n",
       "\n",
       "    .dataframe tbody tr th {\n",
       "        vertical-align: top;\n",
       "    }\n",
       "\n",
       "    .dataframe thead th {\n",
       "        text-align: right;\n",
       "    }\n",
       "</style>\n",
       "<table border=\"1\" class=\"dataframe\">\n",
       "  <thead>\n",
       "    <tr style=\"text-align: right;\">\n",
       "      <th></th>\n",
       "      <th>column1</th>\n",
       "      <th>columns2</th>\n",
       "      <th>U_statistic</th>\n",
       "      <th>p_value</th>\n",
       "    </tr>\n",
       "  </thead>\n",
       "  <tbody>\n",
       "    <tr>\n",
       "      <th>0</th>\n",
       "      <td>AntigenDQ1_CAN</td>\n",
       "      <td>AntigenDQ2_CAN</td>\n",
       "      <td>130334467.0</td>\n",
       "      <td>0.66076</td>\n",
       "    </tr>\n",
       "  </tbody>\n",
       "</table>\n",
       "</div>"
      ],
      "text/plain": [
       "          column1        columns2  U_statistic  p_value\n",
       "0  AntigenDQ1_CAN  AntigenDQ2_CAN  130334467.0  0.66076"
      ]
     },
     "execution_count": 238,
     "metadata": {},
     "output_type": "execute_result"
    }
   ],
   "source": [
    "# AntigenDQ\n",
    "ordering1 = sorted(df.AntigenDQ1_CAN.unique(), key=custom_sort_key)\n",
    "ordering2 = sorted(df.AntigenDQ2_CAN.unique(), key=custom_sort_key)\n",
    "# initialize encoder\n",
    "encorer1 = OrdinalEncoder(categories=[ordering1])\n",
    "encoder2 = OrdinalEncoder(categories=[ordering2])\n",
    "\n",
    "# encode\n",
    "df['AntigenDQ1_CAN'] = encorer1.fit_transform(df[['AntigenDQ1_CAN']])\n",
    "df['AntigenDQ2_CAN'] = encoder2.fit_transform(df[['AntigenDQ2_CAN']])\n",
    "\n",
    "# test\n",
    "usf.mannwhitneyu_combinations(df, features)"
   ]
  },
  {
   "cell_type": "markdown",
   "id": "2cfcc3fc-a862-4edd-be1e-7a609c482c99",
   "metadata": {},
   "source": [
    "##### AntigenDR\n",
    "- AntigenDR1_DON & AntigenDR2_DON"
   ]
  },
  {
   "cell_type": "code",
   "execution_count": 239,
   "id": "c7d4f8d7-95bc-4039-a56f-4771377d5c80",
   "metadata": {},
   "outputs": [
    {
     "name": "stdout",
     "output_type": "stream",
     "text": [
      "                count unique top  freq\n",
      "AntigenDR1_DON  16126     43   4  3982\n",
      "AntigenDR2_DON  16126     46  15  3386\n"
     ]
    }
   ],
   "source": [
    "features = getFeatureList(df, 'AntigenDR.*_DON$')"
   ]
  },
  {
   "cell_type": "code",
   "execution_count": 240,
   "id": "66bff857-d896-4621-93d8-2fbaeb63e14e",
   "metadata": {},
   "outputs": [
    {
     "data": {
      "text/html": [
       "<div>\n",
       "<style scoped>\n",
       "    .dataframe tbody tr th:only-of-type {\n",
       "        vertical-align: middle;\n",
       "    }\n",
       "\n",
       "    .dataframe tbody tr th {\n",
       "        vertical-align: top;\n",
       "    }\n",
       "\n",
       "    .dataframe thead th {\n",
       "        text-align: right;\n",
       "    }\n",
       "</style>\n",
       "<table border=\"1\" class=\"dataframe\">\n",
       "  <thead>\n",
       "    <tr style=\"text-align: right;\">\n",
       "      <th></th>\n",
       "      <th>column1</th>\n",
       "      <th>columns2</th>\n",
       "      <th>U_statistic</th>\n",
       "      <th>p_value</th>\n",
       "    </tr>\n",
       "  </thead>\n",
       "  <tbody>\n",
       "    <tr>\n",
       "      <th>0</th>\n",
       "      <td>AntigenDR1_DON</td>\n",
       "      <td>AntigenDR2_DON</td>\n",
       "      <td>87821869.5</td>\n",
       "      <td>0.0</td>\n",
       "    </tr>\n",
       "  </tbody>\n",
       "</table>\n",
       "</div>"
      ],
      "text/plain": [
       "          column1        columns2  U_statistic  p_value\n",
       "0  AntigenDR1_DON  AntigenDR2_DON   87821869.5      0.0"
      ]
     },
     "execution_count": 240,
     "metadata": {},
     "output_type": "execute_result"
    }
   ],
   "source": [
    "# AntigenDR\n",
    "ordering1 = sorted(df.AntigenDR1_DON.unique(), key=custom_sort_key)\n",
    "ordering2 = sorted(df.AntigenDR2_DON.unique(), key=custom_sort_key)\n",
    "# initialize encoder\n",
    "encorer1 = OrdinalEncoder(categories=[ordering1])\n",
    "encoder2 = OrdinalEncoder(categories=[ordering2])\n",
    "\n",
    "# encode\n",
    "df['AntigenDR1_DON'] = encorer1.fit_transform(df[['AntigenDR1_DON']])\n",
    "df['AntigenDR2_DON'] = encoder2.fit_transform(df[['AntigenDR2_DON']])\n",
    "\n",
    "# test\n",
    "usf.mannwhitneyu_combinations(df, features)"
   ]
  },
  {
   "cell_type": "markdown",
   "id": "3caa3bb6-0414-4945-a04c-37b26268dcfd",
   "metadata": {},
   "source": [
    "##### AntigenDR5\n",
    "- AntigenDR51_CAN & AntigenDR51_2_CAN & AntigenDR52_CAN & AntigenDR52_2_CAN + AntigenDR53_CAN + AntigenDR53_2_CAN"
   ]
  },
  {
   "cell_type": "code",
   "execution_count": 241,
   "id": "e3da3750-446f-47dd-8fe7-39167e457d49",
   "metadata": {},
   "outputs": [
    {
     "name": "stdout",
     "output_type": "stream",
     "text": [
      "                   count unique top   freq\n",
      "AntigenDR51_CAN    16126      9   0  11039\n",
      "AntigenDR51_2_CAN  16126      8   0  14557\n",
      "AntigenDR52_CAN    16126     10   0  10671\n",
      "AntigenDR52_2_CAN  16126     10   0  14462\n",
      "AntigenDR53_CAN    16126      7   0  10848\n",
      "AntigenDR53_2_CAN  16126      6   0  14551\n"
     ]
    }
   ],
   "source": [
    "features = getFeatureList(df, 'AntigenDR5')"
   ]
  },
  {
   "cell_type": "code",
   "execution_count": 242,
   "id": "2c37774d-ebf6-4e6a-987c-2b71c89648f6",
   "metadata": {},
   "outputs": [
    {
     "data": {
      "text/html": [
       "<div>\n",
       "<style scoped>\n",
       "    .dataframe tbody tr th:only-of-type {\n",
       "        vertical-align: middle;\n",
       "    }\n",
       "\n",
       "    .dataframe tbody tr th {\n",
       "        vertical-align: top;\n",
       "    }\n",
       "\n",
       "    .dataframe thead th {\n",
       "        text-align: right;\n",
       "    }\n",
       "</style>\n",
       "<table border=\"1\" class=\"dataframe\">\n",
       "  <thead>\n",
       "    <tr style=\"text-align: right;\">\n",
       "      <th></th>\n",
       "      <th>column1</th>\n",
       "      <th>columns2</th>\n",
       "      <th>U_statistic</th>\n",
       "      <th>p_value</th>\n",
       "    </tr>\n",
       "  </thead>\n",
       "  <tbody>\n",
       "    <tr>\n",
       "      <th>8</th>\n",
       "      <td>AntigenDR51_2_CAN</td>\n",
       "      <td>AntigenDR53_2_CAN</td>\n",
       "      <td>131070082.0</td>\n",
       "      <td>1.500701e-02</td>\n",
       "    </tr>\n",
       "    <tr>\n",
       "      <th>6</th>\n",
       "      <td>AntigenDR51_2_CAN</td>\n",
       "      <td>AntigenDR52_2_CAN</td>\n",
       "      <td>128194718.0</td>\n",
       "      <td>2.674959e-05</td>\n",
       "    </tr>\n",
       "    <tr>\n",
       "      <th>13</th>\n",
       "      <td>AntigenDR52_2_CAN</td>\n",
       "      <td>AntigenDR53_2_CAN</td>\n",
       "      <td>131922806.0</td>\n",
       "      <td>1.327315e-05</td>\n",
       "    </tr>\n",
       "    <tr>\n",
       "      <th>3</th>\n",
       "      <td>AntigenDR51_CAN</td>\n",
       "      <td>AntigenDR53_CAN</td>\n",
       "      <td>136969444.5</td>\n",
       "      <td>8.149960e-24</td>\n",
       "    </tr>\n",
       "    <tr>\n",
       "      <th>1</th>\n",
       "      <td>AntigenDR51_CAN</td>\n",
       "      <td>AntigenDR52_CAN</td>\n",
       "      <td>118314234.5</td>\n",
       "      <td>1.484405e-63</td>\n",
       "    </tr>\n",
       "    <tr>\n",
       "      <th>10</th>\n",
       "      <td>AntigenDR52_CAN</td>\n",
       "      <td>AntigenDR53_CAN</td>\n",
       "      <td>143596038.0</td>\n",
       "      <td>9.411860e-84</td>\n",
       "    </tr>\n",
       "    <tr>\n",
       "      <th>0</th>\n",
       "      <td>AntigenDR51_CAN</td>\n",
       "      <td>AntigenDR51_2_CAN</td>\n",
       "      <td>161552977.0</td>\n",
       "      <td>0.000000e+00</td>\n",
       "    </tr>\n",
       "    <tr>\n",
       "      <th>2</th>\n",
       "      <td>AntigenDR51_CAN</td>\n",
       "      <td>AntigenDR52_2_CAN</td>\n",
       "      <td>155703064.5</td>\n",
       "      <td>0.000000e+00</td>\n",
       "    </tr>\n",
       "    <tr>\n",
       "      <th>4</th>\n",
       "      <td>AntigenDR51_CAN</td>\n",
       "      <td>AntigenDR53_2_CAN</td>\n",
       "      <td>162050626.5</td>\n",
       "      <td>0.000000e+00</td>\n",
       "    </tr>\n",
       "    <tr>\n",
       "      <th>5</th>\n",
       "      <td>AntigenDR51_2_CAN</td>\n",
       "      <td>AntigenDR52_CAN</td>\n",
       "      <td>95233102.5</td>\n",
       "      <td>0.000000e+00</td>\n",
       "    </tr>\n",
       "    <tr>\n",
       "      <th>7</th>\n",
       "      <td>AntigenDR51_2_CAN</td>\n",
       "      <td>AntigenDR53_CAN</td>\n",
       "      <td>100944096.0</td>\n",
       "      <td>0.000000e+00</td>\n",
       "    </tr>\n",
       "    <tr>\n",
       "      <th>9</th>\n",
       "      <td>AntigenDR52_CAN</td>\n",
       "      <td>AntigenDR52_2_CAN</td>\n",
       "      <td>162001073.0</td>\n",
       "      <td>0.000000e+00</td>\n",
       "    </tr>\n",
       "    <tr>\n",
       "      <th>11</th>\n",
       "      <td>AntigenDR52_CAN</td>\n",
       "      <td>AntigenDR53_2_CAN</td>\n",
       "      <td>165120334.5</td>\n",
       "      <td>0.000000e+00</td>\n",
       "    </tr>\n",
       "    <tr>\n",
       "      <th>12</th>\n",
       "      <td>AntigenDR52_2_CAN</td>\n",
       "      <td>AntigenDR53_CAN</td>\n",
       "      <td>104684924.0</td>\n",
       "      <td>0.000000e+00</td>\n",
       "    </tr>\n",
       "    <tr>\n",
       "      <th>14</th>\n",
       "      <td>AntigenDR53_CAN</td>\n",
       "      <td>AntigenDR53_2_CAN</td>\n",
       "      <td>163112399.5</td>\n",
       "      <td>0.000000e+00</td>\n",
       "    </tr>\n",
       "  </tbody>\n",
       "</table>\n",
       "</div>"
      ],
      "text/plain": [
       "              column1           columns2  U_statistic       p_value\n",
       "8   AntigenDR51_2_CAN  AntigenDR53_2_CAN  131070082.0  1.500701e-02\n",
       "6   AntigenDR51_2_CAN  AntigenDR52_2_CAN  128194718.0  2.674959e-05\n",
       "13  AntigenDR52_2_CAN  AntigenDR53_2_CAN  131922806.0  1.327315e-05\n",
       "3     AntigenDR51_CAN    AntigenDR53_CAN  136969444.5  8.149960e-24\n",
       "1     AntigenDR51_CAN    AntigenDR52_CAN  118314234.5  1.484405e-63\n",
       "10    AntigenDR52_CAN    AntigenDR53_CAN  143596038.0  9.411860e-84\n",
       "0     AntigenDR51_CAN  AntigenDR51_2_CAN  161552977.0  0.000000e+00\n",
       "2     AntigenDR51_CAN  AntigenDR52_2_CAN  155703064.5  0.000000e+00\n",
       "4     AntigenDR51_CAN  AntigenDR53_2_CAN  162050626.5  0.000000e+00\n",
       "5   AntigenDR51_2_CAN    AntigenDR52_CAN   95233102.5  0.000000e+00\n",
       "7   AntigenDR51_2_CAN    AntigenDR53_CAN  100944096.0  0.000000e+00\n",
       "9     AntigenDR52_CAN  AntigenDR52_2_CAN  162001073.0  0.000000e+00\n",
       "11    AntigenDR52_CAN  AntigenDR53_2_CAN  165120334.5  0.000000e+00\n",
       "12  AntigenDR52_2_CAN    AntigenDR53_CAN  104684924.0  0.000000e+00\n",
       "14    AntigenDR53_CAN  AntigenDR53_2_CAN  163112399.5  0.000000e+00"
      ]
     },
     "execution_count": 242,
     "metadata": {},
     "output_type": "execute_result"
    }
   ],
   "source": [
    "# AntigenDR\n",
    "ordering1 = sorted(df.AntigenDR51_CAN.unique(), key=custom_sort_key)\n",
    "ordering2 = sorted(df.AntigenDR51_2_CAN.unique(), key=custom_sort_key)\n",
    "ordering3 = sorted(df.AntigenDR52_CAN.unique(), key=custom_sort_key)\n",
    "ordering4 = sorted(df.AntigenDR52_2_CAN.unique(), key=custom_sort_key)\n",
    "ordering5 = sorted(df.AntigenDR53_CAN.unique(), key=custom_sort_key)\n",
    "ordering6 = sorted(df.AntigenDR53_2_CAN.unique(), key=custom_sort_key)\n",
    "# initialize encoder\n",
    "encorer1 = OrdinalEncoder(categories=[ordering1])\n",
    "encoder2 = OrdinalEncoder(categories=[ordering2])\n",
    "encoder3 = OrdinalEncoder(categories=[ordering3])\n",
    "encoder4 = OrdinalEncoder(categories=[ordering4])\n",
    "encoder5 = OrdinalEncoder(categories=[ordering5])\n",
    "encoder6 = OrdinalEncoder(categories=[ordering6])\n",
    "\n",
    "# encode\n",
    "df['AntigenDR51_CAN'] = encorer1.fit_transform(df[['AntigenDR51_CAN']])\n",
    "df['AntigenDR51_2_CAN'] = encoder2.fit_transform(df[['AntigenDR51_2_CAN']])\n",
    "df['AntigenDR52_CAN'] = encoder3.fit_transform(df[['AntigenDR52_CAN']])\n",
    "df['AntigenDR52_2_CAN'] = encoder4.fit_transform(df[['AntigenDR52_2_CAN']])\n",
    "df['AntigenDR53_CAN'] = encoder5.fit_transform(df[['AntigenDR53_CAN']])\n",
    "df['AntigenDR53_2_CAN'] = encoder6.fit_transform(df[['AntigenDR53_2_CAN']])\n",
    "\n",
    "# test\n",
    "usf.mannwhitneyu_combinations(df, features)"
   ]
  },
  {
   "cell_type": "markdown",
   "id": "2cc9ed68-b11d-4290-8540-5fd51dd2b431",
   "metadata": {},
   "source": [
    "##### AntigenRA\n",
    "- AntigenRA1_CAN & AntigenRA2_CAN"
   ]
  },
  {
   "cell_type": "code",
   "execution_count": 243,
   "id": "eac8f239-3e28-47e0-b3d8-58b75d3b0b35",
   "metadata": {},
   "outputs": [
    {
     "name": "stdout",
     "output_type": "stream",
     "text": [
      "                count unique top  freq\n",
      "AntigenRA1_CAN  16126     50   2  5189\n",
      "AntigenRA2_CAN  16126     52  68  1436\n"
     ]
    }
   ],
   "source": [
    "features = getFeatureList(df, 'AntigenRA')"
   ]
  },
  {
   "cell_type": "code",
   "execution_count": 244,
   "id": "66356335-bfc2-40d7-9755-05ce4b96ece1",
   "metadata": {},
   "outputs": [
    {
     "data": {
      "text/html": [
       "<div>\n",
       "<style scoped>\n",
       "    .dataframe tbody tr th:only-of-type {\n",
       "        vertical-align: middle;\n",
       "    }\n",
       "\n",
       "    .dataframe tbody tr th {\n",
       "        vertical-align: top;\n",
       "    }\n",
       "\n",
       "    .dataframe thead th {\n",
       "        text-align: right;\n",
       "    }\n",
       "</style>\n",
       "<table border=\"1\" class=\"dataframe\">\n",
       "  <thead>\n",
       "    <tr style=\"text-align: right;\">\n",
       "      <th></th>\n",
       "      <th>column1</th>\n",
       "      <th>columns2</th>\n",
       "      <th>U_statistic</th>\n",
       "      <th>p_value</th>\n",
       "    </tr>\n",
       "  </thead>\n",
       "  <tbody>\n",
       "    <tr>\n",
       "      <th>0</th>\n",
       "      <td>AntigenRA1_CAN</td>\n",
       "      <td>AntigenRA2_CAN</td>\n",
       "      <td>63859313.5</td>\n",
       "      <td>0.0</td>\n",
       "    </tr>\n",
       "  </tbody>\n",
       "</table>\n",
       "</div>"
      ],
      "text/plain": [
       "          column1        columns2  U_statistic  p_value\n",
       "0  AntigenRA1_CAN  AntigenRA2_CAN   63859313.5      0.0"
      ]
     },
     "execution_count": 244,
     "metadata": {},
     "output_type": "execute_result"
    }
   ],
   "source": [
    "# AntigenRA\n",
    "ordering1 = sorted(df.AntigenRA1_CAN.unique(), key=custom_sort_key)\n",
    "ordering2 = sorted(df.AntigenRA2_CAN.unique(), key=custom_sort_key)\n",
    "# initialize encoder\n",
    "encorer1 = OrdinalEncoder(categories=[ordering1])\n",
    "encoder2 = OrdinalEncoder(categories=[ordering2])\n",
    "\n",
    "# encode\n",
    "df['AntigenRA1_CAN'] = encorer1.fit_transform(df[['AntigenRA1_CAN']])\n",
    "df['AntigenRA2_CAN'] = encoder2.fit_transform(df[['AntigenRA2_CAN']])\n",
    "\n",
    "# test\n",
    "usf.mannwhitneyu_combinations(df, features)"
   ]
  },
  {
   "cell_type": "markdown",
   "id": "f3f0845f-a7e7-4ecc-a13b-e52832e41a46",
   "metadata": {},
   "source": [
    "##### AntigenRB\n",
    "- AntigenRB1_CAN & AntigenRB2_CAN"
   ]
  },
  {
   "cell_type": "code",
   "execution_count": 245,
   "id": "249d92c0-3e68-4c35-9b53-aa7fb884da05",
   "metadata": {},
   "outputs": [
    {
     "name": "stdout",
     "output_type": "stream",
     "text": [
      "                count unique top  freq\n",
      "AntigenRB1_CAN  16126     97   7  2595\n",
      "AntigenRB2_CAN  16126     95  44  1937\n"
     ]
    }
   ],
   "source": [
    "features = getFeatureList(df, 'AntigenRB')"
   ]
  },
  {
   "cell_type": "code",
   "execution_count": 246,
   "id": "f379279d-c5de-4aab-b25f-a3f44ce5c8e5",
   "metadata": {},
   "outputs": [
    {
     "data": {
      "text/html": [
       "<div>\n",
       "<style scoped>\n",
       "    .dataframe tbody tr th:only-of-type {\n",
       "        vertical-align: middle;\n",
       "    }\n",
       "\n",
       "    .dataframe tbody tr th {\n",
       "        vertical-align: top;\n",
       "    }\n",
       "\n",
       "    .dataframe thead th {\n",
       "        text-align: right;\n",
       "    }\n",
       "</style>\n",
       "<table border=\"1\" class=\"dataframe\">\n",
       "  <thead>\n",
       "    <tr style=\"text-align: right;\">\n",
       "      <th></th>\n",
       "      <th>column1</th>\n",
       "      <th>columns2</th>\n",
       "      <th>U_statistic</th>\n",
       "      <th>p_value</th>\n",
       "    </tr>\n",
       "  </thead>\n",
       "  <tbody>\n",
       "    <tr>\n",
       "      <th>0</th>\n",
       "      <td>AntigenRB1_CAN</td>\n",
       "      <td>AntigenRB2_CAN</td>\n",
       "      <td>83028607.5</td>\n",
       "      <td>0.0</td>\n",
       "    </tr>\n",
       "  </tbody>\n",
       "</table>\n",
       "</div>"
      ],
      "text/plain": [
       "          column1        columns2  U_statistic  p_value\n",
       "0  AntigenRB1_CAN  AntigenRB2_CAN   83028607.5      0.0"
      ]
     },
     "execution_count": 246,
     "metadata": {},
     "output_type": "execute_result"
    }
   ],
   "source": [
    "# AntigenRB\n",
    "ordering1 = sorted(df.AntigenRB1_CAN.unique(), key=custom_sort_key)\n",
    "ordering2 = sorted(df.AntigenRB2_CAN.unique(), key=custom_sort_key)\n",
    "# initialize encoder\n",
    "encorer1 = OrdinalEncoder(categories=[ordering1])\n",
    "encoder2 = OrdinalEncoder(categories=[ordering2])\n",
    "\n",
    "# encode\n",
    "df['AntigenRB1_CAN'] = encorer1.fit_transform(df[['AntigenRB1_CAN']])\n",
    "df['AntigenRB2_CAN'] = encoder2.fit_transform(df[['AntigenRB2_CAN']])\n",
    "\n",
    "# test\n",
    "usf.mannwhitneyu_combinations(df, features)"
   ]
  },
  {
   "cell_type": "markdown",
   "id": "db499b3f-1c6f-4e51-bb60-a926cef223c1",
   "metadata": {},
   "source": [
    "##### AntigenRDR\n",
    "- AntigenRDR1_CAN & AntigenRDR2_CAN"
   ]
  },
  {
   "cell_type": "code",
   "execution_count": 247,
   "id": "b0839048-65cb-42ad-8b4b-1be0ecfd6fd6",
   "metadata": {},
   "outputs": [
    {
     "name": "stdout",
     "output_type": "stream",
     "text": [
      "                 count unique top  freq\n",
      "AntigenRDR1_CAN  16126     54   4  2917\n",
      "AntigenRDR2_CAN  16126     56  15  3030\n"
     ]
    }
   ],
   "source": [
    "features = getFeatureList(df, 'AntigenRD')"
   ]
  },
  {
   "cell_type": "code",
   "execution_count": 248,
   "id": "271a8e3d-0247-413f-956a-8ab4b350b89b",
   "metadata": {},
   "outputs": [
    {
     "data": {
      "text/html": [
       "<div>\n",
       "<style scoped>\n",
       "    .dataframe tbody tr th:only-of-type {\n",
       "        vertical-align: middle;\n",
       "    }\n",
       "\n",
       "    .dataframe tbody tr th {\n",
       "        vertical-align: top;\n",
       "    }\n",
       "\n",
       "    .dataframe thead th {\n",
       "        text-align: right;\n",
       "    }\n",
       "</style>\n",
       "<table border=\"1\" class=\"dataframe\">\n",
       "  <thead>\n",
       "    <tr style=\"text-align: right;\">\n",
       "      <th></th>\n",
       "      <th>column1</th>\n",
       "      <th>columns2</th>\n",
       "      <th>U_statistic</th>\n",
       "      <th>p_value</th>\n",
       "    </tr>\n",
       "  </thead>\n",
       "  <tbody>\n",
       "    <tr>\n",
       "      <th>0</th>\n",
       "      <td>AntigenRDR1_CAN</td>\n",
       "      <td>AntigenRDR2_CAN</td>\n",
       "      <td>110439826.5</td>\n",
       "      <td>5.152114e-122</td>\n",
       "    </tr>\n",
       "  </tbody>\n",
       "</table>\n",
       "</div>"
      ],
      "text/plain": [
       "           column1         columns2  U_statistic        p_value\n",
       "0  AntigenRDR1_CAN  AntigenRDR2_CAN  110439826.5  5.152114e-122"
      ]
     },
     "execution_count": 248,
     "metadata": {},
     "output_type": "execute_result"
    }
   ],
   "source": [
    "# AntigenRDR\n",
    "ordering1 = sorted(df.AntigenRDR1_CAN.unique(), key=custom_sort_key)\n",
    "ordering2 = sorted(df.AntigenRDR2_CAN.unique(), key=custom_sort_key)\n",
    "# initialize encoder\n",
    "encorer1 = OrdinalEncoder(categories=[ordering1])\n",
    "encoder2 = OrdinalEncoder(categories=[ordering2])\n",
    "\n",
    "# encode\n",
    "df['AntigenRDR1_CAN'] = encorer1.fit_transform(df[['AntigenRDR1_CAN']])\n",
    "df['AntigenRDR2_CAN'] = encoder2.fit_transform(df[['AntigenRDR2_CAN']])\n",
    "\n",
    "# test\n",
    "usf.mannwhitneyu_combinations(df, features)"
   ]
  },
  {
   "cell_type": "markdown",
   "id": "3cecc14a-8cdb-4d9a-8c05-f82343a7977b",
   "metadata": {},
   "source": [
    "#### BMI"
   ]
  },
  {
   "cell_type": "code",
   "execution_count": 249,
   "id": "2b0dc9c9-bd61-4216-bafa-cb03e67f7db2",
   "metadata": {},
   "outputs": [
    {
     "name": "stdout",
     "output_type": "stream",
     "text": [
      "             count unique            top  freq\n",
      "BMI_CAT_CAN  16126      5    Over Weight  5808\n",
      "BMI_CAT_DON  16126      5  Normal Weight  5817\n"
     ]
    }
   ],
   "source": [
    "features = getFeatureList(df, 'BMI_CAT')"
   ]
  },
  {
   "cell_type": "code",
   "execution_count": 250,
   "id": "d54f87fd-5d65-42a1-80fc-3c1c0f37ef3c",
   "metadata": {},
   "outputs": [
    {
     "data": {
      "text/html": [
       "<div>\n",
       "<style scoped>\n",
       "    .dataframe tbody tr th:only-of-type {\n",
       "        vertical-align: middle;\n",
       "    }\n",
       "\n",
       "    .dataframe tbody tr th {\n",
       "        vertical-align: top;\n",
       "    }\n",
       "\n",
       "    .dataframe thead th {\n",
       "        text-align: right;\n",
       "    }\n",
       "</style>\n",
       "<table border=\"1\" class=\"dataframe\">\n",
       "  <thead>\n",
       "    <tr style=\"text-align: right;\">\n",
       "      <th></th>\n",
       "      <th>column1</th>\n",
       "      <th>columns2</th>\n",
       "      <th>U_statistic</th>\n",
       "      <th>p_value</th>\n",
       "    </tr>\n",
       "  </thead>\n",
       "  <tbody>\n",
       "    <tr>\n",
       "      <th>0</th>\n",
       "      <td>BMI_CAT_CAN</td>\n",
       "      <td>BMI_CAT_DON</td>\n",
       "      <td>136000824.0</td>\n",
       "      <td>3.764542e-14</td>\n",
       "    </tr>\n",
       "  </tbody>\n",
       "</table>\n",
       "</div>"
      ],
      "text/plain": [
       "       column1     columns2  U_statistic       p_value\n",
       "0  BMI_CAT_CAN  BMI_CAT_DON  136000824.0  3.764542e-14"
      ]
     },
     "execution_count": 250,
     "metadata": {},
     "output_type": "execute_result"
    }
   ],
   "source": [
    "# order\n",
    "ordering = ['Missing', 'Under Weight','Normal Weight', 'Over Weight', 'Obesity']\n",
    "# initialize encoder\n",
    "encoder = OrdinalEncoder(categories=[ordering])\n",
    "# encode\n",
    "df['BMI_CAT_CAN'] = encoder.fit_transform(df[['BMI_CAT_CAN']])\n",
    "df['BMI_CAT_DON'] = encoder.fit_transform(df[['BMI_CAT_DON']])\n",
    "\n",
    "# test\n",
    "usf.mannwhitneyu_combinations(df, features)"
   ]
  },
  {
   "cell_type": "markdown",
   "id": "6c03bfb3-a08e-458b-85d4-b21b8c36e0df",
   "metadata": {},
   "source": [
    "#### BloodUreaNitrogenLevel_CAT_DON"
   ]
  },
  {
   "cell_type": "code",
   "execution_count": 251,
   "id": "a19863ca-2eb8-4c1f-90cc-5804dfe09166",
   "metadata": {},
   "outputs": [
    {
     "name": "stdout",
     "output_type": "stream",
     "text": [
      "                                count unique   top  freq\n",
      "BloodUreaNitrogenLevel_CAT_DON  16126      4  High  7918\n"
     ]
    }
   ],
   "source": [
    "features = getFeatureList(df, 'BloodUreaNitrogenLevel_CAT_DON')"
   ]
  },
  {
   "cell_type": "code",
   "execution_count": 252,
   "id": "e782b24c-1708-4053-987f-f5b294db2d47",
   "metadata": {},
   "outputs": [],
   "source": [
    "# order\n",
    "ordering = ['Missing', 'Low', 'Normal', 'High']\n",
    "# initialize encoder\n",
    "encoder = OrdinalEncoder(categories=[ordering])\n",
    "# encode\n",
    "df['BloodUreaNitrogenLevel_CAT_DON'] = encoder.fit_transform(df[['BloodUreaNitrogenLevel_CAT_DON']])"
   ]
  },
  {
   "cell_type": "markdown",
   "id": "b5841c8c-2b19-45c9-aa51-306b006d037f",
   "metadata": {},
   "source": [
    "#### Creatinine_CAT"
   ]
  },
  {
   "cell_type": "code",
   "execution_count": 253,
   "id": "409f3fa5-b93d-4749-acc7-a31d22c8d76d",
   "metadata": {},
   "outputs": [
    {
     "name": "stdout",
     "output_type": "stream",
     "text": [
      "                    count unique     top   freq\n",
      "Creatinine_CAT_CAN  16126      5  Normal   8066\n",
      "Creatinine_CAT_DON  16126      5  Normal  10200\n"
     ]
    }
   ],
   "source": [
    "features = getFeatureList(df, 'Creatinine_CAT_')"
   ]
  },
  {
   "cell_type": "code",
   "execution_count": 254,
   "id": "65b658fe-ca3a-493d-848e-27fdfeff617f",
   "metadata": {},
   "outputs": [],
   "source": [
    "# order\n",
    "ordering = ['Missing', 'Normal', 'Mildly Elevated', 'Moderately Elevated', 'Severely Elevated']\n",
    "# initialize encoder\n",
    "encoder = OrdinalEncoder(categories=[ordering])\n",
    "# encode\n",
    "df['Creatinine_CAT_CAN'] = encoder.fit_transform(df[['Creatinine_CAT_CAN']])\n",
    "df['Creatinine_CAT_DON'] = encoder.fit_transform(df[['Creatinine_CAT_DON']])"
   ]
  },
  {
   "cell_type": "markdown",
   "id": "aa8aad08-91b5-4738-90c1-a40a67a6a310",
   "metadata": {},
   "source": [
    "#### DistanceFromDonorHospitaltoTXCenter_CAT"
   ]
  },
  {
   "cell_type": "code",
   "execution_count": 255,
   "id": "408b94dd-62b8-4b8b-a7cf-4e0c387f3d2a",
   "metadata": {},
   "outputs": [
    {
     "name": "stdout",
     "output_type": "stream",
     "text": [
      "                                         count unique               top  freq\n",
      "DistanceFromDonorHospitaltoTXCenter_CAT  16126      4  Distance(Min-38)  4076\n"
     ]
    }
   ],
   "source": [
    "features = getFeatureList(df, 'DistanceFromDonorHospitaltoTXCenter_CAT')"
   ]
  },
  {
   "cell_type": "code",
   "execution_count": 256,
   "id": "3bd2ad7a-431f-4edf-95d6-22cc172d3851",
   "metadata": {},
   "outputs": [],
   "source": [
    "# order\n",
    "ordering = ['Distance(Min-38)', 'Distance(38-168)', 'Distance(168-356)', 'Distance(356-Max)']\n",
    "# initialize encoder\n",
    "encoder = OrdinalEncoder(categories=[ordering])\n",
    "# encode\n",
    "df['DistanceFromDonorHospitaltoTXCenter_CAT'] = encoder.fit_transform(df[['DistanceFromDonorHospitaltoTXCenter_CAT']])"
   ]
  },
  {
   "cell_type": "markdown",
   "id": "32d5bf2f-22a1-4190-ba98-c5b30ab93f9a",
   "metadata": {},
   "source": [
    "### EducationLevel_CAN"
   ]
  },
  {
   "cell_type": "code",
   "execution_count": 257,
   "id": "65d5510c-ba74-4e3a-94b8-c240670e8c5e",
   "metadata": {},
   "outputs": [
    {
     "name": "stdout",
     "output_type": "stream",
     "text": [
      "                    count unique                        top  freq\n",
      "EducationLevel_CAN  16126      8  HIGH SCHOOL (9-12) or GED  5798\n"
     ]
    }
   ],
   "source": [
    "features = getFeatureList(df, 'EducationLevel_CAN')"
   ]
  },
  {
   "cell_type": "code",
   "execution_count": 258,
   "id": "b7b557d8-dbfb-40bf-b7af-b333141c0048",
   "metadata": {},
   "outputs": [],
   "source": [
    "# order\n",
    "ordering = ['Missing', 'NONE', 'UNKNOWN', 'GRADE SCHOOL (0-8)', 'HIGH SCHOOL (9-12) or GED', 'ATTENDED COLLEGE/TECHNICAL SCHOOL', 'ASSOCIATE/BACHELOR DEGREE', 'POST-COLLEGE GRADUATE DEGREE']\n",
    "# initialize encoder\n",
    "encoder = OrdinalEncoder(categories=[ordering])\n",
    "# encode\n",
    "df['EducationLevel_CAN'] = encoder.fit_transform(df[['EducationLevel_CAN']])"
   ]
  },
  {
   "cell_type": "markdown",
   "id": "5d56b224-0ff5-42dd-bde5-26713dd164c3",
   "metadata": {},
   "source": [
    "#### FunctionalStatusTransplant_CAN"
   ]
  },
  {
   "cell_type": "code",
   "execution_count": 259,
   "id": "056ac5d0-3085-42a4-9fb8-93461f810137",
   "metadata": {},
   "outputs": [
    {
     "name": "stdout",
     "output_type": "stream",
     "text": [
      "                                count unique                                                                     top  freq\n",
      "FunctionalStatusTransplant_CAN  16126     11  20% - Very sick, hospitalization necessary: active treatment necessary  5353\n"
     ]
    }
   ],
   "source": [
    "features = getFeatureList(df, 'FunctionalStatusTransplant_CAN')"
   ]
  },
  {
   "cell_type": "code",
   "execution_count": 260,
   "id": "bdee4dca-83e6-4f80-9739-4ffc05496dc2",
   "metadata": {},
   "outputs": [
    {
     "name": "stdout",
     "output_type": "stream",
     "text": [
      "['Unknown', '10% - Moribund, fatal processes progressing rapidly', '20% - Very sick, hospitalization necessary: active treatment necessary', '30% - Severely disabled: hospitalization is indicated, death not imminent', '40% - Disabled: requires special care and assistance', '50% - Requires considerable assistance and frequent medical care', '60% - Requires occasional assistance but is able to care for needs', '70% - Cares for self: unable to carry on normal activity or active work', '80% - Normal activity with effort: some symptoms of disease', '90% - Able to carry on normal activity: minor symptoms of disease', '100% - Normal, no complaints, no evidence of disease']\n"
     ]
    }
   ],
   "source": [
    "# sort the list, placing \"Unknown\" first\n",
    "ordering = ['Unknown'] + sorted(\n",
    "    [status for status in df.FunctionalStatusTransplant_CAN.unique().tolist() if status != 'Unknown'],\n",
    "    key=lambda x: int(x.split('%')[0])\n",
    ")\n",
    "print(ordering)"
   ]
  },
  {
   "cell_type": "code",
   "execution_count": 261,
   "id": "a0d8f30f-4a31-459d-a440-b8ac85b18267",
   "metadata": {},
   "outputs": [],
   "source": [
    "# initialize encoder\n",
    "encoder = OrdinalEncoder(categories=[ordering])\n",
    "# encode\n",
    "df['FunctionalStatusTransplant_CAN'] = encoder.fit_transform(df[['FunctionalStatusTransplant_CAN']])"
   ]
  },
  {
   "cell_type": "markdown",
   "id": "faafac21-a411-4c7e-807c-fe046472303a",
   "metadata": {},
   "source": [
    "#### HeightCm"
   ]
  },
  {
   "cell_type": "code",
   "execution_count": 262,
   "id": "a00450c9-38a9-458e-a37d-9609e855dd10",
   "metadata": {},
   "outputs": [
    {
     "name": "stdout",
     "output_type": "stream",
     "text": [
      "                  count unique              top  freq\n",
      "HeightCm_CAT_CAN  16126      4  Height(Min-167)  5026\n",
      "HeightCm_CAT_DON  16126      4  Height(167-175)  4700\n"
     ]
    }
   ],
   "source": [
    "features = getFeatureList(df, 'HeightCm_CAT_')"
   ]
  },
  {
   "cell_type": "code",
   "execution_count": 263,
   "id": "c6756b3a-6f53-4f4b-a25a-cef71f3aed4c",
   "metadata": {},
   "outputs": [
    {
     "data": {
      "text/html": [
       "<div>\n",
       "<style scoped>\n",
       "    .dataframe tbody tr th:only-of-type {\n",
       "        vertical-align: middle;\n",
       "    }\n",
       "\n",
       "    .dataframe tbody tr th {\n",
       "        vertical-align: top;\n",
       "    }\n",
       "\n",
       "    .dataframe thead th {\n",
       "        text-align: right;\n",
       "    }\n",
       "</style>\n",
       "<table border=\"1\" class=\"dataframe\">\n",
       "  <thead>\n",
       "    <tr style=\"text-align: right;\">\n",
       "      <th></th>\n",
       "      <th>column1</th>\n",
       "      <th>columns2</th>\n",
       "      <th>U_statistic</th>\n",
       "      <th>p_value</th>\n",
       "    </tr>\n",
       "  </thead>\n",
       "  <tbody>\n",
       "    <tr>\n",
       "      <th>0</th>\n",
       "      <td>HeightCm_CAT_CAN</td>\n",
       "      <td>HeightCm_CAT_DON</td>\n",
       "      <td>128418599.0</td>\n",
       "      <td>0.047225</td>\n",
       "    </tr>\n",
       "  </tbody>\n",
       "</table>\n",
       "</div>"
      ],
      "text/plain": [
       "            column1          columns2  U_statistic   p_value\n",
       "0  HeightCm_CAT_CAN  HeightCm_CAT_DON  128418599.0  0.047225"
      ]
     },
     "execution_count": 263,
     "metadata": {},
     "output_type": "execute_result"
    }
   ],
   "source": [
    "# order\n",
    "ordering = ['Height(Min-167)','Height(167-175)','Height(175-180)','Height(180-Max)']\n",
    "# initialize encoder\n",
    "encoder = OrdinalEncoder(categories=[ordering])\n",
    "# encode\n",
    "df['HeightCm_CAT_CAN'] = encoder.fit_transform(df[['HeightCm_CAT_CAN']])\n",
    "df['HeightCm_CAT_DON'] = encoder.fit_transform(df[['HeightCm_CAT_DON']])\n",
    "\n",
    "# test\n",
    "usf.mannwhitneyu_combinations(df, features)"
   ]
  },
  {
   "cell_type": "markdown",
   "id": "408c5136-3305-4fef-ad72-778e27f6d577",
   "metadata": {},
   "source": [
    "#### Hematocrit_CAT_DON"
   ]
  },
  {
   "cell_type": "code",
   "execution_count": 264,
   "id": "b4f9be71-6fea-4415-8e45-21e683c5c967",
   "metadata": {},
   "outputs": [
    {
     "name": "stdout",
     "output_type": "stream",
     "text": [
      "                    count unique  top   freq\n",
      "Hematocrit_CAT_DON  16126      4  Low  14863\n"
     ]
    }
   ],
   "source": [
    "features = getFeatureList(df, 'Hematocrit_CAT_DON')"
   ]
  },
  {
   "cell_type": "code",
   "execution_count": 265,
   "id": "a600072c-99a5-43e8-a99f-258ba46e72f4",
   "metadata": {},
   "outputs": [],
   "source": [
    "# order\n",
    "ordering = ['Missing', 'Low', 'Normal', 'High']\n",
    "# initialize encoder\n",
    "encoder = OrdinalEncoder(categories=[ordering])\n",
    "# encode\n",
    "df['Hematocrit_CAT_DON'] = encoder.fit_transform(df[['Hematocrit_CAT_DON']])"
   ]
  },
  {
   "cell_type": "markdown",
   "id": "c1370cfb-471f-43f8-bf52-33dbe0eef7a2",
   "metadata": {},
   "source": [
    "#### Hemodynamics"
   ]
  },
  {
   "cell_type": "code",
   "execution_count": 266,
   "id": "30961e50-94e4-4bf3-99f8-fd928b7895e2",
   "metadata": {},
   "outputs": [
    {
     "name": "stdout",
     "output_type": "stream",
     "text": [
      "                         count unique     top   freq\n",
      "Hemodynamics_CAT_CAN     16126      5  Normal   9132\n",
      "Hemodynamics_CO_CAT_CAN  16126      5     Low  13677\n"
     ]
    }
   ],
   "source": [
    "features = getFeatureList(df, 'Hemodynamics')"
   ]
  },
  {
   "cell_type": "code",
   "execution_count": 267,
   "id": "08b97598-4e75-4a84-825d-1856986669c8",
   "metadata": {},
   "outputs": [],
   "source": [
    "# order\n",
    "ordering = ['Missing', 'Low', 'Normal', 'High', 'Extreme']\n",
    "# initialize encoder\n",
    "encoder = OrdinalEncoder(categories=[ordering])\n",
    "# encode\n",
    "df['Hemodynamics_CAT_CAN'] = encoder.fit_transform(df[['Hemodynamics_CAT_CAN']])\n",
    "df['Hemodynamics_CO_CAT_CAN'] = encoder.fit_transform(df[['Hemodynamics_CO_CAT_CAN']])"
   ]
  },
  {
   "cell_type": "markdown",
   "id": "aff44677-2f15-458f-a146-494bd4f82d17",
   "metadata": {},
   "source": [
    "#### IschemicTimeHour_CAT_DON"
   ]
  },
  {
   "cell_type": "code",
   "execution_count": 268,
   "id": "0f5d0af6-5d3a-4090-b604-ca28c2689cba",
   "metadata": {},
   "outputs": [
    {
     "name": "stdout",
     "output_type": "stream",
     "text": [
      "                          count unique             top  freq\n",
      "IschemicTimeHour_CAT_DON  16126      5  Hours(Min-2.6)  4162\n"
     ]
    }
   ],
   "source": [
    "features = getFeatureList(df, 'IschemicTimeHour_CAT_DON')"
   ]
  },
  {
   "cell_type": "code",
   "execution_count": 269,
   "id": "a8ee7805-88f3-42d3-96d8-5bacb4388f53",
   "metadata": {},
   "outputs": [],
   "source": [
    "# order\n",
    "ordering = ['Missing', 'Hours(Min-2.6)', 'Hours(2.6-3.3)', 'Hours(3.3-3.9)', 'Hours(3.9-Max)']\n",
    "# initialize encoder\n",
    "encoder = OrdinalEncoder(categories=[ordering])\n",
    "# encode\n",
    "df['IschemicTimeHour_CAT_DON'] = encoder.fit_transform(df[['IschemicTimeHour_CAT_DON']])"
   ]
  },
  {
   "cell_type": "markdown",
   "id": "103eff21-e6c1-481e-900d-b6414c86b4a8",
   "metadata": {},
   "source": [
    "#### LV_EjectionFractionPercent_CAT_DON"
   ]
  },
  {
   "cell_type": "code",
   "execution_count": 270,
   "id": "a6e93500-49b1-494a-b5dc-5abf71d08e47",
   "metadata": {},
   "outputs": [
    {
     "name": "stdout",
     "output_type": "stream",
     "text": [
      "                                    count unique          top   freq\n",
      "LV_EjectionFractionPercent_CAT_DON  16126      5  Normal LVEF  14831\n"
     ]
    }
   ],
   "source": [
    "features = getFeatureList(df, 'LV_EjectionFractionPercent_CAT_DON')"
   ]
  },
  {
   "cell_type": "code",
   "execution_count": 271,
   "id": "2eb39c84-d065-4a1b-99de-a98f16581aa9",
   "metadata": {},
   "outputs": [],
   "source": [
    "# order\n",
    "ordering = ['Missing', 'Reduced LVEF', 'Normal LVEF', 'Mild Dysfunction', 'High LVEF']\n",
    "# initialize encoder\n",
    "encoder = OrdinalEncoder(categories=[ordering])\n",
    "# encode\n",
    "df['LV_EjectionFractionPercent_CAT_DON'] = encoder.fit_transform(df[['LV_EjectionFractionPercent_CAT_DON']])"
   ]
  },
  {
   "cell_type": "markdown",
   "id": "d945abf0-9ed6-4a4a-8875-dc6791944886",
   "metadata": {},
   "source": [
    "#### Level_SGOT_ALT_CAT"
   ]
  },
  {
   "cell_type": "code",
   "execution_count": 272,
   "id": "0ba0511e-7740-46b0-bf57-bb8423f849db",
   "metadata": {},
   "outputs": [
    {
     "name": "stdout",
     "output_type": "stream",
     "text": [
      "                        count unique     top  freq\n",
      "Level_SGOT_AST_CAT_DON  16126      4  Normal  8172\n",
      "Level_SGOT_ALT_CAT_DON  16126      4  Normal  8308\n"
     ]
    }
   ],
   "source": [
    "features = getFeatureList(df, 'Level_SGOT')"
   ]
  },
  {
   "cell_type": "code",
   "execution_count": 273,
   "id": "20fcae8f-2774-4c12-8877-d66eafa611e5",
   "metadata": {},
   "outputs": [],
   "source": [
    "# order\n",
    "ordering = ['Missing', 'Low', 'Normal', 'High']\n",
    "# initialize encoder\n",
    "encoder = OrdinalEncoder(categories=[ordering])\n",
    "# encode\n",
    "df['Level_SGOT_AST_CAT_DON'] = encoder.fit_transform(df[['Level_SGOT_AST_CAT_DON']])\n",
    "df['Level_SGOT_ALT_CAT_DON'] = encoder.fit_transform(df[['Level_SGOT_ALT_CAT_DON']])"
   ]
  },
  {
   "cell_type": "markdown",
   "id": "f68703d8-2e7a-42ce-b269-ad555c232214",
   "metadata": {},
   "source": [
    "#### LungPO2"
   ]
  },
  {
   "cell_type": "code",
   "execution_count": 274,
   "id": "b7e92532-eeba-42e7-b9a2-92f23e974595",
   "metadata": {},
   "outputs": [
    {
     "name": "stdout",
     "output_type": "stream",
     "text": [
      "                      count unique                top   freq\n",
      "LungPO2_FIO2_CAT_DON  16126      5            Extreme  10779\n",
      "LungPO2_CAT_DON       16126      6  Severe Impairment   6863\n"
     ]
    }
   ],
   "source": [
    "features = getFeatureList(df, 'LungPO2')"
   ]
  },
  {
   "cell_type": "code",
   "execution_count": 275,
   "id": "15973b7c-4351-47dd-be19-41797c5db115",
   "metadata": {},
   "outputs": [],
   "source": [
    "# order\n",
    "ordering = ['Missing', 'Low', 'Normal', 'High', 'Extreme']\n",
    "# initialize encoder\n",
    "encoder = OrdinalEncoder(categories=[ordering])\n",
    "# encode\n",
    "df['LungPO2_FIO2_CAT_DON'] = encoder.fit_transform(df[['LungPO2_FIO2_CAT_DON']])\n",
    "\n",
    "# order\n",
    "ordering = ['Missing', 'Borderline Normal', 'Normal', 'Mild Impairment', 'Moderate Impairment', 'Severe Impairment']\n",
    "# initialize encoder\n",
    "encoder = OrdinalEncoder(categories=[ordering])\n",
    "# encode\n",
    "df['LungPO2_CAT_DON'] = encoder.fit_transform(df[['LungPO2_CAT_DON']])"
   ]
  },
  {
   "cell_type": "markdown",
   "id": "24a88298-6fca-45dc-959f-0b73cc71cf78",
   "metadata": {},
   "source": [
    "#### MedicalConditionTransplant_CAN"
   ]
  },
  {
   "cell_type": "code",
   "execution_count": 276,
   "id": "06554c55-fedc-45d0-9c69-d27086088a6f",
   "metadata": {},
   "outputs": [
    {
     "name": "stdout",
     "output_type": "stream",
     "text": [
      "                                count unique                     top  freq\n",
      "MedicalConditionTransplant_CAN  16126      4  In Intensive Care Unit  7201\n"
     ]
    }
   ],
   "source": [
    "features = getFeatureList(df, 'MedicalConditionTransplant_CAN')"
   ]
  },
  {
   "cell_type": "code",
   "execution_count": 277,
   "id": "708a94c9-6bcd-4dd7-9c3d-234bfd8e726f",
   "metadata": {},
   "outputs": [],
   "source": [
    "# order\n",
    "ordering = ['Missing', 'Not Hospitalized', 'Hospitalized Not in ICU', 'In Intensive Care Unit']\n",
    "# initialize encoder\n",
    "encoder = OrdinalEncoder(categories=[ordering])\n",
    "# encode\n",
    "df['MedicalConditionTransplant_CAN'] = encoder.fit_transform(df[['MedicalConditionTransplant_CAN']])"
   ]
  },
  {
   "cell_type": "markdown",
   "id": "c86cb569-e824-422e-b590-5495e3aaa692",
   "metadata": {},
   "source": [
    "#### MismatchLevel_AMIS"
   ]
  },
  {
   "cell_type": "code",
   "execution_count": 278,
   "id": "f4001537-1cd1-49c1-91f0-f7f698623b30",
   "metadata": {},
   "outputs": [
    {
     "name": "stdout",
     "output_type": "stream",
     "text": [
      "                    count  unique  top  freq\n",
      "MismatchLevel_AMIS  16126       4    2  7603\n"
     ]
    }
   ],
   "source": [
    "features = getFeatureList(df, 'MismatchLevel_AMIS')"
   ]
  },
  {
   "cell_type": "code",
   "execution_count": 279,
   "id": "a1dff844-c53c-4bd4-ba2a-32f5dbc40016",
   "metadata": {},
   "outputs": [],
   "source": [
    "# order\n",
    "ordering = ['999', '0', '1', '2']\n",
    "# convert to string\n",
    "df[features] = df[features].astype(str)\n",
    "# initialize encoder\n",
    "encoder = OrdinalEncoder(categories=[ordering])\n",
    "# encode\n",
    "df['MismatchLevel_AMIS'] = encoder.fit_transform(df[['MismatchLevel_AMIS']])"
   ]
  },
  {
   "cell_type": "markdown",
   "id": "261feb4d-497f-4b55-95fa-50e9719a92e2",
   "metadata": {},
   "source": [
    "#### MismatchLevel_BMIS"
   ]
  },
  {
   "cell_type": "code",
   "execution_count": 280,
   "id": "d1b95355-2f7e-42cf-a34c-72c05d8984b3",
   "metadata": {},
   "outputs": [
    {
     "name": "stdout",
     "output_type": "stream",
     "text": [
      "                    count  unique  top   freq\n",
      "MismatchLevel_BMIS  16126       4    2  10670\n"
     ]
    }
   ],
   "source": [
    "features = getFeatureList(df, 'MismatchLevel_BMIS')"
   ]
  },
  {
   "cell_type": "code",
   "execution_count": 281,
   "id": "94d3d054-dfcb-418d-82d5-b603ac3cbf9c",
   "metadata": {},
   "outputs": [],
   "source": [
    "# convert to string\n",
    "df[features] = df[features].astype(str)\n",
    "# initialize encoder\n",
    "encoder = OrdinalEncoder(categories=[ordering])\n",
    "# encode\n",
    "df['MismatchLevel_BMIS'] = encoder.fit_transform(df[['MismatchLevel_BMIS']])"
   ]
  },
  {
   "cell_type": "markdown",
   "id": "87375f04-56ad-475e-8eb7-1029300025db",
   "metadata": {},
   "source": [
    "#### MismatchLevel_DRMIS"
   ]
  },
  {
   "cell_type": "code",
   "execution_count": 282,
   "id": "b18ffb9a-7106-4193-ab60-75c22e680a82",
   "metadata": {},
   "outputs": [
    {
     "name": "stdout",
     "output_type": "stream",
     "text": [
      "                     count  unique  top  freq\n",
      "MismatchLevel_DRMIS  16126       4    2  8144\n"
     ]
    }
   ],
   "source": [
    "features = getFeatureList(df, 'MismatchLevel_DRMIS')"
   ]
  },
  {
   "cell_type": "code",
   "execution_count": 283,
   "id": "ddf0647b-ff97-425f-9911-d129483ea796",
   "metadata": {},
   "outputs": [],
   "source": [
    "# convert to string\n",
    "df[features] = df[features].astype(str)\n",
    "# initialize encoder\n",
    "encoder = OrdinalEncoder(categories=[ordering])\n",
    "# encode\n",
    "df['MismatchLevel_DRMIS'] = encoder.fit_transform(df[['MismatchLevel_DRMIS']])"
   ]
  },
  {
   "cell_type": "markdown",
   "id": "8adbb3d5-8467-48e4-8372-cc6d6bafe40e",
   "metadata": {},
   "source": [
    "#### MismatchLevel_HLMIS"
   ]
  },
  {
   "cell_type": "code",
   "execution_count": 284,
   "id": "34791b17-6b02-4b02-b5f4-23ad71e24ee8",
   "metadata": {},
   "outputs": [
    {
     "name": "stdout",
     "output_type": "stream",
     "text": [
      "                     count  unique  top  freq\n",
      "MismatchLevel_HLMIS  16126       8    5  5532\n"
     ]
    }
   ],
   "source": [
    "features = getFeatureList(df, 'MismatchLevel_HLMIS')"
   ]
  },
  {
   "cell_type": "code",
   "execution_count": 285,
   "id": "75177fbc-97a1-46a7-9971-679dac29c8db",
   "metadata": {},
   "outputs": [],
   "source": [
    "# order\n",
    "ordering = ['999', '0', '1', '2', '3', '4', '5', '6']\n",
    "# convert to string\n",
    "df[features] = df[features].astype(str)\n",
    "# initialize encoder\n",
    "encoder = OrdinalEncoder(categories=[ordering])\n",
    "# encode\n",
    "df['MismatchLevel_HLMIS'] = encoder.fit_transform(df[['MismatchLevel_HLMIS']])"
   ]
  },
  {
   "cell_type": "markdown",
   "id": "4707e77b-40d1-43d6-b78e-84ea5d3cad2d",
   "metadata": {},
   "source": [
    "#### OrganRecovery_PCO2_CAT_DON"
   ]
  },
  {
   "cell_type": "code",
   "execution_count": 286,
   "id": "ae3dc022-c252-46cf-9379-885c0be1bbab",
   "metadata": {},
   "outputs": [
    {
     "name": "stdout",
     "output_type": "stream",
     "text": [
      "                            count unique     top  freq\n",
      "OrganRecovery_PCO2_CAT_DON  16126      4  Normal  9419\n"
     ]
    }
   ],
   "source": [
    "features = getFeatureList(df, 'OrganRecovery_PCO2_CAT_DON')"
   ]
  },
  {
   "cell_type": "code",
   "execution_count": 287,
   "id": "26b5d29b-af7d-4731-a9b4-683e88fdf91b",
   "metadata": {},
   "outputs": [],
   "source": [
    "# order\n",
    "ordering = ['Missing', 'Low', 'Normal', 'High']\n",
    "# initialize encoder\n",
    "encoder = OrdinalEncoder(categories=[ordering])\n",
    "# encode\n",
    "df['OrganRecovery_PCO2_CAT_DON'] = encoder.fit_transform(df[['OrganRecovery_PCO2_CAT_DON']])"
   ]
  },
  {
   "cell_type": "markdown",
   "id": "7e1aa4fb-005c-4f94-9869-5f90dd7610f7",
   "metadata": {},
   "source": [
    "#### PanelReactiveAntibody_CPRA_CAT_CAN"
   ]
  },
  {
   "cell_type": "code",
   "execution_count": 288,
   "id": "9178e1ce-b371-49c7-ba8c-d12ee2b03cc9",
   "metadata": {},
   "outputs": [
    {
     "name": "stdout",
     "output_type": "stream",
     "text": [
      "                                    count unique               top  freq\n",
      "PanelReactiveAntibody_CPRA_CAT_CAN  16126      7  No Sensitization  7459\n"
     ]
    }
   ],
   "source": [
    "features = getFeatureList(df, 'PanelReactiveAntibody_CPRA_CAT_CAN')"
   ]
  },
  {
   "cell_type": "code",
   "execution_count": 289,
   "id": "f51ad674-ccb9-4466-b6b0-3f11e44ae47e",
   "metadata": {},
   "outputs": [],
   "source": [
    "# order\n",
    "ordering = ['Missing', 'No Sensitization', 'Low Sensitization', 'Some Sensitization', 'Moderate Sensitization', 'High Sensitization', 'Extreme Sensitization']\n",
    "# initialize encoder\n",
    "encoder = OrdinalEncoder(categories=[ordering])\n",
    "# encode\n",
    "df['PanelReactiveAntibody_CPRA_CAT_CAN'] = encoder.fit_transform(df[['PanelReactiveAntibody_CPRA_CAT_CAN']])"
   ]
  },
  {
   "cell_type": "markdown",
   "id": "c8bcefda-cc13-49ab-8e17-ac09fbd7da07",
   "metadata": {},
   "source": [
    "#### TotalBilirubin_CAT"
   ]
  },
  {
   "cell_type": "code",
   "execution_count": 290,
   "id": "577b5b2b-fa0c-4b6e-8732-9f4238731106",
   "metadata": {},
   "outputs": [
    {
     "name": "stdout",
     "output_type": "stream",
     "text": [
      "                        count unique     top   freq\n",
      "TotalBilirubin_CAT_CAN  16126      4  Normal  13074\n",
      "TotalBilirubin_CAT_DON  16126      4  Normal  12944\n"
     ]
    }
   ],
   "source": [
    "features = getFeatureList(df, 'TotalBilirubin_CAT')"
   ]
  },
  {
   "cell_type": "code",
   "execution_count": 291,
   "id": "6ef376b4-fea1-4a70-bcb8-1e3f930ffba0",
   "metadata": {},
   "outputs": [],
   "source": [
    "# order\n",
    "ordering = ['Missing', 'Low', 'Normal', 'High']\n",
    "# initialize encoder\n",
    "encoder = OrdinalEncoder(categories=[ordering])\n",
    "# encode\n",
    "df['TotalBilirubin_CAT_CAN'] = encoder.fit_transform(df[['TotalBilirubin_CAT_CAN']])\n",
    "df['TotalBilirubin_CAT_DON'] = encoder.fit_transform(df[['TotalBilirubin_CAT_DON']])"
   ]
  },
  {
   "cell_type": "markdown",
   "id": "f096259e-d781-4026-8829-53d8c8225e0c",
   "metadata": {},
   "source": [
    "#### TotalDayWaitList_CAT_CAN"
   ]
  },
  {
   "cell_type": "code",
   "execution_count": 292,
   "id": "0f253b92-b374-481f-923e-fd2969f4cd4b",
   "metadata": {},
   "outputs": [
    {
     "name": "stdout",
     "output_type": "stream",
     "text": [
      "                          count unique           top  freq\n",
      "TotalDayWaitList_CAT_CAN  16126      4  Days(Min-13)  4221\n"
     ]
    }
   ],
   "source": [
    "features = getFeatureList(df, 'TotalDayWaitList_CAT_CAN')"
   ]
  },
  {
   "cell_type": "code",
   "execution_count": 293,
   "id": "ba872136-36d5-421b-bd8b-c5460d1ed43f",
   "metadata": {},
   "outputs": [],
   "source": [
    "# order\n",
    "ordering = ['Days(Min-13)', 'Days(13-44)', 'Days(44-163)', 'Days(163-Max)']\n",
    "# initialize encoder\n",
    "encoder = OrdinalEncoder(categories=[ordering])\n",
    "# encode\n",
    "df['TotalDayWaitList_CAT_CAN'] = encoder.fit_transform(df[['TotalDayWaitList_CAT_CAN']])"
   ]
  },
  {
   "cell_type": "markdown",
   "id": "b5fb9e01-a431-4f5a-b920-2777e983d68e",
   "metadata": {},
   "source": [
    "#### TransfusionNumber_DON"
   ]
  },
  {
   "cell_type": "code",
   "execution_count": 294,
   "id": "e0ae9996-11f8-49e2-b172-2dda101c9a9a",
   "metadata": {},
   "outputs": [
    {
     "name": "stdout",
     "output_type": "stream",
     "text": [
      "                       count unique   top  freq\n",
      "TransfusionNumber_DON  16126      5  NONE  8187\n"
     ]
    }
   ],
   "source": [
    "features = getFeatureList(df, 'TransfusionNumber_DON')"
   ]
  },
  {
   "cell_type": "code",
   "execution_count": 295,
   "id": "a99a773e-3ab4-4321-be0a-bd63b610a5df",
   "metadata": {},
   "outputs": [],
   "source": [
    "# order\n",
    "ordering = ['Missing', 'NONE', '1 - 5', '6 - 10', 'GREATER THAN 10']\n",
    "# initialize encoder\n",
    "encoder = OrdinalEncoder(categories=[ordering])\n",
    "# encode\n",
    "df['TransfusionNumber_DON'] = encoder.fit_transform(df[['TransfusionNumber_DON']])"
   ]
  },
  {
   "cell_type": "markdown",
   "id": "73a22872-52ee-42fc-9867-783227aabe8f",
   "metadata": {},
   "source": [
    "#### WeightKg"
   ]
  },
  {
   "cell_type": "code",
   "execution_count": 296,
   "id": "589b42c2-70b9-44a8-b5f2-f9e8af46e7fa",
   "metadata": {},
   "outputs": [
    {
     "name": "stdout",
     "output_type": "stream",
     "text": [
      "                  count unique           top  freq\n",
      "WeightKg_CAT_CAN  16126      5  Normal Weght  4054\n",
      "WeightKg_CAT_DON  16126      5  Under Weight  4136\n"
     ]
    }
   ],
   "source": [
    "features = getFeatureList(df, 'WeightKg')"
   ]
  },
  {
   "cell_type": "code",
   "execution_count": 297,
   "id": "da3e3999-34ec-4ed9-8e70-9512c0c58f6e",
   "metadata": {},
   "outputs": [],
   "source": [
    "# order\n",
    "ordering = ['Missing', 'Under Weight', 'Normal Weght', 'Over Weight', 'Obesity']\n",
    "# initialize encoder\n",
    "encoder = OrdinalEncoder(categories=[ordering])\n",
    "# encode\n",
    "df['WeightKg_CAT_CAN'] = encoder.fit_transform(df[['WeightKg_CAT_CAN']])\n",
    "df['WeightKg_CAT_DON'] = encoder.fit_transform(df[['WeightKg_CAT_DON']])"
   ]
  },
  {
   "cell_type": "markdown",
   "id": "ea1b1887-8250-4eb6-9749-d705e56858fe",
   "metadata": {},
   "source": [
    "### Change DataTypes to Integer & Display Ordinal Features"
   ]
  },
  {
   "cell_type": "code",
   "execution_count": 298,
   "id": "e01e3ce4-cf0b-4085-9a67-9a1c076a3837",
   "metadata": {},
   "outputs": [
    {
     "data": {
      "text/html": [
       "<div>\n",
       "<style scoped>\n",
       "    .dataframe tbody tr th:only-of-type {\n",
       "        vertical-align: middle;\n",
       "    }\n",
       "\n",
       "    .dataframe tbody tr th {\n",
       "        vertical-align: top;\n",
       "    }\n",
       "\n",
       "    .dataframe thead th {\n",
       "        text-align: right;\n",
       "    }\n",
       "</style>\n",
       "<table border=\"1\" class=\"dataframe\">\n",
       "  <thead>\n",
       "    <tr style=\"text-align: right;\">\n",
       "      <th></th>\n",
       "      <th>PreviousTransplantNumber_CAN</th>\n",
       "      <th>EducationLevel_CAN</th>\n",
       "      <th>FunctionalStatusTransplant_CAN</th>\n",
       "      <th>AntigenDQ1_CAN</th>\n",
       "      <th>AntigenDQ2_CAN</th>\n",
       "      <th>MedicalConditionTransplant_CAN</th>\n",
       "      <th>TransfusionNumber_DON</th>\n",
       "      <th>AntigenDA1_DON</th>\n",
       "      <th>AntigenDA2_DON</th>\n",
       "      <th>AntigenDB1_DON</th>\n",
       "      <th>AntigenDB2_DON</th>\n",
       "      <th>AntigenRA1_CAN</th>\n",
       "      <th>AntigenRA2_CAN</th>\n",
       "      <th>AntigenRB1_CAN</th>\n",
       "      <th>AntigenRB2_CAN</th>\n",
       "      <th>AntigenRDR1_CAN</th>\n",
       "      <th>AntigenRDR2_CAN</th>\n",
       "      <th>PanelReactiveAntibody_CPRA_CAT_CAN</th>\n",
       "      <th>Hemodynamics_CAT_CAN</th>\n",
       "      <th>Hemodynamics_CO_CAT_CAN</th>\n",
       "      <th>Creatinine_CAT_CAN</th>\n",
       "      <th>Creatinine_CAT_DON</th>\n",
       "      <th>IschemicTimeHour_CAT_DON</th>\n",
       "      <th>TotalBilirubin_CAT_CAN</th>\n",
       "      <th>TotalBilirubin_CAT_DON</th>\n",
       "      <th>LungPO2_FIO2_CAT_DON</th>\n",
       "      <th>LungPO2_CAT_DON</th>\n",
       "      <th>OrganRecovery_PCO2_CAT_DON</th>\n",
       "      <th>Level_SGOT_AST_CAT_DON</th>\n",
       "      <th>Level_SGOT_ALT_CAT_DON</th>\n",
       "      <th>BloodUreaNitrogenLevel_CAT_DON</th>\n",
       "      <th>Hematocrit_CAT_DON</th>\n",
       "      <th>LV_EjectionFractionPercent_CAT_DON</th>\n",
       "      <th>BMI_CAT_CAN</th>\n",
       "      <th>BMI_CAT_DON</th>\n",
       "      <th>WeightKg_CAT_DON</th>\n",
       "      <th>WeightKg_CAT_CAN</th>\n",
       "      <th>Age_CAT_CAN</th>\n",
       "      <th>Age_CAT_DON</th>\n",
       "      <th>DistanceFromDonorHospitaltoTXCenter_CAT</th>\n",
       "      <th>HeightCm_CAT_CAN</th>\n",
       "      <th>HeightCm_CAT_DON</th>\n",
       "      <th>TotalDayWaitList_CAT_CAN</th>\n",
       "      <th>Cancer_CountTotal_DON</th>\n",
       "      <th>DrugUse_CountTotal_DON</th>\n",
       "      <th>Dialysis_CountTotal_CAN</th>\n",
       "      <th>Diuretics_CountTotal_DON</th>\n",
       "      <th>Infection_CountTotal_DON</th>\n",
       "      <th>IntropesIV_CountTotal_CAN</th>\n",
       "      <th>IntropesVasodilators_CountTotal_CAN</th>\n",
       "      <th>LifeSupport_CountTotal_CAN</th>\n",
       "      <th>Malignancy_CountTotal_CAN</th>\n",
       "      <th>PriorCardiacSurgery_CountTotal_CAN</th>\n",
       "      <th>Ventilator_CountTotal_CAN</th>\n",
       "      <th>WorkIncome_CountTotal_CAN</th>\n",
       "    </tr>\n",
       "  </thead>\n",
       "  <tbody>\n",
       "    <tr>\n",
       "      <th>0</th>\n",
       "      <td>0</td>\n",
       "      <td>6</td>\n",
       "      <td>3</td>\n",
       "      <td>5</td>\n",
       "      <td>5</td>\n",
       "      <td>1</td>\n",
       "      <td>1</td>\n",
       "      <td>2</td>\n",
       "      <td>10</td>\n",
       "      <td>15</td>\n",
       "      <td>37</td>\n",
       "      <td>6</td>\n",
       "      <td>9</td>\n",
       "      <td>2</td>\n",
       "      <td>46</td>\n",
       "      <td>16</td>\n",
       "      <td>13</td>\n",
       "      <td>2</td>\n",
       "      <td>2</td>\n",
       "      <td>1</td>\n",
       "      <td>1</td>\n",
       "      <td>1</td>\n",
       "      <td>2</td>\n",
       "      <td>2</td>\n",
       "      <td>2</td>\n",
       "      <td>2</td>\n",
       "      <td>5</td>\n",
       "      <td>2</td>\n",
       "      <td>2</td>\n",
       "      <td>3</td>\n",
       "      <td>2</td>\n",
       "      <td>1</td>\n",
       "      <td>2</td>\n",
       "      <td>4</td>\n",
       "      <td>3</td>\n",
       "      <td>2</td>\n",
       "      <td>3</td>\n",
       "      <td>1</td>\n",
       "      <td>3</td>\n",
       "      <td>1</td>\n",
       "      <td>1</td>\n",
       "      <td>0</td>\n",
       "      <td>0</td>\n",
       "      <td>2</td>\n",
       "      <td>1</td>\n",
       "      <td>0</td>\n",
       "      <td>1</td>\n",
       "      <td>0</td>\n",
       "      <td>0</td>\n",
       "      <td>0</td>\n",
       "      <td>2</td>\n",
       "      <td>0</td>\n",
       "      <td>0</td>\n",
       "      <td>0</td>\n",
       "      <td>0</td>\n",
       "    </tr>\n",
       "    <tr>\n",
       "      <th>1</th>\n",
       "      <td>0</td>\n",
       "      <td>6</td>\n",
       "      <td>2</td>\n",
       "      <td>0</td>\n",
       "      <td>0</td>\n",
       "      <td>3</td>\n",
       "      <td>2</td>\n",
       "      <td>1</td>\n",
       "      <td>2</td>\n",
       "      <td>1</td>\n",
       "      <td>29</td>\n",
       "      <td>3</td>\n",
       "      <td>9</td>\n",
       "      <td>34</td>\n",
       "      <td>8</td>\n",
       "      <td>18</td>\n",
       "      <td>4</td>\n",
       "      <td>1</td>\n",
       "      <td>2</td>\n",
       "      <td>1</td>\n",
       "      <td>1</td>\n",
       "      <td>2</td>\n",
       "      <td>2</td>\n",
       "      <td>2</td>\n",
       "      <td>3</td>\n",
       "      <td>2</td>\n",
       "      <td>5</td>\n",
       "      <td>3</td>\n",
       "      <td>3</td>\n",
       "      <td>3</td>\n",
       "      <td>3</td>\n",
       "      <td>1</td>\n",
       "      <td>2</td>\n",
       "      <td>2</td>\n",
       "      <td>4</td>\n",
       "      <td>4</td>\n",
       "      <td>1</td>\n",
       "      <td>0</td>\n",
       "      <td>0</td>\n",
       "      <td>1</td>\n",
       "      <td>0</td>\n",
       "      <td>3</td>\n",
       "      <td>1</td>\n",
       "      <td>0</td>\n",
       "      <td>0</td>\n",
       "      <td>0</td>\n",
       "      <td>0</td>\n",
       "      <td>0</td>\n",
       "      <td>2</td>\n",
       "      <td>0</td>\n",
       "      <td>2</td>\n",
       "      <td>0</td>\n",
       "      <td>0</td>\n",
       "      <td>0</td>\n",
       "      <td>0</td>\n",
       "    </tr>\n",
       "    <tr>\n",
       "      <th>2</th>\n",
       "      <td>0</td>\n",
       "      <td>2</td>\n",
       "      <td>1</td>\n",
       "      <td>0</td>\n",
       "      <td>0</td>\n",
       "      <td>3</td>\n",
       "      <td>1</td>\n",
       "      <td>1</td>\n",
       "      <td>18</td>\n",
       "      <td>7</td>\n",
       "      <td>33</td>\n",
       "      <td>2</td>\n",
       "      <td>3</td>\n",
       "      <td>3</td>\n",
       "      <td>33</td>\n",
       "      <td>5</td>\n",
       "      <td>15</td>\n",
       "      <td>0</td>\n",
       "      <td>3</td>\n",
       "      <td>1</td>\n",
       "      <td>1</td>\n",
       "      <td>1</td>\n",
       "      <td>1</td>\n",
       "      <td>3</td>\n",
       "      <td>2</td>\n",
       "      <td>4</td>\n",
       "      <td>3</td>\n",
       "      <td>2</td>\n",
       "      <td>2</td>\n",
       "      <td>3</td>\n",
       "      <td>2</td>\n",
       "      <td>1</td>\n",
       "      <td>4</td>\n",
       "      <td>4</td>\n",
       "      <td>4</td>\n",
       "      <td>4</td>\n",
       "      <td>3</td>\n",
       "      <td>0</td>\n",
       "      <td>3</td>\n",
       "      <td>0</td>\n",
       "      <td>0</td>\n",
       "      <td>2</td>\n",
       "      <td>0</td>\n",
       "      <td>0</td>\n",
       "      <td>0</td>\n",
       "      <td>0</td>\n",
       "      <td>1</td>\n",
       "      <td>2</td>\n",
       "      <td>0</td>\n",
       "      <td>10</td>\n",
       "      <td>0</td>\n",
       "      <td>0</td>\n",
       "      <td>0</td>\n",
       "      <td>0</td>\n",
       "      <td>0</td>\n",
       "    </tr>\n",
       "    <tr>\n",
       "      <th>3</th>\n",
       "      <td>0</td>\n",
       "      <td>5</td>\n",
       "      <td>6</td>\n",
       "      <td>0</td>\n",
       "      <td>0</td>\n",
       "      <td>1</td>\n",
       "      <td>2</td>\n",
       "      <td>2</td>\n",
       "      <td>18</td>\n",
       "      <td>1</td>\n",
       "      <td>23</td>\n",
       "      <td>8</td>\n",
       "      <td>9</td>\n",
       "      <td>10</td>\n",
       "      <td>24</td>\n",
       "      <td>13</td>\n",
       "      <td>12</td>\n",
       "      <td>1</td>\n",
       "      <td>2</td>\n",
       "      <td>1</td>\n",
       "      <td>2</td>\n",
       "      <td>1</td>\n",
       "      <td>4</td>\n",
       "      <td>2</td>\n",
       "      <td>3</td>\n",
       "      <td>4</td>\n",
       "      <td>4</td>\n",
       "      <td>2</td>\n",
       "      <td>3</td>\n",
       "      <td>3</td>\n",
       "      <td>2</td>\n",
       "      <td>1</td>\n",
       "      <td>2</td>\n",
       "      <td>2</td>\n",
       "      <td>2</td>\n",
       "      <td>2</td>\n",
       "      <td>1</td>\n",
       "      <td>3</td>\n",
       "      <td>2</td>\n",
       "      <td>3</td>\n",
       "      <td>1</td>\n",
       "      <td>2</td>\n",
       "      <td>0</td>\n",
       "      <td>1</td>\n",
       "      <td>1</td>\n",
       "      <td>0</td>\n",
       "      <td>0</td>\n",
       "      <td>2</td>\n",
       "      <td>0</td>\n",
       "      <td>4</td>\n",
       "      <td>0</td>\n",
       "      <td>0</td>\n",
       "      <td>2</td>\n",
       "      <td>0</td>\n",
       "      <td>0</td>\n",
       "    </tr>\n",
       "    <tr>\n",
       "      <th>4</th>\n",
       "      <td>0</td>\n",
       "      <td>5</td>\n",
       "      <td>1</td>\n",
       "      <td>0</td>\n",
       "      <td>0</td>\n",
       "      <td>2</td>\n",
       "      <td>2</td>\n",
       "      <td>18</td>\n",
       "      <td>18</td>\n",
       "      <td>11</td>\n",
       "      <td>24</td>\n",
       "      <td>6</td>\n",
       "      <td>16</td>\n",
       "      <td>39</td>\n",
       "      <td>10</td>\n",
       "      <td>2</td>\n",
       "      <td>9</td>\n",
       "      <td>1</td>\n",
       "      <td>2</td>\n",
       "      <td>1</td>\n",
       "      <td>2</td>\n",
       "      <td>4</td>\n",
       "      <td>2</td>\n",
       "      <td>2</td>\n",
       "      <td>2</td>\n",
       "      <td>4</td>\n",
       "      <td>2</td>\n",
       "      <td>2</td>\n",
       "      <td>2</td>\n",
       "      <td>2</td>\n",
       "      <td>3</td>\n",
       "      <td>1</td>\n",
       "      <td>2</td>\n",
       "      <td>3</td>\n",
       "      <td>3</td>\n",
       "      <td>1</td>\n",
       "      <td>2</td>\n",
       "      <td>3</td>\n",
       "      <td>3</td>\n",
       "      <td>0</td>\n",
       "      <td>1</td>\n",
       "      <td>0</td>\n",
       "      <td>1</td>\n",
       "      <td>0</td>\n",
       "      <td>0</td>\n",
       "      <td>0</td>\n",
       "      <td>2</td>\n",
       "      <td>2</td>\n",
       "      <td>1</td>\n",
       "      <td>9</td>\n",
       "      <td>1</td>\n",
       "      <td>0</td>\n",
       "      <td>1</td>\n",
       "      <td>0</td>\n",
       "      <td>0</td>\n",
       "    </tr>\n",
       "  </tbody>\n",
       "</table>\n",
       "</div>"
      ],
      "text/plain": [
       "   PreviousTransplantNumber_CAN  EducationLevel_CAN  \\\n",
       "0                             0                   6   \n",
       "1                             0                   6   \n",
       "2                             0                   2   \n",
       "3                             0                   5   \n",
       "4                             0                   5   \n",
       "\n",
       "   FunctionalStatusTransplant_CAN  AntigenDQ1_CAN  AntigenDQ2_CAN  \\\n",
       "0                               3               5               5   \n",
       "1                               2               0               0   \n",
       "2                               1               0               0   \n",
       "3                               6               0               0   \n",
       "4                               1               0               0   \n",
       "\n",
       "   MedicalConditionTransplant_CAN  TransfusionNumber_DON  AntigenDA1_DON  \\\n",
       "0                               1                      1               2   \n",
       "1                               3                      2               1   \n",
       "2                               3                      1               1   \n",
       "3                               1                      2               2   \n",
       "4                               2                      2              18   \n",
       "\n",
       "   AntigenDA2_DON  AntigenDB1_DON  AntigenDB2_DON  AntigenRA1_CAN  \\\n",
       "0              10              15              37               6   \n",
       "1               2               1              29               3   \n",
       "2              18               7              33               2   \n",
       "3              18               1              23               8   \n",
       "4              18              11              24               6   \n",
       "\n",
       "   AntigenRA2_CAN  AntigenRB1_CAN  AntigenRB2_CAN  AntigenRDR1_CAN  \\\n",
       "0               9               2              46               16   \n",
       "1               9              34               8               18   \n",
       "2               3               3              33                5   \n",
       "3               9              10              24               13   \n",
       "4              16              39              10                2   \n",
       "\n",
       "   AntigenRDR2_CAN  PanelReactiveAntibody_CPRA_CAT_CAN  Hemodynamics_CAT_CAN  \\\n",
       "0               13                                   2                     2   \n",
       "1                4                                   1                     2   \n",
       "2               15                                   0                     3   \n",
       "3               12                                   1                     2   \n",
       "4                9                                   1                     2   \n",
       "\n",
       "   Hemodynamics_CO_CAT_CAN  Creatinine_CAT_CAN  Creatinine_CAT_DON  \\\n",
       "0                        1                   1                   1   \n",
       "1                        1                   1                   2   \n",
       "2                        1                   1                   1   \n",
       "3                        1                   2                   1   \n",
       "4                        1                   2                   4   \n",
       "\n",
       "   IschemicTimeHour_CAT_DON  TotalBilirubin_CAT_CAN  TotalBilirubin_CAT_DON  \\\n",
       "0                         2                       2                       2   \n",
       "1                         2                       2                       3   \n",
       "2                         1                       3                       2   \n",
       "3                         4                       2                       3   \n",
       "4                         2                       2                       2   \n",
       "\n",
       "   LungPO2_FIO2_CAT_DON  LungPO2_CAT_DON  OrganRecovery_PCO2_CAT_DON  \\\n",
       "0                     2                5                           2   \n",
       "1                     2                5                           3   \n",
       "2                     4                3                           2   \n",
       "3                     4                4                           2   \n",
       "4                     4                2                           2   \n",
       "\n",
       "   Level_SGOT_AST_CAT_DON  Level_SGOT_ALT_CAT_DON  \\\n",
       "0                       2                       3   \n",
       "1                       3                       3   \n",
       "2                       2                       3   \n",
       "3                       3                       3   \n",
       "4                       2                       2   \n",
       "\n",
       "   BloodUreaNitrogenLevel_CAT_DON  Hematocrit_CAT_DON  \\\n",
       "0                               2                   1   \n",
       "1                               3                   1   \n",
       "2                               2                   1   \n",
       "3                               2                   1   \n",
       "4                               3                   1   \n",
       "\n",
       "   LV_EjectionFractionPercent_CAT_DON  BMI_CAT_CAN  BMI_CAT_DON  \\\n",
       "0                                   2            4            3   \n",
       "1                                   2            2            4   \n",
       "2                                   4            4            4   \n",
       "3                                   2            2            2   \n",
       "4                                   2            3            3   \n",
       "\n",
       "   WeightKg_CAT_DON  WeightKg_CAT_CAN  Age_CAT_CAN  Age_CAT_DON  \\\n",
       "0                 2                 3            1            3   \n",
       "1                 4                 1            0            0   \n",
       "2                 4                 3            0            3   \n",
       "3                 2                 1            3            2   \n",
       "4                 1                 2            3            3   \n",
       "\n",
       "   DistanceFromDonorHospitaltoTXCenter_CAT  HeightCm_CAT_CAN  \\\n",
       "0                                        1                 1   \n",
       "1                                        1                 0   \n",
       "2                                        0                 0   \n",
       "3                                        3                 1   \n",
       "4                                        0                 1   \n",
       "\n",
       "   HeightCm_CAT_DON  TotalDayWaitList_CAT_CAN  Cancer_CountTotal_DON  \\\n",
       "0                 0                         0                      2   \n",
       "1                 3                         1                      0   \n",
       "2                 2                         0                      0   \n",
       "3                 2                         0                      1   \n",
       "4                 0                         1                      0   \n",
       "\n",
       "   DrugUse_CountTotal_DON  Dialysis_CountTotal_CAN  Diuretics_CountTotal_DON  \\\n",
       "0                       1                        0                         1   \n",
       "1                       0                        0                         0   \n",
       "2                       0                        0                         1   \n",
       "3                       1                        0                         0   \n",
       "4                       0                        0                         2   \n",
       "\n",
       "   Infection_CountTotal_DON  IntropesIV_CountTotal_CAN  \\\n",
       "0                         0                          0   \n",
       "1                         0                          2   \n",
       "2                         2                          0   \n",
       "3                         2                          0   \n",
       "4                         2                          1   \n",
       "\n",
       "   IntropesVasodilators_CountTotal_CAN  LifeSupport_CountTotal_CAN  \\\n",
       "0                                    0                           2   \n",
       "1                                    0                           2   \n",
       "2                                   10                           0   \n",
       "3                                    4                           0   \n",
       "4                                    9                           1   \n",
       "\n",
       "   Malignancy_CountTotal_CAN  PriorCardiacSurgery_CountTotal_CAN  \\\n",
       "0                          0                                   0   \n",
       "1                          0                                   0   \n",
       "2                          0                                   0   \n",
       "3                          0                                   2   \n",
       "4                          0                                   1   \n",
       "\n",
       "   Ventilator_CountTotal_CAN  WorkIncome_CountTotal_CAN  \n",
       "0                          0                          0  \n",
       "1                          0                          0  \n",
       "2                          0                          0  \n",
       "3                          0                          0  \n",
       "4                          0                          0  "
      ]
     },
     "execution_count": 298,
     "metadata": {},
     "output_type": "execute_result"
    }
   ],
   "source": [
    "# convert to float\n",
    "df[df_ordinal.column.to_list()] = df[df_ordinal.column.to_list()].astype('int')\n",
    "# dispaly\n",
    "df[df_ordinal.column.to_list()].head()"
   ]
  },
  {
   "cell_type": "markdown",
   "id": "83e059f1-d423-4ad4-92ba-0a1672f4fc7c",
   "metadata": {},
   "source": [
    "### Manning Whitney U Test"
   ]
  },
  {
   "cell_type": "code",
   "execution_count": 299,
   "id": "9a5ce150-21a0-4604-804a-2c25ce98e523",
   "metadata": {},
   "outputs": [
    {
     "data": {
      "text/html": [
       "<div>\n",
       "<style scoped>\n",
       "    .dataframe tbody tr th:only-of-type {\n",
       "        vertical-align: middle;\n",
       "    }\n",
       "\n",
       "    .dataframe tbody tr th {\n",
       "        vertical-align: top;\n",
       "    }\n",
       "\n",
       "    .dataframe thead th {\n",
       "        text-align: right;\n",
       "    }\n",
       "</style>\n",
       "<table border=\"1\" class=\"dataframe\">\n",
       "  <thead>\n",
       "    <tr style=\"text-align: right;\">\n",
       "      <th></th>\n",
       "      <th>column1</th>\n",
       "      <th>columns2</th>\n",
       "      <th>U_statistic</th>\n",
       "      <th>p_value</th>\n",
       "    </tr>\n",
       "  </thead>\n",
       "  <tbody>\n",
       "    <tr>\n",
       "      <th>408</th>\n",
       "      <td>AntigenDA2_DON</td>\n",
       "      <td>AntigenRB1_CAN</td>\n",
       "      <td>129965227.0</td>\n",
       "      <td>0.943864</td>\n",
       "    </tr>\n",
       "    <tr>\n",
       "      <th>1383</th>\n",
       "      <td>HeightCm_CAT_CAN</td>\n",
       "      <td>DrugUse_CountTotal_DON</td>\n",
       "      <td>130143572.0</td>\n",
       "      <td>0.881759</td>\n",
       "    </tr>\n",
       "    <tr>\n",
       "      <th>159</th>\n",
       "      <td>AntigenDQ1_CAN</td>\n",
       "      <td>AntigenDQ2_CAN</td>\n",
       "      <td>130334467.0</td>\n",
       "      <td>0.660760</td>\n",
       "    </tr>\n",
       "    <tr>\n",
       "      <th>1335</th>\n",
       "      <td>Age_CAT_CAN</td>\n",
       "      <td>HeightCm_CAT_DON</td>\n",
       "      <td>129650969.0</td>\n",
       "      <td>0.644727</td>\n",
       "    </tr>\n",
       "    <tr>\n",
       "      <th>253</th>\n",
       "      <td>AntigenDQ2_CAN</td>\n",
       "      <td>IntropesIV_CountTotal_CAN</td>\n",
       "      <td>129621300.0</td>\n",
       "      <td>0.586448</td>\n",
       "    </tr>\n",
       "    <tr>\n",
       "      <th>1135</th>\n",
       "      <td>Level_SGOT_AST_CAT_DON</td>\n",
       "      <td>BloodUreaNitrogenLevel_CAT_DON</td>\n",
       "      <td>129578111.0</td>\n",
       "      <td>0.542999</td>\n",
       "    </tr>\n",
       "    <tr>\n",
       "      <th>1367</th>\n",
       "      <td>DistanceFromDonorHospitaltoTXCenter_CAT</td>\n",
       "      <td>TotalDayWaitList_CAT_CAN</td>\n",
       "      <td>130606054.0</td>\n",
       "      <td>0.472049</td>\n",
       "    </tr>\n",
       "    <tr>\n",
       "      <th>1295</th>\n",
       "      <td>WeightKg_CAT_DON</td>\n",
       "      <td>WeightKg_CAT_CAN</td>\n",
       "      <td>129426716.0</td>\n",
       "      <td>0.460651</td>\n",
       "    </tr>\n",
       "    <tr>\n",
       "      <th>130</th>\n",
       "      <td>FunctionalStatusTransplant_CAN</td>\n",
       "      <td>LungPO2_CAT_DON</td>\n",
       "      <td>130902863.5</td>\n",
       "      <td>0.285199</td>\n",
       "    </tr>\n",
       "    <tr>\n",
       "      <th>1334</th>\n",
       "      <td>Age_CAT_CAN</td>\n",
       "      <td>HeightCm_CAT_CAN</td>\n",
       "      <td>131004560.0</td>\n",
       "      <td>0.225307</td>\n",
       "    </tr>\n",
       "    <tr>\n",
       "      <th>1338</th>\n",
       "      <td>Age_CAT_CAN</td>\n",
       "      <td>DrugUse_CountTotal_DON</td>\n",
       "      <td>131093189.5</td>\n",
       "      <td>0.185485</td>\n",
       "    </tr>\n",
       "    <tr>\n",
       "      <th>552</th>\n",
       "      <td>AntigenRA1_CAN</td>\n",
       "      <td>LungPO2_FIO2_CAT_DON</td>\n",
       "      <td>128864388.0</td>\n",
       "      <td>0.149574</td>\n",
       "    </tr>\n",
       "    <tr>\n",
       "      <th>1352</th>\n",
       "      <td>Age_CAT_DON</td>\n",
       "      <td>TotalDayWaitList_CAT_CAN</td>\n",
       "      <td>128752973.0</td>\n",
       "      <td>0.116331</td>\n",
       "    </tr>\n",
       "    <tr>\n",
       "      <th>1351</th>\n",
       "      <td>Age_CAT_DON</td>\n",
       "      <td>HeightCm_CAT_DON</td>\n",
       "      <td>131489455.5</td>\n",
       "      <td>0.070134</td>\n",
       "    </tr>\n",
       "    <tr>\n",
       "      <th>1396</th>\n",
       "      <td>HeightCm_CAT_DON</td>\n",
       "      <td>DrugUse_CountTotal_DON</td>\n",
       "      <td>131493841.0</td>\n",
       "      <td>0.069261</td>\n",
       "    </tr>\n",
       "  </tbody>\n",
       "</table>\n",
       "</div>"
      ],
      "text/plain": [
       "                                      column1                        columns2  \\\n",
       "408                            AntigenDA2_DON                  AntigenRB1_CAN   \n",
       "1383                         HeightCm_CAT_CAN          DrugUse_CountTotal_DON   \n",
       "159                            AntigenDQ1_CAN                  AntigenDQ2_CAN   \n",
       "1335                              Age_CAT_CAN                HeightCm_CAT_DON   \n",
       "253                            AntigenDQ2_CAN       IntropesIV_CountTotal_CAN   \n",
       "1135                   Level_SGOT_AST_CAT_DON  BloodUreaNitrogenLevel_CAT_DON   \n",
       "1367  DistanceFromDonorHospitaltoTXCenter_CAT        TotalDayWaitList_CAT_CAN   \n",
       "1295                         WeightKg_CAT_DON                WeightKg_CAT_CAN   \n",
       "130            FunctionalStatusTransplant_CAN                 LungPO2_CAT_DON   \n",
       "1334                              Age_CAT_CAN                HeightCm_CAT_CAN   \n",
       "1338                              Age_CAT_CAN          DrugUse_CountTotal_DON   \n",
       "552                            AntigenRA1_CAN            LungPO2_FIO2_CAT_DON   \n",
       "1352                              Age_CAT_DON        TotalDayWaitList_CAT_CAN   \n",
       "1351                              Age_CAT_DON                HeightCm_CAT_DON   \n",
       "1396                         HeightCm_CAT_DON          DrugUse_CountTotal_DON   \n",
       "\n",
       "      U_statistic   p_value  \n",
       "408   129965227.0  0.943864  \n",
       "1383  130143572.0  0.881759  \n",
       "159   130334467.0  0.660760  \n",
       "1335  129650969.0  0.644727  \n",
       "253   129621300.0  0.586448  \n",
       "1135  129578111.0  0.542999  \n",
       "1367  130606054.0  0.472049  \n",
       "1295  129426716.0  0.460651  \n",
       "130   130902863.5  0.285199  \n",
       "1334  131004560.0  0.225307  \n",
       "1338  131093189.5  0.185485  \n",
       "552   128864388.0  0.149574  \n",
       "1352  128752973.0  0.116331  \n",
       "1351  131489455.5  0.070134  \n",
       "1396  131493841.0  0.069261  "
      ]
     },
     "execution_count": 299,
     "metadata": {},
     "output_type": "execute_result"
    }
   ],
   "source": [
    "# test\n",
    "mwutDF = usf.mannwhitneyu_combinations(df, df_ordinal.column.to_list())\n",
    "\n",
    "# display p_value >= 0.05\n",
    "mwutDF[mwutDF.p_value >= 0.05]"
   ]
  },
  {
   "cell_type": "markdown",
   "id": "6f96ff8f-7b9b-44f0-8f1d-ebfca8d29f6d",
   "metadata": {},
   "source": [
    "### Nominal Association Testing"
   ]
  },
  {
   "cell_type": "code",
   "execution_count": 300,
   "id": "3f925b05-7639-4d6a-9195-d47351f0d13d",
   "metadata": {},
   "outputs": [
    {
     "data": {
      "text/html": [
       "<div>\n",
       "<style scoped>\n",
       "    .dataframe tbody tr th:only-of-type {\n",
       "        vertical-align: middle;\n",
       "    }\n",
       "\n",
       "    .dataframe tbody tr th {\n",
       "        vertical-align: top;\n",
       "    }\n",
       "\n",
       "    .dataframe thead th {\n",
       "        text-align: right;\n",
       "    }\n",
       "</style>\n",
       "<table border=\"1\" class=\"dataframe\">\n",
       "  <thead>\n",
       "    <tr style=\"text-align: right;\">\n",
       "      <th></th>\n",
       "      <th>column1</th>\n",
       "      <th>column2</th>\n",
       "      <th>chi2</th>\n",
       "      <th>p_value</th>\n",
       "      <th>cramer_v</th>\n",
       "    </tr>\n",
       "  </thead>\n",
       "  <tbody>\n",
       "    <tr>\n",
       "      <th>170</th>\n",
       "      <td>BloodGroup_DON</td>\n",
       "      <td>Geder_Difference</td>\n",
       "      <td>5.553789</td>\n",
       "      <td>0.592704</td>\n",
       "      <td>0.018558</td>\n",
       "    </tr>\n",
       "    <tr>\n",
       "      <th>269</th>\n",
       "      <td>InotropicAgent_DON</td>\n",
       "      <td>AntigenC2_CAN</td>\n",
       "      <td>244.476331</td>\n",
       "      <td>0.800205</td>\n",
       "      <td>0.050267</td>\n",
       "    </tr>\n",
       "    <tr>\n",
       "      <th>350</th>\n",
       "      <td>HeavyAlcoholUse_DON</td>\n",
       "      <td>AntigenC1_CAN</td>\n",
       "      <td>115.657968</td>\n",
       "      <td>0.289670</td>\n",
       "      <td>0.048895</td>\n",
       "    </tr>\n",
       "    <tr>\n",
       "      <th>1154</th>\n",
       "      <td>InfectionTherapyIV_CAN</td>\n",
       "      <td>HIV_NAT_Result_DON</td>\n",
       "      <td>0.774661</td>\n",
       "      <td>0.992736</td>\n",
       "      <td>0.004901</td>\n",
       "    </tr>\n",
       "    <tr>\n",
       "      <th>3006</th>\n",
       "      <td>HBV_NAT_Result_CAN</td>\n",
       "      <td>HIV_NAT_PreTransplant_CAN</td>\n",
       "      <td>26552.170869</td>\n",
       "      <td>0.000000</td>\n",
       "      <td>0.740843</td>\n",
       "    </tr>\n",
       "    <tr>\n",
       "      <th>110</th>\n",
       "      <td>BloodGroup_DON</td>\n",
       "      <td>AntigenDR53_2_CAN</td>\n",
       "      <td>38.486667</td>\n",
       "      <td>0.314618</td>\n",
       "      <td>0.021848</td>\n",
       "    </tr>\n",
       "    <tr>\n",
       "      <th>84</th>\n",
       "      <td>BloodGroup_CAN</td>\n",
       "      <td>EpsteinBarr_Combined_DON</td>\n",
       "      <td>14.493487</td>\n",
       "      <td>0.847484</td>\n",
       "      <td>0.017309</td>\n",
       "    </tr>\n",
       "    <tr>\n",
       "      <th>2778</th>\n",
       "      <td>SteroidsUse_DON</td>\n",
       "      <td>UrinePortein_DON</td>\n",
       "      <td>16128.017564</td>\n",
       "      <td>0.000000</td>\n",
       "      <td>0.577386</td>\n",
       "    </tr>\n",
       "    <tr>\n",
       "      <th>1145</th>\n",
       "      <td>InfectionTherapyIV_CAN</td>\n",
       "      <td>Hepatitis_B_CoreAntibody_DON</td>\n",
       "      <td>1.752112</td>\n",
       "      <td>0.994809</td>\n",
       "      <td>0.006018</td>\n",
       "    </tr>\n",
       "    <tr>\n",
       "      <th>476</th>\n",
       "      <td>MismatchLevel_AMIS</td>\n",
       "      <td>AntibodyResultRPR_VDRL_DON</td>\n",
       "      <td>5.941481</td>\n",
       "      <td>0.745761</td>\n",
       "      <td>0.011082</td>\n",
       "    </tr>\n",
       "    <tr>\n",
       "      <th>904</th>\n",
       "      <td>Biopsy_DON</td>\n",
       "      <td>AntigenDR53_CAN</td>\n",
       "      <td>18.054769</td>\n",
       "      <td>0.800343</td>\n",
       "      <td>0.016730</td>\n",
       "    </tr>\n",
       "    <tr>\n",
       "      <th>2992</th>\n",
       "      <td>Hepatitis_B_CoreAntibody_DON</td>\n",
       "      <td>InsulinManagement_DON</td>\n",
       "      <td>3.176936</td>\n",
       "      <td>0.956865</td>\n",
       "      <td>0.008104</td>\n",
       "    </tr>\n",
       "    <tr>\n",
       "      <th>2057</th>\n",
       "      <td>DiabetesType_CAN</td>\n",
       "      <td>HIV_NAT_Result_DON</td>\n",
       "      <td>1.961400</td>\n",
       "      <td>0.999463</td>\n",
       "      <td>0.007798</td>\n",
       "    </tr>\n",
       "    <tr>\n",
       "      <th>195</th>\n",
       "      <td>BloodGroupMatchLevel</td>\n",
       "      <td>Diabetes_DON</td>\n",
       "      <td>0.416547</td>\n",
       "      <td>0.998711</td>\n",
       "      <td>0.003594</td>\n",
       "    </tr>\n",
       "    <tr>\n",
       "      <th>2619</th>\n",
       "      <td>HeartProcedureType_CAN</td>\n",
       "      <td>Hepatitis_B_CoreAntibody_CAN</td>\n",
       "      <td>13755.923770</td>\n",
       "      <td>0.000000</td>\n",
       "      <td>0.533238</td>\n",
       "    </tr>\n",
       "    <tr>\n",
       "      <th>3712</th>\n",
       "      <td>MyocardialInfarctionHistory_DON</td>\n",
       "      <td>Geder_Difference</td>\n",
       "      <td>1.188328</td>\n",
       "      <td>0.755805</td>\n",
       "      <td>0.008584</td>\n",
       "    </tr>\n",
       "    <tr>\n",
       "      <th>1714</th>\n",
       "      <td>AntigenDR51_2_CAN</td>\n",
       "      <td>HypertensionHistory_DON</td>\n",
       "      <td>12.630011</td>\n",
       "      <td>0.921030</td>\n",
       "      <td>0.016158</td>\n",
       "    </tr>\n",
       "    <tr>\n",
       "      <th>3191</th>\n",
       "      <td>SerologyAntiCMV_DON</td>\n",
       "      <td>DeceasedRetyped_DON</td>\n",
       "      <td>10.756625</td>\n",
       "      <td>0.376791</td>\n",
       "      <td>0.018262</td>\n",
       "    </tr>\n",
       "    <tr>\n",
       "      <th>2724</th>\n",
       "      <td>PriorLungSurgeryAfterRegistration_CAN</td>\n",
       "      <td>HEP_C_SerostatusStatus_CAN</td>\n",
       "      <td>14507.109948</td>\n",
       "      <td>0.000000</td>\n",
       "      <td>0.547604</td>\n",
       "    </tr>\n",
       "    <tr>\n",
       "      <th>1583</th>\n",
       "      <td>AntigenDR2_DON</td>\n",
       "      <td>KidneyAllocation_DON</td>\n",
       "      <td>81.408634</td>\n",
       "      <td>0.729675</td>\n",
       "      <td>0.050241</td>\n",
       "    </tr>\n",
       "  </tbody>\n",
       "</table>\n",
       "</div>"
      ],
      "text/plain": [
       "                                    column1                       column2  \\\n",
       "170                          BloodGroup_DON              Geder_Difference   \n",
       "269                      InotropicAgent_DON                 AntigenC2_CAN   \n",
       "350                     HeavyAlcoholUse_DON                 AntigenC1_CAN   \n",
       "1154                 InfectionTherapyIV_CAN            HIV_NAT_Result_DON   \n",
       "3006                     HBV_NAT_Result_CAN     HIV_NAT_PreTransplant_CAN   \n",
       "110                          BloodGroup_DON             AntigenDR53_2_CAN   \n",
       "84                           BloodGroup_CAN      EpsteinBarr_Combined_DON   \n",
       "2778                        SteroidsUse_DON              UrinePortein_DON   \n",
       "1145                 InfectionTherapyIV_CAN  Hepatitis_B_CoreAntibody_DON   \n",
       "476                      MismatchLevel_AMIS    AntibodyResultRPR_VDRL_DON   \n",
       "904                              Biopsy_DON               AntigenDR53_CAN   \n",
       "2992           Hepatitis_B_CoreAntibody_DON         InsulinManagement_DON   \n",
       "2057                       DiabetesType_CAN            HIV_NAT_Result_DON   \n",
       "195                    BloodGroupMatchLevel                  Diabetes_DON   \n",
       "2619                 HeartProcedureType_CAN  Hepatitis_B_CoreAntibody_CAN   \n",
       "3712        MyocardialInfarctionHistory_DON              Geder_Difference   \n",
       "1714                      AntigenDR51_2_CAN       HypertensionHistory_DON   \n",
       "3191                    SerologyAntiCMV_DON           DeceasedRetyped_DON   \n",
       "2724  PriorLungSurgeryAfterRegistration_CAN    HEP_C_SerostatusStatus_CAN   \n",
       "1583                         AntigenDR2_DON          KidneyAllocation_DON   \n",
       "\n",
       "              chi2   p_value  cramer_v  \n",
       "170       5.553789  0.592704  0.018558  \n",
       "269     244.476331  0.800205  0.050267  \n",
       "350     115.657968  0.289670  0.048895  \n",
       "1154      0.774661  0.992736  0.004901  \n",
       "3006  26552.170869  0.000000  0.740843  \n",
       "110      38.486667  0.314618  0.021848  \n",
       "84       14.493487  0.847484  0.017309  \n",
       "2778  16128.017564  0.000000  0.577386  \n",
       "1145      1.752112  0.994809  0.006018  \n",
       "476       5.941481  0.745761  0.011082  \n",
       "904      18.054769  0.800343  0.016730  \n",
       "2992      3.176936  0.956865  0.008104  \n",
       "2057      1.961400  0.999463  0.007798  \n",
       "195       0.416547  0.998711  0.003594  \n",
       "2619  13755.923770  0.000000  0.533238  \n",
       "3712      1.188328  0.755805  0.008584  \n",
       "1714     12.630011  0.921030  0.016158  \n",
       "3191     10.756625  0.376791  0.018262  \n",
       "2724  14507.109948  0.000000  0.547604  \n",
       "1583     81.408634  0.729675  0.050241  "
      ]
     },
     "execution_count": 300,
     "metadata": {},
     "output_type": "execute_result"
    }
   ],
   "source": [
    "nominalDF = usf.pairColsMultiIndependenceCat(df, df_nominal.column.to_list())\n",
    "nominalDF[(nominalDF.cramer_v >= .5) | (nominalDF.p_value >= .05)].sample(20)"
   ]
  },
  {
   "cell_type": "markdown",
   "id": "d4707f77-46df-4859-916f-e959ad6f1e6a",
   "metadata": {},
   "source": [
    "### Dummy Encoding"
   ]
  },
  {
   "cell_type": "code",
   "execution_count": 301,
   "id": "c16b0b6c-637f-4845-ae0c-d72ee47e6bc6",
   "metadata": {},
   "outputs": [
    {
     "name": "stdout",
     "output_type": "stream",
     "text": [
      "Shape: (16126, 575)\n"
     ]
    }
   ],
   "source": [
    "# encode\n",
    "df_dummy = pd.get_dummies(df, columns=df_nominal.column.to_list(), drop_first=True)\n",
    "# print shape\n",
    "print(f\"Shape: {df_dummy.shape}\")\n",
    "# add columns to list\n",
    "dummyCols = df_dummy.columns.tolist()\n",
    "# remove label\n",
    "dummyCols.remove('Survival')\n",
    "# create DataFrame\n",
    "varDF = pd.DataFrame(columns=['ColumnName', 'Variance'])"
   ]
  },
  {
   "cell_type": "code",
   "execution_count": 302,
   "id": "d73d05fe-08d5-4d6f-8534-caa5a5ffe768",
   "metadata": {},
   "outputs": [],
   "source": [
    "for col in dummyCols:\n",
    "    variance = df_dummy[col].var()\n",
    "    # store the result\n",
    "    result = {'ColumnName': col, 'Variance': variance}\n",
    "    varDF.loc[len(varDF)] = result\n",
    "\n",
    "varDF = varDF.sort_values(by='Variance', ascending=False)"
   ]
  },
  {
   "cell_type": "code",
   "execution_count": 303,
   "id": "ec97d289-932f-4c42-8b45-fd931ddd4792",
   "metadata": {},
   "outputs": [
    {
     "data": {
      "text/plain": [
       "251"
      ]
     },
     "execution_count": 303,
     "metadata": {},
     "output_type": "execute_result"
    }
   ],
   "source": [
    "lowVar = varDF.ColumnName[varDF.Variance < .01].to_list()\n",
    "len(lowVar)"
   ]
  },
  {
   "cell_type": "code",
   "execution_count": 304,
   "id": "272e655f-8b13-47dd-9095-86d9ef9a549b",
   "metadata": {},
   "outputs": [],
   "source": [
    "# encoded DataFrame\n",
    "df_dummy = df_dummy.drop(columns=lowVar)"
   ]
  },
  {
   "cell_type": "code",
   "execution_count": 305,
   "id": "3e56e2a1-75c4-4262-8bbf-296d4c1aff18",
   "metadata": {},
   "outputs": [
    {
     "name": "stdout",
     "output_type": "stream",
     "text": [
      "16,126 records written to ../Data/Clean_ML_Heart_CAT.pkl\n",
      "16,126 records written to ../Data/Clean_Full_CAT.pkl\n"
     ]
    }
   ],
   "source": [
    "# heart encoded dataset\n",
    "uf.writeToFile(df_dummy, 'Clean_ML_Heart_CAT',path='../Data/', format='pkl')\n",
    "\n",
    "# heart label\n",
    "uf.writeToFile(df, 'Clean_Full_CAT',path='../Data/', format='pkl')"
   ]
  }
 ],
 "metadata": {
  "kernelspec": {
   "display_name": "RFSurvival",
   "language": "python",
   "name": "survival_env"
  },
  "language_info": {
   "codemirror_mode": {
    "name": "ipython",
    "version": 3
   },
   "file_extension": ".py",
   "mimetype": "text/x-python",
   "name": "python",
   "nbconvert_exporter": "python",
   "pygments_lexer": "ipython3",
   "version": "3.9.20"
  }
 },
 "nbformat": 4,
 "nbformat_minor": 5
}
