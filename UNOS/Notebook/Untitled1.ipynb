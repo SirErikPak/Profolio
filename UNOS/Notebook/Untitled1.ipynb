{
 "cells": [
  {
   "cell_type": "code",
   "execution_count": 1,
   "id": "36885915-4e78-43b4-a6a1-8443b302907d",
   "metadata": {},
   "outputs": [
    {
     "name": "stdout",
     "output_type": "stream",
     "text": [
      "[ 1  1 -1]\n"
     ]
    }
   ],
   "source": [
    "from sklearn.svm import OneClassSVM\n",
    "import numpy as np\n",
    "\n",
    "# Example: Generate random data (normal data)\n",
    "X_train = np.random.randn(100, 2)  # 100 normal data points with 2 features\n",
    "\n",
    "# Train One-Class SVM\n",
    "clf = OneClassSVM(nu=0.1, kernel=\"rbf\", gamma=\"scale\")\n",
    "clf.fit(X_train)\n",
    "\n",
    "# Example: New data for prediction\n",
    "X_new = np.array([[1,1],[-1,-1],[-1.5,-2.5]])\n",
    "\n",
    "# Predict anomalies (1 for normal, -1 for outlier)\n",
    "predictions = clf.predict(X_new)\n",
    "\n",
    "print(predictions)  # Output: [ 1 -1], where -1 is an outlier and 1 is normal\n"
   ]
  },
  {
   "cell_type": "code",
   "execution_count": 2,
   "id": "6c1fede3-ff84-4d06-a9a2-87693d70d14f",
   "metadata": {},
   "outputs": [
    {
     "data": {
      "text/plain": [
       "(100, 2)"
      ]
     },
     "execution_count": 2,
     "metadata": {},
     "output_type": "execute_result"
    }
   ],
   "source": [
    "X_train.shape"
   ]
  },
  {
   "cell_type": "code",
   "execution_count": 3,
   "id": "3aa264ff-6827-4101-ac36-9b0d4b61bd10",
   "metadata": {},
   "outputs": [
    {
     "data": {
      "text/plain": [
       "array([-2.8905327 , -2.19563836])"
      ]
     },
     "execution_count": 3,
     "metadata": {},
     "output_type": "execute_result"
    }
   ],
   "source": [
    "X_train.min(axis=0)"
   ]
  },
  {
   "cell_type": "code",
   "execution_count": 4,
   "id": "17a88e7a-9fc5-49ff-b01e-e1f6d95c8a27",
   "metadata": {},
   "outputs": [
    {
     "data": {
      "text/plain": [
       "-2.890532700043382"
      ]
     },
     "execution_count": 4,
     "metadata": {},
     "output_type": "execute_result"
    }
   ],
   "source": [
    "X_train.min()"
   ]
  },
  {
   "cell_type": "code",
   "execution_count": 5,
   "id": "0ebc1b36-27ec-47c7-a605-196b89979aa7",
   "metadata": {},
   "outputs": [],
   "source": [
    "from sklearn.impute import SimpleImputer\n",
    "import numpy as np\n",
    "\n",
    "# Assuming you have a dataset with missing values\n",
    "X = np.array([[1, 2, np.nan], [3, np.nan, 1], [np.nan, 5, 6]])\n",
    "\n",
    "# Initialize and fit the SimpleImputer\n",
    "imputer = SimpleImputer(strategy='mean')\n",
    "X_imputed = imputer.fit_transform(X)\n",
    "\n",
    "# X_imputed now contains the imputed dataset\n"
   ]
  },
  {
   "cell_type": "code",
   "execution_count": 6,
   "id": "47d646f7-0ff1-4206-887c-1697d2d1138d",
   "metadata": {},
   "outputs": [
    {
     "data": {
      "text/plain": [
       "array([[1. , 2. , 3.5],\n",
       "       [3. , 3.5, 1. ],\n",
       "       [2. , 5. , 6. ]])"
      ]
     },
     "execution_count": 6,
     "metadata": {},
     "output_type": "execute_result"
    }
   ],
   "source": [
    "X_imputed"
   ]
  },
  {
   "cell_type": "code",
   "execution_count": 7,
   "id": "95d91697-25fb-47a3-95cf-2d11357524a7",
   "metadata": {},
   "outputs": [
    {
     "name": "stdout",
     "output_type": "stream",
     "text": [
      "Original Data:\n",
      " [[ 1.  2. nan]\n",
      " [ 3. nan  1.]\n",
      " [nan  5.  6.]\n",
      " [ 8.  7.  9.]]\n",
      "Imputed Data:\n",
      " [[ 1.          2.         -2.21065639]\n",
      " [ 3.          3.28204162  1.        ]\n",
      " [ 6.10579044  5.          6.        ]\n",
      " [ 8.          7.          9.        ]]\n"
     ]
    }
   ],
   "source": [
    "import numpy as np\n",
    "from sklearn.experimental import enable_iterative_imputer  # noqa\n",
    "from sklearn.impute import IterativeImputer\n",
    "\n",
    "# Sample dataset with missing values\n",
    "X = np.array([[1, 2, np.nan], \n",
    "              [3, np.nan, 1], \n",
    "              [np.nan, 5, 6], \n",
    "              [8, 7, 9]])\n",
    "\n",
    "# Initialize the IterativeImputer\n",
    "imputer = IterativeImputer(max_iter=10, random_state=0)\n",
    "\n",
    "# Fit and transform the dataset\n",
    "X_imputed = imputer.fit_transform(X)\n",
    "\n",
    "print(\"Original Data:\\n\", X)\n",
    "print(\"Imputed Data:\\n\", X_imputed)\n"
   ]
  },
  {
   "cell_type": "markdown",
   "id": "36f39bea-30b5-41bf-9066-63037a5661ec",
   "metadata": {},
   "source": [
    "#### Customizing Estimators\n",
    "##### In the example below:\n",
    "- You can replace LinearRegression() with any other regression model (like DecisionTreeRegressor, BayesianRidge, etc.) based on your requirements.\n",
    "- The IterativeImputer will use the specified model to predict missing values iteratively.\n",
    "- Handling Convergence Issues\n",
    "    - If you encounter convergence warnings (as seen in your search results), consider these strategies:\n",
    "    - Increase max_iter: Allow more iterations for convergence.\n",
    "    - Feature Scaling: Ensure that your features are appropriately scaled (e.g., using StandardScaler).\n",
    "    - Regularization: If using models like Elastic Net within the imputer, consider adjusting regularization parameters.\n",
    "\n",
    "- By specifying different regression models for imputing each feature, you can leverage the strengths of various algorithms to achieve better imputation results tailored to your data characteristics.\n",
    "- Bayesian Ridge Regression is a probabilistic model that extends traditional linear regression by incorporating Bayesian principles. It provides a way to estimate the uncertainty of the model parameters, allowing for more robust predictions, especially in the presence of noise or overfitting.\n",
    "- Bayesian Elastic Net Regression combines the principles of Bayesian inference with the Elastic Net regularization technique. This approach is particularly useful for handling datasets with multicollinearity and for situations where the number of predictors exceeds the number of observations.\n",
    "    - Key Features of Bayesian Elastic Net Regression\n",
    "    - Bayesian Framework: Unlike traditional regression methods that provide point estimates, Bayesian methods yield a distribution of possible values for each coefficient, allowing for uncertainty quantification.\n",
    "    - Elastic Net Regularization: This method incorporates both L1 (Lasso) and L2 (Ridge) penalties, which helps in feature selection and reduces overfitting. The combination allows it to perform well in high-dimensional spaces.\n",
    "    - Automatic Hyperparameter Tuning: Bayesian methods can automatically estimate hyperparameters related to the priors on coefficients, making it easier to find optimal settings without manual tuning.\n",
    "    - Handling Convergence Issues: As indicated in your search results, convergence warnings may arise when fitting the model. This can often be addressed by increasing the number of iterations or adjusting feature scaling."
   ]
  },
  {
   "cell_type": "code",
   "execution_count": 8,
   "id": "bf35bcb2-57ba-4626-b21b-bb0f5f36e2e7",
   "metadata": {},
   "outputs": [
    {
     "name": "stdout",
     "output_type": "stream",
     "text": [
      "Predictions: [1.5000002  2.50000007 3.49999993 4.4999998 ]\n",
      "Coefficients: [0.49999993 0.49999993]\n",
      "Intercept: 3.9999893441944323e-07\n"
     ]
    }
   ],
   "source": [
    "import numpy as np\n",
    "from sklearn.linear_model import BayesianRidge\n",
    "from sklearn.linear_model import ElasticNetCV\n",
    "\n",
    "# Sample dataset\n",
    "X = np.array([[1, 2], [2, 3], [3, 4], [4, 5]])\n",
    "y = np.array([1.5, 2.5, 3.5, 4.5])\n",
    "\n",
    "# Initialize ElasticNet with cross-validation to find optimal alpha and l1_ratio\n",
    "elastic_net = ElasticNetCV(cv=3)\n",
    "elastic_net.fit(X, y)\n",
    "\n",
    "# Use the coefficients from ElasticNet as priors in Bayesian Ridge\n",
    "model = BayesianRidge()\n",
    "model.fit(X, y)\n",
    "\n",
    "# Make predictions\n",
    "predictions = model.predict(X)\n",
    "\n",
    "print(\"Predictions:\", predictions)\n",
    "print(\"Coefficients:\", model.coef_)\n",
    "print(\"Intercept:\", model.intercept_)\n"
   ]
  },
  {
   "cell_type": "code",
   "execution_count": 9,
   "id": "b85a603e-2a82-494d-847d-f84f28388807",
   "metadata": {},
   "outputs": [
    {
     "name": "stdout",
     "output_type": "stream",
     "text": [
      "Original Data:\n",
      " [[ 1.  2. nan]\n",
      " [ 3. nan  1.]\n",
      " [nan  5.  6.]\n",
      " [ 8.  7.  9.]]\n",
      "Imputed Data:\n",
      " [[1.         2.         5.33333333]\n",
      " [3.         4.66666667 1.        ]\n",
      " [4.77738516 5.         6.        ]\n",
      " [8.         7.         9.        ]]\n"
     ]
    }
   ],
   "source": [
    "import numpy as np\n",
    "from sklearn.experimental import enable_iterative_imputer  # noqa\n",
    "from sklearn.impute import IterativeImputer\n",
    "from sklearn.linear_model import LinearRegression, BayesianRidge\n",
    "from sklearn.tree import DecisionTreeRegressor\n",
    "\n",
    "# Sample dataset with missing values\n",
    "X = np.array([[1, 2, np.nan], \n",
    "              [3, np.nan, 1], \n",
    "              [np.nan, 5, 6], \n",
    "              [8, 7, 9]])\n",
    "\n",
    "# Define different estimators for each feature\n",
    "estimators = {\n",
    "    0: LinearRegression(),        # For the first feature\n",
    "    1: DecisionTreeRegressor(),   # For the second feature\n",
    "    2: BayesianRidge()            # For the third feature\n",
    "}\n",
    "\n",
    "# Initialize the IterativeImputer with a custom estimator for each feature\n",
    "imputer = IterativeImputer(estimator=LinearRegression(), max_iter=10, random_state=0)\n",
    "\n",
    "# Fit and transform the dataset\n",
    "X_imputed = imputer.fit_transform(X)\n",
    "\n",
    "print(\"Original Data:\\n\", X)\n",
    "print(\"Imputed Data:\\n\", X_imputed)\n"
   ]
  },
  {
   "cell_type": "code",
   "execution_count": 10,
   "id": "b79b7bce-bfe0-460f-95ad-1276f3479a84",
   "metadata": {},
   "outputs": [],
   "source": [
    "from sklearn.preprocessing import KBinsDiscretizer\n",
    "\n",
    "data = np.array([[1], [2], [6], [8], [10]])\n",
    "discretizer = KBinsDiscretizer(n_bins=3, encode='ordinal', strategy='uniform')\n",
    "discretized_data = discretizer.fit_transform(data)\n"
   ]
  },
  {
   "cell_type": "code",
   "execution_count": 11,
   "id": "3419f258-6598-4c17-8675-d5376b4182be",
   "metadata": {},
   "outputs": [
    {
     "data": {
      "text/plain": [
       "array([[0.],\n",
       "       [0.],\n",
       "       [1.],\n",
       "       [2.],\n",
       "       [2.]])"
      ]
     },
     "execution_count": 11,
     "metadata": {},
     "output_type": "execute_result"
    }
   ],
   "source": [
    "discretized_data"
   ]
  },
  {
   "cell_type": "code",
   "execution_count": 12,
   "id": "29d81abc-cbf9-49d7-8d3f-bdc2f6e2fb85",
   "metadata": {},
   "outputs": [],
   "source": [
    "import pandas as pd\n",
    "import numpy as np\n",
    "\n",
    "data = np.random.rand(10) * 100  # Sample continuous data\n",
    "bins = [0, 25, 50, 75, 100]\n",
    "discretized_data = pd.cut(data, bins=bins)\n"
   ]
  },
  {
   "cell_type": "code",
   "execution_count": 13,
   "id": "d9e09942-c72f-4d30-9a22-c6b0cd30f4ee",
   "metadata": {},
   "outputs": [
    {
     "data": {
      "text/plain": [
       "[(50, 75], (50, 75], (25, 50], (50, 75], (25, 50], (75, 100], (25, 50], (25, 50], (0, 25], (75, 100]]\n",
       "Categories (4, interval[int64, right]): [(0, 25] < (25, 50] < (50, 75] < (75, 100]]"
      ]
     },
     "execution_count": 13,
     "metadata": {},
     "output_type": "execute_result"
    }
   ],
   "source": [
    "discretized_data"
   ]
  },
  {
   "cell_type": "code",
   "execution_count": 14,
   "id": "67b13028-d14f-4472-9b48-ee2d2e900b2e",
   "metadata": {},
   "outputs": [
    {
     "data": {
      "image/png": "[encoded data removed]",
      "text/plain": [
       "<Figure size 1000x600 with 1 Axes>"
      ]
     },
     "metadata": {},
     "output_type": "display_data"
    }
   ],
   "source": [
    "import numpy as np\n",
    "import matplotlib.pyplot as plt\n",
    "from sklearn.datasets import load_iris\n",
    "from sklearn.model_selection import train_test_split\n",
    "from xgboost import XGBClassifier\n",
    "from sklearn.metrics import accuracy_score\n",
    "\n",
    "# Load dataset (Iris dataset as an example)\n",
    "data = load_iris()\n",
    "X = data.data\n",
    "y = data.target\n",
    "\n",
    "# Split into training and validation sets\n",
    "X_train, X_val, y_train, y_val = train_test_split(X, y, test_size=0.2, random_state=42)\n",
    "\n",
    "# Define a range of gamma values to test\n",
    "gamma_values = [0, 0.1, 0.5, 1, 10]\n",
    "train_accuracies = []\n",
    "val_accuracies = []\n",
    "\n",
    "# Train models with different gamma values and record accuracies\n",
    "for gamma in gamma_values:\n",
    "    model = XGBClassifier(gamma=gamma)\n",
    "    model.fit(X_train, y_train)\n",
    "    \n",
    "    # Predict on training and validation sets\n",
    "    train_pred = model.predict(X_train)\n",
    "    val_pred = model.predict(X_val)\n",
    "    \n",
    "    # Calculate accuracy\n",
    "    train_accuracy = accuracy_score(y_train, train_pred)\n",
    "    val_accuracy = accuracy_score(y_val, val_pred)\n",
    "    \n",
    "    train_accuracies.append(train_accuracy)\n",
    "    val_accuracies.append(val_accuracy)\n",
    "\n",
    "# Plotting the results\n",
    "plt.figure(figsize=(10, 6))\n",
    "plt.plot(gamma_values, train_accuracies, label='Training Accuracy', marker='o')\n",
    "plt.plot(gamma_values, val_accuracies, label='Validation Accuracy', marker='o')\n",
    "plt.title('Effect of Gamma on Model Performance')\n",
    "plt.xlabel('Gamma Value')\n",
    "plt.ylabel('Accuracy')\n",
    "plt.xticks(gamma_values)\n",
    "plt.legend()\n",
    "plt.grid()\n",
    "plt.show()\n"
   ]
  },
  {
   "cell_type": "code",
   "execution_count": 15,
   "id": "23309910-a5c6-4c33-a0bb-93395cac37fa",
   "metadata": {},
   "outputs": [
    {
     "data": {
      "image/png": "[encoded data removed]",
      "text/plain": [
       "<Figure size 1000x600 with 1 Axes>"
      ]
     },
     "metadata": {},
     "output_type": "display_data"
    }
   ],
   "source": [
    "import pandas as pd\n",
    "import matplotlib.pyplot as plt\n",
    "from sklearn.ensemble import RandomForestClassifier\n",
    "from sklearn.datasets import load_iris\n",
    "from sklearn.model_selection import train_test_split\n",
    "\n",
    "# Load dataset (Iris dataset as an example)\n",
    "data = load_iris()\n",
    "X = pd.DataFrame(data.data, columns=data.feature_names)\n",
    "y = data.target\n",
    "\n",
    "# Split into training and validation sets\n",
    "X_train, X_val, y_train, y_val = train_test_split(X, y, test_size=0.2, random_state=42)\n",
    "\n",
    "# Initialize and fit Random Forest model\n",
    "model = RandomForestClassifier(n_estimators=100)\n",
    "model.fit(X_train, y_train)\n",
    "\n",
    "# Get feature importances\n",
    "importances = model.feature_importances_\n",
    "\n",
    "# Create a DataFrame for visualization\n",
    "feature_importance_df = pd.DataFrame({\n",
    "    'Feature': X.columns,\n",
    "    'Importance': importances\n",
    "}).sort_values(by='Importance', ascending=False)\n",
    "\n",
    "# Plotting feature importance\n",
    "plt.figure(figsize=(10, 6))\n",
    "plt.barh(feature_importance_df['Feature'], feature_importance_df['Importance'], color='steelblue')\n",
    "plt.xlabel('Importance Score')\n",
    "plt.title('Feature Importance in Random Forest')\n",
    "plt.show()\n"
   ]
  },
  {
   "cell_type": "code",
   "execution_count": 16,
   "id": "644e5c9d-4bfa-45d3-8779-aa70d4289130",
   "metadata": {},
   "outputs": [
    {
     "name": "stdout",
     "output_type": "stream",
     "text": [
      "Possible duplicate: 'John Smith' and 'Jon Smith' with similarity 95\n",
      "Possible duplicate: 'John Smith' and 'Johnny Smth' with similarity 86\n"
     ]
    }
   ],
   "source": [
    "from fuzzywuzzy import fuzz, process\n",
    "\n",
    "# Example DataFrame\n",
    "import pandas as pd\n",
    "data = {'Name': ['John Smith', 'Jon Smith', 'Johnny Smth', 'Jane Doe']}\n",
    "df = pd.DataFrame(data)\n",
    "\n",
    "# Comparing strings for similarity\n",
    "for i in range(len(df)):\n",
    "    for j in range(i + 1, len(df)):\n",
    "        similarity = fuzz.ratio(df['Name'][i], df['Name'][j])\n",
    "        if similarity > 80:  # Set threshold for duplicates\n",
    "            print(f\"Possible duplicate: '{df['Name'][i]}' and '{df['Name'][j]}' with similarity {similarity}\")\n"
   ]
  },
  {
   "cell_type": "code",
   "execution_count": 17,
   "id": "e108bbc4-9d85-4cae-8635-9a5fa2345e1e",
   "metadata": {},
   "outputs": [
    {
     "name": "stdout",
     "output_type": "stream",
     "text": [
      "Rows 0 and 1 are near-duplicates with similarity 1.00\n",
      "Rows 0 and 2 are near-duplicates with similarity 1.00\n",
      "Rows 0 and 3 are near-duplicates with similarity 1.00\n",
      "Rows 1 and 2 are near-duplicates with similarity 1.00\n",
      "Rows 1 and 3 are near-duplicates with similarity 1.00\n",
      "Rows 2 and 3 are near-duplicates with similarity 1.00\n"
     ]
    }
   ],
   "source": [
    "import pandas as pd\n",
    "from sklearn.metrics.pairwise import cosine_similarity\n",
    "\n",
    "# Example DataFrame\n",
    "data = {\n",
    "    'Feature1': [1, 1.1, 2, 1.05],\n",
    "    'Feature2': [2, 2.2, 4, 2.1],\n",
    "    'Feature3': [3, 3.3, 6, 3.15]\n",
    "}\n",
    "df = pd.DataFrame(data)\n",
    "\n",
    "# Compute cosine similarity\n",
    "similarity_matrix = cosine_similarity(df)\n",
    "\n",
    "# Set a threshold for near-duplicates\n",
    "threshold = 0.99\n",
    "for i in range(len(similarity_matrix)):\n",
    "    for j in range(i + 1, len(similarity_matrix)):\n",
    "        if similarity_matrix[i, j] > threshold:\n",
    "            print(f\"Rows {i} and {j} are near-duplicates with similarity {similarity_matrix[i, j]:.2f}\")\n"
   ]
  },
  {
   "cell_type": "code",
   "execution_count": 18,
   "id": "33baadd2-268e-48bf-b877-a9649b732375",
   "metadata": {},
   "outputs": [
    {
     "data": {
      "text/plain": [
       "array([[1., 1., 1., 1.],\n",
       "       [1., 1., 1., 1.],\n",
       "       [1., 1., 1., 1.],\n",
       "       [1., 1., 1., 1.]])"
      ]
     },
     "execution_count": 18,
     "metadata": {},
     "output_type": "execute_result"
    }
   ],
   "source": [
    "similarity_matrix"
   ]
  },
  {
   "cell_type": "code",
   "execution_count": 19,
   "id": "ab1f6857-c86b-4ab8-a1d7-a5279ecde323",
   "metadata": {},
   "outputs": [],
   "source": [
    "from scipy.spatial.distance import cdist\n",
    "\n",
    "# Compute pairwise Euclidean distance\n",
    "distance_matrix = cdist(df, df, metric='euclidean')\n",
    "\n",
    "# Set a threshold for near-duplicates\n",
    "threshold = 0.1\n",
    "for i in range(len(distance_matrix)):\n",
    "    for j in range(i + 1, len(distance_matrix)):\n",
    "        if distance_matrix[i, j] < threshold:\n",
    "            print(f\"Rows {i} and {j} are near-duplicates with distance {distance_matrix[i, j]:.2f}\")\n"
   ]
  },
  {
   "cell_type": "code",
   "execution_count": 20,
   "id": "860f35ed-f7a6-4c0e-b2c2-e64b276f1b33",
   "metadata": {},
   "outputs": [
    {
     "data": {
      "text/plain": [
       "array([[0.        , 0.37416574, 3.74165739, 0.18708287],\n",
       "       [0.37416574, 0.        , 3.36749165, 0.18708287],\n",
       "       [3.74165739, 3.36749165, 0.        , 3.55457452],\n",
       "       [0.18708287, 0.18708287, 3.55457452, 0.        ]])"
      ]
     },
     "execution_count": 20,
     "metadata": {},
     "output_type": "execute_result"
    }
   ],
   "source": [
    "distance_matrix"
   ]
  },
  {
   "cell_type": "code",
   "execution_count": 21,
   "id": "712c7769-a858-49b6-aca2-e07e76b9c3e3",
   "metadata": {},
   "outputs": [],
   "source": [
    "# Compute pairwise Manhattan distance\n",
    "manhattan_matrix = cdist(df, df, metric='cityblock')\n",
    "\n",
    "# Set a threshold for near-duplicates\n",
    "threshold = 0.2\n",
    "for i in range(len(manhattan_matrix)):\n",
    "    for j in range(i + 1, len(manhattan_matrix)):\n",
    "        if manhattan_matrix[i, j] < threshold:\n",
    "            print(f\"Rows {i} and {j} are near-duplicates with distance {manhattan_matrix[i, j]:.2f}\")\n"
   ]
  },
  {
   "cell_type": "code",
   "execution_count": 22,
   "id": "05054f89-2387-4958-81e6-476b2479fd02",
   "metadata": {},
   "outputs": [
    {
     "data": {
      "text/plain": [
       "array([[0. , 0.6, 6. , 0.3],\n",
       "       [0.6, 0. , 5.4, 0.3],\n",
       "       [6. , 5.4, 0. , 5.7],\n",
       "       [0.3, 0.3, 5.7, 0. ]])"
      ]
     },
     "execution_count": 22,
     "metadata": {},
     "output_type": "execute_result"
    }
   ],
   "source": [
    "manhattan_matrix"
   ]
  },
  {
   "cell_type": "code",
   "execution_count": 23,
   "id": "bdea2353-257b-43da-a7bd-a042d490e520",
   "metadata": {},
   "outputs": [
    {
     "name": "stdout",
     "output_type": "stream",
     "text": [
      "Cluster 0 contains potential duplicates:\n",
      "   Feature1  Feature2  Feature3  Cluster\n",
      "0      1.00       2.0      3.00        0\n",
      "1      1.10       2.2      3.30        0\n",
      "3      1.05       2.1      3.15        0 \n",
      "\n"
     ]
    }
   ],
   "source": [
    "from sklearn.cluster import DBSCAN\n",
    "import numpy as np\n",
    "\n",
    "# Fit DBSCAN\n",
    "db = DBSCAN(eps=0.2, min_samples=2, metric='euclidean').fit(df)\n",
    "\n",
    "# Assign cluster labels\n",
    "df['Cluster'] = db.labels_\n",
    "\n",
    "# Find duplicates (rows in the same cluster)\n",
    "for cluster in set(db.labels_):\n",
    "    if cluster != -1:  # Ignore noise points\n",
    "        duplicate_rows = df[df['Cluster'] == cluster]\n",
    "        print(f\"Cluster {cluster} contains potential duplicates:\")\n",
    "        print(duplicate_rows, \"\\n\")\n"
   ]
  },
  {
   "cell_type": "code",
   "execution_count": 24,
   "id": "a51065bc-196b-4e8a-9be0-e2bc6a274efb",
   "metadata": {},
   "outputs": [
    {
     "data": {
      "text/html": [
       "<div>\n",
       "<style scoped>\n",
       "    .dataframe tbody tr th:only-of-type {\n",
       "        vertical-align: middle;\n",
       "    }\n",
       "\n",
       "    .dataframe tbody tr th {\n",
       "        vertical-align: top;\n",
       "    }\n",
       "\n",
       "    .dataframe thead th {\n",
       "        text-align: right;\n",
       "    }\n",
       "</style>\n",
       "<table border=\"1\" class=\"dataframe\">\n",
       "  <thead>\n",
       "    <tr style=\"text-align: right;\">\n",
       "      <th></th>\n",
       "      <th>Feature1</th>\n",
       "      <th>Feature2</th>\n",
       "      <th>Feature3</th>\n",
       "      <th>Cluster</th>\n",
       "    </tr>\n",
       "  </thead>\n",
       "  <tbody>\n",
       "    <tr>\n",
       "      <th>0</th>\n",
       "      <td>1.00</td>\n",
       "      <td>2.0</td>\n",
       "      <td>3.00</td>\n",
       "      <td>0</td>\n",
       "    </tr>\n",
       "    <tr>\n",
       "      <th>1</th>\n",
       "      <td>1.10</td>\n",
       "      <td>2.2</td>\n",
       "      <td>3.30</td>\n",
       "      <td>0</td>\n",
       "    </tr>\n",
       "    <tr>\n",
       "      <th>2</th>\n",
       "      <td>2.00</td>\n",
       "      <td>4.0</td>\n",
       "      <td>6.00</td>\n",
       "      <td>-1</td>\n",
       "    </tr>\n",
       "    <tr>\n",
       "      <th>3</th>\n",
       "      <td>1.05</td>\n",
       "      <td>2.1</td>\n",
       "      <td>3.15</td>\n",
       "      <td>0</td>\n",
       "    </tr>\n",
       "  </tbody>\n",
       "</table>\n",
       "</div>"
      ],
      "text/plain": [
       "   Feature1  Feature2  Feature3  Cluster\n",
       "0      1.00       2.0      3.00        0\n",
       "1      1.10       2.2      3.30        0\n",
       "2      2.00       4.0      6.00       -1\n",
       "3      1.05       2.1      3.15        0"
      ]
     },
     "execution_count": 24,
     "metadata": {},
     "output_type": "execute_result"
    }
   ],
   "source": [
    "df"
   ]
  }
 ],
 "metadata": {
  "kernelspec": {
   "display_name": "RFSurvival",
   "language": "python",
   "name": "survival_env"
  },
  "language_info": {
   "codemirror_mode": {
    "name": "ipython",
    "version": 3
   },
   "file_extension": ".py",
   "mimetype": "text/x-python",
   "name": "python",
   "nbconvert_exporter": "python",
   "pygments_lexer": "ipython3",
   "version": "3.9.20"
  }
 },
 "nbformat": 4,
 "nbformat_minor": 5
}
