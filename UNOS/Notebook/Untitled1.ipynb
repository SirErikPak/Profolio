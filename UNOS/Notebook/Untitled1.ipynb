{
 "cells": [
  {
   "cell_type": "code",
   "execution_count": 1,
   "id": "36885915-4e78-43b4-a6a1-8443b302907d",
   "metadata": {},
   "outputs": [
    {
     "name": "stdout",
     "output_type": "stream",
     "text": [
      "[ 1  1 -1]\n"
     ]
    }
   ],
   "source": [
    "from sklearn.svm import OneClassSVM\n",
    "import numpy as np\n",
    "\n",
    "# Example: Generate random data (normal data)\n",
    "X_train = np.random.randn(100, 2)  # 100 normal data points with 2 features\n",
    "\n",
    "# Train One-Class SVM\n",
    "clf = OneClassSVM(nu=0.1, kernel=\"rbf\", gamma=\"scale\")\n",
    "clf.fit(X_train)\n",
    "\n",
    "# Example: New data for prediction\n",
    "X_new = np.array([[1,1],[-1,-1],[-1.5,-2.5]])\n",
    "\n",
    "# Predict anomalies (1 for normal, -1 for outlier)\n",
    "predictions = clf.predict(X_new)\n",
    "\n",
    "print(predictions)  # Output: [ 1 -1], where -1 is an outlier and 1 is normal\n"
   ]
  },
  {
   "cell_type": "code",
   "execution_count": 2,
   "id": "6c1fede3-ff84-4d06-a9a2-87693d70d14f",
   "metadata": {},
   "outputs": [
    {
     "data": {
      "text/plain": [
       "(100, 2)"
      ]
     },
     "execution_count": 2,
     "metadata": {},
     "output_type": "execute_result"
    }
   ],
   "source": [
    "X_train.shape"
   ]
  },
  {
   "cell_type": "code",
   "execution_count": 3,
   "id": "3aa264ff-6827-4101-ac36-9b0d4b61bd10",
   "metadata": {},
   "outputs": [
    {
     "data": {
      "text/plain": [
       "array([-2.8905327 , -2.19563836])"
      ]
     },
     "execution_count": 3,
     "metadata": {},
     "output_type": "execute_result"
    }
   ],
   "source": [
    "X_train.min(axis=0)"
   ]
  },
  {
   "cell_type": "code",
   "execution_count": 4,
   "id": "17a88e7a-9fc5-49ff-b01e-e1f6d95c8a27",
   "metadata": {},
   "outputs": [
    {
     "data": {
      "text/plain": [
       "-2.890532700043382"
      ]
     },
     "execution_count": 4,
     "metadata": {},
     "output_type": "execute_result"
    }
   ],
   "source": [
    "X_train.min()"
   ]
  },
  {
   "cell_type": "code",
   "execution_count": 5,
   "id": "0ebc1b36-27ec-47c7-a605-196b89979aa7",
   "metadata": {},
   "outputs": [],
   "source": [
    "from sklearn.impute import SimpleImputer\n",
    "import numpy as np\n",
    "\n",
    "# Assuming you have a dataset with missing values\n",
    "X = np.array([[1, 2, np.nan], [3, np.nan, 1], [np.nan, 5, 6]])\n",
    "\n",
    "# Initialize and fit the SimpleImputer\n",
    "imputer = SimpleImputer(strategy='mean')\n",
    "X_imputed = imputer.fit_transform(X)\n",
    "\n",
    "# X_imputed now contains the imputed dataset\n"
   ]
  },
  {
   "cell_type": "code",
   "execution_count": 6,
   "id": "47d646f7-0ff1-4206-887c-1697d2d1138d",
   "metadata": {},
   "outputs": [
    {
     "data": {
      "text/plain": [
       "array([[1. , 2. , 3.5],\n",
       "       [3. , 3.5, 1. ],\n",
       "       [2. , 5. , 6. ]])"
      ]
     },
     "execution_count": 6,
     "metadata": {},
     "output_type": "execute_result"
    }
   ],
   "source": [
    "X_imputed"
   ]
  },
  {
   "cell_type": "code",
   "execution_count": 7,
   "id": "95d91697-25fb-47a3-95cf-2d11357524a7",
   "metadata": {},
   "outputs": [
    {
     "name": "stdout",
     "output_type": "stream",
     "text": [
      "Original Data:\n",
      " [[ 1.  2. nan]\n",
      " [ 3. nan  1.]\n",
      " [nan  5.  6.]\n",
      " [ 8.  7.  9.]]\n",
      "Imputed Data:\n",
      " [[ 1.          2.         -2.21065639]\n",
      " [ 3.          3.28204162  1.        ]\n",
      " [ 6.10579044  5.          6.        ]\n",
      " [ 8.          7.          9.        ]]\n"
     ]
    }
   ],
   "source": [
    "import numpy as np\n",
    "from sklearn.experimental import enable_iterative_imputer  # noqa\n",
    "from sklearn.impute import IterativeImputer\n",
    "\n",
    "# Sample dataset with missing values\n",
    "X = np.array([[1, 2, np.nan], \n",
    "              [3, np.nan, 1], \n",
    "              [np.nan, 5, 6], \n",
    "              [8, 7, 9]])\n",
    "\n",
    "# Initialize the IterativeImputer\n",
    "imputer = IterativeImputer(max_iter=10, random_state=0)\n",
    "\n",
    "# Fit and transform the dataset\n",
    "X_imputed = imputer.fit_transform(X)\n",
    "\n",
    "print(\"Original Data:\\n\", X)\n",
    "print(\"Imputed Data:\\n\", X_imputed)\n"
   ]
  },
  {
   "cell_type": "markdown",
   "id": "36f39bea-30b5-41bf-9066-63037a5661ec",
   "metadata": {},
   "source": [
    "#### Customizing Estimators\n",
    "##### In the example below:\n",
    "- You can replace LinearRegression() with any other regression model (like DecisionTreeRegressor, BayesianRidge, etc.) based on your requirements.\n",
    "- The IterativeImputer will use the specified model to predict missing values iteratively.\n",
    "- Handling Convergence Issues\n",
    "    - If you encounter convergence warnings (as seen in your search results), consider these strategies:\n",
    "    - Increase max_iter: Allow more iterations for convergence.\n",
    "    - Feature Scaling: Ensure that your features are appropriately scaled (e.g., using StandardScaler).\n",
    "    - Regularization: If using models like Elastic Net within the imputer, consider adjusting regularization parameters.\n",
    "\n",
    "- By specifying different regression models for imputing each feature, you can leverage the strengths of various algorithms to achieve better imputation results tailored to your data characteristics.\n",
    "- Bayesian Ridge Regression is a probabilistic model that extends traditional linear regression by incorporating Bayesian principles. It provides a way to estimate the uncertainty of the model parameters, allowing for more robust predictions, especially in the presence of noise or overfitting.\n",
    "- Bayesian Elastic Net Regression combines the principles of Bayesian inference with the Elastic Net regularization technique. This approach is particularly useful for handling datasets with multicollinearity and for situations where the number of predictors exceeds the number of observations.\n",
    "    - Key Features of Bayesian Elastic Net Regression\n",
    "    - Bayesian Framework: Unlike traditional regression methods that provide point estimates, Bayesian methods yield a distribution of possible values for each coefficient, allowing for uncertainty quantification.\n",
    "    - Elastic Net Regularization: This method incorporates both L1 (Lasso) and L2 (Ridge) penalties, which helps in feature selection and reduces overfitting. The combination allows it to perform well in high-dimensional spaces.\n",
    "    - Automatic Hyperparameter Tuning: Bayesian methods can automatically estimate hyperparameters related to the priors on coefficients, making it easier to find optimal settings without manual tuning.\n",
    "    - Handling Convergence Issues: As indicated in your search results, convergence warnings may arise when fitting the model. This can often be addressed by increasing the number of iterations or adjusting feature scaling."
   ]
  },
  {
   "cell_type": "code",
   "execution_count": 8,
   "id": "bf35bcb2-57ba-4626-b21b-bb0f5f36e2e7",
   "metadata": {},
   "outputs": [
    {
     "name": "stdout",
     "output_type": "stream",
     "text": [
      "Predictions: [1.5000002  2.50000007 3.49999993 4.4999998 ]\n",
      "Coefficients: [0.49999993 0.49999993]\n",
      "Intercept: 3.9999893441944323e-07\n"
     ]
    }
   ],
   "source": [
    "import numpy as np\n",
    "from sklearn.linear_model import BayesianRidge\n",
    "from sklearn.linear_model import ElasticNetCV\n",
    "\n",
    "# Sample dataset\n",
    "X = np.array([[1, 2], [2, 3], [3, 4], [4, 5]])\n",
    "y = np.array([1.5, 2.5, 3.5, 4.5])\n",
    "\n",
    "# Initialize ElasticNet with cross-validation to find optimal alpha and l1_ratio\n",
    "elastic_net = ElasticNetCV(cv=3)\n",
    "elastic_net.fit(X, y)\n",
    "\n",
    "# Use the coefficients from ElasticNet as priors in Bayesian Ridge\n",
    "model = BayesianRidge()\n",
    "model.fit(X, y)\n",
    "\n",
    "# Make predictions\n",
    "predictions = model.predict(X)\n",
    "\n",
    "print(\"Predictions:\", predictions)\n",
    "print(\"Coefficients:\", model.coef_)\n",
    "print(\"Intercept:\", model.intercept_)\n"
   ]
  },
  {
   "cell_type": "code",
   "execution_count": 9,
   "id": "b85a603e-2a82-494d-847d-f84f28388807",
   "metadata": {},
   "outputs": [
    {
     "name": "stdout",
     "output_type": "stream",
     "text": [
      "Original Data:\n",
      " [[ 1.  2. nan]\n",
      " [ 3. nan  1.]\n",
      " [nan  5.  6.]\n",
      " [ 8.  7.  9.]]\n",
      "Imputed Data:\n",
      " [[1.         2.         5.33333333]\n",
      " [3.         4.66666667 1.        ]\n",
      " [4.77738516 5.         6.        ]\n",
      " [8.         7.         9.        ]]\n"
     ]
    }
   ],
   "source": [
    "import numpy as np\n",
    "from sklearn.experimental import enable_iterative_imputer  # noqa\n",
    "from sklearn.impute import IterativeImputer\n",
    "from sklearn.linear_model import LinearRegression, BayesianRidge\n",
    "from sklearn.tree import DecisionTreeRegressor\n",
    "\n",
    "# Sample dataset with missing values\n",
    "X = np.array([[1, 2, np.nan], \n",
    "              [3, np.nan, 1], \n",
    "              [np.nan, 5, 6], \n",
    "              [8, 7, 9]])\n",
    "\n",
    "# Define different estimators for each feature\n",
    "estimators = {\n",
    "    0: LinearRegression(),        # For the first feature\n",
    "    1: DecisionTreeRegressor(),   # For the second feature\n",
    "    2: BayesianRidge()            # For the third feature\n",
    "}\n",
    "\n",
    "# Initialize the IterativeImputer with a custom estimator for each feature\n",
    "imputer = IterativeImputer(estimator=LinearRegression(), max_iter=10, random_state=0)\n",
    "\n",
    "# Fit and transform the dataset\n",
    "X_imputed = imputer.fit_transform(X)\n",
    "\n",
    "print(\"Original Data:\\n\", X)\n",
    "print(\"Imputed Data:\\n\", X_imputed)\n"
   ]
  },
  {
   "cell_type": "code",
   "execution_count": 10,
   "id": "b79b7bce-bfe0-460f-95ad-1276f3479a84",
   "metadata": {},
   "outputs": [],
   "source": [
    "from sklearn.preprocessing import KBinsDiscretizer\n",
    "\n",
    "data = np.array([[1], [2], [6], [8], [10]])\n",
    "discretizer = KBinsDiscretizer(n_bins=3, encode='ordinal', strategy='uniform')\n",
    "discretized_data = discretizer.fit_transform(data)\n"
   ]
  },
  {
   "cell_type": "code",
   "execution_count": 11,
   "id": "3419f258-6598-4c17-8675-d5376b4182be",
   "metadata": {},
   "outputs": [
    {
     "data": {
      "text/plain": [
       "array([[0.],\n",
       "       [0.],\n",
       "       [1.],\n",
       "       [2.],\n",
       "       [2.]])"
      ]
     },
     "execution_count": 11,
     "metadata": {},
     "output_type": "execute_result"
    }
   ],
   "source": [
    "discretized_data"
   ]
  },
  {
   "cell_type": "code",
   "execution_count": 12,
   "id": "29d81abc-cbf9-49d7-8d3f-bdc2f6e2fb85",
   "metadata": {},
   "outputs": [],
   "source": [
    "import pandas as pd\n",
    "import numpy as np\n",
    "\n",
    "data = np.random.rand(10) * 100  # Sample continuous data\n",
    "bins = [0, 25, 50, 75, 100]\n",
    "discretized_data = pd.cut(data, bins=bins)\n"
   ]
  },
  {
   "cell_type": "code",
   "execution_count": 13,
   "id": "d9e09942-c72f-4d30-9a22-c6b0cd30f4ee",
   "metadata": {},
   "outputs": [
    {
     "data": {
      "text/plain": [
       "[(50, 75], (50, 75], (25, 50], (50, 75], (25, 50], (75, 100], (25, 50], (25, 50], (0, 25], (75, 100]]\n",
       "Categories (4, interval[int64, right]): [(0, 25] < (25, 50] < (50, 75] < (75, 100]]"
      ]
     },
     "execution_count": 13,
     "metadata": {},
     "output_type": "execute_result"
    }
   ],
   "source": [
    "discretized_data"
   ]
  },
  {
   "cell_type": "code",
   "execution_count": 14,
   "id": "67b13028-d14f-4472-9b48-ee2d2e900b2e",
   "metadata": {},
   "outputs": [
    {
     "data": {
      "image/png": "[encoded data removed]",
      "text/plain": [
       "<Figure size 1000x600 with 1 Axes>"
      ]
     },
     "metadata": {},
     "output_type": "display_data"
    }
   ],
   "source": [
    "import numpy as np\n",
    "import matplotlib.pyplot as plt\n",
    "from sklearn.datasets import load_iris\n",
    "from sklearn.model_selection import train_test_split\n",
    "from xgboost import XGBClassifier\n",
    "from sklearn.metrics import accuracy_score\n",
    "\n",
    "# Load dataset (Iris dataset as an example)\n",
    "data = load_iris()\n",
    "X = data.data\n",
    "y = data.target\n",
    "\n",
    "# Split into training and validation sets\n",
    "X_train, X_val, y_train, y_val = train_test_split(X, y, test_size=0.2, random_state=42)\n",
    "\n",
    "# Define a range of gamma values to test\n",
    "gamma_values = [0, 0.1, 0.5, 1, 10]\n",
    "train_accuracies = []\n",
    "val_accuracies = []\n",
    "\n",
    "# Train models with different gamma values and record accuracies\n",
    "for gamma in gamma_values:\n",
    "    model = XGBClassifier(gamma=gamma)\n",
    "    model.fit(X_train, y_train)\n",
    "    \n",
    "    # Predict on training and validation sets\n",
    "    train_pred = model.predict(X_train)\n",
    "    val_pred = model.predict(X_val)\n",
    "    \n",
    "    # Calculate accuracy\n",
    "    train_accuracy = accuracy_score(y_train, train_pred)\n",
    "    val_accuracy = accuracy_score(y_val, val_pred)\n",
    "    \n",
    "    train_accuracies.append(train_accuracy)\n",
    "    val_accuracies.append(val_accuracy)\n",
    "\n",
    "# Plotting the results\n",
    "plt.figure(figsize=(10, 6))\n",
    "plt.plot(gamma_values, train_accuracies, label='Training Accuracy', marker='o')\n",
    "plt.plot(gamma_values, val_accuracies, label='Validation Accuracy', marker='o')\n",
    "plt.title('Effect of Gamma on Model Performance')\n",
    "plt.xlabel('Gamma Value')\n",
    "plt.ylabel('Accuracy')\n",
    "plt.xticks(gamma_values)\n",
    "plt.legend()\n",
    "plt.grid()\n",
    "plt.show()\n"
   ]
  },
  {
   "cell_type": "code",
   "execution_count": 15,
   "id": "23309910-a5c6-4c33-a0bb-93395cac37fa",
   "metadata": {},
   "outputs": [
    {
     "data": {
      "image/png": "[encoded data removed]",
      "text/plain": [
       "<Figure size 1000x600 with 1 Axes>"
      ]
     },
     "metadata": {},
     "output_type": "display_data"
    }
   ],
   "source": [
    "import pandas as pd\n",
    "import matplotlib.pyplot as plt\n",
    "from sklearn.ensemble import RandomForestClassifier\n",
    "from sklearn.datasets import load_iris\n",
    "from sklearn.model_selection import train_test_split\n",
    "\n",
    "# Load dataset (Iris dataset as an example)\n",
    "data = load_iris()\n",
    "X = pd.DataFrame(data.data, columns=data.feature_names)\n",
    "y = data.target\n",
    "\n",
    "# Split into training and validation sets\n",
    "X_train, X_val, y_train, y_val = train_test_split(X, y, test_size=0.2, random_state=42)\n",
    "\n",
    "# Initialize and fit Random Forest model\n",
    "model = RandomForestClassifier(n_estimators=100)\n",
    "model.fit(X_train, y_train)\n",
    "\n",
    "# Get feature importances\n",
    "importances = model.feature_importances_\n",
    "\n",
    "# Create a DataFrame for visualization\n",
    "feature_importance_df = pd.DataFrame({\n",
    "    'Feature': X.columns,\n",
    "    'Importance': importances\n",
    "}).sort_values(by='Importance', ascending=False)\n",
    "\n",
    "# Plotting feature importance\n",
    "plt.figure(figsize=(10, 6))\n",
    "plt.barh(feature_importance_df['Feature'], feature_importance_df['Importance'], color='steelblue')\n",
    "plt.xlabel('Importance Score')\n",
    "plt.title('Feature Importance in Random Forest')\n",
    "plt.show()\n"
   ]
  },
  {
   "cell_type": "code",
   "execution_count": 16,
   "id": "644e5c9d-4bfa-45d3-8779-aa70d4289130",
   "metadata": {},
   "outputs": [
    {
     "name": "stdout",
     "output_type": "stream",
     "text": [
      "Possible duplicate: 'John Smith' and 'Jon Smith' with similarity 95\n",
      "Possible duplicate: 'John Smith' and 'Johnny Smth' with similarity 86\n"
     ]
    }
   ],
   "source": [
    "from fuzzywuzzy import fuzz, process\n",
    "\n",
    "# Example DataFrame\n",
    "import pandas as pd\n",
    "data = {'Name': ['John Smith', 'Jon Smith', 'Johnny Smth', 'Jane Doe']}\n",
    "df = pd.DataFrame(data)\n",
    "\n",
    "# Comparing strings for similarity\n",
    "for i in range(len(df)):\n",
    "    for j in range(i + 1, len(df)):\n",
    "        similarity = fuzz.ratio(df['Name'][i], df['Name'][j])\n",
    "        if similarity > 80:  # Set threshold for duplicates\n",
    "            print(f\"Possible duplicate: '{df['Name'][i]}' and '{df['Name'][j]}' with similarity {similarity}\")\n"
   ]
  },
  {
   "cell_type": "code",
   "execution_count": 17,
   "id": "e108bbc4-9d85-4cae-8635-9a5fa2345e1e",
   "metadata": {},
   "outputs": [
    {
     "name": "stdout",
     "output_type": "stream",
     "text": [
      "Rows 0 and 1 are near-duplicates with similarity 1.00\n",
      "Rows 0 and 2 are near-duplicates with similarity 1.00\n",
      "Rows 0 and 3 are near-duplicates with similarity 1.00\n",
      "Rows 1 and 2 are near-duplicates with similarity 1.00\n",
      "Rows 1 and 3 are near-duplicates with similarity 1.00\n",
      "Rows 2 and 3 are near-duplicates with similarity 1.00\n"
     ]
    }
   ],
   "source": [
    "import pandas as pd\n",
    "from sklearn.metrics.pairwise import cosine_similarity\n",
    "\n",
    "# Example DataFrame\n",
    "data = {\n",
    "    'Feature1': [1, 1.1, 2, 1.05],\n",
    "    'Feature2': [2, 2.2, 4, 2.1],\n",
    "    'Feature3': [3, 3.3, 6, 3.15]\n",
    "}\n",
    "df = pd.DataFrame(data)\n",
    "\n",
    "# Compute cosine similarity\n",
    "similarity_matrix = cosine_similarity(df)\n",
    "\n",
    "# Set a threshold for near-duplicates\n",
    "threshold = 0.99\n",
    "for i in range(len(similarity_matrix)):\n",
    "    for j in range(i + 1, len(similarity_matrix)):\n",
    "        if similarity_matrix[i, j] > threshold:\n",
    "            print(f\"Rows {i} and {j} are near-duplicates with similarity {similarity_matrix[i, j]:.2f}\")\n"
   ]
  },
  {
   "cell_type": "code",
   "execution_count": 18,
   "id": "33baadd2-268e-48bf-b877-a9649b732375",
   "metadata": {},
   "outputs": [
    {
     "data": {
      "text/plain": [
       "array([[1., 1., 1., 1.],\n",
       "       [1., 1., 1., 1.],\n",
       "       [1., 1., 1., 1.],\n",
       "       [1., 1., 1., 1.]])"
      ]
     },
     "execution_count": 18,
     "metadata": {},
     "output_type": "execute_result"
    }
   ],
   "source": [
    "similarity_matrix"
   ]
  },
  {
   "cell_type": "code",
   "execution_count": 19,
   "id": "ab1f6857-c86b-4ab8-a1d7-a5279ecde323",
   "metadata": {},
   "outputs": [],
   "source": [
    "from scipy.spatial.distance import cdist\n",
    "\n",
    "# Compute pairwise Euclidean distance\n",
    "distance_matrix = cdist(df, df, metric='euclidean')\n",
    "\n",
    "# Set a threshold for near-duplicates\n",
    "threshold = 0.1\n",
    "for i in range(len(distance_matrix)):\n",
    "    for j in range(i + 1, len(distance_matrix)):\n",
    "        if distance_matrix[i, j] < threshold:\n",
    "            print(f\"Rows {i} and {j} are near-duplicates with distance {distance_matrix[i, j]:.2f}\")\n"
   ]
  },
  {
   "cell_type": "code",
   "execution_count": 20,
   "id": "860f35ed-f7a6-4c0e-b2c2-e64b276f1b33",
   "metadata": {},
   "outputs": [
    {
     "data": {
      "text/plain": [
       "array([[0.        , 0.37416574, 3.74165739, 0.18708287],\n",
       "       [0.37416574, 0.        , 3.36749165, 0.18708287],\n",
       "       [3.74165739, 3.36749165, 0.        , 3.55457452],\n",
       "       [0.18708287, 0.18708287, 3.55457452, 0.        ]])"
      ]
     },
     "execution_count": 20,
     "metadata": {},
     "output_type": "execute_result"
    }
   ],
   "source": [
    "distance_matrix"
   ]
  },
  {
   "cell_type": "code",
   "execution_count": 21,
   "id": "712c7769-a858-49b6-aca2-e07e76b9c3e3",
   "metadata": {},
   "outputs": [],
   "source": [
    "# Compute pairwise Manhattan distance\n",
    "manhattan_matrix = cdist(df, df, metric='cityblock')\n",
    "\n",
    "# Set a threshold for near-duplicates\n",
    "threshold = 0.2\n",
    "for i in range(len(manhattan_matrix)):\n",
    "    for j in range(i + 1, len(manhattan_matrix)):\n",
    "        if manhattan_matrix[i, j] < threshold:\n",
    "            print(f\"Rows {i} and {j} are near-duplicates with distance {manhattan_matrix[i, j]:.2f}\")\n"
   ]
  },
  {
   "cell_type": "code",
   "execution_count": 22,
   "id": "05054f89-2387-4958-81e6-476b2479fd02",
   "metadata": {},
   "outputs": [
    {
     "data": {
      "text/plain": [
       "array([[0. , 0.6, 6. , 0.3],\n",
       "       [0.6, 0. , 5.4, 0.3],\n",
       "       [6. , 5.4, 0. , 5.7],\n",
       "       [0.3, 0.3, 5.7, 0. ]])"
      ]
     },
     "execution_count": 22,
     "metadata": {},
     "output_type": "execute_result"
    }
   ],
   "source": [
    "manhattan_matrix"
   ]
  },
  {
   "cell_type": "code",
   "execution_count": 23,
   "id": "bdea2353-257b-43da-a7bd-a042d490e520",
   "metadata": {},
   "outputs": [
    {
     "name": "stdout",
     "output_type": "stream",
     "text": [
      "Cluster 0 contains potential duplicates:\n",
      "   Feature1  Feature2  Feature3  Cluster\n",
      "0      1.00       2.0      3.00        0\n",
      "1      1.10       2.2      3.30        0\n",
      "3      1.05       2.1      3.15        0 \n",
      "\n"
     ]
    }
   ],
   "source": [
    "from sklearn.cluster import DBSCAN\n",
    "import numpy as np\n",
    "\n",
    "# Fit DBSCAN\n",
    "db = DBSCAN(eps=0.2, min_samples=2, metric='euclidean').fit(df)\n",
    "\n",
    "# Assign cluster labels\n",
    "df['Cluster'] = db.labels_\n",
    "\n",
    "# Find duplicates (rows in the same cluster)\n",
    "for cluster in set(db.labels_):\n",
    "    if cluster != -1:  # Ignore noise points\n",
    "        duplicate_rows = df[df['Cluster'] == cluster]\n",
    "        print(f\"Cluster {cluster} contains potential duplicates:\")\n",
    "        print(duplicate_rows, \"\\n\")\n"
   ]
  },
  {
   "cell_type": "code",
   "execution_count": 24,
   "id": "a51065bc-196b-4e8a-9be0-e2bc6a274efb",
   "metadata": {},
   "outputs": [
    {
     "data": {
      "text/html": [
       "<div>\n",
       "<style scoped>\n",
       "    .dataframe tbody tr th:only-of-type {\n",
       "        vertical-align: middle;\n",
       "    }\n",
       "\n",
       "    .dataframe tbody tr th {\n",
       "        vertical-align: top;\n",
       "    }\n",
       "\n",
       "    .dataframe thead th {\n",
       "        text-align: right;\n",
       "    }\n",
       "</style>\n",
       "<table border=\"1\" class=\"dataframe\">\n",
       "  <thead>\n",
       "    <tr style=\"text-align: right;\">\n",
       "      <th></th>\n",
       "      <th>Feature1</th>\n",
       "      <th>Feature2</th>\n",
       "      <th>Feature3</th>\n",
       "      <th>Cluster</th>\n",
       "    </tr>\n",
       "  </thead>\n",
       "  <tbody>\n",
       "    <tr>\n",
       "      <th>0</th>\n",
       "      <td>1.00</td>\n",
       "      <td>2.0</td>\n",
       "      <td>3.00</td>\n",
       "      <td>0</td>\n",
       "    </tr>\n",
       "    <tr>\n",
       "      <th>1</th>\n",
       "      <td>1.10</td>\n",
       "      <td>2.2</td>\n",
       "      <td>3.30</td>\n",
       "      <td>0</td>\n",
       "    </tr>\n",
       "    <tr>\n",
       "      <th>2</th>\n",
       "      <td>2.00</td>\n",
       "      <td>4.0</td>\n",
       "      <td>6.00</td>\n",
       "      <td>-1</td>\n",
       "    </tr>\n",
       "    <tr>\n",
       "      <th>3</th>\n",
       "      <td>1.05</td>\n",
       "      <td>2.1</td>\n",
       "      <td>3.15</td>\n",
       "      <td>0</td>\n",
       "    </tr>\n",
       "  </tbody>\n",
       "</table>\n",
       "</div>"
      ],
      "text/plain": [
       "   Feature1  Feature2  Feature3  Cluster\n",
       "0      1.00       2.0      3.00        0\n",
       "1      1.10       2.2      3.30        0\n",
       "2      2.00       4.0      6.00       -1\n",
       "3      1.05       2.1      3.15        0"
      ]
     },
     "execution_count": 24,
     "metadata": {},
     "output_type": "execute_result"
    }
   ],
   "source": [
    "df"
   ]
  },
  {
   "cell_type": "code",
   "execution_count": null,
   "id": "161f6e0c-de02-47af-a2e4-eb46417e2771",
   "metadata": {},
   "outputs": [],
   "source": []
  },
  {
   "cell_type": "code",
   "execution_count": 4,
   "id": "5cedfb95-52b8-4018-8839-5306eed23799",
   "metadata": {},
   "outputs": [
    {
     "name": "stdout",
     "output_type": "stream",
     "text": [
      "   CPRA_Recent_CAN  CPRA_Peak_CAN\n",
      "0             11.2           14.9\n",
      "1              0.0           19.0\n",
      "2             11.2           19.0\n",
      "3              7.0            0.0\n",
      "4            100.0          100.0\n"
     ]
    }
   ],
   "source": [
    "import pandas as pd\n",
    "import numpy as np\n",
    "from statsmodels.imputation.mice import MICEData\n",
    "\n",
    "# Create a DataFrame with missing values\n",
    "df = pd.DataFrame({\n",
    "    'CPRA_Recent_CAN': [11.2, 0.0, np.nan, 7.0, 100.0],\n",
    "    'CPRA_Peak_CAN': [14.9, np.nan, 19.0, 0.0, 100.0]\n",
    "})\n",
    "\n",
    "# Apply MICE (Multiple Imputation by Chained Equations)\n",
    "mice_data = MICEData(df)\n",
    "imputed_data = mice_data.data\n",
    "\n",
    "# View the imputed dataset\n",
    "print(imputed_data)\n"
   ]
  },
  {
   "cell_type": "code",
   "execution_count": null,
   "id": "91cd7802-fb1a-4cbf-8a82-748388200e61",
   "metadata": {},
   "outputs": [],
   "source": []
  },
  {
   "cell_type": "code",
   "execution_count": 5,
   "id": "10f5bebc-4eb6-4d22-ae7e-1db857db7697",
   "metadata": {},
   "outputs": [
    {
     "data": {
      "image/png": "[encoded data removed]",
      "text/plain": [
       "<Figure size 2500x1000 with 2 Axes>"
      ]
     },
     "metadata": {},
     "output_type": "display_data"
    }
   ],
   "source": [
    "import missingno as msno\n",
    "import matplotlib.pyplot as plt\n",
    "\n",
    "# Visualize missing data\n",
    "msno.matrix(df)\n",
    "plt.show()\n",
    "\n"
   ]
  },
  {
   "cell_type": "code",
   "execution_count": null,
   "id": "90238d04-3c28-4475-b848-e38abb06dd66",
   "metadata": {},
   "outputs": [],
   "source": [
    "from sklearn.impute import KNNImputer\n",
    "\n",
    "imputer = KNNImputer(n_neighbors=5, weights='distance')\n",
    "df_imputed = imputer.fit_transform(df[['CPRA_Recent_CAN', 'CPRA_Peak_CAN']])"
   ]
  },
  {
   "cell_type": "code",
   "execution_count": null,
   "id": "abed7274-78f9-43cf-8219-51ac5b369d37",
   "metadata": {},
   "outputs": [],
   "source": [
    "from sklearn.experimental import enable_iterative_imputer\n",
    "from sklearn.impute import IterativeImputer\n",
    "\n",
    "# Assuming df is your dataframe with the two columns\n",
    "data = df[['CPRA_Recent_CAN', 'CPRA_Peak_CAN']]\n",
    "\n",
    "# Create multiple imputations\n",
    "n_imputations = 5\n",
    "imputed_data_sets = []\n",
    "\n",
    "for i in range(n_imputations):\n",
    "    imputer = IterativeImputer(random_state=i)\n",
    "    imputed_data = imputer.fit_transform(data)\n",
    "    imputed_data_sets.append(pd.DataFrame(imputed_data, columns=data.columns))\n",
    "\n",
    "# Analyze results across multiple imputations\n",
    "for i, imputed_df in enumerate(imputed_data_sets):\n",
    "    print(f\"Imputation {i+1} correlation:\")\n",
    "    print(imputed_df.corr())\n",
    "    print(\"\\n\")\n",
    "\n",
    "# You can then combine results from these multiple imputations for your analysis"
   ]
  },
  {
   "cell_type": "markdown",
   "id": "79e225cd-8929-4680-a269-aaf648d3792f",
   "metadata": {},
   "source": [
    "#### `Predictive Mean Matching (PMM)` is a robust and widely used imputation method for handling missing data.\n",
    "- `PMM` imputes missing values by borrowing observed values from the dataset, ensuring that the imputed values maintain the original distribution of the data\n",
    "    - For example:\n",
    "        - If the original variable is skewed, the imputed values will also be skewed.\n",
    "        - If the variable is bounded (e.g., 0 to 100), PMM ensures that imputed values respect these bounds\n",
    "- Instead of directly using the predicted values, PMM identifies observed data points (donors) whose predicted values are closest to the predicted value of the missing case\n",
    "- From a pool of donor observations with similar predicted values, PMM randomly selects one observed value to replace the missing value\n",
    "- Unlike parametric methods (e.g., linear regression imputation), `PMM` does not assume normality or linearity in relationships between variables\n",
    "    - It works well with:\n",
    "        - Non-normal distributions.\n",
    "        - Heteroscedasticity (unequal variance).\n",
    "        - Nonlinear associations.\n",
    "- Traditional methods like mean or median imputation can introduce bias, especially when data is not missing completely at random (MCAR). PMM reduces this risk by matching missing values with observed ones from similar cases "
   ]
  },
  {
   "cell_type": "markdown",
   "id": "78e5980a-9bc9-48f6-bf05-9a491877d0cb",
   "metadata": {},
   "source": [
    "#### Given the high correlation, we should use an imputation technique that leverages the relationship between these two columns while preserving their statistical properties.\n",
    "- KNNImputer:\n",
    "    - Use k-Nearest Neighbors to impute missing values based on similar rows in the dataset.\n",
    "    - This method can preserve relationships between features because it imputes missing values based on neighbors' patterns."
   ]
  },
  {
   "cell_type": "code",
   "execution_count": null,
   "id": "fc0e3fcb-e627-4859-8fc1-107550e0db57",
   "metadata": {},
   "outputs": [],
   "source": [
    "df['missing_CPRA_Peak_CAN'] = df['CPRA_Recent_CAN'].isnull().astype(int)\n",
    "chi2, p_value, _, _ = chi2_contingency(pd.crosstab(df['missing_CPRA_Peak_CAN'], df['CPRA_Recent_CAN']))\n",
    "print(f'Chi-square test p-value: {p_value}')\n",
    "\n",
    "# Interpretation\n",
    "if p_value > 0.05:\n",
    "    print(\"Fail to reject null hypothesis:  There is no significant association between the variables.\")\n",
    "else:\n",
    "    print(\"Reject null hypothesis: There is a significant association between the variables.\")"
   ]
  },
  {
   "cell_type": "code",
   "execution_count": null,
   "id": "49d9c0cf-aed1-4bab-b0e3-24f6b3e05147",
   "metadata": {},
   "outputs": [],
   "source": [
    "import statsmodels.api as sm\n",
    "\n",
    "# Create a missingness indicator for CPRA_Recent_CAN (1 if missing, 0 if not)\n",
    "df['missing_CPRA_Recent_CAN'] = df['CPRA_Recent_CAN'].isnull().astype(int)\n",
    "\n",
    "# Use CPRA_Peak_CAN as a predictor (add a constant for the intercept)\n",
    "X = sm.add_constant(df['CPRA_Peak_CAN'])\n",
    "y = df['missing_CPRA_Recent_CAN']\n",
    "\n",
    "# Fit logistic regression\n",
    "model = sm.Logit(y, X, missing='drop')  # drops rows with missing predictor values\n",
    "result = model.fit()\n",
    "print(result.summary())"
   ]
  },
  {
   "cell_type": "code",
   "execution_count": null,
   "id": "6eff5fdb-d401-40fd-986d-afa991769d4e",
   "metadata": {},
   "outputs": [],
   "source": [
    "import miceforest as mf\n",
    "\n",
    "# Initialize the kernel\n",
    "kernel = mf.ImputationKernel(\n",
    "    df[['CPRA_Recent_CAN','CPRA_Peak_CAN']],\n",
    "    num_datasets=5,\n",
    "    save_all_iterations_data=True,\n",
    "    random_state=RANDOM_STATE\n",
    ")"
   ]
  },
  {
   "cell_type": "code",
   "execution_count": null,
   "id": "a4dd91c1-5e13-4ca1-9b80-c9d78d6b0d6a",
   "metadata": {},
   "outputs": [],
   "source": [
    "# Run the MICE algorithm for 10 iterations\n",
    "kernel.mice(iterations=10)"
   ]
  },
  {
   "cell_type": "code",
   "execution_count": 8,
   "id": "3375410b-e5d9-4937-a3bd-31f8c1b1033e",
   "metadata": {},
   "outputs": [
    {
     "data": {
      "image/png": "[encoded data removed]",
      "text/plain": [
       "<Figure size 640x480 with 1 Axes>"
      ]
     },
     "metadata": {},
     "output_type": "display_data"
    }
   ],
   "source": [
    "import numpy as np\n",
    "from sklearn.mixture import GaussianMixture\n",
    "import matplotlib.pyplot as plt\n",
    "\n",
    "# Sample data: Replace with your actual dataset\n",
    "data = np.array([[1, 2], [2, 3], [3, 4], [8, 9], [9, 10], [10, 11]])\n",
    "\n",
    "# Initialize the GMM with the desired number of components\n",
    "gmm = GaussianMixture(n_components=2, random_state=42)\n",
    "\n",
    "# Fit the GMM to the data\n",
    "gmm.fit(data)\n",
    "\n",
    "# Predict the labels for each data point\n",
    "labels = gmm.predict(data)\n",
    "\n",
    "# Access the means and covariances of the components\n",
    "means = gmm.means_\n",
    "covariances = gmm.covariances_\n",
    "\n",
    "# Plotting the data points and the Gaussian components\n",
    "plt.scatter(data[:, 0], data[:, 1], c=labels, cmap='viridis')\n",
    "plt.scatter(means[:, 0], means[:, 1], c='red', marker='x', s=100, label='Means')\n",
    "plt.title('Gaussian Mixture Model Clustering')\n",
    "plt.xlabel('Feature 1')\n",
    "plt.ylabel('Feature 2')\n",
    "plt.legend()\n",
    "plt.show()\n"
   ]
  },
  {
   "cell_type": "code",
   "execution_count": 9,
   "id": "9b3c7651-9aaf-4a97-b841-d4716c9ce798",
   "metadata": {},
   "outputs": [
    {
     "data": {
      "image/png": "[encoded data removed]",
      "text/plain": [
       "<Figure size 640x480 with 1 Axes>"
      ]
     },
     "metadata": {},
     "output_type": "display_data"
    }
   ],
   "source": [
    "import numpy as np\n",
    "from sklearn.mixture import GaussianMixture\n",
    "import matplotlib.pyplot as plt\n",
    "\n",
    "# Sample data: Replace with your actual dataset\n",
    "data = np.array([[1, 2], [2, 3], [3, 4], [8, 9], [9, 10], [10, 11]])\n",
    "\n",
    "# Initialize the GMM with the desired number of components\n",
    "gmm = GaussianMixture(n_components=2, random_state=42)\n",
    "\n",
    "# Fit the GMM to the data\n",
    "gmm.fit(data)\n",
    "\n",
    "# Predict the labels for each data point\n",
    "labels = gmm.predict(data)\n",
    "\n",
    "# Access the means and covariances of the components\n",
    "means = gmm.means_\n",
    "covariances = gmm.covariances_\n",
    "\n",
    "# Plotting the data points and the Gaussian components\n",
    "plt.scatter(data[:, 0], data[:, 1], c=labels, cmap='viridis')\n",
    "plt.scatter(means[:, 0], means[:, 1], c='red', marker='x', s=100, label='Means')\n",
    "plt.title('Gaussian Mixture Model Clustering')\n",
    "plt.xlabel('Feature 1')\n",
    "plt.ylabel('Feature 2')\n",
    "plt.legend()\n",
    "plt.show()\n"
   ]
  },
  {
   "cell_type": "code",
   "execution_count": 40,
   "id": "2e012692-b945-4c1a-8aa1-a16fa7fbe0b0",
   "metadata": {},
   "outputs": [
    {
     "data": {
      "image/png": "[encoded data removed]",
      "text/plain": [
       "<Figure size 800x600 with 1 Axes>"
      ]
     },
     "metadata": {},
     "output_type": "display_data"
    },
    {
     "name": "stdout",
     "output_type": "stream",
     "text": [
      "Optimal number of components: 8\n"
     ]
    }
   ],
   "source": [
    "import numpy as np\n",
    "from sklearn.mixture import GaussianMixture\n",
    "from sklearn.model_selection import train_test_split\n",
    "from sklearn.metrics import mean_squared_error\n",
    "import matplotlib.pyplot as plt\n",
    "\n",
    "# Sample data: Replace with your actual dataset\n",
    "data = np.array([[0,1],[1, 2], [2, 3], [3, 4], [8, 9], [9, 10], [10, 11], [11,12], [12,13],[13,14],[14,15],[15,16],[16,17],[11,12]])\n",
    "\n",
    "# Split data into training and testing sets\n",
    "X_train, X_test = train_test_split(data, test_size=0.3, random_state=42)\n",
    "\n",
    "# Initialize lists to store AIC and BIC scores\n",
    "aic_scores = []\n",
    "bic_scores = []\n",
    "\n",
    "# Range of components to test\n",
    "n_components_range = range(1, 9)\n",
    "\n",
    "for n_components in n_components_range:\n",
    "    # Initialize the GMM\n",
    "    gmm = GaussianMixture(n_components=n_components, random_state=42)\n",
    "    \n",
    "    # Fit the GMM to the training data\n",
    "    gmm.fit(X_train)\n",
    "    \n",
    "    # Compute AIC and BIC\n",
    "    aic_scores.append(gmm.aic(X_train))\n",
    "    bic_scores.append(gmm.bic(X_train))\n",
    "\n",
    "# Plot AIC and BIC scores\n",
    "plt.figure(figsize=(8, 6))\n",
    "plt.plot(n_components_range, aic_scores, label='AIC', marker='o')\n",
    "plt.plot(n_components_range, bic_scores, label='BIC', marker='o')\n",
    "plt.xlabel('Number of Components')\n",
    "plt.ylabel('Score')\n",
    "plt.title('AIC and BIC Scores for Different Number of Components')\n",
    "plt.legend()\n",
    "plt.show()\n",
    "\n",
    "# Select the optimal number of components based on the lowest BIC\n",
    "optimal_n_components = n_components_range[np.argmin(bic_scores)]\n",
    "print(f'Optimal number of components: {optimal_n_components}')\n"
   ]
  },
  {
   "cell_type": "code",
   "execution_count": 36,
   "id": "2a598625-1f05-4e4b-9965-28d83f69fb94",
   "metadata": {},
   "outputs": [
    {
     "data": {
      "text/plain": [
       "[109.3293818951754,\n",
       " -36.44853198788901,\n",
       " -31.5972960253648,\n",
       " -32.718150491406334,\n",
       " -20.344317285621088]"
      ]
     },
     "execution_count": 36,
     "metadata": {},
     "output_type": "execute_result"
    }
   ],
   "source": [
    "bic_scores"
   ]
  },
  {
   "cell_type": "code",
   "execution_count": 37,
   "id": "12c29829-b923-46c2-8071-ba533e6431b9",
   "metadata": {},
   "outputs": [
    {
     "data": {
      "text/plain": [
       "[108.3432590084943,\n",
       " -38.618002338587424,\n",
       " -34.95011384008053,\n",
       " -37.254315770139385,\n",
       " -26.063830028371456]"
      ]
     },
     "execution_count": 37,
     "metadata": {},
     "output_type": "execute_result"
    }
   ],
   "source": [
    "aic_scores"
   ]
  },
  {
   "cell_type": "code",
   "execution_count": 29,
   "id": "37a0dde4-a53f-4255-8ed1-d2850a61e421",
   "metadata": {},
   "outputs": [
    {
     "data": {
      "text/plain": [
       "(9, 2)"
      ]
     },
     "execution_count": 29,
     "metadata": {},
     "output_type": "execute_result"
    }
   ],
   "source": [
    "X_train.shape"
   ]
  },
  {
   "cell_type": "code",
   "execution_count": null,
   "id": "a38ac8fb-9feb-4958-8934-0cb0d12af68a",
   "metadata": {},
   "outputs": [],
   "source": []
  }
 ],
 "metadata": {
  "kernelspec": {
   "display_name": "RFSurvival",
   "language": "python",
   "name": "survival_env"
  },
  "language_info": {
   "codemirror_mode": {
    "name": "ipython",
    "version": 3
   },
   "file_extension": ".py",
   "mimetype": "text/x-python",
   "name": "python",
   "nbconvert_exporter": "python",
   "pygments_lexer": "ipython3",
   "version": "3.9.20"
  }
 },
 "nbformat": 4,
 "nbformat_minor": 5
}
